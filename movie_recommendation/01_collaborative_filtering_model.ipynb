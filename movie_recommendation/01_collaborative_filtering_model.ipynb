{
 "cells": [
  {
   "cell_type": "code",
   "execution_count": 1,
   "id": "8b017cd3",
   "metadata": {},
   "outputs": [
    {
     "name": "stdout",
     "output_type": "stream",
     "text": [
      "(25000095, 4)\n"
     ]
    },
    {
     "data": {
      "text/html": [
       "<div>\n",
       "<style scoped>\n",
       "    .dataframe tbody tr th:only-of-type {\n",
       "        vertical-align: middle;\n",
       "    }\n",
       "\n",
       "    .dataframe tbody tr th {\n",
       "        vertical-align: top;\n",
       "    }\n",
       "\n",
       "    .dataframe thead th {\n",
       "        text-align: right;\n",
       "    }\n",
       "</style>\n",
       "<table border=\"1\" class=\"dataframe\">\n",
       "  <thead>\n",
       "    <tr style=\"text-align: right;\">\n",
       "      <th></th>\n",
       "      <th>userId</th>\n",
       "      <th>movieId</th>\n",
       "      <th>rating</th>\n",
       "      <th>timestamp</th>\n",
       "    </tr>\n",
       "  </thead>\n",
       "  <tbody>\n",
       "    <tr>\n",
       "      <th>0</th>\n",
       "      <td>1</td>\n",
       "      <td>296</td>\n",
       "      <td>5.0</td>\n",
       "      <td>1147880044</td>\n",
       "    </tr>\n",
       "    <tr>\n",
       "      <th>1</th>\n",
       "      <td>1</td>\n",
       "      <td>306</td>\n",
       "      <td>3.5</td>\n",
       "      <td>1147868817</td>\n",
       "    </tr>\n",
       "    <tr>\n",
       "      <th>2</th>\n",
       "      <td>1</td>\n",
       "      <td>307</td>\n",
       "      <td>5.0</td>\n",
       "      <td>1147868828</td>\n",
       "    </tr>\n",
       "  </tbody>\n",
       "</table>\n",
       "</div>"
      ],
      "text/plain": [
       "   userId  movieId  rating   timestamp\n",
       "0       1      296     5.0  1147880044\n",
       "1       1      306     3.5  1147868817\n",
       "2       1      307     5.0  1147868828"
      ]
     },
     "execution_count": 1,
     "metadata": {},
     "output_type": "execute_result"
    }
   ],
   "source": [
    "rating_df = pd.read_csv('data/ratings.csv')\n",
    "\n",
    "print(rating_df.shape)\n",
    "rating_df.head(3)"
   ]
  },
  {
   "cell_type": "code",
   "execution_count": 2,
   "id": "897093ed",
   "metadata": {},
   "outputs": [
    {
     "data": {
      "text/plain": [
       "count    2.500010e+07\n",
       "mean     3.533854e+00\n",
       "std      1.060744e+00\n",
       "min      5.000000e-01\n",
       "25%      3.000000e+00\n",
       "50%      3.500000e+00\n",
       "75%      4.000000e+00\n",
       "max      5.000000e+00\n",
       "Name: rating, dtype: float64"
      ]
     },
     "execution_count": 2,
     "metadata": {},
     "output_type": "execute_result"
    }
   ],
   "source": [
    "rating_df.rating.describe()"
   ]
  },
  {
   "cell_type": "code",
   "execution_count": 3,
   "id": "c0d78909",
   "metadata": {},
   "outputs": [
    {
     "data": {
      "image/png": "[encoded data removed]",
      "text/plain": [
       "<Figure size 432x288 with 1 Axes>"
      ]
     },
     "metadata": {
      "needs_background": "light"
     },
     "output_type": "display_data"
    }
   ],
   "source": [
    "sns.countplot(rating_df.rating);"
   ]
  },
  {
   "cell_type": "code",
   "execution_count": 4,
   "id": "4bdf73b9",
   "metadata": {},
   "outputs": [
    {
     "name": "stdout",
     "output_type": "stream",
     "text": [
      "Users : 162541\n",
      "Movies : 59047\n"
     ]
    }
   ],
   "source": [
    "# 유저 수는 약 162000명, 영화 수는 약 59000개 이다.\n",
    "print(f\"Users : {rating_df.userId.nunique()}\")\n",
    "print(f\"Movies : {rating_df.movieId.nunique()}\")"
   ]
  },
  {
   "cell_type": "code",
   "execution_count": 5,
   "id": "053fd00d",
   "metadata": {},
   "outputs": [
    {
     "data": {
      "text/plain": [
       "1    25000095\n",
       "dtype: int64"
      ]
     },
     "execution_count": 5,
     "metadata": {},
     "output_type": "execute_result"
    }
   ],
   "source": [
    "# 한 유저가 같은 영화에 대해 두 번 이상 평점을 매긴 경우는 존재하지 않는다.\n",
    "rating_df.groupby(['userId', 'movieId']).size().value_counts()"
   ]
  },
  {
   "cell_type": "code",
   "execution_count": 6,
   "id": "596efaa7",
   "metadata": {},
   "outputs": [
    {
     "data": {
      "text/plain": [
       "userId\n",
       "56219        20\n",
       "87801        20\n",
       "129589       20\n",
       "57943        20\n",
       "129586       20\n",
       "          ...  \n",
       "20055      7488\n",
       "33844      7919\n",
       "137293     8913\n",
       "80974      9178\n",
       "72315     32202\n",
       "Name: movieId, Length: 162541, dtype: int64"
      ]
     },
     "execution_count": 6,
     "metadata": {},
     "output_type": "execute_result"
    }
   ],
   "source": [
    "# 해당 데이터는 한 유저가 최소 20개에서부터 최대 약 32000개의 영화에 대해 평점을 매긴 데이터이다.\n",
    "rating_df.groupby('userId')['movieId'].count().sort_values()"
   ]
  },
  {
   "cell_type": "code",
   "execution_count": 7,
   "id": "31d440b0",
   "metadata": {},
   "outputs": [
    {
     "data": {
      "text/plain": [
       "1        10298\n",
       "2         7633\n",
       "3         4923\n",
       "4         3473\n",
       "5         2513\n",
       "         ...  \n",
       "4527         1\n",
       "2508         1\n",
       "6638         1\n",
       "10760        1\n",
       "14329        1\n",
       "Name: userId, Length: 3820, dtype: int64"
      ]
     },
     "execution_count": 7,
     "metadata": {},
     "output_type": "execute_result"
    }
   ],
   "source": [
    "# 한 명의 유저에게 평가받은 영화는 10298개, 두 명의 유저에게 평가받은 영화는 7633개 ... 로 이루어져 있다.\n",
    "rating_df.groupby('movieId')['userId'].count().value_counts()"
   ]
  },
  {
   "cell_type": "markdown",
   "id": "316d0461",
   "metadata": {},
   "source": [
    "---"
   ]
  },
  {
   "cell_type": "markdown",
   "id": "29ec20b3",
   "metadata": {},
   "source": [
    "---"
   ]
  },
  {
   "cell_type": "markdown",
   "id": "cfc39978",
   "metadata": {},
   "source": [
    "# 상품 중심 협업 필터링"
   ]
  },
  {
   "cell_type": "code",
   "execution_count": 2,
   "id": "7bc1c4b0",
   "metadata": {},
   "outputs": [],
   "source": [
    "from modules.module import filtering_df, eval_model, trans_interaction_matrix\n",
    "\n",
    "from sklearn.model_selection import train_test_split\n",
    "from sklearn.metrics.pairwise import cosine_similarity"
   ]
  },
  {
   "cell_type": "code",
   "execution_count": 9,
   "id": "a5a7f129",
   "metadata": {},
   "outputs": [
    {
     "name": "stdout",
     "output_type": "stream",
     "text": [
      "필터링 전 데이터 수 :25000095\n",
      "필터링 후 데이터 수 :22488390\n"
     ]
    }
   ],
   "source": [
    "filtered_df = filtering_df(rating_df, 100, 50)\n",
    "\n",
    "del rating_df"
   ]
  },
  {
   "cell_type": "code",
   "execution_count": 10,
   "id": "3d7f4c17",
   "metadata": {},
   "outputs": [],
   "source": [
    "# Train, Test Dataset Split\n",
    "train_df, test_df = train_test_split(filtered_df, random_state=13)\n",
    "\n",
    "del filtered_df"
   ]
  },
  {
   "cell_type": "code",
   "execution_count": 11,
   "id": "f95d150b",
   "metadata": {},
   "outputs": [
    {
     "name": "stdout",
     "output_type": "stream",
     "text": [
      "Return userId-movieId Matrix\n",
      "(101074, 10291)\n"
     ]
    },
    {
     "data": {
      "text/html": [
       "<div>\n",
       "<style scoped>\n",
       "    .dataframe tbody tr th:only-of-type {\n",
       "        vertical-align: middle;\n",
       "    }\n",
       "\n",
       "    .dataframe tbody tr th {\n",
       "        vertical-align: top;\n",
       "    }\n",
       "\n",
       "    .dataframe thead th {\n",
       "        text-align: right;\n",
       "    }\n",
       "</style>\n",
       "<table border=\"1\" class=\"dataframe\">\n",
       "  <thead>\n",
       "    <tr style=\"text-align: right;\">\n",
       "      <th>movieId</th>\n",
       "      <th>1</th>\n",
       "      <th>2</th>\n",
       "      <th>3</th>\n",
       "      <th>4</th>\n",
       "      <th>5</th>\n",
       "      <th>6</th>\n",
       "      <th>7</th>\n",
       "      <th>8</th>\n",
       "      <th>9</th>\n",
       "      <th>10</th>\n",
       "      <th>...</th>\n",
       "      <th>202103</th>\n",
       "      <th>202393</th>\n",
       "      <th>202429</th>\n",
       "      <th>202439</th>\n",
       "      <th>203222</th>\n",
       "      <th>203519</th>\n",
       "      <th>204352</th>\n",
       "      <th>204542</th>\n",
       "      <th>204698</th>\n",
       "      <th>205383</th>\n",
       "    </tr>\n",
       "    <tr>\n",
       "      <th>userId</th>\n",
       "      <th></th>\n",
       "      <th></th>\n",
       "      <th></th>\n",
       "      <th></th>\n",
       "      <th></th>\n",
       "      <th></th>\n",
       "      <th></th>\n",
       "      <th></th>\n",
       "      <th></th>\n",
       "      <th></th>\n",
       "      <th></th>\n",
       "      <th></th>\n",
       "      <th></th>\n",
       "      <th></th>\n",
       "      <th></th>\n",
       "      <th></th>\n",
       "      <th></th>\n",
       "      <th></th>\n",
       "      <th></th>\n",
       "      <th></th>\n",
       "      <th></th>\n",
       "    </tr>\n",
       "  </thead>\n",
       "  <tbody>\n",
       "    <tr>\n",
       "      <th>1</th>\n",
       "      <td>3.923077</td>\n",
       "      <td>3.923077</td>\n",
       "      <td>3.923077</td>\n",
       "      <td>3.923077</td>\n",
       "      <td>3.923077</td>\n",
       "      <td>3.923077</td>\n",
       "      <td>3.923077</td>\n",
       "      <td>3.923077</td>\n",
       "      <td>3.923077</td>\n",
       "      <td>3.923077</td>\n",
       "      <td>...</td>\n",
       "      <td>3.923077</td>\n",
       "      <td>3.923077</td>\n",
       "      <td>3.923077</td>\n",
       "      <td>3.923077</td>\n",
       "      <td>3.923077</td>\n",
       "      <td>3.923077</td>\n",
       "      <td>3.923077</td>\n",
       "      <td>3.923077</td>\n",
       "      <td>3.923077</td>\n",
       "      <td>3.923077</td>\n",
       "    </tr>\n",
       "    <tr>\n",
       "      <th>2</th>\n",
       "      <td>3.500000</td>\n",
       "      <td>3.660839</td>\n",
       "      <td>3.660839</td>\n",
       "      <td>3.660839</td>\n",
       "      <td>3.660839</td>\n",
       "      <td>3.660839</td>\n",
       "      <td>3.660839</td>\n",
       "      <td>3.660839</td>\n",
       "      <td>3.660839</td>\n",
       "      <td>3.660839</td>\n",
       "      <td>...</td>\n",
       "      <td>3.660839</td>\n",
       "      <td>3.660839</td>\n",
       "      <td>3.660839</td>\n",
       "      <td>3.660839</td>\n",
       "      <td>3.660839</td>\n",
       "      <td>3.660839</td>\n",
       "      <td>3.660839</td>\n",
       "      <td>3.660839</td>\n",
       "      <td>3.660839</td>\n",
       "      <td>3.660839</td>\n",
       "    </tr>\n",
       "  </tbody>\n",
       "</table>\n",
       "<p>2 rows × 10291 columns</p>\n",
       "</div>"
      ],
      "text/plain": [
       "movieId    1         2         3         4         5         6         7       \\\n",
       "userId                                                                          \n",
       "1        3.923077  3.923077  3.923077  3.923077  3.923077  3.923077  3.923077   \n",
       "2        3.500000  3.660839  3.660839  3.660839  3.660839  3.660839  3.660839   \n",
       "\n",
       "movieId    8         9         10      ...    202103    202393    202429  \\\n",
       "userId                                 ...                                 \n",
       "1        3.923077  3.923077  3.923077  ...  3.923077  3.923077  3.923077   \n",
       "2        3.660839  3.660839  3.660839  ...  3.660839  3.660839  3.660839   \n",
       "\n",
       "movieId    202439    203222    203519    204352    204542    204698    205383  \n",
       "userId                                                                         \n",
       "1        3.923077  3.923077  3.923077  3.923077  3.923077  3.923077  3.923077  \n",
       "2        3.660839  3.660839  3.660839  3.660839  3.660839  3.660839  3.660839  \n",
       "\n",
       "[2 rows x 10291 columns]"
      ]
     },
     "execution_count": 11,
     "metadata": {},
     "output_type": "execute_result"
    }
   ],
   "source": [
    "pivot_df = trans_interaction_matrix(train_df, impute='mean')\n",
    "\n",
    "print(pivot_df.shape)\n",
    "pivot_df.head(2)"
   ]
  },
  {
   "cell_type": "code",
   "execution_count": 12,
   "id": "e911af37",
   "metadata": {},
   "outputs": [],
   "source": [
    "# 유저-영화 행렬을 영화-유저 행렬로 전치\n",
    "pivot_df_T = pivot_df.T"
   ]
  },
  {
   "cell_type": "code",
   "execution_count": 15,
   "id": "6b1e1153",
   "metadata": {},
   "outputs": [
    {
     "name": "stdout",
     "output_type": "stream",
     "text": [
      "CPU times: user 15min 3s, sys: 1min 6s, total: 16min 10s\n",
      "Wall time: 4min 32s\n"
     ]
    }
   ],
   "source": [
    "%%time\n",
    "# 유사 영화 수 설정\n",
    "n_similar_movies = 10\n",
    "# 영화-영화 유사도 행렬\n",
    "item_cosine_matrix = cosine_similarity(pivot_df_T, pivot_df_T)\n",
    "\n",
    "rating_prediction_dfs = []\n",
    "for movie_id in test_df['movieId'].unique():\n",
    "    # 영화-유저 인터랙션 행렬에서 해당 movie의 인덱스 추출\n",
    "    movie_idx = np.where(pivot_df_T.index == movie_id)[0].tolist()[0]\n",
    "    \n",
    "    # 해당 movie에 대해 자신의 제외한 모든 영화의 유사도 벡터 추출\n",
    "    similarities = item_cosine_matrix[movie_idx]\n",
    "    similarities = pd.Series(similarities, index=pivot_df_T.index)\n",
    "    similarities.drop(index=movie_id, inplace=True)\n",
    "    \n",
    "    # 해당 movie의 상위 10개의 유사 영화 리스트 추출\n",
    "    n_similarities = similarities.sort_values(ascending=False)[:n_similar_movies]\n",
    "    \n",
    "    # Test Dataset에서 해당 movie를 본 userId 추출\n",
    "    test_users = test_df.loc[test_df['movieId'] == movie_id, 'userId']\n",
    "    \n",
    "    # 상품-유저 행렬에서 상위 10개의 유사 영화에 대해 test_users가 평점을 준 행렬 추출\n",
    "    n_ratings = pivot_df_T.loc[n_similarities.index, test_users]\n",
    "    \n",
    "    # test_users가 상위 10개의 유사 영화들에 대해 평가한 평점과 유사도를 이용해 가중 평균을 통해 각 test_user마다 해당 movie의 예측평점 도출\n",
    "    weighted_n_ratings = n_ratings.multiply(n_similarities, axis='index')\n",
    "    scores = weighted_n_ratings.sum(axis=0) / n_similarities.sum()\n",
    "    \n",
    "    # 해당 movie에 대한 test_users의 예측 평점 데이터프레임 생성 후 전체 예측 데이터프레임에 추가\n",
    "    scores_df = scores.rename('prediction').reset_index().assign(movie_id=movie_id)\n",
    "    rating_prediction_dfs.append(scores_df)"
   ]
  },
  {
   "cell_type": "code",
   "execution_count": 19,
   "id": "db464a2e",
   "metadata": {},
   "outputs": [
    {
     "data": {
      "text/html": [
       "<div>\n",
       "<style scoped>\n",
       "    .dataframe tbody tr th:only-of-type {\n",
       "        vertical-align: middle;\n",
       "    }\n",
       "\n",
       "    .dataframe tbody tr th {\n",
       "        vertical-align: top;\n",
       "    }\n",
       "\n",
       "    .dataframe thead th {\n",
       "        text-align: right;\n",
       "    }\n",
       "</style>\n",
       "<table border=\"1\" class=\"dataframe\">\n",
       "  <thead>\n",
       "    <tr style=\"text-align: right;\">\n",
       "      <th></th>\n",
       "      <th></th>\n",
       "      <th>rating</th>\n",
       "      <th>timestamp</th>\n",
       "      <th>prediction</th>\n",
       "    </tr>\n",
       "    <tr>\n",
       "      <th>userId</th>\n",
       "      <th>movie_id</th>\n",
       "      <th></th>\n",
       "      <th></th>\n",
       "      <th></th>\n",
       "    </tr>\n",
       "  </thead>\n",
       "  <tbody>\n",
       "    <tr>\n",
       "      <th>48065</th>\n",
       "      <th>160</th>\n",
       "      <td>3.0</td>\n",
       "      <td>864946735</td>\n",
       "      <td>3.647059</td>\n",
       "    </tr>\n",
       "    <tr>\n",
       "      <th>15290</th>\n",
       "      <th>1394</th>\n",
       "      <td>4.0</td>\n",
       "      <td>1111616642</td>\n",
       "      <td>3.635613</td>\n",
       "    </tr>\n",
       "    <tr>\n",
       "      <th>128110</th>\n",
       "      <th>4799</th>\n",
       "      <td>2.5</td>\n",
       "      <td>1107336422</td>\n",
       "      <td>3.286269</td>\n",
       "    </tr>\n",
       "  </tbody>\n",
       "</table>\n",
       "</div>"
      ],
      "text/plain": [
       "                 rating   timestamp  prediction\n",
       "userId movie_id                                \n",
       "48065  160          3.0   864946735    3.647059\n",
       "15290  1394         4.0  1111616642    3.635613\n",
       "128110 4799         2.5  1107336422    3.286269"
      ]
     },
     "execution_count": 19,
     "metadata": {},
     "output_type": "execute_result"
    }
   ],
   "source": [
    "movie_pred_df = pd.concat(rating_prediction_dfs).set_index(['userId', 'movie_id'])\n",
    "movie_pred_df = test_df.rename({'movieId': 'movie_id'}, axis=1).set_index(['userId', 'movie_id']).join(movie_pred_df)\n",
    "movie_pred_df.head(3)"
   ]
  },
  {
   "cell_type": "code",
   "execution_count": 21,
   "id": "5b8d9104",
   "metadata": {},
   "outputs": [
    {
     "name": "stdout",
     "output_type": "stream",
     "text": [
      "RMSE of recommendation by item-item collaborative filtering: 0.9473424478079131\n"
     ]
    }
   ],
   "source": [
    "eval_model(movie_pred_df, 'item')"
   ]
  },
  {
   "cell_type": "markdown",
   "id": "d1991b90",
   "metadata": {},
   "source": [
    "## 개선된 모델 로직\n",
    "- 개선 아이디어가 나왔을 때 모델 전체를 개선하는 것이 아닌, 샘플 데이터를 추출해 시뮬레이션을 진행해보고 실제값에 좀 더 근접해질 가능성이 보여 진행"
   ]
  },
  {
   "cell_type": "code",
   "execution_count": 13,
   "id": "5b81a8fd",
   "metadata": {},
   "outputs": [
    {
     "name": "stdout",
     "output_type": "stream",
     "text": [
      "Return userId-movieId Matrix\n",
      "(10291, 101074)\n"
     ]
    },
    {
     "data": {
      "text/html": [
       "<div>\n",
       "<style scoped>\n",
       "    .dataframe tbody tr th:only-of-type {\n",
       "        vertical-align: middle;\n",
       "    }\n",
       "\n",
       "    .dataframe tbody tr th {\n",
       "        vertical-align: top;\n",
       "    }\n",
       "\n",
       "    .dataframe thead th {\n",
       "        text-align: right;\n",
       "    }\n",
       "</style>\n",
       "<table border=\"1\" class=\"dataframe\">\n",
       "  <thead>\n",
       "    <tr style=\"text-align: right;\">\n",
       "      <th>userId</th>\n",
       "      <th>1</th>\n",
       "      <th>2</th>\n",
       "      <th>3</th>\n",
       "      <th>4</th>\n",
       "      <th>5</th>\n",
       "      <th>8</th>\n",
       "      <th>9</th>\n",
       "      <th>10</th>\n",
       "      <th>12</th>\n",
       "      <th>13</th>\n",
       "      <th>...</th>\n",
       "      <th>162530</th>\n",
       "      <th>162532</th>\n",
       "      <th>162533</th>\n",
       "      <th>162534</th>\n",
       "      <th>162535</th>\n",
       "      <th>162536</th>\n",
       "      <th>162537</th>\n",
       "      <th>162538</th>\n",
       "      <th>162540</th>\n",
       "      <th>162541</th>\n",
       "    </tr>\n",
       "    <tr>\n",
       "      <th>movieId</th>\n",
       "      <th></th>\n",
       "      <th></th>\n",
       "      <th></th>\n",
       "      <th></th>\n",
       "      <th></th>\n",
       "      <th></th>\n",
       "      <th></th>\n",
       "      <th></th>\n",
       "      <th></th>\n",
       "      <th></th>\n",
       "      <th></th>\n",
       "      <th></th>\n",
       "      <th></th>\n",
       "      <th></th>\n",
       "      <th></th>\n",
       "      <th></th>\n",
       "      <th></th>\n",
       "      <th></th>\n",
       "      <th></th>\n",
       "      <th></th>\n",
       "      <th></th>\n",
       "    </tr>\n",
       "  </thead>\n",
       "  <tbody>\n",
       "    <tr>\n",
       "      <th>1</th>\n",
       "      <td>0.0</td>\n",
       "      <td>3.5</td>\n",
       "      <td>4.0</td>\n",
       "      <td>3.0</td>\n",
       "      <td>0.0</td>\n",
       "      <td>0.0</td>\n",
       "      <td>0.0</td>\n",
       "      <td>3.5</td>\n",
       "      <td>0.0</td>\n",
       "      <td>4.0</td>\n",
       "      <td>...</td>\n",
       "      <td>0.0</td>\n",
       "      <td>0.0</td>\n",
       "      <td>4.5</td>\n",
       "      <td>4.0</td>\n",
       "      <td>0.0</td>\n",
       "      <td>0.0</td>\n",
       "      <td>0.0</td>\n",
       "      <td>2.0</td>\n",
       "      <td>0.0</td>\n",
       "      <td>0.0</td>\n",
       "    </tr>\n",
       "    <tr>\n",
       "      <th>2</th>\n",
       "      <td>0.0</td>\n",
       "      <td>0.0</td>\n",
       "      <td>0.0</td>\n",
       "      <td>0.0</td>\n",
       "      <td>0.0</td>\n",
       "      <td>0.0</td>\n",
       "      <td>5.0</td>\n",
       "      <td>0.0</td>\n",
       "      <td>2.0</td>\n",
       "      <td>0.0</td>\n",
       "      <td>...</td>\n",
       "      <td>0.0</td>\n",
       "      <td>0.0</td>\n",
       "      <td>4.0</td>\n",
       "      <td>0.0</td>\n",
       "      <td>0.0</td>\n",
       "      <td>0.0</td>\n",
       "      <td>0.0</td>\n",
       "      <td>0.0</td>\n",
       "      <td>0.0</td>\n",
       "      <td>0.0</td>\n",
       "    </tr>\n",
       "  </tbody>\n",
       "</table>\n",
       "<p>2 rows × 101074 columns</p>\n",
       "</div>"
      ],
      "text/plain": [
       "userId   1       2       3       4       5       8       9       10      \\\n",
       "movieId                                                                   \n",
       "1           0.0     3.5     4.0     3.0     0.0     0.0     0.0     3.5   \n",
       "2           0.0     0.0     0.0     0.0     0.0     0.0     5.0     0.0   \n",
       "\n",
       "userId   12      13      ...  162530  162532  162533  162534  162535  162536  \\\n",
       "movieId                  ...                                                   \n",
       "1           0.0     4.0  ...     0.0     0.0     4.5     4.0     0.0     0.0   \n",
       "2           2.0     0.0  ...     0.0     0.0     4.0     0.0     0.0     0.0   \n",
       "\n",
       "userId   162537  162538  162540  162541  \n",
       "movieId                                  \n",
       "1           0.0     2.0     0.0     0.0  \n",
       "2           0.0     0.0     0.0     0.0  \n",
       "\n",
       "[2 rows x 101074 columns]"
      ]
     },
     "execution_count": 13,
     "metadata": {},
     "output_type": "execute_result"
    }
   ],
   "source": [
    "# 결측값을 0으로 채운 인터랙션 행렬 생성\n",
    "zero_imputed_df = trans_interaction_matrix(train_df, impute='zero')\n",
    "\n",
    "# 유저-상품 행렬을 상품-유저 행렬로 전치\n",
    "zero_imputed_df = zero_imputed_df.T\n",
    "\n",
    "print(zero_imputed_df.shape)\n",
    "zero_imputed_df.head(2)"
   ]
  },
  {
   "cell_type": "code",
   "execution_count": 15,
   "id": "16a48ca8",
   "metadata": {},
   "outputs": [
    {
     "name": "stdout",
     "output_type": "stream",
     "text": [
      "Completed 10%\n",
      "Completed 20%\n",
      "Completed 30%\n",
      "Completed 40%\n",
      "Completed 50%\n",
      "Completed 60%\n",
      "Completed 70%\n",
      "Completed 80%\n",
      "Completed 90%\n",
      "CPU times: user 31min 58s, sys: 2h 3min 39s, total: 2h 35min 38s\n",
      "Wall time: 3h 43min 4s\n"
     ]
    }
   ],
   "source": [
    "%%time\n",
    "item_cosine_matrix = cosine_similarity(pivot_df_T, pivot_df_T)\n",
    "\n",
    "n_similar_movies = 10\n",
    "test_length = int(test_df.movieId.nunique())\n",
    "\n",
    "ratings_prediction_dfs = []\n",
    "for num, movie_id in enumerate(test_df.movieId.unique()):\n",
    "    if num in np.linspace(0, test_length, 11).astype(int).tolist()[1:]:\n",
    "        print(f\"Completed {int(np.round((num / test_length), 1) * 100)}%\")\n",
    "    movie_idx = np.where(pivot_df_T.index == movie_id)[0].tolist()[0]\n",
    "    \n",
    "    similarities = (\n",
    "        pd.Series(item_cosine_matrix[movie_idx], index=pivot_df_T.index)\n",
    "        .drop(movie_id, axis=0)\n",
    "    )\n",
    "\n",
    "    n_similarities = similarities.sort_values(ascending=False)[:n_similar_movies]\n",
    "\n",
    "    test_users = test_df.loc[test_df['movieId'] == movie_id, 'userId']\n",
    "    \n",
    "    test_m_u = zero_imputed_df.loc[n_similarities.index, test_users].multiply(n_similarities, axis=0)\n",
    "\n",
    "    weighted_n_ratings = pivot_df_T.loc[n_similarities.index, test_users].multiply(n_similarities, axis=0)\n",
    "    scores = weighted_n_ratings.sum(axis=0) / n_similarities.sum()\n",
    "    score_dict = {'user_id': [], 'prediction': []}\n",
    "    for user_id in test_m_u.columns:\n",
    "        user_idx = np.where(test_m_u.loc[:, user_id].values != 0.0)[0]\n",
    "\n",
    "        score_dict['user_id'].append(user_id)\n",
    "        # user_idx가 None이면\n",
    "        # test_users가 상위 10개의 유사 영화들에 대해 평가한 평점과 유사도를 이용해 가중 평균을 통해 각 test_user마다 해당 movie의 예측평점 도출\n",
    "        if len(user_idx) == 0:\n",
    "            score_dict['prediction'].append(scores.loc[user_id])\n",
    "        else:\n",
    "            weighted_n_ratings_val = [test_m_u.loc[:, user_id].values[idx] for idx in user_idx]\n",
    "            n_similarities_val = [n_similarities.values[idx] for idx in user_idx]\n",
    "            \n",
    "            score = np.sum(weighted_n_ratings_val) / np.sum(n_similarities_val)\n",
    "            score_dict['prediction'].append(score)\n",
    "\n",
    "    score_df = pd.DataFrame(score_dict).assign(movie_id=movie_id)\n",
    "    ratings_prediction_dfs.append(score_df)"
   ]
  },
  {
   "cell_type": "code",
   "execution_count": 16,
   "id": "c7f5458a",
   "metadata": {},
   "outputs": [
    {
     "data": {
      "text/html": [
       "<div>\n",
       "<style scoped>\n",
       "    .dataframe tbody tr th:only-of-type {\n",
       "        vertical-align: middle;\n",
       "    }\n",
       "\n",
       "    .dataframe tbody tr th {\n",
       "        vertical-align: top;\n",
       "    }\n",
       "\n",
       "    .dataframe thead th {\n",
       "        text-align: right;\n",
       "    }\n",
       "</style>\n",
       "<table border=\"1\" class=\"dataframe\">\n",
       "  <thead>\n",
       "    <tr style=\"text-align: right;\">\n",
       "      <th></th>\n",
       "      <th></th>\n",
       "      <th>rating</th>\n",
       "      <th>timestamp</th>\n",
       "      <th>prediction</th>\n",
       "    </tr>\n",
       "    <tr>\n",
       "      <th>user_id</th>\n",
       "      <th>movie_id</th>\n",
       "      <th></th>\n",
       "      <th></th>\n",
       "      <th></th>\n",
       "    </tr>\n",
       "  </thead>\n",
       "  <tbody>\n",
       "    <tr>\n",
       "      <th>48065</th>\n",
       "      <th>160</th>\n",
       "      <td>3.0</td>\n",
       "      <td>864946735</td>\n",
       "      <td>3.647059</td>\n",
       "    </tr>\n",
       "    <tr>\n",
       "      <th>15290</th>\n",
       "      <th>1394</th>\n",
       "      <td>4.0</td>\n",
       "      <td>1111616642</td>\n",
       "      <td>3.635613</td>\n",
       "    </tr>\n",
       "    <tr>\n",
       "      <th>128110</th>\n",
       "      <th>4799</th>\n",
       "      <td>2.5</td>\n",
       "      <td>1107336422</td>\n",
       "      <td>3.286269</td>\n",
       "    </tr>\n",
       "  </tbody>\n",
       "</table>\n",
       "</div>"
      ],
      "text/plain": [
       "                  rating   timestamp  prediction\n",
       "user_id movie_id                                \n",
       "48065   160          3.0   864946735    3.647059\n",
       "15290   1394         4.0  1111616642    3.635613\n",
       "128110  4799         2.5  1107336422    3.286269"
      ]
     },
     "execution_count": 16,
     "metadata": {},
     "output_type": "execute_result"
    }
   ],
   "source": [
    "movie_pred_df = pd.concat(ratings_prediction_dfs).set_index(['user_id', 'movie_id'])\n",
    "movie_pred_df = test_df.rename({'userId': 'user_id', 'movieId': 'movie_id'}, axis=1).set_index(['user_id', 'movie_id']).join(movie_pred_df)\n",
    "movie_pred_df.head(3)"
   ]
  },
  {
   "cell_type": "code",
   "execution_count": 19,
   "id": "f27e9fe7",
   "metadata": {},
   "outputs": [
    {
     "name": "stdout",
     "output_type": "stream",
     "text": [
      "RMSE of recommendation by item-item collaborative filtering: 0.9494665308953931\n"
     ]
    }
   ],
   "source": [
    "eval_model(movie_pred_df, 'item')"
   ]
  },
  {
   "cell_type": "markdown",
   "id": "804e3960",
   "metadata": {},
   "source": [
    "# 유저 중심 협업 필터링"
   ]
  },
  {
   "cell_type": "code",
   "execution_count": 14,
   "id": "91a2e276",
   "metadata": {},
   "outputs": [],
   "source": [
    "from tqdm import tqdm"
   ]
  },
  {
   "cell_type": "code",
   "execution_count": 15,
   "id": "1664eb9b",
   "metadata": {},
   "outputs": [
    {
     "name": "stdout",
     "output_type": "stream",
     "text": [
      "필터링 전 데이터 수 :25000095\n",
      "필터링 후 데이터 수 :15558026\n"
     ]
    }
   ],
   "source": [
    "rating_df = pd.read_csv('data/ratings.csv')\n",
    "\n",
    "filtered_df = filtering_df(rating_df, 100, 200)\n",
    "\n",
    "del rating_df"
   ]
  },
  {
   "cell_type": "code",
   "execution_count": 16,
   "id": "1b904b9b",
   "metadata": {},
   "outputs": [],
   "source": [
    "# Train, Test Dataset Split\n",
    "train_df, test_df = train_test_split(filtered_df, test_size=0.15, random_state=13)\n",
    "\n",
    "del filtered_df"
   ]
  },
  {
   "cell_type": "code",
   "execution_count": 17,
   "id": "a586efb1",
   "metadata": {},
   "outputs": [
    {
     "name": "stdout",
     "output_type": "stream",
     "text": [
      "Return userId-movieId Matrix\n",
      "(32848, 10291)\n"
     ]
    },
    {
     "data": {
      "text/html": [
       "<div>\n",
       "<style scoped>\n",
       "    .dataframe tbody tr th:only-of-type {\n",
       "        vertical-align: middle;\n",
       "    }\n",
       "\n",
       "    .dataframe tbody tr th {\n",
       "        vertical-align: top;\n",
       "    }\n",
       "\n",
       "    .dataframe thead th {\n",
       "        text-align: right;\n",
       "    }\n",
       "</style>\n",
       "<table border=\"1\" class=\"dataframe\">\n",
       "  <thead>\n",
       "    <tr style=\"text-align: right;\">\n",
       "      <th>movieId</th>\n",
       "      <th>1</th>\n",
       "      <th>2</th>\n",
       "      <th>3</th>\n",
       "      <th>4</th>\n",
       "      <th>5</th>\n",
       "      <th>6</th>\n",
       "      <th>7</th>\n",
       "      <th>8</th>\n",
       "      <th>9</th>\n",
       "      <th>10</th>\n",
       "      <th>...</th>\n",
       "      <th>202103</th>\n",
       "      <th>202393</th>\n",
       "      <th>202429</th>\n",
       "      <th>202439</th>\n",
       "      <th>203222</th>\n",
       "      <th>203519</th>\n",
       "      <th>204352</th>\n",
       "      <th>204542</th>\n",
       "      <th>204698</th>\n",
       "      <th>205383</th>\n",
       "    </tr>\n",
       "    <tr>\n",
       "      <th>userId</th>\n",
       "      <th></th>\n",
       "      <th></th>\n",
       "      <th></th>\n",
       "      <th></th>\n",
       "      <th></th>\n",
       "      <th></th>\n",
       "      <th></th>\n",
       "      <th></th>\n",
       "      <th></th>\n",
       "      <th></th>\n",
       "      <th></th>\n",
       "      <th></th>\n",
       "      <th></th>\n",
       "      <th></th>\n",
       "      <th></th>\n",
       "      <th></th>\n",
       "      <th></th>\n",
       "      <th></th>\n",
       "      <th></th>\n",
       "      <th></th>\n",
       "      <th></th>\n",
       "    </tr>\n",
       "  </thead>\n",
       "  <tbody>\n",
       "    <tr>\n",
       "      <th>3</th>\n",
       "      <td>4.0</td>\n",
       "      <td>3.690519</td>\n",
       "      <td>3.690519</td>\n",
       "      <td>3.690519</td>\n",
       "      <td>3.690519</td>\n",
       "      <td>3.690519</td>\n",
       "      <td>3.690519</td>\n",
       "      <td>3.690519</td>\n",
       "      <td>3.690519</td>\n",
       "      <td>3.690519</td>\n",
       "      <td>...</td>\n",
       "      <td>3.690519</td>\n",
       "      <td>3.690519</td>\n",
       "      <td>3.690519</td>\n",
       "      <td>3.690519</td>\n",
       "      <td>3.690519</td>\n",
       "      <td>3.690519</td>\n",
       "      <td>3.690519</td>\n",
       "      <td>3.690519</td>\n",
       "      <td>3.690519</td>\n",
       "      <td>3.690519</td>\n",
       "    </tr>\n",
       "    <tr>\n",
       "      <th>4</th>\n",
       "      <td>3.0</td>\n",
       "      <td>3.359223</td>\n",
       "      <td>3.359223</td>\n",
       "      <td>3.359223</td>\n",
       "      <td>3.359223</td>\n",
       "      <td>3.359223</td>\n",
       "      <td>3.359223</td>\n",
       "      <td>3.359223</td>\n",
       "      <td>3.359223</td>\n",
       "      <td>3.359223</td>\n",
       "      <td>...</td>\n",
       "      <td>3.359223</td>\n",
       "      <td>3.359223</td>\n",
       "      <td>3.359223</td>\n",
       "      <td>3.359223</td>\n",
       "      <td>3.359223</td>\n",
       "      <td>2.500000</td>\n",
       "      <td>3.359223</td>\n",
       "      <td>3.359223</td>\n",
       "      <td>3.359223</td>\n",
       "      <td>3.359223</td>\n",
       "    </tr>\n",
       "  </tbody>\n",
       "</table>\n",
       "<p>2 rows × 10291 columns</p>\n",
       "</div>"
      ],
      "text/plain": [
       "movieId  1         2         3         4         5         6         7       \\\n",
       "userId                                                                        \n",
       "3           4.0  3.690519  3.690519  3.690519  3.690519  3.690519  3.690519   \n",
       "4           3.0  3.359223  3.359223  3.359223  3.359223  3.359223  3.359223   \n",
       "\n",
       "movieId    8         9         10      ...    202103    202393    202429  \\\n",
       "userId                                 ...                                 \n",
       "3        3.690519  3.690519  3.690519  ...  3.690519  3.690519  3.690519   \n",
       "4        3.359223  3.359223  3.359223  ...  3.359223  3.359223  3.359223   \n",
       "\n",
       "movieId    202439    203222    203519    204352    204542    204698    205383  \n",
       "userId                                                                         \n",
       "3        3.690519  3.690519  3.690519  3.690519  3.690519  3.690519  3.690519  \n",
       "4        3.359223  3.359223  2.500000  3.359223  3.359223  3.359223  3.359223  \n",
       "\n",
       "[2 rows x 10291 columns]"
      ]
     },
     "execution_count": 17,
     "metadata": {},
     "output_type": "execute_result"
    }
   ],
   "source": [
    "pivot_df = trans_interaction_matrix(train_df, impute='mean')\n",
    "\n",
    "print(pivot_df.shape)\n",
    "pivot_df.head(2)"
   ]
  },
  {
   "cell_type": "code",
   "execution_count": 12,
   "id": "0bcc92df",
   "metadata": {},
   "outputs": [],
   "source": [
    "# 이웃 유저 n명 설정\n",
    "n_similar_users = 10"
   ]
  },
  {
   "cell_type": "code",
   "execution_count": 15,
   "id": "cd4e86ae",
   "metadata": {},
   "outputs": [
    {
     "name": "stdout",
     "output_type": "stream",
     "text": [
      "CPU times: user 15min 36s, sys: 8min 34s, total: 24min 11s\n",
      "Wall time: 5min 4s\n"
     ]
    }
   ],
   "source": [
    "%%time\n",
    "# 유저-유저 유사도 행렬 생성\n",
    "user_cosine_matrix = cosine_similarity(pivot_df, pivot_df)"
   ]
  },
  {
   "cell_type": "code",
   "execution_count": 25,
   "id": "8cc6021b",
   "metadata": {},
   "outputs": [
    {
     "name": "stderr",
     "output_type": "stream",
     "text": [
      "100%|██████████| 32848/32848 [11:11<00:00, 48.89it/s]\n"
     ]
    }
   ],
   "source": [
    "users_score_dfs = []\n",
    "for user_id in tqdm(test_df['userId'].unique()):\n",
    "    user_idx = np.where(pivot_df.index == user_id)[0].tolist()[0]\n",
    "    \n",
    "    similarities = (\n",
    "        pd.Series(user_cosine_matrix[user_idx], index=pivot_df.index)\n",
    "        .drop(user_id, axis=0)\n",
    "    )\n",
    "    \n",
    "    n_similarities = similarities.sort_values(ascending=False)[:n_similar_users]\n",
    "    \n",
    "    test_movies = test_df.loc[test_df['userId'] == user_id, 'movieId']\n",
    "    \n",
    "    n_ratings = pivot_df.loc[n_similarities.index, test_movies]\n",
    "    weighted_n_ratings = n_ratings.multiply(n_similarities, axis=0)\n",
    "    \n",
    "    scores = weighted_n_ratings.sum(axis=0) / n_similarities.sum()\n",
    "    scores_df = scores.rename('prediction').reset_index().assign(user_id=user_id)\n",
    "    users_score_dfs.append(scores_df)"
   ]
  },
  {
   "cell_type": "code",
   "execution_count": 27,
   "id": "2661a348",
   "metadata": {},
   "outputs": [
    {
     "data": {
      "text/html": [
       "<div>\n",
       "<style scoped>\n",
       "    .dataframe tbody tr th:only-of-type {\n",
       "        vertical-align: middle;\n",
       "    }\n",
       "\n",
       "    .dataframe tbody tr th {\n",
       "        vertical-align: top;\n",
       "    }\n",
       "\n",
       "    .dataframe thead th {\n",
       "        text-align: right;\n",
       "    }\n",
       "</style>\n",
       "<table border=\"1\" class=\"dataframe\">\n",
       "  <thead>\n",
       "    <tr style=\"text-align: right;\">\n",
       "      <th></th>\n",
       "      <th></th>\n",
       "      <th>rating</th>\n",
       "      <th>timestamp</th>\n",
       "      <th>prediction</th>\n",
       "    </tr>\n",
       "    <tr>\n",
       "      <th>user_id</th>\n",
       "      <th>movie_id</th>\n",
       "      <th></th>\n",
       "      <th></th>\n",
       "      <th></th>\n",
       "    </tr>\n",
       "  </thead>\n",
       "  <tbody>\n",
       "    <tr>\n",
       "      <th>101305</th>\n",
       "      <th>102903</th>\n",
       "      <td>5.0</td>\n",
       "      <td>1467221425</td>\n",
       "      <td>4.849999</td>\n",
       "    </tr>\n",
       "    <tr>\n",
       "      <th>999</th>\n",
       "      <th>377</th>\n",
       "      <td>3.0</td>\n",
       "      <td>1039756275</td>\n",
       "      <td>4.999476</td>\n",
       "    </tr>\n",
       "    <tr>\n",
       "      <th>122954</th>\n",
       "      <th>924</th>\n",
       "      <td>5.0</td>\n",
       "      <td>1026857765</td>\n",
       "      <td>4.999473</td>\n",
       "    </tr>\n",
       "  </tbody>\n",
       "</table>\n",
       "</div>"
      ],
      "text/plain": [
       "                  rating   timestamp  prediction\n",
       "user_id movie_id                                \n",
       "101305  102903       5.0  1467221425    4.849999\n",
       "999     377          3.0  1039756275    4.999476\n",
       "122954  924          5.0  1026857765    4.999473"
      ]
     },
     "execution_count": 27,
     "metadata": {},
     "output_type": "execute_result"
    }
   ],
   "source": [
    "user_pred_df = (\n",
    "    pd.concat(users_score_dfs)\n",
    "    .rename({'movieId': 'movie_id'}, axis=1)\n",
    "    .set_index(['user_id', 'movie_id'])\n",
    ")\n",
    "\n",
    "user_pred_df = (\n",
    "    test_df.rename({'userId': 'user_id', 'movieId': 'movie_id'}, axis=1)\n",
    "    .set_index(['user_id', 'movie_id'])\n",
    "    .join(user_pred_df)\n",
    ")\n",
    "user_pred_df.head(3)"
   ]
  },
  {
   "cell_type": "code",
   "execution_count": 28,
   "id": "47876404",
   "metadata": {},
   "outputs": [
    {
     "name": "stdout",
     "output_type": "stream",
     "text": [
      "RMSE of recommendation by user-user collaborative filtering: 1.548094379130262\n"
     ]
    }
   ],
   "source": [
    "eval_model(user_pred_df, 'user')"
   ]
  },
  {
   "cell_type": "markdown",
   "id": "e322633e",
   "metadata": {},
   "source": [
    "---"
   ]
  },
  {
   "cell_type": "code",
   "execution_count": 18,
   "id": "a6802492",
   "metadata": {},
   "outputs": [
    {
     "name": "stdout",
     "output_type": "stream",
     "text": [
      "Return userId-movieId Matrix\n",
      "(32848, 10291)\n"
     ]
    },
    {
     "data": {
      "text/html": [
       "<div>\n",
       "<style scoped>\n",
       "    .dataframe tbody tr th:only-of-type {\n",
       "        vertical-align: middle;\n",
       "    }\n",
       "\n",
       "    .dataframe tbody tr th {\n",
       "        vertical-align: top;\n",
       "    }\n",
       "\n",
       "    .dataframe thead th {\n",
       "        text-align: right;\n",
       "    }\n",
       "</style>\n",
       "<table border=\"1\" class=\"dataframe\">\n",
       "  <thead>\n",
       "    <tr style=\"text-align: right;\">\n",
       "      <th>movieId</th>\n",
       "      <th>1</th>\n",
       "      <th>2</th>\n",
       "      <th>3</th>\n",
       "      <th>4</th>\n",
       "      <th>5</th>\n",
       "      <th>6</th>\n",
       "      <th>7</th>\n",
       "      <th>8</th>\n",
       "      <th>9</th>\n",
       "      <th>10</th>\n",
       "      <th>...</th>\n",
       "      <th>202103</th>\n",
       "      <th>202393</th>\n",
       "      <th>202429</th>\n",
       "      <th>202439</th>\n",
       "      <th>203222</th>\n",
       "      <th>203519</th>\n",
       "      <th>204352</th>\n",
       "      <th>204542</th>\n",
       "      <th>204698</th>\n",
       "      <th>205383</th>\n",
       "    </tr>\n",
       "    <tr>\n",
       "      <th>userId</th>\n",
       "      <th></th>\n",
       "      <th></th>\n",
       "      <th></th>\n",
       "      <th></th>\n",
       "      <th></th>\n",
       "      <th></th>\n",
       "      <th></th>\n",
       "      <th></th>\n",
       "      <th></th>\n",
       "      <th></th>\n",
       "      <th></th>\n",
       "      <th></th>\n",
       "      <th></th>\n",
       "      <th></th>\n",
       "      <th></th>\n",
       "      <th></th>\n",
       "      <th></th>\n",
       "      <th></th>\n",
       "      <th></th>\n",
       "      <th></th>\n",
       "      <th></th>\n",
       "    </tr>\n",
       "  </thead>\n",
       "  <tbody>\n",
       "    <tr>\n",
       "      <th>3</th>\n",
       "      <td>4.0</td>\n",
       "      <td>0.0</td>\n",
       "      <td>0.0</td>\n",
       "      <td>0.0</td>\n",
       "      <td>0.0</td>\n",
       "      <td>0.0</td>\n",
       "      <td>0.0</td>\n",
       "      <td>0.0</td>\n",
       "      <td>0.0</td>\n",
       "      <td>0.0</td>\n",
       "      <td>...</td>\n",
       "      <td>0.0</td>\n",
       "      <td>0.0</td>\n",
       "      <td>0.0</td>\n",
       "      <td>0.0</td>\n",
       "      <td>0.0</td>\n",
       "      <td>0.0</td>\n",
       "      <td>0.0</td>\n",
       "      <td>0.0</td>\n",
       "      <td>0.0</td>\n",
       "      <td>0.0</td>\n",
       "    </tr>\n",
       "    <tr>\n",
       "      <th>4</th>\n",
       "      <td>3.0</td>\n",
       "      <td>0.0</td>\n",
       "      <td>0.0</td>\n",
       "      <td>0.0</td>\n",
       "      <td>0.0</td>\n",
       "      <td>0.0</td>\n",
       "      <td>0.0</td>\n",
       "      <td>0.0</td>\n",
       "      <td>0.0</td>\n",
       "      <td>0.0</td>\n",
       "      <td>...</td>\n",
       "      <td>0.0</td>\n",
       "      <td>0.0</td>\n",
       "      <td>0.0</td>\n",
       "      <td>0.0</td>\n",
       "      <td>0.0</td>\n",
       "      <td>2.5</td>\n",
       "      <td>0.0</td>\n",
       "      <td>0.0</td>\n",
       "      <td>0.0</td>\n",
       "      <td>0.0</td>\n",
       "    </tr>\n",
       "  </tbody>\n",
       "</table>\n",
       "<p>2 rows × 10291 columns</p>\n",
       "</div>"
      ],
      "text/plain": [
       "movieId  1       2       3       4       5       6       7       8       \\\n",
       "userId                                                                    \n",
       "3           4.0     0.0     0.0     0.0     0.0     0.0     0.0     0.0   \n",
       "4           3.0     0.0     0.0     0.0     0.0     0.0     0.0     0.0   \n",
       "\n",
       "movieId  9       10      ...  202103  202393  202429  202439  203222  203519  \\\n",
       "userId                   ...                                                   \n",
       "3           0.0     0.0  ...     0.0     0.0     0.0     0.0     0.0     0.0   \n",
       "4           0.0     0.0  ...     0.0     0.0     0.0     0.0     0.0     2.5   \n",
       "\n",
       "movieId  204352  204542  204698  205383  \n",
       "userId                                   \n",
       "3           0.0     0.0     0.0     0.0  \n",
       "4           0.0     0.0     0.0     0.0  \n",
       "\n",
       "[2 rows x 10291 columns]"
      ]
     },
     "execution_count": 18,
     "metadata": {},
     "output_type": "execute_result"
    }
   ],
   "source": [
    "zero_imputed_df = trans_interaction_matrix(train_df, impute='zero')\n",
    "\n",
    "print(zero_imputed_df.shape)\n",
    "zero_imputed_df.head(2)"
   ]
  },
  {
   "cell_type": "code",
   "execution_count": 26,
   "id": "08d393ca",
   "metadata": {},
   "outputs": [
    {
     "name": "stderr",
     "output_type": "stream",
     "text": [
      "100%|██████████| 32848/32848 [16:47<00:00, 32.60it/s]\n"
     ]
    }
   ],
   "source": [
    "ratings_prediction_dfs = []\n",
    "for user_id in tqdm(test_df.userId.unique()):\n",
    "    user_idx = np.where(pivot_df.index == user_id)[0].tolist()[0]\n",
    "    \n",
    "    similarities = (\n",
    "        pd.Series(user_cosine_matrix[user_idx], index=pivot_df.index)\n",
    "        .drop(user_id, axis=0)\n",
    "    )\n",
    "\n",
    "    n_similarities = similarities.sort_values(ascending=False)[:n_similar_users]\n",
    "    \n",
    "    test_movies = test_df.loc[test_df['userId'] == user_id, 'movieId']\n",
    "    \n",
    "    test_u_m = zero_imputed_df.loc[n_similarities.index, test_movies].multiply(n_similarities, axis=0)\n",
    "\n",
    "    weighted_n_ratings = pivot_df.loc[n_similarities.index, test_movies].multiply(n_similarities, axis=0)\n",
    "    scores = weighted_n_ratings.sum(axis=0) / n_similarities.sum()\n",
    "    score_dict = {'movie_id': [], 'prediction': []}\n",
    "    for movie_id in test_u_m.columns:\n",
    "        movie_idx = np.where(test_u_m.loc[:, movie_id].values != 0.0)[0]\n",
    "\n",
    "        score_dict['movie_id'].append(movie_id)\n",
    "        # movie_idx가 None이면\n",
    "        # test_movies의 상위 10개의 유사 영화들에 대해 평가한 평점과 유사도를 이용해 가중 평균을 통해 각 test_user마다 해당 movie의 예측평점 도출\n",
    "        if len(movie_idx) == 0:\n",
    "            score_dict['prediction'].append(scores.loc[movie_id])\n",
    "        else:\n",
    "            weighted_n_ratings_val = [test_u_m.loc[:, movie_id].values[idx] for idx in movie_idx]\n",
    "            n_similarities_val = [n_similarities.values[idx] for idx in movie_idx]\n",
    "            \n",
    "            score = np.sum(weighted_n_ratings_val) / np.sum(n_similarities_val)\n",
    "            score_dict['prediction'].append(score)\n",
    "\n",
    "    score_df = pd.DataFrame(score_dict).assign(user_id=user_id)\n",
    "    ratings_prediction_dfs.append(score_df)"
   ]
  },
  {
   "cell_type": "code",
   "execution_count": 27,
   "id": "5aebbf7e",
   "metadata": {},
   "outputs": [
    {
     "data": {
      "text/html": [
       "<div>\n",
       "<style scoped>\n",
       "    .dataframe tbody tr th:only-of-type {\n",
       "        vertical-align: middle;\n",
       "    }\n",
       "\n",
       "    .dataframe tbody tr th {\n",
       "        vertical-align: top;\n",
       "    }\n",
       "\n",
       "    .dataframe thead th {\n",
       "        text-align: right;\n",
       "    }\n",
       "</style>\n",
       "<table border=\"1\" class=\"dataframe\">\n",
       "  <thead>\n",
       "    <tr style=\"text-align: right;\">\n",
       "      <th></th>\n",
       "      <th></th>\n",
       "      <th>rating</th>\n",
       "      <th>timestamp</th>\n",
       "      <th>prediction</th>\n",
       "    </tr>\n",
       "    <tr>\n",
       "      <th>user_id</th>\n",
       "      <th>movie_id</th>\n",
       "      <th></th>\n",
       "      <th></th>\n",
       "      <th></th>\n",
       "    </tr>\n",
       "  </thead>\n",
       "  <tbody>\n",
       "    <tr>\n",
       "      <th>101305</th>\n",
       "      <th>102903</th>\n",
       "      <td>5.0</td>\n",
       "      <td>1467221425</td>\n",
       "      <td>4.624999</td>\n",
       "    </tr>\n",
       "    <tr>\n",
       "      <th>999</th>\n",
       "      <th>377</th>\n",
       "      <td>3.0</td>\n",
       "      <td>1039756275</td>\n",
       "      <td>4.999476</td>\n",
       "    </tr>\n",
       "    <tr>\n",
       "      <th>122954</th>\n",
       "      <th>924</th>\n",
       "      <td>5.0</td>\n",
       "      <td>1026857765</td>\n",
       "      <td>5.000000</td>\n",
       "    </tr>\n",
       "  </tbody>\n",
       "</table>\n",
       "</div>"
      ],
      "text/plain": [
       "                  rating   timestamp  prediction\n",
       "user_id movie_id                                \n",
       "101305  102903       5.0  1467221425    4.624999\n",
       "999     377          3.0  1039756275    4.999476\n",
       "122954  924          5.0  1026857765    5.000000"
      ]
     },
     "execution_count": 27,
     "metadata": {},
     "output_type": "execute_result"
    }
   ],
   "source": [
    "user_pred_df = (\n",
    "    pd.concat(ratings_prediction_dfs)\n",
    "    .rename({'movieId': 'movie_id'}, axis=1)\n",
    "    .set_index(['user_id', 'movie_id'])\n",
    ")\n",
    "\n",
    "user_pred_df = (\n",
    "    test_df.rename({'userId': 'user_id', 'movieId': 'movie_id'}, axis=1)\n",
    "    .set_index(['user_id', 'movie_id'])\n",
    "    .join(user_pred_df)\n",
    ")\n",
    "user_pred_df.head(3)"
   ]
  },
  {
   "cell_type": "code",
   "execution_count": 28,
   "id": "42187646",
   "metadata": {},
   "outputs": [
    {
     "name": "stdout",
     "output_type": "stream",
     "text": [
      "RMSE of recommendation by user-user collaborative filtering: 1.5311085952941947\n"
     ]
    }
   ],
   "source": [
    "eval_model(user_pred_df, 'user')"
   ]
  },
  {
   "cell_type": "markdown",
   "id": "2d8789df",
   "metadata": {},
   "source": [
    "## 자카드 유사도\n",
    "- rating >= 4.0 : 1 / rating > 4.0 : 0 으로 평점을 긍/부정으로 이진화\n",
    "- 유저간 긍/부정 분포에 대해 자카드 유사도 진행\n",
    "    - 긍정과 부정 따로 자카드 유사도를 계산한 뒤, 각각의 교집합 수에 대해 두 유사도의 가중평균으로 자카드 유사도 도출\n",
    "- 이후의 평점예측은 다른 방법과 동일하게 진행"
   ]
  },
  {
   "cell_type": "code",
   "execution_count": 71,
   "id": "23f70765",
   "metadata": {},
   "outputs": [
    {
     "name": "stdout",
     "output_type": "stream",
     "text": [
      "필터링 전 데이터 수 :25000095\n",
      "필터링 후 데이터 수 :15558026\n"
     ]
    }
   ],
   "source": [
    "rating_df = pd.read_csv('data/ratings.csv')\n",
    "\n",
    "filtered_df = filtering_df(rating_df, 100, 200).drop('timestamp', axis=1)\n",
    "\n",
    "del rating_df"
   ]
  },
  {
   "cell_type": "code",
   "execution_count": 72,
   "id": "95f66294",
   "metadata": {},
   "outputs": [
    {
     "name": "stdout",
     "output_type": "stream",
     "text": [
      "32848 10291\n"
     ]
    },
    {
     "data": {
      "text/html": [
       "<div>\n",
       "<style scoped>\n",
       "    .dataframe tbody tr th:only-of-type {\n",
       "        vertical-align: middle;\n",
       "    }\n",
       "\n",
       "    .dataframe tbody tr th {\n",
       "        vertical-align: top;\n",
       "    }\n",
       "\n",
       "    .dataframe thead th {\n",
       "        text-align: right;\n",
       "    }\n",
       "</style>\n",
       "<table border=\"1\" class=\"dataframe\">\n",
       "  <thead>\n",
       "    <tr style=\"text-align: right;\">\n",
       "      <th></th>\n",
       "      <th>userId</th>\n",
       "      <th>movieId</th>\n",
       "      <th>rating</th>\n",
       "    </tr>\n",
       "  </thead>\n",
       "  <tbody>\n",
       "    <tr>\n",
       "      <th>254</th>\n",
       "      <td>3</td>\n",
       "      <td>1</td>\n",
       "      <td>4.0</td>\n",
       "    </tr>\n",
       "    <tr>\n",
       "      <th>255</th>\n",
       "      <td>3</td>\n",
       "      <td>29</td>\n",
       "      <td>4.5</td>\n",
       "    </tr>\n",
       "  </tbody>\n",
       "</table>\n",
       "</div>"
      ],
      "text/plain": [
       "     userId  movieId  rating\n",
       "254       3        1     4.0\n",
       "255       3       29     4.5"
      ]
     },
     "execution_count": 72,
     "metadata": {},
     "output_type": "execute_result"
    }
   ],
   "source": [
    "# 유저-영화 행렬\n",
    "print(filtered_df.userId.nunique(), filtered_df.movieId.nunique())\n",
    "filtered_df.head(2)"
   ]
  },
  {
   "cell_type": "code",
   "execution_count": 73,
   "id": "950eedbd",
   "metadata": {},
   "outputs": [],
   "source": [
    "filtered_df['bool_rating'] = filtered_df['rating'].map(lambda x: 1 if x >= 4.0 else -1)\n",
    "filtered_df['view'] = 1"
   ]
  },
  {
   "cell_type": "code",
   "execution_count": 74,
   "id": "8084f166",
   "metadata": {},
   "outputs": [
    {
     "data": {
      "text/html": [
       "<div>\n",
       "<style scoped>\n",
       "    .dataframe tbody tr th:only-of-type {\n",
       "        vertical-align: middle;\n",
       "    }\n",
       "\n",
       "    .dataframe tbody tr th {\n",
       "        vertical-align: top;\n",
       "    }\n",
       "\n",
       "    .dataframe thead th {\n",
       "        text-align: right;\n",
       "    }\n",
       "</style>\n",
       "<table border=\"1\" class=\"dataframe\">\n",
       "  <thead>\n",
       "    <tr style=\"text-align: right;\">\n",
       "      <th></th>\n",
       "      <th>userId</th>\n",
       "      <th>movieId</th>\n",
       "      <th>rating</th>\n",
       "      <th>bool_rating</th>\n",
       "      <th>view</th>\n",
       "    </tr>\n",
       "  </thead>\n",
       "  <tbody>\n",
       "    <tr>\n",
       "      <th>254</th>\n",
       "      <td>3</td>\n",
       "      <td>1</td>\n",
       "      <td>4.0</td>\n",
       "      <td>1</td>\n",
       "      <td>1</td>\n",
       "    </tr>\n",
       "    <tr>\n",
       "      <th>255</th>\n",
       "      <td>3</td>\n",
       "      <td>29</td>\n",
       "      <td>4.5</td>\n",
       "      <td>1</td>\n",
       "      <td>1</td>\n",
       "    </tr>\n",
       "  </tbody>\n",
       "</table>\n",
       "</div>"
      ],
      "text/plain": [
       "     userId  movieId  rating  bool_rating  view\n",
       "254       3        1     4.0            1     1\n",
       "255       3       29     4.5            1     1"
      ]
     },
     "execution_count": 74,
     "metadata": {},
     "output_type": "execute_result"
    }
   ],
   "source": [
    "filtered_df.head(2)"
   ]
  },
  {
   "cell_type": "code",
   "execution_count": 75,
   "id": "f4e053a4",
   "metadata": {},
   "outputs": [
    {
     "data": {
      "text/html": [
       "<div>\n",
       "<style scoped>\n",
       "    .dataframe tbody tr th:only-of-type {\n",
       "        vertical-align: middle;\n",
       "    }\n",
       "\n",
       "    .dataframe tbody tr th {\n",
       "        vertical-align: top;\n",
       "    }\n",
       "\n",
       "    .dataframe thead th {\n",
       "        text-align: right;\n",
       "    }\n",
       "</style>\n",
       "<table border=\"1\" class=\"dataframe\">\n",
       "  <thead>\n",
       "    <tr style=\"text-align: right;\">\n",
       "      <th>movieId</th>\n",
       "      <th>1</th>\n",
       "      <th>2</th>\n",
       "      <th>3</th>\n",
       "      <th>4</th>\n",
       "      <th>5</th>\n",
       "      <th>6</th>\n",
       "      <th>7</th>\n",
       "      <th>8</th>\n",
       "      <th>9</th>\n",
       "      <th>10</th>\n",
       "      <th>...</th>\n",
       "      <th>202103</th>\n",
       "      <th>202393</th>\n",
       "      <th>202429</th>\n",
       "      <th>202439</th>\n",
       "      <th>203222</th>\n",
       "      <th>203519</th>\n",
       "      <th>204352</th>\n",
       "      <th>204542</th>\n",
       "      <th>204698</th>\n",
       "      <th>205383</th>\n",
       "    </tr>\n",
       "    <tr>\n",
       "      <th>userId</th>\n",
       "      <th></th>\n",
       "      <th></th>\n",
       "      <th></th>\n",
       "      <th></th>\n",
       "      <th></th>\n",
       "      <th></th>\n",
       "      <th></th>\n",
       "      <th></th>\n",
       "      <th></th>\n",
       "      <th></th>\n",
       "      <th></th>\n",
       "      <th></th>\n",
       "      <th></th>\n",
       "      <th></th>\n",
       "      <th></th>\n",
       "      <th></th>\n",
       "      <th></th>\n",
       "      <th></th>\n",
       "      <th></th>\n",
       "      <th></th>\n",
       "      <th></th>\n",
       "    </tr>\n",
       "  </thead>\n",
       "  <tbody>\n",
       "    <tr>\n",
       "      <th>3</th>\n",
       "      <td>1.0</td>\n",
       "      <td>NaN</td>\n",
       "      <td>NaN</td>\n",
       "      <td>NaN</td>\n",
       "      <td>NaN</td>\n",
       "      <td>NaN</td>\n",
       "      <td>NaN</td>\n",
       "      <td>NaN</td>\n",
       "      <td>NaN</td>\n",
       "      <td>NaN</td>\n",
       "      <td>...</td>\n",
       "      <td>NaN</td>\n",
       "      <td>NaN</td>\n",
       "      <td>NaN</td>\n",
       "      <td>NaN</td>\n",
       "      <td>NaN</td>\n",
       "      <td>NaN</td>\n",
       "      <td>NaN</td>\n",
       "      <td>NaN</td>\n",
       "      <td>NaN</td>\n",
       "      <td>NaN</td>\n",
       "    </tr>\n",
       "    <tr>\n",
       "      <th>4</th>\n",
       "      <td>-1.0</td>\n",
       "      <td>NaN</td>\n",
       "      <td>NaN</td>\n",
       "      <td>NaN</td>\n",
       "      <td>NaN</td>\n",
       "      <td>NaN</td>\n",
       "      <td>NaN</td>\n",
       "      <td>NaN</td>\n",
       "      <td>NaN</td>\n",
       "      <td>NaN</td>\n",
       "      <td>...</td>\n",
       "      <td>NaN</td>\n",
       "      <td>NaN</td>\n",
       "      <td>NaN</td>\n",
       "      <td>NaN</td>\n",
       "      <td>NaN</td>\n",
       "      <td>-1.0</td>\n",
       "      <td>NaN</td>\n",
       "      <td>NaN</td>\n",
       "      <td>NaN</td>\n",
       "      <td>NaN</td>\n",
       "    </tr>\n",
       "  </tbody>\n",
       "</table>\n",
       "<p>2 rows × 10291 columns</p>\n",
       "</div>"
      ],
      "text/plain": [
       "movieId  1       2       3       4       5       6       7       8       \\\n",
       "userId                                                                    \n",
       "3           1.0     NaN     NaN     NaN     NaN     NaN     NaN     NaN   \n",
       "4          -1.0     NaN     NaN     NaN     NaN     NaN     NaN     NaN   \n",
       "\n",
       "movieId  9       10      ...  202103  202393  202429  202439  203222  203519  \\\n",
       "userId                   ...                                                   \n",
       "3           NaN     NaN  ...     NaN     NaN     NaN     NaN     NaN     NaN   \n",
       "4           NaN     NaN  ...     NaN     NaN     NaN     NaN     NaN    -1.0   \n",
       "\n",
       "movieId  204352  204542  204698  205383  \n",
       "userId                                   \n",
       "3           NaN     NaN     NaN     NaN  \n",
       "4           NaN     NaN     NaN     NaN  \n",
       "\n",
       "[2 rows x 10291 columns]"
      ]
     },
     "execution_count": 75,
     "metadata": {},
     "output_type": "execute_result"
    }
   ],
   "source": [
    "jacc_pivot_df = (\n",
    "    pd.pivot_table(data=filtered_df, index='userId', columns='movieId', values='bool_rating')\n",
    ")\n",
    "\n",
    "jacc_pivot_df.head(2)"
   ]
  },
  {
   "cell_type": "code",
   "execution_count": 76,
   "id": "2118ffc1",
   "metadata": {},
   "outputs": [],
   "source": [
    "jacc_pivot_df = jacc_pivot_df.fillna(0)"
   ]
  },
  {
   "cell_type": "code",
   "execution_count": 77,
   "id": "3c84c896",
   "metadata": {},
   "outputs": [
    {
     "data": {
      "text/plain": [
       "array([[654.,  18.,  34., ...,  26.,  48.,  -2.],\n",
       "       [ 18., 239.,  -4., ...,   5.,  12.,  21.],\n",
       "       [ 34.,  -4., 731., ...,  53.,  35.,  24.],\n",
       "       ...,\n",
       "       [ 26.,   5.,  53., ..., 381.,  21.,   8.],\n",
       "       [ 48.,  12.,  35., ...,  21., 367.,  30.],\n",
       "       [ -2.,  21.,  24., ...,   8.,  30., 475.]])"
      ]
     },
     "execution_count": 77,
     "metadata": {},
     "output_type": "execute_result"
    }
   ],
   "source": [
    "jaccard_matrix = jacc_pivot_df.values @ jacc_pivot_df.T.values\n",
    "jaccard_matrix"
   ]
  },
  {
   "cell_type": "code",
   "execution_count": 78,
   "id": "f1f5b31b",
   "metadata": {},
   "outputs": [
    {
     "data": {
      "text/plain": [
       "array([[ 1.        ,  0.07531381,  0.04651163, ...,  0.06824147,\n",
       "         0.13079019, -0.00421053],\n",
       "       [ 0.02752294,  1.        , -0.00547196, ...,  0.01312336,\n",
       "         0.03269755,  0.04421053],\n",
       "       [ 0.05198777, -0.0167364 ,  1.        , ...,  0.13910761,\n",
       "         0.09536785,  0.05052632],\n",
       "       ...,\n",
       "       [ 0.03975535,  0.0209205 ,  0.07250342, ...,  1.        ,\n",
       "         0.05722071,  0.01684211],\n",
       "       [ 0.0733945 ,  0.05020921,  0.04787962, ...,  0.05511811,\n",
       "         1.        ,  0.06315789],\n",
       "       [-0.0030581 ,  0.08786611,  0.03283174, ...,  0.02099738,\n",
       "         0.08174387,  1.        ]])"
      ]
     },
     "execution_count": 78,
     "metadata": {},
     "output_type": "execute_result"
    }
   ],
   "source": [
    "jaccard_matrix = jaccard_matrix / np.max(jaccard_matrix, axis=0)\n",
    "jaccard_matrix"
   ]
  },
  {
   "cell_type": "code",
   "execution_count": 10,
   "id": "f2faaae5",
   "metadata": {},
   "outputs": [
    {
     "data": {
      "text/html": [
       "<div>\n",
       "<style scoped>\n",
       "    .dataframe tbody tr th:only-of-type {\n",
       "        vertical-align: middle;\n",
       "    }\n",
       "\n",
       "    .dataframe tbody tr th {\n",
       "        vertical-align: top;\n",
       "    }\n",
       "\n",
       "    .dataframe thead th {\n",
       "        text-align: right;\n",
       "    }\n",
       "</style>\n",
       "<table border=\"1\" class=\"dataframe\">\n",
       "  <thead>\n",
       "    <tr style=\"text-align: right;\">\n",
       "      <th>movieId</th>\n",
       "      <th>1</th>\n",
       "      <th>2</th>\n",
       "      <th>3</th>\n",
       "      <th>4</th>\n",
       "      <th>5</th>\n",
       "      <th>6</th>\n",
       "      <th>7</th>\n",
       "      <th>8</th>\n",
       "      <th>9</th>\n",
       "      <th>10</th>\n",
       "      <th>...</th>\n",
       "      <th>202103</th>\n",
       "      <th>202393</th>\n",
       "      <th>202429</th>\n",
       "      <th>202439</th>\n",
       "      <th>203222</th>\n",
       "      <th>203519</th>\n",
       "      <th>204352</th>\n",
       "      <th>204542</th>\n",
       "      <th>204698</th>\n",
       "      <th>205383</th>\n",
       "    </tr>\n",
       "    <tr>\n",
       "      <th>userId</th>\n",
       "      <th></th>\n",
       "      <th></th>\n",
       "      <th></th>\n",
       "      <th></th>\n",
       "      <th></th>\n",
       "      <th></th>\n",
       "      <th></th>\n",
       "      <th></th>\n",
       "      <th></th>\n",
       "      <th></th>\n",
       "      <th></th>\n",
       "      <th></th>\n",
       "      <th></th>\n",
       "      <th></th>\n",
       "      <th></th>\n",
       "      <th></th>\n",
       "      <th></th>\n",
       "      <th></th>\n",
       "      <th></th>\n",
       "      <th></th>\n",
       "      <th></th>\n",
       "    </tr>\n",
       "  </thead>\n",
       "  <tbody>\n",
       "    <tr>\n",
       "      <th>3</th>\n",
       "      <td>1.0</td>\n",
       "      <td>0.0</td>\n",
       "      <td>0.0</td>\n",
       "      <td>0.0</td>\n",
       "      <td>0.0</td>\n",
       "      <td>0.0</td>\n",
       "      <td>0.0</td>\n",
       "      <td>0.0</td>\n",
       "      <td>0.0</td>\n",
       "      <td>0.0</td>\n",
       "      <td>...</td>\n",
       "      <td>0.0</td>\n",
       "      <td>0.0</td>\n",
       "      <td>0.0</td>\n",
       "      <td>0.0</td>\n",
       "      <td>0.0</td>\n",
       "      <td>0.0</td>\n",
       "      <td>0.0</td>\n",
       "      <td>0.0</td>\n",
       "      <td>0.0</td>\n",
       "      <td>0.0</td>\n",
       "    </tr>\n",
       "    <tr>\n",
       "      <th>4</th>\n",
       "      <td>1.0</td>\n",
       "      <td>0.0</td>\n",
       "      <td>0.0</td>\n",
       "      <td>0.0</td>\n",
       "      <td>0.0</td>\n",
       "      <td>0.0</td>\n",
       "      <td>0.0</td>\n",
       "      <td>0.0</td>\n",
       "      <td>0.0</td>\n",
       "      <td>0.0</td>\n",
       "      <td>...</td>\n",
       "      <td>0.0</td>\n",
       "      <td>0.0</td>\n",
       "      <td>0.0</td>\n",
       "      <td>0.0</td>\n",
       "      <td>0.0</td>\n",
       "      <td>1.0</td>\n",
       "      <td>0.0</td>\n",
       "      <td>0.0</td>\n",
       "      <td>0.0</td>\n",
       "      <td>0.0</td>\n",
       "    </tr>\n",
       "  </tbody>\n",
       "</table>\n",
       "<p>2 rows × 10291 columns</p>\n",
       "</div>"
      ],
      "text/plain": [
       "movieId  1       2       3       4       5       6       7       8       \\\n",
       "userId                                                                    \n",
       "3           1.0     0.0     0.0     0.0     0.0     0.0     0.0     0.0   \n",
       "4           1.0     0.0     0.0     0.0     0.0     0.0     0.0     0.0   \n",
       "\n",
       "movieId  9       10      ...  202103  202393  202429  202439  203222  203519  \\\n",
       "userId                   ...                                                   \n",
       "3           0.0     0.0  ...     0.0     0.0     0.0     0.0     0.0     0.0   \n",
       "4           0.0     0.0  ...     0.0     0.0     0.0     0.0     0.0     1.0   \n",
       "\n",
       "movieId  204352  204542  204698  205383  \n",
       "userId                                   \n",
       "3           0.0     0.0     0.0     0.0  \n",
       "4           0.0     0.0     0.0     0.0  \n",
       "\n",
       "[2 rows x 10291 columns]"
      ]
     },
     "execution_count": 10,
     "metadata": {},
     "output_type": "execute_result"
    }
   ],
   "source": [
    "view_pivot_df = (\n",
    "    pd.pivot_table(data=filtered_df, index='userId', columns='movieId', values='view')\n",
    ").fillna(0)\n",
    "\n",
    "view_pivot_df.head(2)"
   ]
  },
  {
   "cell_type": "code",
   "execution_count": 11,
   "id": "35b6b56a",
   "metadata": {},
   "outputs": [
    {
     "data": {
      "text/plain": [
       "array([[654., 148., 108., ...,  38., 158., 222.],\n",
       "       [148., 239.,  44., ...,  23.,  64., 119.],\n",
       "       [108.,  44., 731., ..., 147., 147., 126.],\n",
       "       ...,\n",
       "       [ 38.,  23., 147., ..., 381.,  75.,  60.],\n",
       "       [158.,  64., 147., ...,  75., 367., 134.],\n",
       "       [222., 119., 126., ...,  60., 134., 475.]])"
      ]
     },
     "execution_count": 11,
     "metadata": {},
     "output_type": "execute_result"
    }
   ],
   "source": [
    "intersection_matrix = view_pivot_df.values @ view_pivot_df.T.values\n",
    "intersection_matrix"
   ]
  },
  {
   "cell_type": "markdown",
   "id": "27eb477f",
   "metadata": {},
   "source": [
    "### 자카드 유사도 행렬\n",
    "- 평점 4를 기준으로 긍정:1, 부정:-1, 시청안함:0 인 범주형 변수 생성 후, 해당 변수를 기준으로 pivoting 진행\n",
    "    - 유저-상품 인터랙션 행렬을 행렬곱을 통해 유저 중심 유사도 행렬 생성\n",
    "        - 각 유저와 모든 유저에 대한 영화 평점 분포 유사도 값을 계산\n",
    "            - 둘 중 하나라도 영화를 안 봄 : 0\n",
    "            - 둘 모두 긍정으로 평가 : 1 (1x1)\n",
    "            - 둘 모두 부정으로 평가 : 1 (-1x-1)\n",
    "            - 둘이 평가를 다르게 함 : -1 (-1x1 or 1x-1)\n",
    "            - 두 유저에 대해 10291개 영화에 대한 평점분포로 유사도를 계산한 값이 하나의 스칼라 값이 됨\n",
    "- 확률로서 표현하기 위한 자카드 유사도 행렬의 분모에 대한 행렬 생성\n",
    "    - 비교되는 두 유저가 공통으로 시청한 영화의 집합으로 설정\n",
    "        - 영화를 많이 본 유저와 비교적 적게 본 유저의 유사도 값을 일반화시키기 위해\n",
    "- 영화 시청여부를 기준으로 시청:1, 시청안함:0 인 범주형 변수 생성 후, 해당 변수를 기준으로 pivoting 진행\n",
    "    - 해당 행렬의 행렬곱을 통해 자카드 유사도의 분모 행렬 생성\n",
    "        - 둘 중 한 명이라도 안 봄 : 0\n",
    "        - 둘 중 한 명만 봄 : 0\n",
    "        - 둘 다 시청 : 1\n",
    "- 자카드 유사도 행렬을 자카드 유사도 행렬의 분모행렬로 나누어 자카드 유사도 행렬 생성"
   ]
  },
  {
   "cell_type": "code",
   "execution_count": 12,
   "id": "a4692e60",
   "metadata": {},
   "outputs": [
    {
     "data": {
      "text/plain": [
       "array([[ 1.        ,  0.12162162,  0.31481481, ...,  0.68421053,\n",
       "         0.30379747, -0.00900901],\n",
       "       [ 0.12162162,  1.        , -0.09090909, ...,  0.2173913 ,\n",
       "         0.1875    ,  0.17647059],\n",
       "       [ 0.31481481, -0.09090909,  1.        , ...,  0.36054422,\n",
       "         0.23809524,  0.19047619],\n",
       "       ...,\n",
       "       [ 0.68421053,  0.2173913 ,  0.36054422, ...,  1.        ,\n",
       "         0.28      ,  0.13333333],\n",
       "       [ 0.30379747,  0.1875    ,  0.23809524, ...,  0.28      ,\n",
       "         1.        ,  0.2238806 ],\n",
       "       [-0.00900901,  0.17647059,  0.19047619, ...,  0.13333333,\n",
       "         0.2238806 ,  1.        ]])"
      ]
     },
     "execution_count": 12,
     "metadata": {},
     "output_type": "execute_result"
    }
   ],
   "source": [
    "jaccard_matrix = jaccard_matrix / intersection_matrix\n",
    "jaccard_matrix"
   ]
  },
  {
   "cell_type": "code",
   "execution_count": 79,
   "id": "53675a16",
   "metadata": {},
   "outputs": [],
   "source": [
    "jaccard_user_index = jacc_pivot_df.index"
   ]
  },
  {
   "cell_type": "code",
   "execution_count": 80,
   "id": "a0be152c",
   "metadata": {},
   "outputs": [
    {
     "ename": "NameError",
     "evalue": "name 'view_pivot_df' is not defined",
     "output_type": "error",
     "traceback": [
      "\u001b[0;31m---------------------------------------------------------------------------\u001b[0m",
      "\u001b[0;31mNameError\u001b[0m                                 Traceback (most recent call last)",
      "\u001b[0;32m<ipython-input-80-bc9d3d2bb8bb>\u001b[0m in \u001b[0;36m<module>\u001b[0;34m\u001b[0m\n\u001b[0;32m----> 1\u001b[0;31m \u001b[0;32mdel\u001b[0m \u001b[0mjacc_pivot_df\u001b[0m\u001b[0;34m,\u001b[0m \u001b[0mview_pivot_df\u001b[0m\u001b[0;34m,\u001b[0m \u001b[0mintersection_matrix\u001b[0m\u001b[0;34m\u001b[0m\u001b[0;34m\u001b[0m\u001b[0m\n\u001b[0m",
      "\u001b[0;31mNameError\u001b[0m: name 'view_pivot_df' is not defined"
     ]
    }
   ],
   "source": [
    "del jacc_pivot_df, view_pivot_df, intersection_matrix"
   ]
  },
  {
   "cell_type": "markdown",
   "id": "ed8c25f9",
   "metadata": {},
   "source": [
    "## 모델링"
   ]
  },
  {
   "cell_type": "code",
   "execution_count": 81,
   "id": "a30e37f2",
   "metadata": {},
   "outputs": [
    {
     "name": "stdout",
     "output_type": "stream",
     "text": [
      "필터링 전 데이터 수 :25000095\n",
      "필터링 후 데이터 수 :15558026\n"
     ]
    }
   ],
   "source": [
    "rating_df = pd.read_csv('data/ratings.csv')\n",
    "\n",
    "filtered_df = filtering_df(rating_df, 100, 200)\n",
    "\n",
    "del rating_df"
   ]
  },
  {
   "cell_type": "code",
   "execution_count": 82,
   "id": "c1789f92",
   "metadata": {},
   "outputs": [],
   "source": [
    "# Train, Test Dataset Split\n",
    "train_df, test_df = train_test_split(filtered_df, random_state=13)\n",
    "\n",
    "del filtered_df"
   ]
  },
  {
   "cell_type": "code",
   "execution_count": 83,
   "id": "4a65c135",
   "metadata": {},
   "outputs": [
    {
     "name": "stdout",
     "output_type": "stream",
     "text": [
      "Return userId-movieId Matrix\n",
      "Return userId-movieId Matrix\n"
     ]
    }
   ],
   "source": [
    "pivot_df = trans_interaction_matrix(train_df, impute='mean')\n",
    "zero_imputed_df = trans_interaction_matrix(train_df, impute='zero')"
   ]
  },
  {
   "cell_type": "code",
   "execution_count": 84,
   "id": "2547ed1e",
   "metadata": {},
   "outputs": [],
   "source": [
    "from tqdm import tqdm"
   ]
  },
  {
   "cell_type": "code",
   "execution_count": 85,
   "id": "a85de38d",
   "metadata": {},
   "outputs": [
    {
     "name": "stderr",
     "output_type": "stream",
     "text": [
      "100%|██████████| 32848/32848 [24:05<00:00, 22.73it/s]  \n"
     ]
    }
   ],
   "source": [
    "ratings_prediction_dfs = []\n",
    "for user_id in tqdm(test_df.userId.unique()):\n",
    "    user_idx = np.where(jaccard_user_index == user_id)[0][0]\n",
    "    \n",
    "    similarities = (\n",
    "        pd.Series(jaccard_matrix[user_idx], index=jaccard_user_index)\n",
    "        .drop(user_id, axis=0)\n",
    "    ).sort_values(ascending=False)\n",
    "    \n",
    "    n_similarties = similarities[similarities.values == 1.0]\n",
    "    if len(n_similarties) < 10:\n",
    "        n_similarties = similarities[:10]\n",
    "    \n",
    "    test_movies = test_df.loc[test_df['userId'] == user_id, 'movieId']\n",
    "    \n",
    "    weighted_zero_n_ratings = zero_imputed_df.loc[n_similarties.index, test_movies].multiply(n_similarties, axis=0)\n",
    "\n",
    "    weighted_mean_n_ratings = pivot_df.loc[n_similarties.index, test_movies].multiply(n_similarties, axis=0)\n",
    "    scores = weighted_mean_n_ratings.sum(axis=0) / n_similarties.sum()\n",
    "    \n",
    "    score_dict = {'movie_id': [], 'prediction': []}\n",
    "    for movie_id in weighted_zero_n_ratings.columns:\n",
    "        movie_idx = np.where(weighted_zero_n_ratings.loc[:, movie_id].values != 0.0)[0]\n",
    "\n",
    "        score_dict['movie_id'].append(movie_id)\n",
    "        if len(movie_idx) == 0:\n",
    "            score_dict['prediction'].append(scores.loc[movie_id])\n",
    "        else:\n",
    "            weighted_zero_n_ratings_val = (\n",
    "                [weighted_zero_n_ratings.loc[:, movie_id].values[idx] for idx in movie_idx]\n",
    "            )\n",
    "            n_similarities_val = [n_similarties.values[idx] for idx in movie_idx]\n",
    "\n",
    "            score = np.sum(weighted_zero_n_ratings_val) / np.sum(n_similarities_val)\n",
    "            score_dict['prediction'].append(score)\n",
    "\n",
    "    score_df = pd.DataFrame(score_dict).assign(user_id=user_id)\n",
    "    ratings_prediction_dfs.append(score_df)"
   ]
  },
  {
   "cell_type": "code",
   "execution_count": 86,
   "id": "984fe59e",
   "metadata": {},
   "outputs": [
    {
     "data": {
      "text/html": [
       "<div>\n",
       "<style scoped>\n",
       "    .dataframe tbody tr th:only-of-type {\n",
       "        vertical-align: middle;\n",
       "    }\n",
       "\n",
       "    .dataframe tbody tr th {\n",
       "        vertical-align: top;\n",
       "    }\n",
       "\n",
       "    .dataframe thead th {\n",
       "        text-align: right;\n",
       "    }\n",
       "</style>\n",
       "<table border=\"1\" class=\"dataframe\">\n",
       "  <thead>\n",
       "    <tr style=\"text-align: right;\">\n",
       "      <th></th>\n",
       "      <th></th>\n",
       "      <th>rating</th>\n",
       "      <th>timestamp</th>\n",
       "      <th>prediction</th>\n",
       "    </tr>\n",
       "    <tr>\n",
       "      <th>user_id</th>\n",
       "      <th>movie_id</th>\n",
       "      <th></th>\n",
       "      <th></th>\n",
       "      <th></th>\n",
       "    </tr>\n",
       "  </thead>\n",
       "  <tbody>\n",
       "    <tr>\n",
       "      <th>101305</th>\n",
       "      <th>102903</th>\n",
       "      <td>5.0</td>\n",
       "      <td>1467221425</td>\n",
       "      <td>5.000000</td>\n",
       "    </tr>\n",
       "    <tr>\n",
       "      <th>999</th>\n",
       "      <th>377</th>\n",
       "      <td>3.0</td>\n",
       "      <td>1039756275</td>\n",
       "      <td>3.039442</td>\n",
       "    </tr>\n",
       "    <tr>\n",
       "      <th>122954</th>\n",
       "      <th>924</th>\n",
       "      <td>5.0</td>\n",
       "      <td>1026857765</td>\n",
       "      <td>4.628880</td>\n",
       "    </tr>\n",
       "  </tbody>\n",
       "</table>\n",
       "</div>"
      ],
      "text/plain": [
       "                  rating   timestamp  prediction\n",
       "user_id movie_id                                \n",
       "101305  102903       5.0  1467221425    5.000000\n",
       "999     377          3.0  1039756275    3.039442\n",
       "122954  924          5.0  1026857765    4.628880"
      ]
     },
     "execution_count": 86,
     "metadata": {},
     "output_type": "execute_result"
    }
   ],
   "source": [
    "user_pred_df = (\n",
    "    pd.concat(ratings_prediction_dfs)\n",
    "    .rename({'movieId': 'movie_id'}, axis=1)\n",
    "    .set_index(['user_id', 'movie_id'])\n",
    ")\n",
    "\n",
    "user_pred_df = (\n",
    "    test_df.rename({'userId': 'user_id', 'movieId': 'movie_id'}, axis=1)\n",
    "    .set_index(['user_id', 'movie_id'])\n",
    "    .join(user_pred_df)\n",
    ")\n",
    "user_pred_df.head(3)"
   ]
  },
  {
   "cell_type": "code",
   "execution_count": 87,
   "id": "b035befc",
   "metadata": {},
   "outputs": [
    {
     "name": "stdout",
     "output_type": "stream",
     "text": [
      "RMSE of recommendation by user-user collaborative filtering: 1.015146188311001\n"
     ]
    }
   ],
   "source": [
    "eval_model(user_pred_df, 'user')"
   ]
  },
  {
   "cell_type": "code",
   "execution_count": 69,
   "id": "3b568f29",
   "metadata": {},
   "outputs": [
    {
     "data": {
      "text/html": [
       "<div>\n",
       "<style scoped>\n",
       "    .dataframe tbody tr th:only-of-type {\n",
       "        vertical-align: middle;\n",
       "    }\n",
       "\n",
       "    .dataframe tbody tr th {\n",
       "        vertical-align: top;\n",
       "    }\n",
       "\n",
       "    .dataframe thead th {\n",
       "        text-align: right;\n",
       "    }\n",
       "</style>\n",
       "<table border=\"1\" class=\"dataframe\">\n",
       "  <thead>\n",
       "    <tr style=\"text-align: right;\">\n",
       "      <th></th>\n",
       "      <th></th>\n",
       "      <th>rating</th>\n",
       "      <th>timestamp</th>\n",
       "      <th>prediction</th>\n",
       "    </tr>\n",
       "    <tr>\n",
       "      <th>user_id</th>\n",
       "      <th>movie_id</th>\n",
       "      <th></th>\n",
       "      <th></th>\n",
       "      <th></th>\n",
       "    </tr>\n",
       "  </thead>\n",
       "  <tbody>\n",
       "    <tr>\n",
       "      <th>101305</th>\n",
       "      <th>102903</th>\n",
       "      <td>5.0</td>\n",
       "      <td>1467221425</td>\n",
       "      <td>3.351559</td>\n",
       "    </tr>\n",
       "    <tr>\n",
       "      <th>999</th>\n",
       "      <th>377</th>\n",
       "      <td>3.0</td>\n",
       "      <td>1039756275</td>\n",
       "      <td>4.062880</td>\n",
       "    </tr>\n",
       "    <tr>\n",
       "      <th>122954</th>\n",
       "      <th>924</th>\n",
       "      <td>5.0</td>\n",
       "      <td>1026857765</td>\n",
       "      <td>3.919356</td>\n",
       "    </tr>\n",
       "  </tbody>\n",
       "</table>\n",
       "</div>"
      ],
      "text/plain": [
       "                  rating   timestamp  prediction\n",
       "user_id movie_id                                \n",
       "101305  102903       5.0  1467221425    3.351559\n",
       "999     377          3.0  1039756275    4.062880\n",
       "122954  924          5.0  1026857765    3.919356"
      ]
     },
     "execution_count": 69,
     "metadata": {},
     "output_type": "execute_result"
    }
   ],
   "source": [
    "user_pred_df = (\n",
    "    pd.concat(ratings_prediction_dfs)\n",
    "    .rename({'movieId': 'movie_id'}, axis=1)\n",
    "    .set_index(['user_id', 'movie_id'])\n",
    ")\n",
    "\n",
    "user_pred_df = (\n",
    "    test_df.rename({'userId': 'user_id', 'movieId': 'movie_id'}, axis=1)\n",
    "    .set_index(['user_id', 'movie_id'])\n",
    "    .join(user_pred_df)\n",
    ")\n",
    "user_pred_df.head(3)"
   ]
  },
  {
   "cell_type": "code",
   "execution_count": 70,
   "id": "0c00f0cf",
   "metadata": {},
   "outputs": [
    {
     "name": "stdout",
     "output_type": "stream",
     "text": [
      "RMSE of recommendation by user-user collaborative filtering: 1.0499330178911002\n"
     ]
    }
   ],
   "source": [
    "eval_model(user_pred_df, 'user')"
   ]
  },
  {
   "cell_type": "code",
   "execution_count": 14,
   "id": "f2b8178e",
   "metadata": {},
   "outputs": [
    {
     "data": {
      "text/plain": [
       "57"
      ]
     },
     "execution_count": 14,
     "metadata": {},
     "output_type": "execute_result"
    }
   ],
   "source": [
    "user_id = 57\n",
    "user_id"
   ]
  },
  {
   "cell_type": "code",
   "execution_count": 17,
   "id": "9cfe5eb7",
   "metadata": {},
   "outputs": [
    {
     "data": {
      "text/plain": [
       "9"
      ]
     },
     "execution_count": 17,
     "metadata": {},
     "output_type": "execute_result"
    }
   ],
   "source": [
    "user_idx = np.where(jacc_pivot_df.index == user_id)[0][0]\n",
    "user_idx"
   ]
  },
  {
   "cell_type": "code",
   "execution_count": 25,
   "id": "1c4be664",
   "metadata": {},
   "outputs": [
    {
     "data": {
      "text/plain": [
       "userId\n",
       "145446    1.000000\n",
       "10849     1.000000\n",
       "114105    1.000000\n",
       "8076      1.000000\n",
       "157154    1.000000\n",
       "            ...   \n",
       "43723    -0.846154\n",
       "48879    -0.863636\n",
       "136583   -1.000000\n",
       "115410   -1.000000\n",
       "54641          NaN\n",
       "Length: 32847, dtype: float64"
      ]
     },
     "execution_count": 25,
     "metadata": {},
     "output_type": "execute_result"
    }
   ],
   "source": [
    "similarities = pd.Series(jaccard_matrix[user_idx], index=jacc_pivot_df.index).drop(user_id, axis=0).sort_values(ascending=False)\n",
    "similarities"
   ]
  },
  {
   "cell_type": "code",
   "execution_count": 38,
   "id": "c27cea93",
   "metadata": {},
   "outputs": [
    {
     "data": {
      "text/plain": [
       "userId\n",
       "145446    1.000000\n",
       "10849     1.000000\n",
       "114105    1.000000\n",
       "8076      1.000000\n",
       "157154    1.000000\n",
       "44794     1.000000\n",
       "8661      1.000000\n",
       "161425    0.942857\n",
       "119654    0.934426\n",
       "139927    0.933333\n",
       "dtype: float64"
      ]
     },
     "execution_count": 38,
     "metadata": {},
     "output_type": "execute_result"
    }
   ],
   "source": [
    "n_similarties = similarities[similarities.values == 1.0]\n",
    "if len(n_similarties) < 10:\n",
    "    n_similarties = similarities[:10]\n",
    "    \n",
    "n_similarties"
   ]
  },
  {
   "cell_type": "code",
   "execution_count": 34,
   "id": "b4aea80d",
   "metadata": {},
   "outputs": [
    {
     "data": {
      "text/plain": [
       "7037     3160\n",
       "6925       62\n",
       "7185    34338\n",
       "6951      587\n",
       "Name: movieId, dtype: int64"
      ]
     },
     "execution_count": 34,
     "metadata": {},
     "output_type": "execute_result"
    }
   ],
   "source": [
    "test_movies = test_df.loc[test_df['userId'] == user_id, 'movieId']\n",
    "test_movies[:4]"
   ]
  },
  {
   "cell_type": "code",
   "execution_count": 40,
   "id": "f7f0b7d6",
   "metadata": {},
   "outputs": [
    {
     "data": {
      "text/plain": [
       "movieId\n",
       "3160     4.277552\n",
       "62       4.167725\n",
       "34338    4.167725\n",
       "587      4.122315\n",
       "3243     4.167725\n",
       "           ...   \n",
       "4226     4.248635\n",
       "2387     4.167725\n",
       "3071     4.167725\n",
       "59784    4.167725\n",
       "1461     4.167725\n",
       "Length: 82, dtype: float64"
      ]
     },
     "execution_count": 40,
     "metadata": {},
     "output_type": "execute_result"
    }
   ],
   "source": [
    "weighted_zero_n_ratings = zero_imputed_df.loc[n_similarties.index, test_movies].multiply(n_similarties, axis=0)\n",
    "\n",
    "weighted_mean_n_ratings = pivot_df.loc[n_similarties.index, test_movies].multiply(n_similarties, axis=0)\n",
    "scores = weighted_mean_n_ratings.sum(axis=0) / n_similarties.sum()\n",
    "scores"
   ]
  },
  {
   "cell_type": "code",
   "execution_count": 44,
   "id": "ad4f45d3",
   "metadata": {},
   "outputs": [
    {
     "data": {
      "text/html": [
       "<div>\n",
       "<style scoped>\n",
       "    .dataframe tbody tr th:only-of-type {\n",
       "        vertical-align: middle;\n",
       "    }\n",
       "\n",
       "    .dataframe tbody tr th {\n",
       "        vertical-align: top;\n",
       "    }\n",
       "\n",
       "    .dataframe thead th {\n",
       "        text-align: right;\n",
       "    }\n",
       "</style>\n",
       "<table border=\"1\" class=\"dataframe\">\n",
       "  <thead>\n",
       "    <tr style=\"text-align: right;\">\n",
       "      <th></th>\n",
       "      <th>movie_id</th>\n",
       "      <th>prediction</th>\n",
       "      <th>user_id</th>\n",
       "    </tr>\n",
       "  </thead>\n",
       "  <tbody>\n",
       "    <tr>\n",
       "      <th>0</th>\n",
       "      <td>3160</td>\n",
       "      <td>5.000000</td>\n",
       "      <td>57</td>\n",
       "    </tr>\n",
       "    <tr>\n",
       "      <th>1</th>\n",
       "      <td>62</td>\n",
       "      <td>4.167725</td>\n",
       "      <td>57</td>\n",
       "    </tr>\n",
       "    <tr>\n",
       "      <th>2</th>\n",
       "      <td>34338</td>\n",
       "      <td>4.167725</td>\n",
       "      <td>57</td>\n",
       "    </tr>\n",
       "    <tr>\n",
       "      <th>3</th>\n",
       "      <td>587</td>\n",
       "      <td>4.000000</td>\n",
       "      <td>57</td>\n",
       "    </tr>\n",
       "    <tr>\n",
       "      <th>4</th>\n",
       "      <td>3243</td>\n",
       "      <td>4.167725</td>\n",
       "      <td>57</td>\n",
       "    </tr>\n",
       "    <tr>\n",
       "      <th>...</th>\n",
       "      <td>...</td>\n",
       "      <td>...</td>\n",
       "      <td>...</td>\n",
       "    </tr>\n",
       "    <tr>\n",
       "      <th>77</th>\n",
       "      <td>4226</td>\n",
       "      <td>4.667926</td>\n",
       "      <td>57</td>\n",
       "    </tr>\n",
       "    <tr>\n",
       "      <th>78</th>\n",
       "      <td>2387</td>\n",
       "      <td>4.167725</td>\n",
       "      <td>57</td>\n",
       "    </tr>\n",
       "    <tr>\n",
       "      <th>79</th>\n",
       "      <td>3071</td>\n",
       "      <td>4.167725</td>\n",
       "      <td>57</td>\n",
       "    </tr>\n",
       "    <tr>\n",
       "      <th>80</th>\n",
       "      <td>59784</td>\n",
       "      <td>4.167725</td>\n",
       "      <td>57</td>\n",
       "    </tr>\n",
       "    <tr>\n",
       "      <th>81</th>\n",
       "      <td>1461</td>\n",
       "      <td>4.167725</td>\n",
       "      <td>57</td>\n",
       "    </tr>\n",
       "  </tbody>\n",
       "</table>\n",
       "<p>82 rows × 3 columns</p>\n",
       "</div>"
      ],
      "text/plain": [
       "    movie_id  prediction  user_id\n",
       "0       3160    5.000000       57\n",
       "1         62    4.167725       57\n",
       "2      34338    4.167725       57\n",
       "3        587    4.000000       57\n",
       "4       3243    4.167725       57\n",
       "..       ...         ...      ...\n",
       "77      4226    4.667926       57\n",
       "78      2387    4.167725       57\n",
       "79      3071    4.167725       57\n",
       "80     59784    4.167725       57\n",
       "81      1461    4.167725       57\n",
       "\n",
       "[82 rows x 3 columns]"
      ]
     },
     "execution_count": 44,
     "metadata": {},
     "output_type": "execute_result"
    }
   ],
   "source": [
    "score_dict = {'movie_id': [], 'prediction': []}\n",
    "for movie_id in weighted_zero_n_ratings.columns:\n",
    "    movie_idx = np.where(weighted_zero_n_ratings.loc[:, movie_id].values != 0.0)[0]\n",
    "    \n",
    "    score_dict['movie_id'].append(movie_id)\n",
    "    if len(movie_idx) == 0:\n",
    "        score_dict['prediction'].append(scores.loc[movie_id])\n",
    "    else:\n",
    "        weighted_zero_n_ratings_val = (\n",
    "            [weighted_zero_n_ratings.loc[:, movie_id].values[idx] for idx in movie_idx]\n",
    "        )\n",
    "        n_similarities_val = [n_similarties.values[idx] for idx in movie_idx]\n",
    "        \n",
    "        score = np.sum(weighted_zero_n_ratings_val) / np.sum(n_similarities_val)\n",
    "        score_dict['prediction'].append(score)\n",
    "        \n",
    "score_df = pd.DataFrame(score_dict).assign(user_id=user_id)\n",
    "score_df"
   ]
  },
  {
   "cell_type": "code",
   "execution_count": 55,
   "id": "aaad61a8",
   "metadata": {},
   "outputs": [],
   "source": [
    "y_pred = score_df.prediction.values\n",
    "y_true = test_df.loc[test_df['userId'] == user_id, ['movieId', 'rating']]['rating'].values"
   ]
  },
  {
   "cell_type": "code",
   "execution_count": 56,
   "id": "d1453e7d",
   "metadata": {},
   "outputs": [
    {
     "name": "stdout",
     "output_type": "stream",
     "text": [
      "0.9128383854496676\n"
     ]
    }
   ],
   "source": [
    "from sklearn.metrics import mean_squared_error\n",
    "\n",
    "y_pred = score_df.prediction.values\n",
    "y_true = test_df.loc[test_df['userId'] == user_id, ['movieId', 'rating']]['rating'].values\n",
    "\n",
    "rmse = np.sqrt(mean_squared_error(y_true, y_pred))\n",
    "print(rmse)"
   ]
  },
  {
   "cell_type": "code",
   "execution_count": 33,
   "id": "aa9f6200",
   "metadata": {},
   "outputs": [
    {
     "data": {
      "text/plain": [
       "0        1.0\n",
       "608      1.0\n",
       "9314     1.0\n",
       "32356    1.0\n",
       "10842    1.0\n",
       "10973    1.0\n",
       "11517    1.0\n",
       "4846     1.0\n",
       "4754     1.0\n",
       "31684    1.0\n",
       "dtype: float64"
      ]
     },
     "execution_count": 33,
     "metadata": {},
     "output_type": "execute_result"
    }
   ],
   "source": [
    "# 두 유저의 시청한 영화의 교집합을 자카드 유사도의 합집합으로 하였을 때, 유사한 유저가 많았음\n",
    "# 평점 예측 모델을 생성시 1.0 값을 가진 유사한 유저를 모두 고려하거나,\n",
    "# 자카드 유사도의 분모를 좀 더 tight하게 설정해 값을 줄이는 전처리 진행\n",
    "pd.Series(jaccard_matrix[0]).sort_values(ascending=False)[:10]"
   ]
  },
  {
   "cell_type": "code",
   "execution_count": 139,
   "id": "9f7adf4b",
   "metadata": {},
   "outputs": [
    {
     "data": {
      "text/plain": [
       "userId\n",
       "72315     8470\n",
       "20055     6131\n",
       "80974     6040\n",
       "33844     5643\n",
       "92046     5323\n",
       "          ... \n",
       "72450      121\n",
       "138990     107\n",
       "81007      101\n",
       "136583      92\n",
       "99091       74\n",
       "Name: movieId, Length: 32848, dtype: int64"
      ]
     },
     "execution_count": 139,
     "metadata": {},
     "output_type": "execute_result"
    }
   ],
   "source": [
    "filtered_df.groupby('userId')['movieId'].nunique().sort_values(ascending=False)"
   ]
  },
  {
   "cell_type": "markdown",
   "id": "e546f2a8",
   "metadata": {},
   "source": [
    "### 결과\n",
    "- 해당 상품 중심 협업 필터링을 통한 추천 모델은 약 1점정도의 예측오차가 존재한다.\n",
    "- 추천 방식 : 특정 영화에 대해 높은 예측 평점을 보인 유저들에게 해당 영화를 추천하는 방식\n",
    "- 개선 방식 : 결측값을 평균으로 대체해 사용하는 것이 아니라 유사 영화들을 정말로 본 유저들의 평점만 사용하는 것이 어떨까?"
   ]
  },
  {
   "cell_type": "markdown",
   "id": "49aed526",
   "metadata": {},
   "source": [
    "### 빈발 패턴 분석도 진행\n",
    "- 유저별 본 movie list에 대한 데이터프레임을 생성하여 진행\n",
    "    - 추천 모델이므로 평점을 4점 이상 받은 영화에 대해서만 진행"
   ]
  }
 ],
 "metadata": {
  "kernelspec": {
   "display_name": "Python 3",
   "language": "python",
   "name": "python3"
  },
  "language_info": {
   "codemirror_mode": {
    "name": "ipython",
    "version": 3
   },
   "file_extension": ".py",
   "mimetype": "text/x-python",
   "name": "python",
   "nbconvert_exporter": "python",
   "pygments_lexer": "ipython3",
   "version": "3.8.8"
  }
 },
 "nbformat": 4,
 "nbformat_minor": 5
}
