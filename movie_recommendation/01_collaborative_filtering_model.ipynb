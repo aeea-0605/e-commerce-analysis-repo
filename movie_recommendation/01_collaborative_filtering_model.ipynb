{
 "cells": [
  {
   "cell_type": "code",
   "execution_count": 1,
   "id": "8b017cd3",
   "metadata": {},
   "outputs": [
    {
     "name": "stdout",
     "output_type": "stream",
     "text": [
      "(25000095, 4)\n"
     ]
    },
    {
     "data": {
      "text/html": [
       "<div>\n",
       "<style scoped>\n",
       "    .dataframe tbody tr th:only-of-type {\n",
       "        vertical-align: middle;\n",
       "    }\n",
       "\n",
       "    .dataframe tbody tr th {\n",
       "        vertical-align: top;\n",
       "    }\n",
       "\n",
       "    .dataframe thead th {\n",
       "        text-align: right;\n",
       "    }\n",
       "</style>\n",
       "<table border=\"1\" class=\"dataframe\">\n",
       "  <thead>\n",
       "    <tr style=\"text-align: right;\">\n",
       "      <th></th>\n",
       "      <th>userId</th>\n",
       "      <th>movieId</th>\n",
       "      <th>rating</th>\n",
       "      <th>timestamp</th>\n",
       "    </tr>\n",
       "  </thead>\n",
       "  <tbody>\n",
       "    <tr>\n",
       "      <th>0</th>\n",
       "      <td>1</td>\n",
       "      <td>296</td>\n",
       "      <td>5.0</td>\n",
       "      <td>1147880044</td>\n",
       "    </tr>\n",
       "    <tr>\n",
       "      <th>1</th>\n",
       "      <td>1</td>\n",
       "      <td>306</td>\n",
       "      <td>3.5</td>\n",
       "      <td>1147868817</td>\n",
       "    </tr>\n",
       "    <tr>\n",
       "      <th>2</th>\n",
       "      <td>1</td>\n",
       "      <td>307</td>\n",
       "      <td>5.0</td>\n",
       "      <td>1147868828</td>\n",
       "    </tr>\n",
       "  </tbody>\n",
       "</table>\n",
       "</div>"
      ],
      "text/plain": [
       "   userId  movieId  rating   timestamp\n",
       "0       1      296     5.0  1147880044\n",
       "1       1      306     3.5  1147868817\n",
       "2       1      307     5.0  1147868828"
      ]
     },
     "execution_count": 1,
     "metadata": {},
     "output_type": "execute_result"
    }
   ],
   "source": [
    "rating_df = pd.read_csv('data/ratings.csv')\n",
    "\n",
    "print(rating_df.shape)\n",
    "rating_df.head(3)"
   ]
  },
  {
   "cell_type": "code",
   "execution_count": 2,
   "id": "897093ed",
   "metadata": {},
   "outputs": [
    {
     "data": {
      "text/plain": [
       "count    2.500010e+07\n",
       "mean     3.533854e+00\n",
       "std      1.060744e+00\n",
       "min      5.000000e-01\n",
       "25%      3.000000e+00\n",
       "50%      3.500000e+00\n",
       "75%      4.000000e+00\n",
       "max      5.000000e+00\n",
       "Name: rating, dtype: float64"
      ]
     },
     "execution_count": 2,
     "metadata": {},
     "output_type": "execute_result"
    }
   ],
   "source": [
    "rating_df.rating.describe()"
   ]
  },
  {
   "cell_type": "code",
   "execution_count": 3,
   "id": "c0d78909",
   "metadata": {},
   "outputs": [
    {
     "data": {
      "image/png": "[encoded data removed]",
      "text/plain": [
       "<Figure size 432x288 with 1 Axes>"
      ]
     },
     "metadata": {
      "needs_background": "light"
     },
     "output_type": "display_data"
    }
   ],
   "source": [
    "sns.countplot(rating_df.rating);"
   ]
  },
  {
   "cell_type": "code",
   "execution_count": 4,
   "id": "4bdf73b9",
   "metadata": {},
   "outputs": [
    {
     "name": "stdout",
     "output_type": "stream",
     "text": [
      "Users : 162541\n",
      "Movies : 59047\n"
     ]
    }
   ],
   "source": [
    "# 유저 수는 약 162000명, 영화 수는 약 59000개 이다.\n",
    "print(f\"Users : {rating_df.userId.nunique()}\")\n",
    "print(f\"Movies : {rating_df.movieId.nunique()}\")"
   ]
  },
  {
   "cell_type": "code",
   "execution_count": 5,
   "id": "053fd00d",
   "metadata": {},
   "outputs": [
    {
     "data": {
      "text/plain": [
       "1    25000095\n",
       "dtype: int64"
      ]
     },
     "execution_count": 5,
     "metadata": {},
     "output_type": "execute_result"
    }
   ],
   "source": [
    "# 한 유저가 같은 영화에 대해 두 번 이상 평점을 매긴 경우는 존재하지 않는다.\n",
    "rating_df.groupby(['userId', 'movieId']).size().value_counts()"
   ]
  },
  {
   "cell_type": "code",
   "execution_count": 6,
   "id": "596efaa7",
   "metadata": {},
   "outputs": [
    {
     "data": {
      "text/plain": [
       "userId\n",
       "56219        20\n",
       "87801        20\n",
       "129589       20\n",
       "57943        20\n",
       "129586       20\n",
       "          ...  \n",
       "20055      7488\n",
       "33844      7919\n",
       "137293     8913\n",
       "80974      9178\n",
       "72315     32202\n",
       "Name: movieId, Length: 162541, dtype: int64"
      ]
     },
     "execution_count": 6,
     "metadata": {},
     "output_type": "execute_result"
    }
   ],
   "source": [
    "# 해당 데이터는 한 유저가 최소 20개에서부터 최대 약 32000개의 영화에 대해 평점을 매긴 데이터이다.\n",
    "rating_df.groupby('userId')['movieId'].count().sort_values()"
   ]
  },
  {
   "cell_type": "code",
   "execution_count": 7,
   "id": "31d440b0",
   "metadata": {},
   "outputs": [
    {
     "data": {
      "text/plain": [
       "1        10298\n",
       "2         7633\n",
       "3         4923\n",
       "4         3473\n",
       "5         2513\n",
       "         ...  \n",
       "4527         1\n",
       "2508         1\n",
       "6638         1\n",
       "10760        1\n",
       "14329        1\n",
       "Name: userId, Length: 3820, dtype: int64"
      ]
     },
     "execution_count": 7,
     "metadata": {},
     "output_type": "execute_result"
    }
   ],
   "source": [
    "# 한 명의 유저에게 평가받은 영화는 10298개, 두 명의 유저에게 평가받은 영화는 7633개 ... 로 이루어져 있다.\n",
    "rating_df.groupby('movieId')['userId'].count().value_counts()"
   ]
  },
  {
   "cell_type": "markdown",
   "id": "316d0461",
   "metadata": {},
   "source": [
    "---"
   ]
  },
  {
   "cell_type": "markdown",
   "id": "29ec20b3",
   "metadata": {},
   "source": [
    "---"
   ]
  },
  {
   "cell_type": "code",
   "execution_count": 8,
   "id": "1d791450",
   "metadata": {},
   "outputs": [
    {
     "name": "stdout",
     "output_type": "stream",
     "text": [
      "필터링 전 데이터 수 :25000095\n",
      "필터링 후 데이터 수 :22488390\n"
     ]
    }
   ],
   "source": [
    "filter_movies = rating_df.movieId.value_counts() > 100\n",
    "filter_movies = filter_movies[filter_movies].index.tolist()\n",
    "\n",
    "filter_users = rating_df.userId.value_counts() > 50\n",
    "filter_users = filter_users[filter_users].index.tolist()\n",
    "\n",
    "filtered_df = rating_df[\n",
    "    (rating_df['userId'].isin(filter_users)) & (rating_df['movieId'].isin(filter_movies))\n",
    "]\n",
    "\n",
    "print(f\"필터링 전 데이터 수 :{len(rating_df)}\")\n",
    "print(f\"필터링 후 데이터 수 :{len(filtered_df)}\")\n",
    "\n",
    "del filter_movies, filter_users"
   ]
  },
  {
   "cell_type": "code",
   "execution_count": 9,
   "id": "3d7f4c17",
   "metadata": {},
   "outputs": [],
   "source": [
    "# Train, Test Dataset Split\n",
    "from sklearn.model_selection import train_test_split\n",
    "\n",
    "train_df, test_df = train_test_split(filtered_df, random_state=13)\n",
    "\n",
    "del filtered_df"
   ]
  },
  {
   "cell_type": "code",
   "execution_count": 10,
   "id": "e20ee331",
   "metadata": {},
   "outputs": [
    {
     "name": "stdout",
     "output_type": "stream",
     "text": [
      "(101074, 10291)\n"
     ]
    },
    {
     "data": {
      "text/html": [
       "<div>\n",
       "<style scoped>\n",
       "    .dataframe tbody tr th:only-of-type {\n",
       "        vertical-align: middle;\n",
       "    }\n",
       "\n",
       "    .dataframe tbody tr th {\n",
       "        vertical-align: top;\n",
       "    }\n",
       "\n",
       "    .dataframe thead th {\n",
       "        text-align: right;\n",
       "    }\n",
       "</style>\n",
       "<table border=\"1\" class=\"dataframe\">\n",
       "  <thead>\n",
       "    <tr style=\"text-align: right;\">\n",
       "      <th>movieId</th>\n",
       "      <th>1</th>\n",
       "      <th>2</th>\n",
       "      <th>3</th>\n",
       "      <th>4</th>\n",
       "      <th>5</th>\n",
       "      <th>6</th>\n",
       "      <th>7</th>\n",
       "      <th>8</th>\n",
       "      <th>9</th>\n",
       "      <th>10</th>\n",
       "      <th>...</th>\n",
       "      <th>202103</th>\n",
       "      <th>202393</th>\n",
       "      <th>202429</th>\n",
       "      <th>202439</th>\n",
       "      <th>203222</th>\n",
       "      <th>203519</th>\n",
       "      <th>204352</th>\n",
       "      <th>204542</th>\n",
       "      <th>204698</th>\n",
       "      <th>205383</th>\n",
       "    </tr>\n",
       "    <tr>\n",
       "      <th>userId</th>\n",
       "      <th></th>\n",
       "      <th></th>\n",
       "      <th></th>\n",
       "      <th></th>\n",
       "      <th></th>\n",
       "      <th></th>\n",
       "      <th></th>\n",
       "      <th></th>\n",
       "      <th></th>\n",
       "      <th></th>\n",
       "      <th></th>\n",
       "      <th></th>\n",
       "      <th></th>\n",
       "      <th></th>\n",
       "      <th></th>\n",
       "      <th></th>\n",
       "      <th></th>\n",
       "      <th></th>\n",
       "      <th></th>\n",
       "      <th></th>\n",
       "      <th></th>\n",
       "    </tr>\n",
       "  </thead>\n",
       "  <tbody>\n",
       "    <tr>\n",
       "      <th>1</th>\n",
       "      <td>NaN</td>\n",
       "      <td>NaN</td>\n",
       "      <td>NaN</td>\n",
       "      <td>NaN</td>\n",
       "      <td>NaN</td>\n",
       "      <td>NaN</td>\n",
       "      <td>NaN</td>\n",
       "      <td>NaN</td>\n",
       "      <td>NaN</td>\n",
       "      <td>NaN</td>\n",
       "      <td>...</td>\n",
       "      <td>NaN</td>\n",
       "      <td>NaN</td>\n",
       "      <td>NaN</td>\n",
       "      <td>NaN</td>\n",
       "      <td>NaN</td>\n",
       "      <td>NaN</td>\n",
       "      <td>NaN</td>\n",
       "      <td>NaN</td>\n",
       "      <td>NaN</td>\n",
       "      <td>NaN</td>\n",
       "    </tr>\n",
       "    <tr>\n",
       "      <th>2</th>\n",
       "      <td>3.5</td>\n",
       "      <td>NaN</td>\n",
       "      <td>NaN</td>\n",
       "      <td>NaN</td>\n",
       "      <td>NaN</td>\n",
       "      <td>NaN</td>\n",
       "      <td>NaN</td>\n",
       "      <td>NaN</td>\n",
       "      <td>NaN</td>\n",
       "      <td>NaN</td>\n",
       "      <td>...</td>\n",
       "      <td>NaN</td>\n",
       "      <td>NaN</td>\n",
       "      <td>NaN</td>\n",
       "      <td>NaN</td>\n",
       "      <td>NaN</td>\n",
       "      <td>NaN</td>\n",
       "      <td>NaN</td>\n",
       "      <td>NaN</td>\n",
       "      <td>NaN</td>\n",
       "      <td>NaN</td>\n",
       "    </tr>\n",
       "  </tbody>\n",
       "</table>\n",
       "<p>2 rows × 10291 columns</p>\n",
       "</div>"
      ],
      "text/plain": [
       "movieId  1       2       3       4       5       6       7       8       \\\n",
       "userId                                                                    \n",
       "1           NaN     NaN     NaN     NaN     NaN     NaN     NaN     NaN   \n",
       "2           3.5     NaN     NaN     NaN     NaN     NaN     NaN     NaN   \n",
       "\n",
       "movieId  9       10      ...  202103  202393  202429  202439  203222  203519  \\\n",
       "userId                   ...                                                   \n",
       "1           NaN     NaN  ...     NaN     NaN     NaN     NaN     NaN     NaN   \n",
       "2           NaN     NaN  ...     NaN     NaN     NaN     NaN     NaN     NaN   \n",
       "\n",
       "movieId  204352  204542  204698  205383  \n",
       "userId                                   \n",
       "1           NaN     NaN     NaN     NaN  \n",
       "2           NaN     NaN     NaN     NaN  \n",
       "\n",
       "[2 rows x 10291 columns]"
      ]
     },
     "execution_count": 10,
     "metadata": {},
     "output_type": "execute_result"
    }
   ],
   "source": [
    "# 101074명 - 10291 영화에 대한 interaction matrix 생성\n",
    "pivot_df = pd.pivot_table(train_df, index='userId', columns='movieId', values='rating')\n",
    "\n",
    "print(pivot_df.shape)\n",
    "pivot_df.head(2)"
   ]
  },
  {
   "cell_type": "code",
   "execution_count": 11,
   "id": "7b60fbcb",
   "metadata": {},
   "outputs": [
    {
     "data": {
      "text/html": [
       "<div>\n",
       "<style scoped>\n",
       "    .dataframe tbody tr th:only-of-type {\n",
       "        vertical-align: middle;\n",
       "    }\n",
       "\n",
       "    .dataframe tbody tr th {\n",
       "        vertical-align: top;\n",
       "    }\n",
       "\n",
       "    .dataframe thead th {\n",
       "        text-align: right;\n",
       "    }\n",
       "</style>\n",
       "<table border=\"1\" class=\"dataframe\">\n",
       "  <thead>\n",
       "    <tr style=\"text-align: right;\">\n",
       "      <th>userId</th>\n",
       "      <th>1</th>\n",
       "      <th>2</th>\n",
       "      <th>3</th>\n",
       "      <th>4</th>\n",
       "      <th>5</th>\n",
       "      <th>8</th>\n",
       "      <th>9</th>\n",
       "      <th>10</th>\n",
       "      <th>12</th>\n",
       "      <th>13</th>\n",
       "      <th>...</th>\n",
       "      <th>162530</th>\n",
       "      <th>162532</th>\n",
       "      <th>162533</th>\n",
       "      <th>162534</th>\n",
       "      <th>162535</th>\n",
       "      <th>162536</th>\n",
       "      <th>162537</th>\n",
       "      <th>162538</th>\n",
       "      <th>162540</th>\n",
       "      <th>162541</th>\n",
       "    </tr>\n",
       "    <tr>\n",
       "      <th>movieId</th>\n",
       "      <th></th>\n",
       "      <th></th>\n",
       "      <th></th>\n",
       "      <th></th>\n",
       "      <th></th>\n",
       "      <th></th>\n",
       "      <th></th>\n",
       "      <th></th>\n",
       "      <th></th>\n",
       "      <th></th>\n",
       "      <th></th>\n",
       "      <th></th>\n",
       "      <th></th>\n",
       "      <th></th>\n",
       "      <th></th>\n",
       "      <th></th>\n",
       "      <th></th>\n",
       "      <th></th>\n",
       "      <th></th>\n",
       "      <th></th>\n",
       "      <th></th>\n",
       "    </tr>\n",
       "  </thead>\n",
       "  <tbody>\n",
       "    <tr>\n",
       "      <th>1</th>\n",
       "      <td>0.0</td>\n",
       "      <td>3.5</td>\n",
       "      <td>4.0</td>\n",
       "      <td>3.0</td>\n",
       "      <td>0.0</td>\n",
       "      <td>0.0</td>\n",
       "      <td>0.0</td>\n",
       "      <td>3.5</td>\n",
       "      <td>0.0</td>\n",
       "      <td>4.0</td>\n",
       "      <td>...</td>\n",
       "      <td>0.0</td>\n",
       "      <td>0.0</td>\n",
       "      <td>4.5</td>\n",
       "      <td>4.0</td>\n",
       "      <td>0.0</td>\n",
       "      <td>0.0</td>\n",
       "      <td>0.0</td>\n",
       "      <td>2.0</td>\n",
       "      <td>0.0</td>\n",
       "      <td>0.0</td>\n",
       "    </tr>\n",
       "    <tr>\n",
       "      <th>2</th>\n",
       "      <td>0.0</td>\n",
       "      <td>0.0</td>\n",
       "      <td>0.0</td>\n",
       "      <td>0.0</td>\n",
       "      <td>0.0</td>\n",
       "      <td>0.0</td>\n",
       "      <td>5.0</td>\n",
       "      <td>0.0</td>\n",
       "      <td>2.0</td>\n",
       "      <td>0.0</td>\n",
       "      <td>...</td>\n",
       "      <td>0.0</td>\n",
       "      <td>0.0</td>\n",
       "      <td>4.0</td>\n",
       "      <td>0.0</td>\n",
       "      <td>0.0</td>\n",
       "      <td>0.0</td>\n",
       "      <td>0.0</td>\n",
       "      <td>0.0</td>\n",
       "      <td>0.0</td>\n",
       "      <td>0.0</td>\n",
       "    </tr>\n",
       "  </tbody>\n",
       "</table>\n",
       "<p>2 rows × 101074 columns</p>\n",
       "</div>"
      ],
      "text/plain": [
       "userId   1       2       3       4       5       8       9       10      \\\n",
       "movieId                                                                   \n",
       "1           0.0     3.5     4.0     3.0     0.0     0.0     0.0     3.5   \n",
       "2           0.0     0.0     0.0     0.0     0.0     0.0     5.0     0.0   \n",
       "\n",
       "userId   12      13      ...  162530  162532  162533  162534  162535  162536  \\\n",
       "movieId                  ...                                                   \n",
       "1           0.0     4.0  ...     0.0     0.0     4.5     4.0     0.0     0.0   \n",
       "2           2.0     0.0  ...     0.0     0.0     4.0     0.0     0.0     0.0   \n",
       "\n",
       "userId   162537  162538  162540  162541  \n",
       "movieId                                  \n",
       "1           0.0     2.0     0.0     0.0  \n",
       "2           0.0     0.0     0.0     0.0  \n",
       "\n",
       "[2 rows x 101074 columns]"
      ]
     },
     "execution_count": 11,
     "metadata": {},
     "output_type": "execute_result"
    }
   ],
   "source": [
    "# 상품-유저 인터랙션 행렬 : 결측값에 대해 0으로 채운\n",
    "temp_df = pivot_df.copy().fillna(0).T\n",
    "temp_df.head(2)"
   ]
  },
  {
   "cell_type": "code",
   "execution_count": 12,
   "id": "cbd363dd",
   "metadata": {},
   "outputs": [
    {
     "data": {
      "text/html": [
       "<div>\n",
       "<style scoped>\n",
       "    .dataframe tbody tr th:only-of-type {\n",
       "        vertical-align: middle;\n",
       "    }\n",
       "\n",
       "    .dataframe tbody tr th {\n",
       "        vertical-align: top;\n",
       "    }\n",
       "\n",
       "    .dataframe thead th {\n",
       "        text-align: right;\n",
       "    }\n",
       "</style>\n",
       "<table border=\"1\" class=\"dataframe\">\n",
       "  <thead>\n",
       "    <tr style=\"text-align: right;\">\n",
       "      <th>movieId</th>\n",
       "      <th>1</th>\n",
       "      <th>2</th>\n",
       "      <th>3</th>\n",
       "      <th>4</th>\n",
       "      <th>5</th>\n",
       "      <th>6</th>\n",
       "      <th>7</th>\n",
       "      <th>8</th>\n",
       "      <th>9</th>\n",
       "      <th>10</th>\n",
       "      <th>...</th>\n",
       "      <th>202103</th>\n",
       "      <th>202393</th>\n",
       "      <th>202429</th>\n",
       "      <th>202439</th>\n",
       "      <th>203222</th>\n",
       "      <th>203519</th>\n",
       "      <th>204352</th>\n",
       "      <th>204542</th>\n",
       "      <th>204698</th>\n",
       "      <th>205383</th>\n",
       "    </tr>\n",
       "    <tr>\n",
       "      <th>userId</th>\n",
       "      <th></th>\n",
       "      <th></th>\n",
       "      <th></th>\n",
       "      <th></th>\n",
       "      <th></th>\n",
       "      <th></th>\n",
       "      <th></th>\n",
       "      <th></th>\n",
       "      <th></th>\n",
       "      <th></th>\n",
       "      <th></th>\n",
       "      <th></th>\n",
       "      <th></th>\n",
       "      <th></th>\n",
       "      <th></th>\n",
       "      <th></th>\n",
       "      <th></th>\n",
       "      <th></th>\n",
       "      <th></th>\n",
       "      <th></th>\n",
       "      <th></th>\n",
       "    </tr>\n",
       "  </thead>\n",
       "  <tbody>\n",
       "    <tr>\n",
       "      <th>1</th>\n",
       "      <td>3.923077</td>\n",
       "      <td>3.923077</td>\n",
       "      <td>3.923077</td>\n",
       "      <td>3.923077</td>\n",
       "      <td>3.923077</td>\n",
       "      <td>3.923077</td>\n",
       "      <td>3.923077</td>\n",
       "      <td>3.923077</td>\n",
       "      <td>3.923077</td>\n",
       "      <td>3.923077</td>\n",
       "      <td>...</td>\n",
       "      <td>3.923077</td>\n",
       "      <td>3.923077</td>\n",
       "      <td>3.923077</td>\n",
       "      <td>3.923077</td>\n",
       "      <td>3.923077</td>\n",
       "      <td>3.923077</td>\n",
       "      <td>3.923077</td>\n",
       "      <td>3.923077</td>\n",
       "      <td>3.923077</td>\n",
       "      <td>3.923077</td>\n",
       "    </tr>\n",
       "    <tr>\n",
       "      <th>2</th>\n",
       "      <td>3.500000</td>\n",
       "      <td>3.660839</td>\n",
       "      <td>3.660839</td>\n",
       "      <td>3.660839</td>\n",
       "      <td>3.660839</td>\n",
       "      <td>3.660839</td>\n",
       "      <td>3.660839</td>\n",
       "      <td>3.660839</td>\n",
       "      <td>3.660839</td>\n",
       "      <td>3.660839</td>\n",
       "      <td>...</td>\n",
       "      <td>3.660839</td>\n",
       "      <td>3.660839</td>\n",
       "      <td>3.660839</td>\n",
       "      <td>3.660839</td>\n",
       "      <td>3.660839</td>\n",
       "      <td>3.660839</td>\n",
       "      <td>3.660839</td>\n",
       "      <td>3.660839</td>\n",
       "      <td>3.660839</td>\n",
       "      <td>3.660839</td>\n",
       "    </tr>\n",
       "  </tbody>\n",
       "</table>\n",
       "<p>2 rows × 10291 columns</p>\n",
       "</div>"
      ],
      "text/plain": [
       "movieId    1         2         3         4         5         6         7       \\\n",
       "userId                                                                          \n",
       "1        3.923077  3.923077  3.923077  3.923077  3.923077  3.923077  3.923077   \n",
       "2        3.500000  3.660839  3.660839  3.660839  3.660839  3.660839  3.660839   \n",
       "\n",
       "movieId    8         9         10      ...    202103    202393    202429  \\\n",
       "userId                                 ...                                 \n",
       "1        3.923077  3.923077  3.923077  ...  3.923077  3.923077  3.923077   \n",
       "2        3.660839  3.660839  3.660839  ...  3.660839  3.660839  3.660839   \n",
       "\n",
       "movieId    202439    203222    203519    204352    204542    204698    205383  \n",
       "userId                                                                         \n",
       "1        3.923077  3.923077  3.923077  3.923077  3.923077  3.923077  3.923077  \n",
       "2        3.660839  3.660839  3.660839  3.660839  3.660839  3.660839  3.660839  \n",
       "\n",
       "[2 rows x 10291 columns]"
      ]
     },
     "execution_count": 12,
     "metadata": {},
     "output_type": "execute_result"
    }
   ],
   "source": [
    "# 유사도 행렬을 구하기 위해 결측값을 각 유저별 평균 평점으로 대체\n",
    "pivot_df = pivot_df.T.fillna(pivot_df.mean(axis=1)).T\n",
    "pivot_df.head(2)"
   ]
  },
  {
   "cell_type": "markdown",
   "id": "007a7a55",
   "metadata": {},
   "source": [
    "# 상품 중심 협업 필터링 진행"
   ]
  },
  {
   "cell_type": "code",
   "execution_count": 13,
   "id": "24e2a680",
   "metadata": {},
   "outputs": [],
   "source": [
    "from sklearn.metrics.pairwise import cosine_similarity"
   ]
  },
  {
   "cell_type": "code",
   "execution_count": 14,
   "id": "e911af37",
   "metadata": {},
   "outputs": [],
   "source": [
    "# 유저-영화 행렬을 영화-유저 행렬로 전치(transpose)한다.\n",
    "pivot_df_T = pivot_df.T"
   ]
  },
  {
   "cell_type": "code",
   "execution_count": 16,
   "id": "2a43b39a",
   "metadata": {},
   "outputs": [],
   "source": [
    "# 영화-영화 유사도 행렬\n",
    "n_similar_movies = 10\n",
    "item_cosine_matrix = cosine_similarity(pivot_df_T, pivot_df_T)"
   ]
  },
  {
   "cell_type": "code",
   "execution_count": 15,
   "id": "6b1e1153",
   "metadata": {},
   "outputs": [
    {
     "name": "stdout",
     "output_type": "stream",
     "text": [
      "CPU times: user 15min 3s, sys: 1min 6s, total: 16min 10s\n",
      "Wall time: 4min 32s\n"
     ]
    }
   ],
   "source": [
    "%%time\n",
    "n_similar_movies = 10\n",
    "item_cosine_matrix = cosine_similarity(pivot_df_T, pivot_df_T)\n",
    "\n",
    "rating_prediction_dfs = []\n",
    "for movie_id in test_df['movieId'].unique():\n",
    "    # 영화-유저 인터랙션 행렬에서 해당 movie의 인덱스 추출\n",
    "    movie_idx = np.where(pivot_df_T.index == movie_id)[0].tolist()[0]\n",
    "    \n",
    "    # 해당 movie에 대해 자신의 제외한 모든 영화의 유사도 벡터 추출\n",
    "    similarities = item_cosine_matrix[movie_idx]\n",
    "    similarities = pd.Series(similarities, index=pivot_df_T.index)\n",
    "    similarities.drop(index=movie_id, inplace=True)\n",
    "    \n",
    "    # 해당 movie의 상위 10개의 유사 영화 리스트 추출\n",
    "    n_similarities = similarities.sort_values(ascending=False)[:n_similar_movies]\n",
    "    \n",
    "    # Test Dataset에서 해당 movie를 본 userId 추출\n",
    "    test_users = test_df.loc[test_df['movieId'] == movie_id, 'userId']\n",
    "    \n",
    "    # 상품-유저 행렬에서 상위 10개의 유사 영화에 대해 test_users가 평점을 준 행렬 추출\n",
    "    n_ratings = pivot_df_T.loc[n_similarities.index, test_users]\n",
    "    \n",
    "    # test_users가 상위 10개의 유사 영화들에 대해 평가한 평점과 유사도를 이용해 가중 평균을 통해 각 test_user마다 해당 movie의 예측평점 도출\n",
    "    weighted_n_ratings = n_ratings.multiply(n_similarities, axis='index')\n",
    "    scores = weighted_n_ratings.sum(axis=0) / n_similarities.sum()\n",
    "    \n",
    "    # 해당 movie에 대한 test_users의 예측 평점 데이터프레임 생성 후 전체 예측 데이터프레임에 추가\n",
    "    scores_df = scores.rename('prediction').reset_index().assign(movie_id=movie_id)\n",
    "    rating_prediction_dfs.append(scores_df)"
   ]
  },
  {
   "cell_type": "code",
   "execution_count": 19,
   "id": "db464a2e",
   "metadata": {},
   "outputs": [
    {
     "data": {
      "text/html": [
       "<div>\n",
       "<style scoped>\n",
       "    .dataframe tbody tr th:only-of-type {\n",
       "        vertical-align: middle;\n",
       "    }\n",
       "\n",
       "    .dataframe tbody tr th {\n",
       "        vertical-align: top;\n",
       "    }\n",
       "\n",
       "    .dataframe thead th {\n",
       "        text-align: right;\n",
       "    }\n",
       "</style>\n",
       "<table border=\"1\" class=\"dataframe\">\n",
       "  <thead>\n",
       "    <tr style=\"text-align: right;\">\n",
       "      <th></th>\n",
       "      <th></th>\n",
       "      <th>rating</th>\n",
       "      <th>timestamp</th>\n",
       "      <th>prediction</th>\n",
       "    </tr>\n",
       "    <tr>\n",
       "      <th>userId</th>\n",
       "      <th>movie_id</th>\n",
       "      <th></th>\n",
       "      <th></th>\n",
       "      <th></th>\n",
       "    </tr>\n",
       "  </thead>\n",
       "  <tbody>\n",
       "    <tr>\n",
       "      <th>48065</th>\n",
       "      <th>160</th>\n",
       "      <td>3.0</td>\n",
       "      <td>864946735</td>\n",
       "      <td>3.647059</td>\n",
       "    </tr>\n",
       "    <tr>\n",
       "      <th>15290</th>\n",
       "      <th>1394</th>\n",
       "      <td>4.0</td>\n",
       "      <td>1111616642</td>\n",
       "      <td>3.635613</td>\n",
       "    </tr>\n",
       "    <tr>\n",
       "      <th>128110</th>\n",
       "      <th>4799</th>\n",
       "      <td>2.5</td>\n",
       "      <td>1107336422</td>\n",
       "      <td>3.286269</td>\n",
       "    </tr>\n",
       "  </tbody>\n",
       "</table>\n",
       "</div>"
      ],
      "text/plain": [
       "                 rating   timestamp  prediction\n",
       "userId movie_id                                \n",
       "48065  160          3.0   864946735    3.647059\n",
       "15290  1394         4.0  1111616642    3.635613\n",
       "128110 4799         2.5  1107336422    3.286269"
      ]
     },
     "execution_count": 19,
     "metadata": {},
     "output_type": "execute_result"
    }
   ],
   "source": [
    "movie_pred_df = pd.concat(rating_prediction_dfs).set_index(['userId', 'movie_id'])\n",
    "movie_pred_df = test_df.rename({'movieId': 'movie_id'}, axis=1).set_index(['userId', 'movie_id']).join(movie_pred_df)\n",
    "movie_pred_df.head(3)"
   ]
  },
  {
   "cell_type": "code",
   "execution_count": 21,
   "id": "5b8d9104",
   "metadata": {},
   "outputs": [
    {
     "name": "stdout",
     "output_type": "stream",
     "text": [
      "RMSE of recommendation by item-item collaborative filtering: 0.9473424478079131\n"
     ]
    }
   ],
   "source": [
    "from sklearn.metrics import mean_squared_error\n",
    "\n",
    "y_true = movie_pred_df.rating.values\n",
    "y_pred = movie_pred_df.prediction.values\n",
    "\n",
    "rmse = np.sqrt(mean_squared_error(y_true, y_pred))\n",
    "print(\"RMSE of recommendation by item-item collaborative filtering:\", rmse)"
   ]
  },
  {
   "cell_type": "markdown",
   "id": "d1991b90",
   "metadata": {},
   "source": [
    "### 개선된 모델 로직"
   ]
  },
  {
   "cell_type": "code",
   "execution_count": 15,
   "id": "16a48ca8",
   "metadata": {},
   "outputs": [
    {
     "name": "stdout",
     "output_type": "stream",
     "text": [
      "Completed 10%\n",
      "Completed 20%\n",
      "Completed 30%\n",
      "Completed 40%\n",
      "Completed 50%\n",
      "Completed 60%\n",
      "Completed 70%\n",
      "Completed 80%\n",
      "Completed 90%\n",
      "CPU times: user 31min 58s, sys: 2h 3min 39s, total: 2h 35min 38s\n",
      "Wall time: 3h 43min 4s\n"
     ]
    }
   ],
   "source": [
    "%%time\n",
    "item_cosine_matrix = cosine_similarity(pivot_df_T, pivot_df_T)\n",
    "\n",
    "n_similar_movies = 10\n",
    "test_length = int(test_df.movieId.nunique())\n",
    "\n",
    "ratings_prediction_dfs = []\n",
    "for num, movie_id in enumerate(test_df.movieId.unique()):\n",
    "    if num in np.linspace(0, test_length, 11).astype(int).tolist()[1:]:\n",
    "        print(f\"Completed {int(np.round((num / test_length), 1) * 100)}%\")\n",
    "    movie_idx = np.where(pivot_df_T.index == movie_id)[0].tolist()[0]\n",
    "    \n",
    "    similarities = (\n",
    "        pd.Series(item_cosine_matrix[movie_idx], index=pivot_df_T.index)\n",
    "        .drop(movie_id, axis=0)\n",
    "    )\n",
    "\n",
    "    n_similarities = similarities.sort_values(ascending=False)[:n_similar_movies]\n",
    "\n",
    "    test_users = test_df.loc[test_df['movieId'] == movie_id, 'userId']\n",
    "    \n",
    "    test_m_u = temp_df.loc[n_similarities.index, test_users].multiply(n_similarities, axis=0)\n",
    "\n",
    "    weighted_n_ratings = pivot_df_T.loc[n_similarities.index, test_users].multiply(n_similarities, axis=0)\n",
    "    scores = weighted_n_ratings.sum(axis=0) / n_similarities.sum()\n",
    "    temp_score_dict = {'user_id': [], 'prediction': []}\n",
    "    for user_id in test_m_u.columns:\n",
    "        temp_idx = np.where(test_m_u.loc[:, user_id].values != 0.0)[0]\n",
    "\n",
    "        temp_score_dict['user_id'].append(user_id)\n",
    "        # temp_idx가 None이면\n",
    "        # test_users가 상위 10개의 유사 영화들에 대해 평가한 평점과 유사도를 이용해 가중 평균을 통해 각 test_user마다 해당 movie의 예측평점 도출\n",
    "        if len(temp_idx) == 0:\n",
    "            temp_score_dict['prediction'].append(scores.loc[user_id])\n",
    "        else:\n",
    "            weighted_n_ratings_val = [test_m_u.loc[:, user_id].values[idx] for idx in temp_idx]\n",
    "            n_similarities_val = [n_similarities.values[idx] for idx in temp_idx]\n",
    "            \n",
    "            score = np.sum(weighted_n_ratings_val) / np.sum(n_similarities_val)\n",
    "            temp_score_dict['prediction'].append(score)\n",
    "\n",
    "    score_df = pd.DataFrame(temp_score_dict).assign(movie_id=movie_id)\n",
    "    ratings_prediction_dfs.append(score_df)"
   ]
  },
  {
   "cell_type": "code",
   "execution_count": 16,
   "id": "c7f5458a",
   "metadata": {},
   "outputs": [
    {
     "data": {
      "text/html": [
       "<div>\n",
       "<style scoped>\n",
       "    .dataframe tbody tr th:only-of-type {\n",
       "        vertical-align: middle;\n",
       "    }\n",
       "\n",
       "    .dataframe tbody tr th {\n",
       "        vertical-align: top;\n",
       "    }\n",
       "\n",
       "    .dataframe thead th {\n",
       "        text-align: right;\n",
       "    }\n",
       "</style>\n",
       "<table border=\"1\" class=\"dataframe\">\n",
       "  <thead>\n",
       "    <tr style=\"text-align: right;\">\n",
       "      <th></th>\n",
       "      <th></th>\n",
       "      <th>rating</th>\n",
       "      <th>timestamp</th>\n",
       "      <th>prediction</th>\n",
       "    </tr>\n",
       "    <tr>\n",
       "      <th>user_id</th>\n",
       "      <th>movie_id</th>\n",
       "      <th></th>\n",
       "      <th></th>\n",
       "      <th></th>\n",
       "    </tr>\n",
       "  </thead>\n",
       "  <tbody>\n",
       "    <tr>\n",
       "      <th>48065</th>\n",
       "      <th>160</th>\n",
       "      <td>3.0</td>\n",
       "      <td>864946735</td>\n",
       "      <td>3.647059</td>\n",
       "    </tr>\n",
       "    <tr>\n",
       "      <th>15290</th>\n",
       "      <th>1394</th>\n",
       "      <td>4.0</td>\n",
       "      <td>1111616642</td>\n",
       "      <td>3.635613</td>\n",
       "    </tr>\n",
       "    <tr>\n",
       "      <th>128110</th>\n",
       "      <th>4799</th>\n",
       "      <td>2.5</td>\n",
       "      <td>1107336422</td>\n",
       "      <td>3.286269</td>\n",
       "    </tr>\n",
       "  </tbody>\n",
       "</table>\n",
       "</div>"
      ],
      "text/plain": [
       "                  rating   timestamp  prediction\n",
       "user_id movie_id                                \n",
       "48065   160          3.0   864946735    3.647059\n",
       "15290   1394         4.0  1111616642    3.635613\n",
       "128110  4799         2.5  1107336422    3.286269"
      ]
     },
     "execution_count": 16,
     "metadata": {},
     "output_type": "execute_result"
    }
   ],
   "source": [
    "movie_pred_df = pd.concat(ratings_prediction_dfs).set_index(['user_id', 'movie_id'])\n",
    "movie_pred_df = test_df.rename({'userId': 'user_id', 'movieId': 'movie_id'}, axis=1).set_index(['user_id', 'movie_id']).join(movie_pred_df)\n",
    "movie_pred_df.head(3)"
   ]
  },
  {
   "cell_type": "code",
   "execution_count": 18,
   "id": "141cc9c7",
   "metadata": {},
   "outputs": [],
   "source": [
    "from sklearn.metrics import mean_squared_error"
   ]
  },
  {
   "cell_type": "code",
   "execution_count": 19,
   "id": "f27e9fe7",
   "metadata": {},
   "outputs": [
    {
     "name": "stdout",
     "output_type": "stream",
     "text": [
      "RMSE of recommendation by item-item collaborative filtering: 0.9494665308953931\n"
     ]
    }
   ],
   "source": [
    "y_true = movie_pred_df.rating.values\n",
    "y_pred = movie_pred_df.prediction.values\n",
    "\n",
    "rmse = np.sqrt(mean_squared_error(y_true, y_pred))\n",
    "print(\"RMSE of recommendation by item-item collaborative filtering:\", rmse)"
   ]
  },
  {
   "cell_type": "markdown",
   "id": "cd52b3af",
   "metadata": {},
   "source": [
    "#### 모델 개선 아이디어에 대해\n",
    "- 아이디어가 나왔을 때 모델 전체를 개선하는 것이 아닌, 샘플 데이터를 추출해 시뮬레이션을 진행해보고 실제값에 좀 더 근접해질 가능성이 보여 진행"
   ]
  },
  {
   "cell_type": "markdown",
   "id": "ec5256d7",
   "metadata": {},
   "source": [
    "#### 유저 중심 협업 필터링 모델에 대해\n",
    "- 코사인 유사도 대신 자카드 유사도로 유사도 행렬을 도출하는 방법도 존재\n",
    "    - 이진화 기준 : 각 유저의 평균 평점 이하의 평점은 가졌으면 0, 이상의 평점을 가졌으면 1로 이진화\n",
    "    "
   ]
  },
  {
   "cell_type": "markdown",
   "id": "e546f2a8",
   "metadata": {},
   "source": [
    "### 결과\n",
    "- 해당 상품 중심 협업 필터링을 통한 추천 모델은 약 1점정도의 예측오차가 존재한다.\n",
    "- 추천 방식 : 특정 영화에 대해 높은 예측 평점을 보인 유저들에게 해당 영화를 추천하는 방식\n",
    "- 개선 방식 : 결측값을 평균으로 대체해 사용하는 것이 아니라 유사 영화들을 정말로 본 유저들의 평점만 사용하는 것이 어떨까?"
   ]
  },
  {
   "cell_type": "markdown",
   "id": "49aed526",
   "metadata": {},
   "source": [
    "### 빈발 패턴 분석도 진행\n",
    "- 유저별 본 movie list에 대한 데이터프레임을 생성하여 진행\n",
    "    - 추천 모델이므로 평점을 4점 이상 받은 영화에 대해서만 진행"
   ]
  }
 ],
 "metadata": {
  "kernelspec": {
   "display_name": "Python 3",
   "language": "python",
   "name": "python3"
  },
  "language_info": {
   "codemirror_mode": {
    "name": "ipython",
    "version": 3
   },
   "file_extension": ".py",
   "mimetype": "text/x-python",
   "name": "python",
   "nbconvert_exporter": "python",
   "pygments_lexer": "ipython3",
   "version": "3.8.8"
  }
 },
 "nbformat": 4,
 "nbformat_minor": 5
}
