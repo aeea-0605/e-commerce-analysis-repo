{
 "cells": [
  {
   "cell_type": "code",
   "execution_count": 4,
   "id": "8b017cd3",
   "metadata": {},
   "outputs": [
    {
     "name": "stdout",
     "output_type": "stream",
     "text": [
      "(25000095, 4)\n"
     ]
    },
    {
     "data": {
      "text/html": [
       "<div>\n",
       "<style scoped>\n",
       "    .dataframe tbody tr th:only-of-type {\n",
       "        vertical-align: middle;\n",
       "    }\n",
       "\n",
       "    .dataframe tbody tr th {\n",
       "        vertical-align: top;\n",
       "    }\n",
       "\n",
       "    .dataframe thead th {\n",
       "        text-align: right;\n",
       "    }\n",
       "</style>\n",
       "<table border=\"1\" class=\"dataframe\">\n",
       "  <thead>\n",
       "    <tr style=\"text-align: right;\">\n",
       "      <th></th>\n",
       "      <th>userId</th>\n",
       "      <th>movieId</th>\n",
       "      <th>rating</th>\n",
       "      <th>timestamp</th>\n",
       "    </tr>\n",
       "  </thead>\n",
       "  <tbody>\n",
       "    <tr>\n",
       "      <th>0</th>\n",
       "      <td>1</td>\n",
       "      <td>296</td>\n",
       "      <td>5.0</td>\n",
       "      <td>1147880044</td>\n",
       "    </tr>\n",
       "    <tr>\n",
       "      <th>1</th>\n",
       "      <td>1</td>\n",
       "      <td>306</td>\n",
       "      <td>3.5</td>\n",
       "      <td>1147868817</td>\n",
       "    </tr>\n",
       "    <tr>\n",
       "      <th>2</th>\n",
       "      <td>1</td>\n",
       "      <td>307</td>\n",
       "      <td>5.0</td>\n",
       "      <td>1147868828</td>\n",
       "    </tr>\n",
       "  </tbody>\n",
       "</table>\n",
       "</div>"
      ],
      "text/plain": [
       "   userId  movieId  rating   timestamp\n",
       "0       1      296     5.0  1147880044\n",
       "1       1      306     3.5  1147868817\n",
       "2       1      307     5.0  1147868828"
      ]
     },
     "execution_count": 4,
     "metadata": {},
     "output_type": "execute_result"
    }
   ],
   "source": [
    "rating_df = pd.read_csv('data/ratings.csv')\n",
    "\n",
    "print(rating_df.shape)\n",
    "rating_df.head(3)"
   ]
  },
  {
   "cell_type": "code",
   "execution_count": 2,
   "id": "897093ed",
   "metadata": {},
   "outputs": [
    {
     "data": {
      "text/plain": [
       "count    2.500010e+07\n",
       "mean     3.533854e+00\n",
       "std      1.060744e+00\n",
       "min      5.000000e-01\n",
       "25%      3.000000e+00\n",
       "50%      3.500000e+00\n",
       "75%      4.000000e+00\n",
       "max      5.000000e+00\n",
       "Name: rating, dtype: float64"
      ]
     },
     "execution_count": 2,
     "metadata": {},
     "output_type": "execute_result"
    }
   ],
   "source": [
    "rating_df.rating.describe()"
   ]
  },
  {
   "cell_type": "code",
   "execution_count": 3,
   "id": "c0d78909",
   "metadata": {},
   "outputs": [
    {
     "data": {
      "image/png": "[encoded data removed]",
      "text/plain": [
       "<Figure size 432x288 with 1 Axes>"
      ]
     },
     "metadata": {
      "needs_background": "light"
     },
     "output_type": "display_data"
    }
   ],
   "source": [
    "sns.countplot(rating_df.rating);"
   ]
  },
  {
   "cell_type": "code",
   "execution_count": 4,
   "id": "4bdf73b9",
   "metadata": {},
   "outputs": [
    {
     "name": "stdout",
     "output_type": "stream",
     "text": [
      "Users : 162541\n",
      "Movies : 59047\n"
     ]
    }
   ],
   "source": [
    "# 유저 수는 약 162000명, 영화 수는 약 59000개 이다.\n",
    "print(f\"Users : {rating_df.userId.nunique()}\")\n",
    "print(f\"Movies : {rating_df.movieId.nunique()}\")"
   ]
  },
  {
   "cell_type": "code",
   "execution_count": 5,
   "id": "053fd00d",
   "metadata": {},
   "outputs": [
    {
     "data": {
      "text/plain": [
       "1    25000095\n",
       "dtype: int64"
      ]
     },
     "execution_count": 5,
     "metadata": {},
     "output_type": "execute_result"
    }
   ],
   "source": [
    "# 한 유저가 같은 영화에 대해 두 번 이상 평점을 매긴 경우는 존재하지 않는다.\n",
    "rating_df.groupby(['userId', 'movieId']).size().value_counts()"
   ]
  },
  {
   "cell_type": "code",
   "execution_count": 6,
   "id": "596efaa7",
   "metadata": {},
   "outputs": [
    {
     "data": {
      "text/plain": [
       "userId\n",
       "56219        20\n",
       "87801        20\n",
       "129589       20\n",
       "57943        20\n",
       "129586       20\n",
       "          ...  \n",
       "20055      7488\n",
       "33844      7919\n",
       "137293     8913\n",
       "80974      9178\n",
       "72315     32202\n",
       "Name: movieId, Length: 162541, dtype: int64"
      ]
     },
     "execution_count": 6,
     "metadata": {},
     "output_type": "execute_result"
    }
   ],
   "source": [
    "# 해당 데이터는 한 유저가 최소 20개에서부터 최대 약 32000개의 영화에 대해 평점을 매긴 데이터이다.\n",
    "rating_df.groupby('userId')['movieId'].count().sort_values()"
   ]
  },
  {
   "cell_type": "code",
   "execution_count": 7,
   "id": "31d440b0",
   "metadata": {},
   "outputs": [
    {
     "data": {
      "text/plain": [
       "1        10298\n",
       "2         7633\n",
       "3         4923\n",
       "4         3473\n",
       "5         2513\n",
       "         ...  \n",
       "4527         1\n",
       "2508         1\n",
       "6638         1\n",
       "10760        1\n",
       "14329        1\n",
       "Name: userId, Length: 3820, dtype: int64"
      ]
     },
     "execution_count": 7,
     "metadata": {},
     "output_type": "execute_result"
    }
   ],
   "source": [
    "# 한 명의 유저에게 평가받은 영화는 10298개, 두 명의 유저에게 평가받은 영화는 7633개 ... 로 이루어져 있다.\n",
    "rating_df.groupby('movieId')['userId'].count().value_counts()"
   ]
  },
  {
   "cell_type": "markdown",
   "id": "316d0461",
   "metadata": {},
   "source": [
    "---"
   ]
  },
  {
   "cell_type": "markdown",
   "id": "29ec20b3",
   "metadata": {},
   "source": [
    "---"
   ]
  },
  {
   "cell_type": "markdown",
   "id": "cfc39978",
   "metadata": {},
   "source": [
    "# 상품 중심 협업 필터링"
   ]
  },
  {
   "cell_type": "code",
   "execution_count": 2,
   "id": "7bc1c4b0",
   "metadata": {},
   "outputs": [],
   "source": [
    "from tqdm import tqdm\n",
    "\n",
    "from modules.module import *\n",
    "\n",
    "from sklearn.model_selection import train_test_split\n",
    "from sklearn.metrics.pairwise import cosine_similarity"
   ]
  },
  {
   "cell_type": "markdown",
   "id": "22ebffa8",
   "metadata": {},
   "source": [
    "## 1"
   ]
  },
  {
   "cell_type": "code",
   "execution_count": 5,
   "id": "a5a7f129",
   "metadata": {},
   "outputs": [
    {
     "name": "stdout",
     "output_type": "stream",
     "text": [
      "필터링 전 데이터 수 :25000095\n",
      "필터링 후 데이터 수 :22488390\n"
     ]
    }
   ],
   "source": [
    "filtered_df = filtering_df(rating_df, 100, 50)\n",
    "\n",
    "del rating_df"
   ]
  },
  {
   "cell_type": "code",
   "execution_count": 6,
   "id": "3d7f4c17",
   "metadata": {},
   "outputs": [],
   "source": [
    "# Train, Test Dataset Split\n",
    "train_df, test_df = train_test_split(filtered_df, random_state=13)\n",
    "\n",
    "del filtered_df"
   ]
  },
  {
   "cell_type": "code",
   "execution_count": 7,
   "id": "f95d150b",
   "metadata": {},
   "outputs": [
    {
     "name": "stdout",
     "output_type": "stream",
     "text": [
      "Return userId-movieId Matrix\n",
      "(101074, 10291)\n"
     ]
    },
    {
     "data": {
      "text/html": [
       "<div>\n",
       "<style scoped>\n",
       "    .dataframe tbody tr th:only-of-type {\n",
       "        vertical-align: middle;\n",
       "    }\n",
       "\n",
       "    .dataframe tbody tr th {\n",
       "        vertical-align: top;\n",
       "    }\n",
       "\n",
       "    .dataframe thead th {\n",
       "        text-align: right;\n",
       "    }\n",
       "</style>\n",
       "<table border=\"1\" class=\"dataframe\">\n",
       "  <thead>\n",
       "    <tr style=\"text-align: right;\">\n",
       "      <th>movieId</th>\n",
       "      <th>1</th>\n",
       "      <th>2</th>\n",
       "      <th>3</th>\n",
       "      <th>4</th>\n",
       "      <th>5</th>\n",
       "      <th>6</th>\n",
       "      <th>7</th>\n",
       "      <th>8</th>\n",
       "      <th>9</th>\n",
       "      <th>10</th>\n",
       "      <th>...</th>\n",
       "      <th>202103</th>\n",
       "      <th>202393</th>\n",
       "      <th>202429</th>\n",
       "      <th>202439</th>\n",
       "      <th>203222</th>\n",
       "      <th>203519</th>\n",
       "      <th>204352</th>\n",
       "      <th>204542</th>\n",
       "      <th>204698</th>\n",
       "      <th>205383</th>\n",
       "    </tr>\n",
       "    <tr>\n",
       "      <th>userId</th>\n",
       "      <th></th>\n",
       "      <th></th>\n",
       "      <th></th>\n",
       "      <th></th>\n",
       "      <th></th>\n",
       "      <th></th>\n",
       "      <th></th>\n",
       "      <th></th>\n",
       "      <th></th>\n",
       "      <th></th>\n",
       "      <th></th>\n",
       "      <th></th>\n",
       "      <th></th>\n",
       "      <th></th>\n",
       "      <th></th>\n",
       "      <th></th>\n",
       "      <th></th>\n",
       "      <th></th>\n",
       "      <th></th>\n",
       "      <th></th>\n",
       "      <th></th>\n",
       "    </tr>\n",
       "  </thead>\n",
       "  <tbody>\n",
       "    <tr>\n",
       "      <th>1</th>\n",
       "      <td>3.923077</td>\n",
       "      <td>3.923077</td>\n",
       "      <td>3.923077</td>\n",
       "      <td>3.923077</td>\n",
       "      <td>3.923077</td>\n",
       "      <td>3.923077</td>\n",
       "      <td>3.923077</td>\n",
       "      <td>3.923077</td>\n",
       "      <td>3.923077</td>\n",
       "      <td>3.923077</td>\n",
       "      <td>...</td>\n",
       "      <td>3.923077</td>\n",
       "      <td>3.923077</td>\n",
       "      <td>3.923077</td>\n",
       "      <td>3.923077</td>\n",
       "      <td>3.923077</td>\n",
       "      <td>3.923077</td>\n",
       "      <td>3.923077</td>\n",
       "      <td>3.923077</td>\n",
       "      <td>3.923077</td>\n",
       "      <td>3.923077</td>\n",
       "    </tr>\n",
       "    <tr>\n",
       "      <th>2</th>\n",
       "      <td>3.500000</td>\n",
       "      <td>3.660839</td>\n",
       "      <td>3.660839</td>\n",
       "      <td>3.660839</td>\n",
       "      <td>3.660839</td>\n",
       "      <td>3.660839</td>\n",
       "      <td>3.660839</td>\n",
       "      <td>3.660839</td>\n",
       "      <td>3.660839</td>\n",
       "      <td>3.660839</td>\n",
       "      <td>...</td>\n",
       "      <td>3.660839</td>\n",
       "      <td>3.660839</td>\n",
       "      <td>3.660839</td>\n",
       "      <td>3.660839</td>\n",
       "      <td>3.660839</td>\n",
       "      <td>3.660839</td>\n",
       "      <td>3.660839</td>\n",
       "      <td>3.660839</td>\n",
       "      <td>3.660839</td>\n",
       "      <td>3.660839</td>\n",
       "    </tr>\n",
       "  </tbody>\n",
       "</table>\n",
       "<p>2 rows × 10291 columns</p>\n",
       "</div>"
      ],
      "text/plain": [
       "movieId    1         2         3         4         5         6         7       \\\n",
       "userId                                                                          \n",
       "1        3.923077  3.923077  3.923077  3.923077  3.923077  3.923077  3.923077   \n",
       "2        3.500000  3.660839  3.660839  3.660839  3.660839  3.660839  3.660839   \n",
       "\n",
       "movieId    8         9         10      ...    202103    202393    202429  \\\n",
       "userId                                 ...                                 \n",
       "1        3.923077  3.923077  3.923077  ...  3.923077  3.923077  3.923077   \n",
       "2        3.660839  3.660839  3.660839  ...  3.660839  3.660839  3.660839   \n",
       "\n",
       "movieId    202439    203222    203519    204352    204542    204698    205383  \n",
       "userId                                                                         \n",
       "1        3.923077  3.923077  3.923077  3.923077  3.923077  3.923077  3.923077  \n",
       "2        3.660839  3.660839  3.660839  3.660839  3.660839  3.660839  3.660839  \n",
       "\n",
       "[2 rows x 10291 columns]"
      ]
     },
     "execution_count": 7,
     "metadata": {},
     "output_type": "execute_result"
    }
   ],
   "source": [
    "pivot_df = trans_interaction_matrix(train_df, impute='mean')\n",
    "\n",
    "print(pivot_df.shape)\n",
    "pivot_df.head(2)"
   ]
  },
  {
   "cell_type": "code",
   "execution_count": 8,
   "id": "e911af37",
   "metadata": {},
   "outputs": [],
   "source": [
    "# 유저-영화 행렬을 영화-유저 행렬로 전치\n",
    "pivot_df_T = pivot_df.T\n",
    "\n",
    "# 영화 인덱스 추출\n",
    "movie_indices = pivot_df_T.index"
   ]
  },
  {
   "cell_type": "code",
   "execution_count": 9,
   "id": "5daf6deb",
   "metadata": {},
   "outputs": [],
   "source": [
    "# 유사 영화 수 추출\n",
    "n_similar_movies = 10\n",
    "\n",
    "# 영화-영화 코사인 유사도 행렬 추출\n",
    "movie_cosine_matrix = cosine_similarity(pivot_df_T, pivot_df_T)"
   ]
  },
  {
   "cell_type": "code",
   "execution_count": 15,
   "id": "6b1e1153",
   "metadata": {},
   "outputs": [
    {
     "name": "stdout",
     "output_type": "stream",
     "text": [
      "CPU times: user 15min 3s, sys: 1min 6s, total: 16min 10s\n",
      "Wall time: 4min 32s\n"
     ]
    }
   ],
   "source": [
    "%%time\n",
    "\n",
    "rating_prediction_dfs = []\n",
    "for movie_id in test_df['movieId'].unique():\n",
    "    # 해당 movie_id의 n개의 유사 movie_id 및 그에 대한 유사도 추출\n",
    "    n_similarities = search_n_similarities(movie_cosine_matrix, movie_id, movie_indices, n_similar_movies)\n",
    "\n",
    "    # Test Dataset에서 해당 영화에 평점을 매긴 유저들 추출\n",
    "    test_users = test_df.loc[test_df['movieId'] == movie_id, 'userId']\n",
    "    \n",
    "    # 영화-유저 인터랙션 행렬에서 유사 영화 리스트에 대해 test_users가 평점을 매긴 행렬 추출\n",
    "    n_ratings = pivot_df_T.loc[n_similarities.index, test_users]\n",
    "    \n",
    "    # 추출한 영화-유저 행렬과 유사도 벡터의 가중 평균을 통해 해당 영화에 대해 각 test_user의 예측 평점 도출\n",
    "    weighted_n_ratings = n_ratings.multiply(n_similarities, axis='index')\n",
    "    scores = weighted_n_ratings.sum(axis=0) / n_similarities.sum()\n",
    "    \n",
    "    # 예측 평점 데이터프레임 생성 후 전체 예측 데이터프레임에 추가\n",
    "    scores_df = scores.rename('prediction').reset_index().assign(movie_id=movie_id)\n",
    "    rating_prediction_dfs.append(scores_df)"
   ]
  },
  {
   "cell_type": "code",
   "execution_count": 19,
   "id": "db464a2e",
   "metadata": {},
   "outputs": [
    {
     "data": {
      "text/html": [
       "<div>\n",
       "<style scoped>\n",
       "    .dataframe tbody tr th:only-of-type {\n",
       "        vertical-align: middle;\n",
       "    }\n",
       "\n",
       "    .dataframe tbody tr th {\n",
       "        vertical-align: top;\n",
       "    }\n",
       "\n",
       "    .dataframe thead th {\n",
       "        text-align: right;\n",
       "    }\n",
       "</style>\n",
       "<table border=\"1\" class=\"dataframe\">\n",
       "  <thead>\n",
       "    <tr style=\"text-align: right;\">\n",
       "      <th></th>\n",
       "      <th></th>\n",
       "      <th>rating</th>\n",
       "      <th>timestamp</th>\n",
       "      <th>prediction</th>\n",
       "    </tr>\n",
       "    <tr>\n",
       "      <th>userId</th>\n",
       "      <th>movie_id</th>\n",
       "      <th></th>\n",
       "      <th></th>\n",
       "      <th></th>\n",
       "    </tr>\n",
       "  </thead>\n",
       "  <tbody>\n",
       "    <tr>\n",
       "      <th>48065</th>\n",
       "      <th>160</th>\n",
       "      <td>3.0</td>\n",
       "      <td>864946735</td>\n",
       "      <td>3.647059</td>\n",
       "    </tr>\n",
       "    <tr>\n",
       "      <th>15290</th>\n",
       "      <th>1394</th>\n",
       "      <td>4.0</td>\n",
       "      <td>1111616642</td>\n",
       "      <td>3.635613</td>\n",
       "    </tr>\n",
       "    <tr>\n",
       "      <th>128110</th>\n",
       "      <th>4799</th>\n",
       "      <td>2.5</td>\n",
       "      <td>1107336422</td>\n",
       "      <td>3.286269</td>\n",
       "    </tr>\n",
       "  </tbody>\n",
       "</table>\n",
       "</div>"
      ],
      "text/plain": [
       "                 rating   timestamp  prediction\n",
       "userId movie_id                                \n",
       "48065  160          3.0   864946735    3.647059\n",
       "15290  1394         4.0  1111616642    3.635613\n",
       "128110 4799         2.5  1107336422    3.286269"
      ]
     },
     "execution_count": 19,
     "metadata": {},
     "output_type": "execute_result"
    }
   ],
   "source": [
    "movie_pred_df = pd.concat(rating_prediction_dfs).set_index(['userId', 'movie_id'])\n",
    "movie_pred_df = test_df.rename({'movieId': 'movie_id'}, axis=1).set_index(['userId', 'movie_id']).join(movie_pred_df)\n",
    "movie_pred_df.head(3)"
   ]
  },
  {
   "cell_type": "code",
   "execution_count": 21,
   "id": "5b8d9104",
   "metadata": {},
   "outputs": [
    {
     "name": "stdout",
     "output_type": "stream",
     "text": [
      "RMSE of recommendation by item-item collaborative filtering: 0.9473424478079131\n"
     ]
    }
   ],
   "source": [
    "eval_model(movie_pred_df, 'item')"
   ]
  },
  {
   "cell_type": "markdown",
   "id": "d1991b90",
   "metadata": {},
   "source": [
    "## 2 : 개선된 모델 로직\n",
    "- 코사인 유사도 계산을 위해 결측값을 각 유저의 평균 평점으로 대체하였음\n",
    "    - 그렇기에 어떤 영화에 대한 유저들의 예측 평점을 계산할 때, 시청하지 않은 영화에 대한 평점은 유저의 평균 평점을 통해 가중 평균을 함\n",
    "    - 평점을 예측할 때, 유저가 시청하지 않은 영화는 가중 평균에 개입이 안되게 모델 개선\n",
    "- 몇 개의 샘플데이터로 진행한 결과, 개선 가능성이 보여 모델링을 진행하였음"
   ]
  },
  {
   "cell_type": "code",
   "execution_count": 10,
   "id": "5b81a8fd",
   "metadata": {},
   "outputs": [
    {
     "name": "stdout",
     "output_type": "stream",
     "text": [
      "Return userId-movieId Matrix\n",
      "(10291, 101074)\n"
     ]
    },
    {
     "data": {
      "text/html": [
       "<div>\n",
       "<style scoped>\n",
       "    .dataframe tbody tr th:only-of-type {\n",
       "        vertical-align: middle;\n",
       "    }\n",
       "\n",
       "    .dataframe tbody tr th {\n",
       "        vertical-align: top;\n",
       "    }\n",
       "\n",
       "    .dataframe thead th {\n",
       "        text-align: right;\n",
       "    }\n",
       "</style>\n",
       "<table border=\"1\" class=\"dataframe\">\n",
       "  <thead>\n",
       "    <tr style=\"text-align: right;\">\n",
       "      <th>userId</th>\n",
       "      <th>1</th>\n",
       "      <th>2</th>\n",
       "      <th>3</th>\n",
       "      <th>4</th>\n",
       "      <th>5</th>\n",
       "      <th>8</th>\n",
       "      <th>9</th>\n",
       "      <th>10</th>\n",
       "      <th>12</th>\n",
       "      <th>13</th>\n",
       "      <th>...</th>\n",
       "      <th>162530</th>\n",
       "      <th>162532</th>\n",
       "      <th>162533</th>\n",
       "      <th>162534</th>\n",
       "      <th>162535</th>\n",
       "      <th>162536</th>\n",
       "      <th>162537</th>\n",
       "      <th>162538</th>\n",
       "      <th>162540</th>\n",
       "      <th>162541</th>\n",
       "    </tr>\n",
       "    <tr>\n",
       "      <th>movieId</th>\n",
       "      <th></th>\n",
       "      <th></th>\n",
       "      <th></th>\n",
       "      <th></th>\n",
       "      <th></th>\n",
       "      <th></th>\n",
       "      <th></th>\n",
       "      <th></th>\n",
       "      <th></th>\n",
       "      <th></th>\n",
       "      <th></th>\n",
       "      <th></th>\n",
       "      <th></th>\n",
       "      <th></th>\n",
       "      <th></th>\n",
       "      <th></th>\n",
       "      <th></th>\n",
       "      <th></th>\n",
       "      <th></th>\n",
       "      <th></th>\n",
       "      <th></th>\n",
       "    </tr>\n",
       "  </thead>\n",
       "  <tbody>\n",
       "    <tr>\n",
       "      <th>1</th>\n",
       "      <td>0.0</td>\n",
       "      <td>3.5</td>\n",
       "      <td>4.0</td>\n",
       "      <td>3.0</td>\n",
       "      <td>0.0</td>\n",
       "      <td>0.0</td>\n",
       "      <td>0.0</td>\n",
       "      <td>3.5</td>\n",
       "      <td>0.0</td>\n",
       "      <td>4.0</td>\n",
       "      <td>...</td>\n",
       "      <td>0.0</td>\n",
       "      <td>0.0</td>\n",
       "      <td>4.5</td>\n",
       "      <td>4.0</td>\n",
       "      <td>0.0</td>\n",
       "      <td>0.0</td>\n",
       "      <td>0.0</td>\n",
       "      <td>2.0</td>\n",
       "      <td>0.0</td>\n",
       "      <td>0.0</td>\n",
       "    </tr>\n",
       "    <tr>\n",
       "      <th>2</th>\n",
       "      <td>0.0</td>\n",
       "      <td>0.0</td>\n",
       "      <td>0.0</td>\n",
       "      <td>0.0</td>\n",
       "      <td>0.0</td>\n",
       "      <td>0.0</td>\n",
       "      <td>5.0</td>\n",
       "      <td>0.0</td>\n",
       "      <td>2.0</td>\n",
       "      <td>0.0</td>\n",
       "      <td>...</td>\n",
       "      <td>0.0</td>\n",
       "      <td>0.0</td>\n",
       "      <td>4.0</td>\n",
       "      <td>0.0</td>\n",
       "      <td>0.0</td>\n",
       "      <td>0.0</td>\n",
       "      <td>0.0</td>\n",
       "      <td>0.0</td>\n",
       "      <td>0.0</td>\n",
       "      <td>0.0</td>\n",
       "    </tr>\n",
       "  </tbody>\n",
       "</table>\n",
       "<p>2 rows × 101074 columns</p>\n",
       "</div>"
      ],
      "text/plain": [
       "userId   1       2       3       4       5       8       9       10      \\\n",
       "movieId                                                                   \n",
       "1           0.0     3.5     4.0     3.0     0.0     0.0     0.0     3.5   \n",
       "2           0.0     0.0     0.0     0.0     0.0     0.0     5.0     0.0   \n",
       "\n",
       "userId   12      13      ...  162530  162532  162533  162534  162535  162536  \\\n",
       "movieId                  ...                                                   \n",
       "1           0.0     4.0  ...     0.0     0.0     4.5     4.0     0.0     0.0   \n",
       "2           2.0     0.0  ...     0.0     0.0     4.0     0.0     0.0     0.0   \n",
       "\n",
       "userId   162537  162538  162540  162541  \n",
       "movieId                                  \n",
       "1           0.0     2.0     0.0     0.0  \n",
       "2           0.0     0.0     0.0     0.0  \n",
       "\n",
       "[2 rows x 101074 columns]"
      ]
     },
     "execution_count": 10,
     "metadata": {},
     "output_type": "execute_result"
    }
   ],
   "source": [
    "# 결측값을 0으로 채운 인터랙션 행렬 생성\n",
    "zero_imputed_df = trans_interaction_matrix(train_df, impute='zero')\n",
    "\n",
    "# 유저-상품 행렬을 상품-유저 행렬로 전치\n",
    "zero_imputed_df = zero_imputed_df.T\n",
    "\n",
    "print(zero_imputed_df.shape)\n",
    "zero_imputed_df.head(2)"
   ]
  },
  {
   "cell_type": "code",
   "execution_count": 15,
   "id": "16a48ca8",
   "metadata": {},
   "outputs": [
    {
     "name": "stdout",
     "output_type": "stream",
     "text": [
      "Completed 10%\n",
      "Completed 20%\n",
      "Completed 30%\n",
      "Completed 40%\n",
      "Completed 50%\n",
      "Completed 60%\n",
      "Completed 70%\n",
      "Completed 80%\n",
      "Completed 90%\n",
      "CPU times: user 31min 58s, sys: 2h 3min 39s, total: 2h 35min 38s\n",
      "Wall time: 3h 43min 4s\n"
     ]
    }
   ],
   "source": [
    "%%time\n",
    "\n",
    "test_length = int(test_df.movieId.nunique())\n",
    "\n",
    "ratings_prediction_dfs = []\n",
    "for num, movie_id in enumerate(test_df.movieId.unique()):\n",
    "    if num in np.linspace(0, test_length, 11).astype(int).tolist()[1:]:\n",
    "        print(f\"Completed {int(np.round((num / test_length), 1) * 100)}%\")\n",
    "        \n",
    "    n_similarities = search_n_similarities(movie_cosine_matrix, movie_id, movie_indices, n_similar_movies)\n",
    "\n",
    "    test_users = test_df.loc[test_df['movieId'] == movie_id, 'userId']\n",
    "    \n",
    "    weighted_zero_n_ratings = zero_imputed_df.loc[n_similarities.index, test_users].multiply(n_similarities, axis=0)\n",
    "\n",
    "    weighted_mean_n_ratings = pivot_df_T.loc[n_similarities.index, test_users].multiply(n_similarities, axis=0)\n",
    "    scores = weighted_mean_n_ratings.sum(axis=0) / n_similarities.sum()\n",
    "    \n",
    "    score_per_user = predict_target_scores(weighted_zero_n_ratings, scores, n_similarities, 'user_id')\n",
    "    \n",
    "    score_df = pd.DataFrame(score_per_user).assign(movie_id=movie_id)\n",
    "    ratings_prediction_dfs.append(score_df)"
   ]
  },
  {
   "cell_type": "code",
   "execution_count": 16,
   "id": "c7f5458a",
   "metadata": {},
   "outputs": [
    {
     "data": {
      "text/html": [
       "<div>\n",
       "<style scoped>\n",
       "    .dataframe tbody tr th:only-of-type {\n",
       "        vertical-align: middle;\n",
       "    }\n",
       "\n",
       "    .dataframe tbody tr th {\n",
       "        vertical-align: top;\n",
       "    }\n",
       "\n",
       "    .dataframe thead th {\n",
       "        text-align: right;\n",
       "    }\n",
       "</style>\n",
       "<table border=\"1\" class=\"dataframe\">\n",
       "  <thead>\n",
       "    <tr style=\"text-align: right;\">\n",
       "      <th></th>\n",
       "      <th></th>\n",
       "      <th>rating</th>\n",
       "      <th>timestamp</th>\n",
       "      <th>prediction</th>\n",
       "    </tr>\n",
       "    <tr>\n",
       "      <th>user_id</th>\n",
       "      <th>movie_id</th>\n",
       "      <th></th>\n",
       "      <th></th>\n",
       "      <th></th>\n",
       "    </tr>\n",
       "  </thead>\n",
       "  <tbody>\n",
       "    <tr>\n",
       "      <th>48065</th>\n",
       "      <th>160</th>\n",
       "      <td>3.0</td>\n",
       "      <td>864946735</td>\n",
       "      <td>3.647059</td>\n",
       "    </tr>\n",
       "    <tr>\n",
       "      <th>15290</th>\n",
       "      <th>1394</th>\n",
       "      <td>4.0</td>\n",
       "      <td>1111616642</td>\n",
       "      <td>3.635613</td>\n",
       "    </tr>\n",
       "    <tr>\n",
       "      <th>128110</th>\n",
       "      <th>4799</th>\n",
       "      <td>2.5</td>\n",
       "      <td>1107336422</td>\n",
       "      <td>3.286269</td>\n",
       "    </tr>\n",
       "  </tbody>\n",
       "</table>\n",
       "</div>"
      ],
      "text/plain": [
       "                  rating   timestamp  prediction\n",
       "user_id movie_id                                \n",
       "48065   160          3.0   864946735    3.647059\n",
       "15290   1394         4.0  1111616642    3.635613\n",
       "128110  4799         2.5  1107336422    3.286269"
      ]
     },
     "execution_count": 16,
     "metadata": {},
     "output_type": "execute_result"
    }
   ],
   "source": [
    "movie_pred_df = pd.concat(ratings_prediction_dfs).set_index(['user_id', 'movie_id'])\n",
    "movie_pred_df = test_df.rename({'userId': 'user_id', 'movieId': 'movie_id'}, axis=1).set_index(['user_id', 'movie_id']).join(movie_pred_df)\n",
    "movie_pred_df.head(3)"
   ]
  },
  {
   "cell_type": "code",
   "execution_count": 19,
   "id": "f27e9fe7",
   "metadata": {},
   "outputs": [
    {
     "name": "stdout",
     "output_type": "stream",
     "text": [
      "RMSE of recommendation by item-item collaborative filtering: 0.9494665308953931\n"
     ]
    }
   ],
   "source": [
    "eval_model(movie_pred_df, 'item')"
   ]
  },
  {
   "cell_type": "markdown",
   "id": "190b94d0",
   "metadata": {},
   "source": [
    "---"
   ]
  },
  {
   "cell_type": "markdown",
   "id": "6c5c2062",
   "metadata": {},
   "source": [
    "---"
   ]
  },
  {
   "cell_type": "markdown",
   "id": "d844eea1",
   "metadata": {},
   "source": [
    "---"
   ]
  },
  {
   "cell_type": "markdown",
   "id": "804e3960",
   "metadata": {},
   "source": [
    "# 유저 중심 협업 필터링"
   ]
  },
  {
   "cell_type": "code",
   "execution_count": 1,
   "id": "91a2e276",
   "metadata": {},
   "outputs": [],
   "source": [
    "from tqdm import tqdm\n",
    "\n",
    "from modules.module import *\n",
    "\n",
    "from sklearn.model_selection import train_test_split\n",
    "from sklearn.metrics.pairwise import cosine_similarity"
   ]
  },
  {
   "cell_type": "code",
   "execution_count": 4,
   "id": "1664eb9b",
   "metadata": {},
   "outputs": [
    {
     "name": "stdout",
     "output_type": "stream",
     "text": [
      "필터링 전 데이터 수 :25000095\n",
      "필터링 후 데이터 수 :15558026\n"
     ]
    }
   ],
   "source": [
    "rating_df = pd.read_csv('data/ratings.csv')\n",
    "\n",
    "filtered_df = filtering_df(rating_df, 100, 200)\n",
    "\n",
    "del rating_df"
   ]
  },
  {
   "cell_type": "code",
   "execution_count": 5,
   "id": "1b904b9b",
   "metadata": {},
   "outputs": [],
   "source": [
    "# Train, Test Dataset Split\n",
    "train_df, test_df = train_test_split(filtered_df, test_size=0.15, random_state=13)\n",
    "\n",
    "del filtered_df"
   ]
  },
  {
   "cell_type": "code",
   "execution_count": 6,
   "id": "a586efb1",
   "metadata": {},
   "outputs": [
    {
     "name": "stdout",
     "output_type": "stream",
     "text": [
      "Return userId-movieId Matrix\n",
      "(32848, 10291)\n"
     ]
    },
    {
     "data": {
      "text/html": [
       "<div>\n",
       "<style scoped>\n",
       "    .dataframe tbody tr th:only-of-type {\n",
       "        vertical-align: middle;\n",
       "    }\n",
       "\n",
       "    .dataframe tbody tr th {\n",
       "        vertical-align: top;\n",
       "    }\n",
       "\n",
       "    .dataframe thead th {\n",
       "        text-align: right;\n",
       "    }\n",
       "</style>\n",
       "<table border=\"1\" class=\"dataframe\">\n",
       "  <thead>\n",
       "    <tr style=\"text-align: right;\">\n",
       "      <th>movieId</th>\n",
       "      <th>1</th>\n",
       "      <th>2</th>\n",
       "      <th>3</th>\n",
       "      <th>4</th>\n",
       "      <th>5</th>\n",
       "      <th>6</th>\n",
       "      <th>7</th>\n",
       "      <th>8</th>\n",
       "      <th>9</th>\n",
       "      <th>10</th>\n",
       "      <th>...</th>\n",
       "      <th>202103</th>\n",
       "      <th>202393</th>\n",
       "      <th>202429</th>\n",
       "      <th>202439</th>\n",
       "      <th>203222</th>\n",
       "      <th>203519</th>\n",
       "      <th>204352</th>\n",
       "      <th>204542</th>\n",
       "      <th>204698</th>\n",
       "      <th>205383</th>\n",
       "    </tr>\n",
       "    <tr>\n",
       "      <th>userId</th>\n",
       "      <th></th>\n",
       "      <th></th>\n",
       "      <th></th>\n",
       "      <th></th>\n",
       "      <th></th>\n",
       "      <th></th>\n",
       "      <th></th>\n",
       "      <th></th>\n",
       "      <th></th>\n",
       "      <th></th>\n",
       "      <th></th>\n",
       "      <th></th>\n",
       "      <th></th>\n",
       "      <th></th>\n",
       "      <th></th>\n",
       "      <th></th>\n",
       "      <th></th>\n",
       "      <th></th>\n",
       "      <th></th>\n",
       "      <th></th>\n",
       "      <th></th>\n",
       "    </tr>\n",
       "  </thead>\n",
       "  <tbody>\n",
       "    <tr>\n",
       "      <th>3</th>\n",
       "      <td>4.0</td>\n",
       "      <td>3.690519</td>\n",
       "      <td>3.690519</td>\n",
       "      <td>3.690519</td>\n",
       "      <td>3.690519</td>\n",
       "      <td>3.690519</td>\n",
       "      <td>3.690519</td>\n",
       "      <td>3.690519</td>\n",
       "      <td>3.690519</td>\n",
       "      <td>3.690519</td>\n",
       "      <td>...</td>\n",
       "      <td>3.690519</td>\n",
       "      <td>3.690519</td>\n",
       "      <td>3.690519</td>\n",
       "      <td>3.690519</td>\n",
       "      <td>3.690519</td>\n",
       "      <td>3.690519</td>\n",
       "      <td>3.690519</td>\n",
       "      <td>3.690519</td>\n",
       "      <td>3.690519</td>\n",
       "      <td>3.690519</td>\n",
       "    </tr>\n",
       "    <tr>\n",
       "      <th>4</th>\n",
       "      <td>3.0</td>\n",
       "      <td>3.359223</td>\n",
       "      <td>3.359223</td>\n",
       "      <td>3.359223</td>\n",
       "      <td>3.359223</td>\n",
       "      <td>3.359223</td>\n",
       "      <td>3.359223</td>\n",
       "      <td>3.359223</td>\n",
       "      <td>3.359223</td>\n",
       "      <td>3.359223</td>\n",
       "      <td>...</td>\n",
       "      <td>3.359223</td>\n",
       "      <td>3.359223</td>\n",
       "      <td>3.359223</td>\n",
       "      <td>3.359223</td>\n",
       "      <td>3.359223</td>\n",
       "      <td>2.500000</td>\n",
       "      <td>3.359223</td>\n",
       "      <td>3.359223</td>\n",
       "      <td>3.359223</td>\n",
       "      <td>3.359223</td>\n",
       "    </tr>\n",
       "  </tbody>\n",
       "</table>\n",
       "<p>2 rows × 10291 columns</p>\n",
       "</div>"
      ],
      "text/plain": [
       "movieId  1         2         3         4         5         6         7       \\\n",
       "userId                                                                        \n",
       "3           4.0  3.690519  3.690519  3.690519  3.690519  3.690519  3.690519   \n",
       "4           3.0  3.359223  3.359223  3.359223  3.359223  3.359223  3.359223   \n",
       "\n",
       "movieId    8         9         10      ...    202103    202393    202429  \\\n",
       "userId                                 ...                                 \n",
       "3        3.690519  3.690519  3.690519  ...  3.690519  3.690519  3.690519   \n",
       "4        3.359223  3.359223  3.359223  ...  3.359223  3.359223  3.359223   \n",
       "\n",
       "movieId    202439    203222    203519    204352    204542    204698    205383  \n",
       "userId                                                                         \n",
       "3        3.690519  3.690519  3.690519  3.690519  3.690519  3.690519  3.690519  \n",
       "4        3.359223  3.359223  2.500000  3.359223  3.359223  3.359223  3.359223  \n",
       "\n",
       "[2 rows x 10291 columns]"
      ]
     },
     "execution_count": 6,
     "metadata": {},
     "output_type": "execute_result"
    }
   ],
   "source": [
    "pivot_df = trans_interaction_matrix(train_df, impute='mean')\n",
    "\n",
    "print(pivot_df.shape)\n",
    "pivot_df.head(2)"
   ]
  },
  {
   "cell_type": "code",
   "execution_count": 7,
   "id": "0bcc92df",
   "metadata": {},
   "outputs": [],
   "source": [
    "# 유저 인덱스 추출\n",
    "user_indices = pivot_df.index\n",
    "\n",
    "# 이웃 유저 n명 설정\n",
    "n_similar_users = 10\n",
    "\n",
    "# 유저-유저 코사인 유사도 행렬 생성\n",
    "user_cosine_matrix = cosine_similarity(pivot_df, pivot_df)"
   ]
  },
  {
   "cell_type": "code",
   "execution_count": 25,
   "id": "8cc6021b",
   "metadata": {},
   "outputs": [
    {
     "name": "stderr",
     "output_type": "stream",
     "text": [
      "100%|██████████| 32848/32848 [11:11<00:00, 48.89it/s]\n"
     ]
    }
   ],
   "source": [
    "users_score_dfs = []\n",
    "for user_id in tqdm(test_df['userId'].unique()):\n",
    "    n_similarities = search_n_similarities(user_cosine_matrix, user_id, user_indices, n_similar_users)\n",
    "    \n",
    "    test_movies = test_df.loc[test_df['userId'] == user_id, 'movieId']\n",
    "    \n",
    "    n_ratings = pivot_df.loc[n_similarities.index, test_movies]\n",
    "    weighted_n_ratings = n_ratings.multiply(n_similarities, axis=0)\n",
    "    \n",
    "    scores = weighted_n_ratings.sum(axis=0) / n_similarities.sum()\n",
    "    \n",
    "    score_df = scores.rename('prediction').reset_index().assign(user_id=user_id)\n",
    "    users_score_dfs.append(score_df)"
   ]
  },
  {
   "cell_type": "code",
   "execution_count": 27,
   "id": "2661a348",
   "metadata": {},
   "outputs": [
    {
     "data": {
      "text/html": [
       "<div>\n",
       "<style scoped>\n",
       "    .dataframe tbody tr th:only-of-type {\n",
       "        vertical-align: middle;\n",
       "    }\n",
       "\n",
       "    .dataframe tbody tr th {\n",
       "        vertical-align: top;\n",
       "    }\n",
       "\n",
       "    .dataframe thead th {\n",
       "        text-align: right;\n",
       "    }\n",
       "</style>\n",
       "<table border=\"1\" class=\"dataframe\">\n",
       "  <thead>\n",
       "    <tr style=\"text-align: right;\">\n",
       "      <th></th>\n",
       "      <th></th>\n",
       "      <th>rating</th>\n",
       "      <th>timestamp</th>\n",
       "      <th>prediction</th>\n",
       "    </tr>\n",
       "    <tr>\n",
       "      <th>user_id</th>\n",
       "      <th>movie_id</th>\n",
       "      <th></th>\n",
       "      <th></th>\n",
       "      <th></th>\n",
       "    </tr>\n",
       "  </thead>\n",
       "  <tbody>\n",
       "    <tr>\n",
       "      <th>101305</th>\n",
       "      <th>102903</th>\n",
       "      <td>5.0</td>\n",
       "      <td>1467221425</td>\n",
       "      <td>4.849999</td>\n",
       "    </tr>\n",
       "    <tr>\n",
       "      <th>999</th>\n",
       "      <th>377</th>\n",
       "      <td>3.0</td>\n",
       "      <td>1039756275</td>\n",
       "      <td>4.999476</td>\n",
       "    </tr>\n",
       "    <tr>\n",
       "      <th>122954</th>\n",
       "      <th>924</th>\n",
       "      <td>5.0</td>\n",
       "      <td>1026857765</td>\n",
       "      <td>4.999473</td>\n",
       "    </tr>\n",
       "  </tbody>\n",
       "</table>\n",
       "</div>"
      ],
      "text/plain": [
       "                  rating   timestamp  prediction\n",
       "user_id movie_id                                \n",
       "101305  102903       5.0  1467221425    4.849999\n",
       "999     377          3.0  1039756275    4.999476\n",
       "122954  924          5.0  1026857765    4.999473"
      ]
     },
     "execution_count": 27,
     "metadata": {},
     "output_type": "execute_result"
    }
   ],
   "source": [
    "user_pred_df = (\n",
    "    pd.concat(users_score_dfs)\n",
    "    .rename({'movieId': 'movie_id'}, axis=1)\n",
    "    .set_index(['user_id', 'movie_id'])\n",
    ")\n",
    "\n",
    "user_pred_df = (\n",
    "    test_df.rename({'userId': 'user_id', 'movieId': 'movie_id'}, axis=1)\n",
    "    .set_index(['user_id', 'movie_id'])\n",
    "    .join(user_pred_df)\n",
    ")\n",
    "user_pred_df.head(3)"
   ]
  },
  {
   "cell_type": "code",
   "execution_count": 28,
   "id": "47876404",
   "metadata": {},
   "outputs": [
    {
     "name": "stdout",
     "output_type": "stream",
     "text": [
      "RMSE of recommendation by user-user collaborative filtering: 1.548094379130262\n"
     ]
    }
   ],
   "source": [
    "eval_model(user_pred_df, 'user')"
   ]
  },
  {
   "cell_type": "markdown",
   "id": "e322633e",
   "metadata": {},
   "source": [
    "---"
   ]
  },
  {
   "cell_type": "markdown",
   "id": "0dc54928",
   "metadata": {},
   "source": [
    "## 2 : 개선 유저 중심 협업 필터링 로직\n",
    "- 영화 중심 협업 필터링 모델의 개선 아이디어와 동일하게 진행"
   ]
  },
  {
   "cell_type": "code",
   "execution_count": 10,
   "id": "a6802492",
   "metadata": {},
   "outputs": [
    {
     "name": "stdout",
     "output_type": "stream",
     "text": [
      "Return userId-movieId Matrix\n",
      "(32848, 10291)\n"
     ]
    },
    {
     "data": {
      "text/html": [
       "<div>\n",
       "<style scoped>\n",
       "    .dataframe tbody tr th:only-of-type {\n",
       "        vertical-align: middle;\n",
       "    }\n",
       "\n",
       "    .dataframe tbody tr th {\n",
       "        vertical-align: top;\n",
       "    }\n",
       "\n",
       "    .dataframe thead th {\n",
       "        text-align: right;\n",
       "    }\n",
       "</style>\n",
       "<table border=\"1\" class=\"dataframe\">\n",
       "  <thead>\n",
       "    <tr style=\"text-align: right;\">\n",
       "      <th>movieId</th>\n",
       "      <th>1</th>\n",
       "      <th>2</th>\n",
       "      <th>3</th>\n",
       "      <th>4</th>\n",
       "      <th>5</th>\n",
       "      <th>6</th>\n",
       "      <th>7</th>\n",
       "      <th>8</th>\n",
       "      <th>9</th>\n",
       "      <th>10</th>\n",
       "      <th>...</th>\n",
       "      <th>202103</th>\n",
       "      <th>202393</th>\n",
       "      <th>202429</th>\n",
       "      <th>202439</th>\n",
       "      <th>203222</th>\n",
       "      <th>203519</th>\n",
       "      <th>204352</th>\n",
       "      <th>204542</th>\n",
       "      <th>204698</th>\n",
       "      <th>205383</th>\n",
       "    </tr>\n",
       "    <tr>\n",
       "      <th>userId</th>\n",
       "      <th></th>\n",
       "      <th></th>\n",
       "      <th></th>\n",
       "      <th></th>\n",
       "      <th></th>\n",
       "      <th></th>\n",
       "      <th></th>\n",
       "      <th></th>\n",
       "      <th></th>\n",
       "      <th></th>\n",
       "      <th></th>\n",
       "      <th></th>\n",
       "      <th></th>\n",
       "      <th></th>\n",
       "      <th></th>\n",
       "      <th></th>\n",
       "      <th></th>\n",
       "      <th></th>\n",
       "      <th></th>\n",
       "      <th></th>\n",
       "      <th></th>\n",
       "    </tr>\n",
       "  </thead>\n",
       "  <tbody>\n",
       "    <tr>\n",
       "      <th>3</th>\n",
       "      <td>4.0</td>\n",
       "      <td>0.0</td>\n",
       "      <td>0.0</td>\n",
       "      <td>0.0</td>\n",
       "      <td>0.0</td>\n",
       "      <td>0.0</td>\n",
       "      <td>0.0</td>\n",
       "      <td>0.0</td>\n",
       "      <td>0.0</td>\n",
       "      <td>0.0</td>\n",
       "      <td>...</td>\n",
       "      <td>0.0</td>\n",
       "      <td>0.0</td>\n",
       "      <td>0.0</td>\n",
       "      <td>0.0</td>\n",
       "      <td>0.0</td>\n",
       "      <td>0.0</td>\n",
       "      <td>0.0</td>\n",
       "      <td>0.0</td>\n",
       "      <td>0.0</td>\n",
       "      <td>0.0</td>\n",
       "    </tr>\n",
       "    <tr>\n",
       "      <th>4</th>\n",
       "      <td>3.0</td>\n",
       "      <td>0.0</td>\n",
       "      <td>0.0</td>\n",
       "      <td>0.0</td>\n",
       "      <td>0.0</td>\n",
       "      <td>0.0</td>\n",
       "      <td>0.0</td>\n",
       "      <td>0.0</td>\n",
       "      <td>0.0</td>\n",
       "      <td>0.0</td>\n",
       "      <td>...</td>\n",
       "      <td>0.0</td>\n",
       "      <td>0.0</td>\n",
       "      <td>0.0</td>\n",
       "      <td>0.0</td>\n",
       "      <td>0.0</td>\n",
       "      <td>2.5</td>\n",
       "      <td>0.0</td>\n",
       "      <td>0.0</td>\n",
       "      <td>0.0</td>\n",
       "      <td>0.0</td>\n",
       "    </tr>\n",
       "  </tbody>\n",
       "</table>\n",
       "<p>2 rows × 10291 columns</p>\n",
       "</div>"
      ],
      "text/plain": [
       "movieId  1       2       3       4       5       6       7       8       \\\n",
       "userId                                                                    \n",
       "3           4.0     0.0     0.0     0.0     0.0     0.0     0.0     0.0   \n",
       "4           3.0     0.0     0.0     0.0     0.0     0.0     0.0     0.0   \n",
       "\n",
       "movieId  9       10      ...  202103  202393  202429  202439  203222  203519  \\\n",
       "userId                   ...                                                   \n",
       "3           0.0     0.0  ...     0.0     0.0     0.0     0.0     0.0     0.0   \n",
       "4           0.0     0.0  ...     0.0     0.0     0.0     0.0     0.0     2.5   \n",
       "\n",
       "movieId  204352  204542  204698  205383  \n",
       "userId                                   \n",
       "3           0.0     0.0     0.0     0.0  \n",
       "4           0.0     0.0     0.0     0.0  \n",
       "\n",
       "[2 rows x 10291 columns]"
      ]
     },
     "execution_count": 10,
     "metadata": {},
     "output_type": "execute_result"
    }
   ],
   "source": [
    "zero_imputed_df = trans_interaction_matrix(train_df, impute='zero')\n",
    "\n",
    "print(zero_imputed_df.shape)\n",
    "zero_imputed_df.head(2)"
   ]
  },
  {
   "cell_type": "code",
   "execution_count": 26,
   "id": "08d393ca",
   "metadata": {},
   "outputs": [
    {
     "name": "stderr",
     "output_type": "stream",
     "text": [
      "100%|██████████| 32848/32848 [16:47<00:00, 32.60it/s]\n"
     ]
    }
   ],
   "source": [
    "ratings_prediction_dfs = []\n",
    "for user_id in tqdm(test_df.userId.unique()):\n",
    "    n_similarities = search_n_similarities(user_cosine_matrix, user_id, user_indices, n_similar_users)\n",
    "    \n",
    "    test_movies = test_df.loc[test_df['userId'] == user_id, 'movieId']\n",
    "    \n",
    "    weighted_zero_n_ratings = zero_imputed_df.loc[n_similarities.index, test_movies].multiply(n_similarities, axis=0)\n",
    "    \n",
    "    weighted_mean_n_ratings = pivot_df.loc[n_similarities.index, test_movies].multiply(n_similarities, axis=0)\n",
    "    scores = weighted_mean_n_ratings.sum(axis=0) / n_similarities.sum()\n",
    "    \n",
    "    score_per_movie = predict_target_scores(weighted_zero_n_ratings, scores, n_similarities, 'movie_id')\n",
    "    \n",
    "    score_df = pd.DataFrame(score_per_movie).assign(user_id=user_id)\n",
    "    ratings_prediction_dfs.append(score_df)"
   ]
  },
  {
   "cell_type": "code",
   "execution_count": 27,
   "id": "5aebbf7e",
   "metadata": {},
   "outputs": [
    {
     "data": {
      "text/html": [
       "<div>\n",
       "<style scoped>\n",
       "    .dataframe tbody tr th:only-of-type {\n",
       "        vertical-align: middle;\n",
       "    }\n",
       "\n",
       "    .dataframe tbody tr th {\n",
       "        vertical-align: top;\n",
       "    }\n",
       "\n",
       "    .dataframe thead th {\n",
       "        text-align: right;\n",
       "    }\n",
       "</style>\n",
       "<table border=\"1\" class=\"dataframe\">\n",
       "  <thead>\n",
       "    <tr style=\"text-align: right;\">\n",
       "      <th></th>\n",
       "      <th></th>\n",
       "      <th>rating</th>\n",
       "      <th>timestamp</th>\n",
       "      <th>prediction</th>\n",
       "    </tr>\n",
       "    <tr>\n",
       "      <th>user_id</th>\n",
       "      <th>movie_id</th>\n",
       "      <th></th>\n",
       "      <th></th>\n",
       "      <th></th>\n",
       "    </tr>\n",
       "  </thead>\n",
       "  <tbody>\n",
       "    <tr>\n",
       "      <th>101305</th>\n",
       "      <th>102903</th>\n",
       "      <td>5.0</td>\n",
       "      <td>1467221425</td>\n",
       "      <td>4.624999</td>\n",
       "    </tr>\n",
       "    <tr>\n",
       "      <th>999</th>\n",
       "      <th>377</th>\n",
       "      <td>3.0</td>\n",
       "      <td>1039756275</td>\n",
       "      <td>4.999476</td>\n",
       "    </tr>\n",
       "    <tr>\n",
       "      <th>122954</th>\n",
       "      <th>924</th>\n",
       "      <td>5.0</td>\n",
       "      <td>1026857765</td>\n",
       "      <td>5.000000</td>\n",
       "    </tr>\n",
       "  </tbody>\n",
       "</table>\n",
       "</div>"
      ],
      "text/plain": [
       "                  rating   timestamp  prediction\n",
       "user_id movie_id                                \n",
       "101305  102903       5.0  1467221425    4.624999\n",
       "999     377          3.0  1039756275    4.999476\n",
       "122954  924          5.0  1026857765    5.000000"
      ]
     },
     "execution_count": 27,
     "metadata": {},
     "output_type": "execute_result"
    }
   ],
   "source": [
    "user_pred_df = (\n",
    "    pd.concat(ratings_prediction_dfs)\n",
    "    .rename({'movieId': 'movie_id'}, axis=1)\n",
    "    .set_index(['user_id', 'movie_id'])\n",
    ")\n",
    "\n",
    "user_pred_df = (\n",
    "    test_df.rename({'userId': 'user_id', 'movieId': 'movie_id'}, axis=1)\n",
    "    .set_index(['user_id', 'movie_id'])\n",
    "    .join(user_pred_df)\n",
    ")\n",
    "user_pred_df.head(3)"
   ]
  },
  {
   "cell_type": "code",
   "execution_count": 28,
   "id": "42187646",
   "metadata": {},
   "outputs": [
    {
     "name": "stdout",
     "output_type": "stream",
     "text": [
      "RMSE of recommendation by user-user collaborative filtering: 1.5311085952941947\n"
     ]
    }
   ],
   "source": [
    "eval_model(user_pred_df, 'user')"
   ]
  },
  {
   "cell_type": "markdown",
   "id": "2d8789df",
   "metadata": {},
   "source": [
    "## 3 : 개선 유저 중심 협업 필터링 로직\n",
    "\n",
    "### 코사인 유사도 > 자카드 유사도\n",
    "- 자카드 유사도는 보통 Sparse한 데이터에서 사용\n",
    "    - 평점을 기준으로 라벨링 진행\n",
    "    - 평점 4 이상 : 1 / 평점 4 미만 : -1 / 시청안함 : 0 (평점을 긍정, 부정으로 변환)\n",
    "\n",
    "<br/>\n",
    "\n",
    "- 유저-영화 긍/부정 인터랙션 행렬에 대해 자카드 유사도 행렬 생성\n",
    "    - 특정 유저와 모든 유저간의 유사도 값 계산\n",
    "        - 둘 중 하나라도 영화를 안 봄 : 0\n",
    "        - 둘 모두 긍정으로 평가 : 1 (1x1)\n",
    "        - 둘 모두 부정으로 평가 : 1 (-1x-1)\n",
    "        - 둘이 평가를 다르게 함 : -1 (-1x1 or 1x-1)\n",
    "        - 두 유저에 대해 10291개 영화에 대한 평점 분포로 유사도를 계산한 값이 하나의 스칼라 값이 됨\n",
    "            - 두 유저가 i, j라면 추출된 값은 자카드 유사도 행렬 (i, j) 위치에 들어감"
   ]
  },
  {
   "cell_type": "markdown",
   "id": "eacf97bf",
   "metadata": {},
   "source": [
    "### 자카드 유사도 1 : 특정 유저 기준\n",
    "- 자카드 유사도의 분모 즉, 비교되는 두 대상간의 합집합을 첫번째 유저의 영화 집합으로 가정\n",
    "    - 가정 이유 : 첫번째 유저와 가장 유사한 유저들을 찾기 위해\n",
    "        - 첫번째 유저의 영화 집합 안에서 두 유저의 영화 교집합을 구하기에\n",
    "        - 또한 합집합이 고정되어 있기에, 다른 유저들과의 유사도를 좀 더 상대적으로 추출 가능 \n",
    "    - 이로 인해 발생 가능한 이슈 : 비교되는 두번째 유저가 시청한 영화가 많을수록 유사도가 높아질 가능성 존재\n",
    "- 스칼라 값이 들어가 있는 자카드 유사도 행렬을 각 유저의 영화 집합(자카드 유사도의 합집합)으로 나눔"
   ]
  },
  {
   "cell_type": "code",
   "execution_count": 2,
   "id": "23f70765",
   "metadata": {},
   "outputs": [
    {
     "name": "stdout",
     "output_type": "stream",
     "text": [
      "필터링 전 데이터 수 :25000095\n",
      "필터링 후 데이터 수 :15558026\n"
     ]
    }
   ],
   "source": [
    "rating_df = pd.read_csv('data/ratings.csv')\n",
    "\n",
    "filtered_df = filtering_df(rating_df, 100, 200).drop('timestamp', axis=1)\n",
    "\n",
    "del rating_df"
   ]
  },
  {
   "cell_type": "code",
   "execution_count": 3,
   "id": "950eedbd",
   "metadata": {},
   "outputs": [
    {
     "name": "stdout",
     "output_type": "stream",
     "text": [
      "(15558026, 4)\n"
     ]
    },
    {
     "data": {
      "text/html": [
       "<div>\n",
       "<style scoped>\n",
       "    .dataframe tbody tr th:only-of-type {\n",
       "        vertical-align: middle;\n",
       "    }\n",
       "\n",
       "    .dataframe tbody tr th {\n",
       "        vertical-align: top;\n",
       "    }\n",
       "\n",
       "    .dataframe thead th {\n",
       "        text-align: right;\n",
       "    }\n",
       "</style>\n",
       "<table border=\"1\" class=\"dataframe\">\n",
       "  <thead>\n",
       "    <tr style=\"text-align: right;\">\n",
       "      <th></th>\n",
       "      <th>userId</th>\n",
       "      <th>movieId</th>\n",
       "      <th>rating</th>\n",
       "      <th>bool_rating</th>\n",
       "    </tr>\n",
       "  </thead>\n",
       "  <tbody>\n",
       "    <tr>\n",
       "      <th>254</th>\n",
       "      <td>3</td>\n",
       "      <td>1</td>\n",
       "      <td>4.0</td>\n",
       "      <td>1</td>\n",
       "    </tr>\n",
       "    <tr>\n",
       "      <th>255</th>\n",
       "      <td>3</td>\n",
       "      <td>29</td>\n",
       "      <td>4.5</td>\n",
       "      <td>1</td>\n",
       "    </tr>\n",
       "  </tbody>\n",
       "</table>\n",
       "</div>"
      ],
      "text/plain": [
       "     userId  movieId  rating  bool_rating\n",
       "254       3        1     4.0            1\n",
       "255       3       29     4.5            1"
      ]
     },
     "execution_count": 3,
     "metadata": {},
     "output_type": "execute_result"
    }
   ],
   "source": [
    "# 긍정, 부정을 표현하는 변수 생성\n",
    "filtered_df['bool_rating'] = filtered_df['rating'].map(lambda x: 1 if x >= 4.0 else -1)\n",
    "\n",
    "print(filtered_df.shape)\n",
    "filtered_df.head(2)"
   ]
  },
  {
   "cell_type": "code",
   "execution_count": 4,
   "id": "f4e053a4",
   "metadata": {},
   "outputs": [
    {
     "data": {
      "text/html": [
       "<div>\n",
       "<style scoped>\n",
       "    .dataframe tbody tr th:only-of-type {\n",
       "        vertical-align: middle;\n",
       "    }\n",
       "\n",
       "    .dataframe tbody tr th {\n",
       "        vertical-align: top;\n",
       "    }\n",
       "\n",
       "    .dataframe thead th {\n",
       "        text-align: right;\n",
       "    }\n",
       "</style>\n",
       "<table border=\"1\" class=\"dataframe\">\n",
       "  <thead>\n",
       "    <tr style=\"text-align: right;\">\n",
       "      <th>movieId</th>\n",
       "      <th>1</th>\n",
       "      <th>2</th>\n",
       "      <th>3</th>\n",
       "      <th>4</th>\n",
       "      <th>5</th>\n",
       "      <th>6</th>\n",
       "      <th>7</th>\n",
       "      <th>8</th>\n",
       "      <th>9</th>\n",
       "      <th>10</th>\n",
       "      <th>...</th>\n",
       "      <th>202103</th>\n",
       "      <th>202393</th>\n",
       "      <th>202429</th>\n",
       "      <th>202439</th>\n",
       "      <th>203222</th>\n",
       "      <th>203519</th>\n",
       "      <th>204352</th>\n",
       "      <th>204542</th>\n",
       "      <th>204698</th>\n",
       "      <th>205383</th>\n",
       "    </tr>\n",
       "    <tr>\n",
       "      <th>userId</th>\n",
       "      <th></th>\n",
       "      <th></th>\n",
       "      <th></th>\n",
       "      <th></th>\n",
       "      <th></th>\n",
       "      <th></th>\n",
       "      <th></th>\n",
       "      <th></th>\n",
       "      <th></th>\n",
       "      <th></th>\n",
       "      <th></th>\n",
       "      <th></th>\n",
       "      <th></th>\n",
       "      <th></th>\n",
       "      <th></th>\n",
       "      <th></th>\n",
       "      <th></th>\n",
       "      <th></th>\n",
       "      <th></th>\n",
       "      <th></th>\n",
       "      <th></th>\n",
       "    </tr>\n",
       "  </thead>\n",
       "  <tbody>\n",
       "    <tr>\n",
       "      <th>3</th>\n",
       "      <td>1.0</td>\n",
       "      <td>0.0</td>\n",
       "      <td>0.0</td>\n",
       "      <td>0.0</td>\n",
       "      <td>0.0</td>\n",
       "      <td>0.0</td>\n",
       "      <td>0.0</td>\n",
       "      <td>0.0</td>\n",
       "      <td>0.0</td>\n",
       "      <td>0.0</td>\n",
       "      <td>...</td>\n",
       "      <td>0.0</td>\n",
       "      <td>0.0</td>\n",
       "      <td>0.0</td>\n",
       "      <td>0.0</td>\n",
       "      <td>0.0</td>\n",
       "      <td>0.0</td>\n",
       "      <td>0.0</td>\n",
       "      <td>0.0</td>\n",
       "      <td>0.0</td>\n",
       "      <td>0.0</td>\n",
       "    </tr>\n",
       "    <tr>\n",
       "      <th>4</th>\n",
       "      <td>-1.0</td>\n",
       "      <td>0.0</td>\n",
       "      <td>0.0</td>\n",
       "      <td>0.0</td>\n",
       "      <td>0.0</td>\n",
       "      <td>0.0</td>\n",
       "      <td>0.0</td>\n",
       "      <td>0.0</td>\n",
       "      <td>0.0</td>\n",
       "      <td>0.0</td>\n",
       "      <td>...</td>\n",
       "      <td>0.0</td>\n",
       "      <td>0.0</td>\n",
       "      <td>0.0</td>\n",
       "      <td>0.0</td>\n",
       "      <td>0.0</td>\n",
       "      <td>-1.0</td>\n",
       "      <td>0.0</td>\n",
       "      <td>0.0</td>\n",
       "      <td>0.0</td>\n",
       "      <td>0.0</td>\n",
       "    </tr>\n",
       "  </tbody>\n",
       "</table>\n",
       "<p>2 rows × 10291 columns</p>\n",
       "</div>"
      ],
      "text/plain": [
       "movieId  1       2       3       4       5       6       7       8       \\\n",
       "userId                                                                    \n",
       "3           1.0     0.0     0.0     0.0     0.0     0.0     0.0     0.0   \n",
       "4          -1.0     0.0     0.0     0.0     0.0     0.0     0.0     0.0   \n",
       "\n",
       "movieId  9       10      ...  202103  202393  202429  202439  203222  203519  \\\n",
       "userId                   ...                                                   \n",
       "3           0.0     0.0  ...     0.0     0.0     0.0     0.0     0.0     0.0   \n",
       "4           0.0     0.0  ...     0.0     0.0     0.0     0.0     0.0    -1.0   \n",
       "\n",
       "movieId  204352  204542  204698  205383  \n",
       "userId                                   \n",
       "3           0.0     0.0     0.0     0.0  \n",
       "4           0.0     0.0     0.0     0.0  \n",
       "\n",
       "[2 rows x 10291 columns]"
      ]
     },
     "execution_count": 4,
     "metadata": {},
     "output_type": "execute_result"
    }
   ],
   "source": [
    "# 결측값을 0으로 대체하여 시청안함을 0으로 만듦\n",
    "jacc_pivot_df = (\n",
    "    pd.pivot_table(data=filtered_df, index='userId', columns='movieId', values='bool_rating')\n",
    ").fillna(0)\n",
    "\n",
    "jacc_pivot_df.head(2)"
   ]
  },
  {
   "cell_type": "markdown",
   "id": "81ecbe0f",
   "metadata": {},
   "source": [
    "### 스칼라 값이 들어간 자카드 유사도 행렬 생성\n",
    "- 유저-영화 행렬의 행렬곱 진행"
   ]
  },
  {
   "cell_type": "code",
   "execution_count": 5,
   "id": "3c84c896",
   "metadata": {},
   "outputs": [
    {
     "data": {
      "text/plain": [
       "array([[654.,  18.,  34., ...,  26.,  48.,  -2.],\n",
       "       [ 18., 239.,  -4., ...,   5.,  12.,  21.],\n",
       "       [ 34.,  -4., 731., ...,  53.,  35.,  24.],\n",
       "       ...,\n",
       "       [ 26.,   5.,  53., ..., 381.,  21.,   8.],\n",
       "       [ 48.,  12.,  35., ...,  21., 367.,  30.],\n",
       "       [ -2.,  21.,  24., ...,   8.,  30., 475.]])"
      ]
     },
     "execution_count": 5,
     "metadata": {},
     "output_type": "execute_result"
    }
   ],
   "source": [
    "jaccard_matrix = jacc_pivot_df.values @ jacc_pivot_df.T.values\n",
    "jaccard_matrix"
   ]
  },
  {
   "cell_type": "markdown",
   "id": "2dce057c",
   "metadata": {},
   "source": [
    "#### 비교되는 첫 번째 유저의 영화집합을 합집합으로 하여 자카드 유사도 행렬 생성\n",
    "- 각 행의 최대값은 자기 자신에 대한 유사도 값이므로 해당 유저가 시청한 영화 수라고 할 수 있음\n",
    "- 따라서 각 행의 최대값을 분모로하여 나눔"
   ]
  },
  {
   "cell_type": "code",
   "execution_count": 6,
   "id": "f1f5b31b",
   "metadata": {},
   "outputs": [
    {
     "data": {
      "text/plain": [
       "array([[ 1.        ,  0.07531381,  0.04651163, ...,  0.06824147,\n",
       "         0.13079019, -0.00421053],\n",
       "       [ 0.02752294,  1.        , -0.00547196, ...,  0.01312336,\n",
       "         0.03269755,  0.04421053],\n",
       "       [ 0.05198777, -0.0167364 ,  1.        , ...,  0.13910761,\n",
       "         0.09536785,  0.05052632],\n",
       "       ...,\n",
       "       [ 0.03975535,  0.0209205 ,  0.07250342, ...,  1.        ,\n",
       "         0.05722071,  0.01684211],\n",
       "       [ 0.0733945 ,  0.05020921,  0.04787962, ...,  0.05511811,\n",
       "         1.        ,  0.06315789],\n",
       "       [-0.0030581 ,  0.08786611,  0.03283174, ...,  0.02099738,\n",
       "         0.08174387,  1.        ]])"
      ]
     },
     "execution_count": 6,
     "metadata": {},
     "output_type": "execute_result"
    }
   ],
   "source": [
    "jaccard_similarity = jaccard_matrix / np.max(jaccard_matrix, axis=0)\n",
    "jaccard_similarity"
   ]
  },
  {
   "cell_type": "markdown",
   "id": "3c3ce824",
   "metadata": {},
   "source": [
    "### 모델링 진행"
   ]
  },
  {
   "cell_type": "code",
   "execution_count": 7,
   "id": "ef7e9650",
   "metadata": {},
   "outputs": [],
   "source": [
    "# Train, Test Dataset Split\n",
    "train_df, test_df = train_test_split(filtered_df, random_state=13)"
   ]
  },
  {
   "cell_type": "code",
   "execution_count": 8,
   "id": "c2ffbf4c",
   "metadata": {},
   "outputs": [
    {
     "name": "stdout",
     "output_type": "stream",
     "text": [
      "Return userId-movieId Matrix\n",
      "Return userId-movieId Matrix\n"
     ]
    }
   ],
   "source": [
    "pivot_df = trans_interaction_matrix(train_df, impute='mean')\n",
    "zero_imputed_df = trans_interaction_matrix(train_df, impute='zero')"
   ]
  },
  {
   "cell_type": "code",
   "execution_count": 9,
   "id": "02c531cd",
   "metadata": {},
   "outputs": [],
   "source": [
    "user_indices = jacc_pivot_df.index\n",
    "\n",
    "n_similar_users = 10"
   ]
  },
  {
   "cell_type": "code",
   "execution_count": 10,
   "id": "7fe3ee0d",
   "metadata": {},
   "outputs": [
    {
     "name": "stderr",
     "output_type": "stream",
     "text": [
      "100%|██████████| 32848/32848 [23:52<00:00, 22.93it/s] \n"
     ]
    }
   ],
   "source": [
    "ratings_prediction_dfs = []\n",
    "for user_id in tqdm(test_df.userId.unique()):\n",
    "    n_similarities = search_n_similarities(jaccard_similarity, user_id, user_indices, n_similar_users)\n",
    "    \n",
    "    test_movies = test_df.loc[test_df['userId'] == user_id, 'movieId']\n",
    "    \n",
    "    weighted_zero_n_ratings = zero_imputed_df.loc[n_similarities.index, test_movies].multiply(n_similarities, axis=0)\n",
    "\n",
    "    weighted_mean_n_ratings = pivot_df.loc[n_similarities.index, test_movies].multiply(n_similarities, axis=0)\n",
    "    scores = weighted_mean_n_ratings.sum(axis=0) / n_similarities.sum()\n",
    "    \n",
    "    score_per_movie = predict_target_scores(weighted_zero_n_ratings, scores, n_similarities, 'movie_id')\n",
    "    \n",
    "    score_df = pd.DataFrame(score_per_movie).assign(user_id=user_id)\n",
    "    ratings_prediction_dfs.append(score_df)"
   ]
  },
  {
   "cell_type": "code",
   "execution_count": 11,
   "id": "1bca6b2f",
   "metadata": {},
   "outputs": [
    {
     "data": {
      "text/html": [
       "<div>\n",
       "<style scoped>\n",
       "    .dataframe tbody tr th:only-of-type {\n",
       "        vertical-align: middle;\n",
       "    }\n",
       "\n",
       "    .dataframe tbody tr th {\n",
       "        vertical-align: top;\n",
       "    }\n",
       "\n",
       "    .dataframe thead th {\n",
       "        text-align: right;\n",
       "    }\n",
       "</style>\n",
       "<table border=\"1\" class=\"dataframe\">\n",
       "  <thead>\n",
       "    <tr style=\"text-align: right;\">\n",
       "      <th></th>\n",
       "      <th></th>\n",
       "      <th>rating</th>\n",
       "      <th>bool_rating</th>\n",
       "      <th>prediction</th>\n",
       "    </tr>\n",
       "    <tr>\n",
       "      <th>user_id</th>\n",
       "      <th>movie_id</th>\n",
       "      <th></th>\n",
       "      <th></th>\n",
       "      <th></th>\n",
       "    </tr>\n",
       "  </thead>\n",
       "  <tbody>\n",
       "    <tr>\n",
       "      <th>101305</th>\n",
       "      <th>102903</th>\n",
       "      <td>5.0</td>\n",
       "      <td>1</td>\n",
       "      <td>5.000000</td>\n",
       "    </tr>\n",
       "    <tr>\n",
       "      <th>999</th>\n",
       "      <th>377</th>\n",
       "      <td>3.0</td>\n",
       "      <td>-1</td>\n",
       "      <td>3.039442</td>\n",
       "    </tr>\n",
       "    <tr>\n",
       "      <th>122954</th>\n",
       "      <th>924</th>\n",
       "      <td>5.0</td>\n",
       "      <td>1</td>\n",
       "      <td>4.628880</td>\n",
       "    </tr>\n",
       "  </tbody>\n",
       "</table>\n",
       "</div>"
      ],
      "text/plain": [
       "                  rating  bool_rating  prediction\n",
       "user_id movie_id                                 \n",
       "101305  102903       5.0            1    5.000000\n",
       "999     377          3.0           -1    3.039442\n",
       "122954  924          5.0            1    4.628880"
      ]
     },
     "execution_count": 11,
     "metadata": {},
     "output_type": "execute_result"
    }
   ],
   "source": [
    "user_pred_df = (\n",
    "    pd.concat(ratings_prediction_dfs)\n",
    "    .rename({'movieId': 'movie_id'}, axis=1)\n",
    "    .set_index(['user_id', 'movie_id'])\n",
    ")\n",
    "\n",
    "user_pred_df = (\n",
    "    test_df.rename({'userId': 'user_id', 'movieId': 'movie_id'}, axis=1)\n",
    "    .set_index(['user_id', 'movie_id'])\n",
    "    .join(user_pred_df)\n",
    ")\n",
    "user_pred_df.head(3)"
   ]
  },
  {
   "cell_type": "code",
   "execution_count": 12,
   "id": "5b4265bb",
   "metadata": {},
   "outputs": [
    {
     "name": "stdout",
     "output_type": "stream",
     "text": [
      "RMSE of recommendation by user-user collaborative filtering: 1.015146188311001\n"
     ]
    }
   ],
   "source": [
    "eval_model(user_pred_df, 'user')"
   ]
  },
  {
   "cell_type": "markdown",
   "id": "7b7fa710",
   "metadata": {},
   "source": [
    "---"
   ]
  },
  {
   "cell_type": "markdown",
   "id": "fd2ec027",
   "metadata": {},
   "source": [
    "### 자카드 유사도 2 : 두 유저의 교집합 기준\n",
    "- 자카드 유사도의 분모를 비교되는 두 대상의 교집합을 자카드 유사도의 합집합으로 가정\n",
    "    - 가정 이유 : 두 대상이 공통적으로 시청한 영화 분포 안에서 유사도를 구하기 위해\n",
    "        - 이를 통해 영화를 적게 시청한 유저가 배제될 가능성이 낮아진다.\n",
    "        - 첫번째 기준보다 유저들의 유사도의 편차가 커짐으로써 유사도의 영향력이 좀 더 높아진다.\n",
    "    - 발생 가능한 이슈 : 자카드 유사도의 합집합이 비교적 작아지기에 일반화된 자카드 유사도가 추출되지 않을 가능성이 있다.\n",
    "- 스칼라 값이 들어가 있는 자카드 유사도 행렬을 두 유저의 영화 교집합(자카드 유사도의 합집합)으로 나눔"
   ]
  },
  {
   "cell_type": "markdown",
   "id": "10129ac8",
   "metadata": {},
   "source": [
    "- 영화 시청여부를 기준으로 시청:1, 시청안함:0 인 범주형 변수 생성 후, 해당 변수를 기준으로 pivoting 진행\n",
    "    - 해당 행렬의 행렬곱을 통해 자카드 유사도의 분모 행렬 생성\n",
    "        - 둘 중 한 명이라도 안 봄 : 0\n",
    "        - 둘 중 한 명만 봄 : 0\n",
    "        - 둘 다 시청 : 1\n",
    "- 스칼라 값이 들어가 있는 자카드 유사도 행렬을 해당 행렬로 나누어 자카드 유사도 행렬 생성"
   ]
  },
  {
   "cell_type": "markdown",
   "id": "d2aa905f",
   "metadata": {},
   "source": [
    "### 시청여부를 기준으로 유저-영화 인터랙션 행렬 생성"
   ]
  },
  {
   "cell_type": "code",
   "execution_count": 13,
   "id": "73b834a8",
   "metadata": {},
   "outputs": [],
   "source": [
    "filtered_df['view'] = 1"
   ]
  },
  {
   "cell_type": "code",
   "execution_count": 14,
   "id": "f2faaae5",
   "metadata": {},
   "outputs": [
    {
     "data": {
      "text/html": [
       "<div>\n",
       "<style scoped>\n",
       "    .dataframe tbody tr th:only-of-type {\n",
       "        vertical-align: middle;\n",
       "    }\n",
       "\n",
       "    .dataframe tbody tr th {\n",
       "        vertical-align: top;\n",
       "    }\n",
       "\n",
       "    .dataframe thead th {\n",
       "        text-align: right;\n",
       "    }\n",
       "</style>\n",
       "<table border=\"1\" class=\"dataframe\">\n",
       "  <thead>\n",
       "    <tr style=\"text-align: right;\">\n",
       "      <th>movieId</th>\n",
       "      <th>1</th>\n",
       "      <th>2</th>\n",
       "      <th>3</th>\n",
       "      <th>4</th>\n",
       "      <th>5</th>\n",
       "      <th>6</th>\n",
       "      <th>7</th>\n",
       "      <th>8</th>\n",
       "      <th>9</th>\n",
       "      <th>10</th>\n",
       "      <th>...</th>\n",
       "      <th>202103</th>\n",
       "      <th>202393</th>\n",
       "      <th>202429</th>\n",
       "      <th>202439</th>\n",
       "      <th>203222</th>\n",
       "      <th>203519</th>\n",
       "      <th>204352</th>\n",
       "      <th>204542</th>\n",
       "      <th>204698</th>\n",
       "      <th>205383</th>\n",
       "    </tr>\n",
       "    <tr>\n",
       "      <th>userId</th>\n",
       "      <th></th>\n",
       "      <th></th>\n",
       "      <th></th>\n",
       "      <th></th>\n",
       "      <th></th>\n",
       "      <th></th>\n",
       "      <th></th>\n",
       "      <th></th>\n",
       "      <th></th>\n",
       "      <th></th>\n",
       "      <th></th>\n",
       "      <th></th>\n",
       "      <th></th>\n",
       "      <th></th>\n",
       "      <th></th>\n",
       "      <th></th>\n",
       "      <th></th>\n",
       "      <th></th>\n",
       "      <th></th>\n",
       "      <th></th>\n",
       "      <th></th>\n",
       "    </tr>\n",
       "  </thead>\n",
       "  <tbody>\n",
       "    <tr>\n",
       "      <th>3</th>\n",
       "      <td>1.0</td>\n",
       "      <td>0.0</td>\n",
       "      <td>0.0</td>\n",
       "      <td>0.0</td>\n",
       "      <td>0.0</td>\n",
       "      <td>0.0</td>\n",
       "      <td>0.0</td>\n",
       "      <td>0.0</td>\n",
       "      <td>0.0</td>\n",
       "      <td>0.0</td>\n",
       "      <td>...</td>\n",
       "      <td>0.0</td>\n",
       "      <td>0.0</td>\n",
       "      <td>0.0</td>\n",
       "      <td>0.0</td>\n",
       "      <td>0.0</td>\n",
       "      <td>0.0</td>\n",
       "      <td>0.0</td>\n",
       "      <td>0.0</td>\n",
       "      <td>0.0</td>\n",
       "      <td>0.0</td>\n",
       "    </tr>\n",
       "    <tr>\n",
       "      <th>4</th>\n",
       "      <td>1.0</td>\n",
       "      <td>0.0</td>\n",
       "      <td>0.0</td>\n",
       "      <td>0.0</td>\n",
       "      <td>0.0</td>\n",
       "      <td>0.0</td>\n",
       "      <td>0.0</td>\n",
       "      <td>0.0</td>\n",
       "      <td>0.0</td>\n",
       "      <td>0.0</td>\n",
       "      <td>...</td>\n",
       "      <td>0.0</td>\n",
       "      <td>0.0</td>\n",
       "      <td>0.0</td>\n",
       "      <td>0.0</td>\n",
       "      <td>0.0</td>\n",
       "      <td>1.0</td>\n",
       "      <td>0.0</td>\n",
       "      <td>0.0</td>\n",
       "      <td>0.0</td>\n",
       "      <td>0.0</td>\n",
       "    </tr>\n",
       "  </tbody>\n",
       "</table>\n",
       "<p>2 rows × 10291 columns</p>\n",
       "</div>"
      ],
      "text/plain": [
       "movieId  1       2       3       4       5       6       7       8       \\\n",
       "userId                                                                    \n",
       "3           1.0     0.0     0.0     0.0     0.0     0.0     0.0     0.0   \n",
       "4           1.0     0.0     0.0     0.0     0.0     0.0     0.0     0.0   \n",
       "\n",
       "movieId  9       10      ...  202103  202393  202429  202439  203222  203519  \\\n",
       "userId                   ...                                                   \n",
       "3           0.0     0.0  ...     0.0     0.0     0.0     0.0     0.0     0.0   \n",
       "4           0.0     0.0  ...     0.0     0.0     0.0     0.0     0.0     1.0   \n",
       "\n",
       "movieId  204352  204542  204698  205383  \n",
       "userId                                   \n",
       "3           0.0     0.0     0.0     0.0  \n",
       "4           0.0     0.0     0.0     0.0  \n",
       "\n",
       "[2 rows x 10291 columns]"
      ]
     },
     "execution_count": 14,
     "metadata": {},
     "output_type": "execute_result"
    }
   ],
   "source": [
    "view_pivot_df = (\n",
    "    pd.pivot_table(data=filtered_df, index='userId', columns='movieId', values='view')\n",
    ").fillna(0)\n",
    "\n",
    "view_pivot_df.head(2)"
   ]
  },
  {
   "cell_type": "markdown",
   "id": "6ba597d4",
   "metadata": {},
   "source": [
    "#### 두 유저가 공통적으로 시청한 영화 수에 대한 행렬 추출"
   ]
  },
  {
   "cell_type": "code",
   "execution_count": 15,
   "id": "a32c6c5b",
   "metadata": {},
   "outputs": [
    {
     "data": {
      "text/plain": [
       "array([[654., 148., 108., ...,  38., 158., 222.],\n",
       "       [148., 239.,  44., ...,  23.,  64., 119.],\n",
       "       [108.,  44., 731., ..., 147., 147., 126.],\n",
       "       ...,\n",
       "       [ 38.,  23., 147., ..., 381.,  75.,  60.],\n",
       "       [158.,  64., 147., ...,  75., 367., 134.],\n",
       "       [222., 119., 126., ...,  60., 134., 475.]])"
      ]
     },
     "execution_count": 15,
     "metadata": {},
     "output_type": "execute_result"
    }
   ],
   "source": [
    "intersection_matrix = view_pivot_df.values @ view_pivot_df.T.values\n",
    "intersection_matrix"
   ]
  },
  {
   "cell_type": "markdown",
   "id": "155c4cec",
   "metadata": {},
   "source": [
    "#### 두 유저의 공통된 영화 집합을 자카드 유사도의 합집합으로 한 자카드 유사도 행렬 추출"
   ]
  },
  {
   "cell_type": "code",
   "execution_count": 16,
   "id": "e1e745e7",
   "metadata": {},
   "outputs": [
    {
     "data": {
      "text/plain": [
       "array([[ 1.        ,  0.12162162,  0.31481481, ...,  0.68421053,\n",
       "         0.30379747, -0.00900901],\n",
       "       [ 0.12162162,  1.        , -0.09090909, ...,  0.2173913 ,\n",
       "         0.1875    ,  0.17647059],\n",
       "       [ 0.31481481, -0.09090909,  1.        , ...,  0.36054422,\n",
       "         0.23809524,  0.19047619],\n",
       "       ...,\n",
       "       [ 0.68421053,  0.2173913 ,  0.36054422, ...,  1.        ,\n",
       "         0.28      ,  0.13333333],\n",
       "       [ 0.30379747,  0.1875    ,  0.23809524, ...,  0.28      ,\n",
       "         1.        ,  0.2238806 ],\n",
       "       [-0.00900901,  0.17647059,  0.19047619, ...,  0.13333333,\n",
       "         0.2238806 ,  1.        ]])"
      ]
     },
     "execution_count": 16,
     "metadata": {},
     "output_type": "execute_result"
    }
   ],
   "source": [
    "jaccard_similarity = jaccard_matrix / intersection_matrix\n",
    "jaccard_similarity"
   ]
  },
  {
   "cell_type": "code",
   "execution_count": 17,
   "id": "96db9d4d",
   "metadata": {},
   "outputs": [
    {
     "name": "stderr",
     "output_type": "stream",
     "text": [
      "100%|██████████| 32848/32848 [24:15<00:00, 22.57it/s] \n"
     ]
    }
   ],
   "source": [
    "ratings_prediction_dfs = []\n",
    "for user_id in tqdm(test_df.userId.unique()):\n",
    "    n_similarities = search_n_similarities(jaccard_similarity, user_id, user_indices, n_similar_users)\n",
    "    \n",
    "    test_movies = test_df.loc[test_df['userId'] == user_id, 'movieId']\n",
    "    \n",
    "    weighted_zero_n_ratings = zero_imputed_df.loc[n_similarities.index, test_movies].multiply(n_similarities, axis=0)\n",
    "\n",
    "    weighted_mean_n_ratings = pivot_df.loc[n_similarities.index, test_movies].multiply(n_similarities, axis=0)\n",
    "    scores = weighted_mean_n_ratings.sum(axis=0) / n_similarities.sum()\n",
    "    \n",
    "    score_per_movie = predict_target_scores(weighted_zero_n_ratings, scores, n_similarities, 'movie_id')\n",
    "    \n",
    "    score_df = pd.DataFrame(score_per_movie).assign(user_id=user_id)\n",
    "    ratings_prediction_dfs.append(score_df)"
   ]
  },
  {
   "cell_type": "code",
   "execution_count": 18,
   "id": "a63db30e",
   "metadata": {},
   "outputs": [
    {
     "data": {
      "text/html": [
       "<div>\n",
       "<style scoped>\n",
       "    .dataframe tbody tr th:only-of-type {\n",
       "        vertical-align: middle;\n",
       "    }\n",
       "\n",
       "    .dataframe tbody tr th {\n",
       "        vertical-align: top;\n",
       "    }\n",
       "\n",
       "    .dataframe thead th {\n",
       "        text-align: right;\n",
       "    }\n",
       "</style>\n",
       "<table border=\"1\" class=\"dataframe\">\n",
       "  <thead>\n",
       "    <tr style=\"text-align: right;\">\n",
       "      <th></th>\n",
       "      <th></th>\n",
       "      <th>rating</th>\n",
       "      <th>bool_rating</th>\n",
       "      <th>prediction</th>\n",
       "    </tr>\n",
       "    <tr>\n",
       "      <th>user_id</th>\n",
       "      <th>movie_id</th>\n",
       "      <th></th>\n",
       "      <th></th>\n",
       "      <th></th>\n",
       "    </tr>\n",
       "  </thead>\n",
       "  <tbody>\n",
       "    <tr>\n",
       "      <th>101305</th>\n",
       "      <th>102903</th>\n",
       "      <td>5.0</td>\n",
       "      <td>1</td>\n",
       "      <td>3.351559</td>\n",
       "    </tr>\n",
       "    <tr>\n",
       "      <th>999</th>\n",
       "      <th>377</th>\n",
       "      <td>3.0</td>\n",
       "      <td>-1</td>\n",
       "      <td>4.062880</td>\n",
       "    </tr>\n",
       "    <tr>\n",
       "      <th>122954</th>\n",
       "      <th>924</th>\n",
       "      <td>5.0</td>\n",
       "      <td>1</td>\n",
       "      <td>3.919356</td>\n",
       "    </tr>\n",
       "  </tbody>\n",
       "</table>\n",
       "</div>"
      ],
      "text/plain": [
       "                  rating  bool_rating  prediction\n",
       "user_id movie_id                                 \n",
       "101305  102903       5.0            1    3.351559\n",
       "999     377          3.0           -1    4.062880\n",
       "122954  924          5.0            1    3.919356"
      ]
     },
     "execution_count": 18,
     "metadata": {},
     "output_type": "execute_result"
    }
   ],
   "source": [
    "user_pred_df = (\n",
    "    pd.concat(ratings_prediction_dfs)\n",
    "    .rename({'movieId': 'movie_id'}, axis=1)\n",
    "    .set_index(['user_id', 'movie_id'])\n",
    ")\n",
    "\n",
    "user_pred_df = (\n",
    "    test_df.rename({'userId': 'user_id', 'movieId': 'movie_id'}, axis=1)\n",
    "    .set_index(['user_id', 'movie_id'])\n",
    "    .join(user_pred_df)\n",
    ")\n",
    "user_pred_df.head(3)"
   ]
  },
  {
   "cell_type": "code",
   "execution_count": 19,
   "id": "79d5d042",
   "metadata": {},
   "outputs": [
    {
     "name": "stdout",
     "output_type": "stream",
     "text": [
      "RMSE of recommendation by user-user collaborative filtering: 1.0499330178911002\n"
     ]
    }
   ],
   "source": [
    "eval_model(user_pred_df, 'user')"
   ]
  },
  {
   "cell_type": "markdown",
   "id": "49aed526",
   "metadata": {},
   "source": [
    "### 빈발 패턴 분석도 진행\n",
    "- 유저별 본 movie list에 대한 데이터프레임을 생성하여 진행\n",
    "    - 추천 모델이므로 평점을 4점 이상 받은 영화에 대해서만 진행"
   ]
  }
 ],
 "metadata": {
  "kernelspec": {
   "display_name": "Python 3",
   "language": "python",
   "name": "python3"
  },
  "language_info": {
   "codemirror_mode": {
    "name": "ipython",
    "version": 3
   },
   "file_extension": ".py",
   "mimetype": "text/x-python",
   "name": "python",
   "nbconvert_exporter": "python",
   "pygments_lexer": "ipython3",
   "version": "3.8.8"
  }
 },
 "nbformat": 4,
 "nbformat_minor": 5
}
