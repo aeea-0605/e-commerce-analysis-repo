{
 "cells": [
  {
   "cell_type": "code",
   "execution_count": 1,
   "id": "3de76262",
   "metadata": {},
   "outputs": [],
   "source": [
    "import os\n",
    "\n",
    "import numpy as np\n",
    "import pandas as pd\n",
    "\n",
    "from sklearn.metrics import mean_squared_error\n",
    "\n",
    "from pyspark.sql import SparkSession\n",
    "from pyspark.sql.types import IntegerType\n",
    "from pyspark.sql.functions import col, lit\n",
    "\n",
    "from pyspark.ml.recommendation import ALS\n",
    "from pyspark.ml.evaluation import RegressionEvaluator"
   ]
  },
  {
   "cell_type": "markdown",
   "id": "3a0b21a6",
   "metadata": {},
   "source": [
    "### Spark Configuration "
   ]
  },
  {
   "cell_type": "code",
   "execution_count": 19,
   "id": "f6cbc4c1",
   "metadata": {},
   "outputs": [],
   "source": [
    "MAX_MEMORY = \"5g\"\n",
    "spark = (\n",
    "    SparkSession.builder.appName(\"movie-recommendation\")\n",
    "    .config(\"spark.executor.memory\", MAX_MEMORY)\n",
    "    .config(\"spark.driver.memory\", MAX_MEMORY)\n",
    "    .getOrCreate()\n",
    ")"
   ]
  },
  {
   "cell_type": "markdown",
   "id": "7ce66a6a",
   "metadata": {},
   "source": [
    "### 데이터 불러오기\n",
    "- rating_df : 유저와 영화에 대한 평점 데이터셋\n",
    "- movie_df : 영화에 대한 제목 데이터셋"
   ]
  },
  {
   "cell_type": "code",
   "execution_count": 3,
   "id": "82311eb2",
   "metadata": {},
   "outputs": [
    {
     "name": "stderr",
     "output_type": "stream",
     "text": [
      "                                                                                \r"
     ]
    }
   ],
   "source": [
    "DIR_PATH = os.path.join(os.getcwd(), 'data')\n",
    "RATING_PATH = os.path.join(DIR_PATH, 'ratings.csv')\n",
    "MOVIE_PATH = os.path.join(DIR_PATH, 'movies.csv')\n",
    "\n",
    "rating_df = spark.read.csv(f\"file:///{RATING_PATH}\", inferSchema=True, header=True)\n",
    "movie_df = spark.read.csv(f\"file:///{MOVIE_PATH}\", inferSchema=True, header=True)"
   ]
  },
  {
   "cell_type": "code",
   "execution_count": 4,
   "id": "79470aec",
   "metadata": {},
   "outputs": [
    {
     "name": "stdout",
     "output_type": "stream",
     "text": [
      "+------+-------+------+----------+\n",
      "|userId|movieId|rating| timestamp|\n",
      "+------+-------+------+----------+\n",
      "|     1|    296|   5.0|1147880044|\n",
      "|     1|    306|   3.5|1147868817|\n",
      "|     1|    307|   5.0|1147868828|\n",
      "+------+-------+------+----------+\n",
      "only showing top 3 rows\n",
      "\n"
     ]
    }
   ],
   "source": [
    "rating_df.show(3)"
   ]
  },
  {
   "cell_type": "code",
   "execution_count": 5,
   "id": "bb13e4b1",
   "metadata": {},
   "outputs": [
    {
     "name": "stdout",
     "output_type": "stream",
     "text": [
      "+-------+--------------------+--------------------+\n",
      "|movieId|               title|              genres|\n",
      "+-------+--------------------+--------------------+\n",
      "|      1|    Toy Story (1995)|Adventure|Animati...|\n",
      "|      2|      Jumanji (1995)|Adventure|Childre...|\n",
      "|      3|Grumpier Old Men ...|      Comedy|Romance|\n",
      "+-------+--------------------+--------------------+\n",
      "only showing top 3 rows\n",
      "\n"
     ]
    }
   ],
   "source": [
    "movie_df.show(3)"
   ]
  },
  {
   "cell_type": "markdown",
   "id": "dd68c788",
   "metadata": {},
   "source": [
    "---"
   ]
  },
  {
   "cell_type": "markdown",
   "id": "b5f96ccc",
   "metadata": {},
   "source": [
    "### 모델링을 위한 데이터 전처리\n",
    "- 모델링에 사용하지 않을 timestamp 변수 제거"
   ]
  },
  {
   "cell_type": "code",
   "execution_count": 6,
   "id": "13712603",
   "metadata": {},
   "outputs": [
    {
     "name": "stdout",
     "output_type": "stream",
     "text": [
      "root\n",
      " |-- userId: integer (nullable = true)\n",
      " |-- movieId: integer (nullable = true)\n",
      " |-- rating: double (nullable = true)\n",
      "\n"
     ]
    }
   ],
   "source": [
    "rating_df = rating_df.select(['userId', 'movieId', 'rating'])\n",
    "rating_df.printSchema()"
   ]
  },
  {
   "cell_type": "markdown",
   "id": "d4ef7319",
   "metadata": {},
   "source": [
    "#### Train / Test Dataset Split"
   ]
  },
  {
   "cell_type": "code",
   "execution_count": 7,
   "id": "e4b3a283",
   "metadata": {},
   "outputs": [],
   "source": [
    "train_df, test_df = rating_df.randomSplit([0.8, 0.2], seed=13)"
   ]
  },
  {
   "cell_type": "markdown",
   "id": "0eb4fb67",
   "metadata": {},
   "source": [
    "---"
   ]
  },
  {
   "cell_type": "markdown",
   "id": "9d53c976",
   "metadata": {},
   "source": [
    "### ALS 추천 모델링"
   ]
  },
  {
   "cell_type": "markdown",
   "id": "7a03e9bd",
   "metadata": {},
   "source": [
    "#### 모델 생성 및 학습"
   ]
  },
  {
   "cell_type": "code",
   "execution_count": 8,
   "id": "3d979adf",
   "metadata": {},
   "outputs": [
    {
     "name": "stderr",
     "output_type": "stream",
     "text": [
      "22/03/03 13:56:04 WARN InstanceBuilder$NativeBLAS: Failed to load implementation from:dev.ludovic.netlib.blas.JNIBLAS\n",
      "22/03/03 13:56:04 WARN InstanceBuilder$NativeBLAS: Failed to load implementation from:dev.ludovic.netlib.blas.ForeignLinkerBLAS\n",
      "                                                                                \r"
     ]
    }
   ],
   "source": [
    "als = ALS(\n",
    "    maxIter=10,\n",
    "    regParam=0.01,\n",
    "    userCol='userId',\n",
    "    itemCol='movieId',\n",
    "    ratingCol='rating',\n",
    "    nonnegative=True,\n",
    "    coldStartStrategy='drop'\n",
    ")\n",
    "\n",
    "model = als.fit(train_df)"
   ]
  },
  {
   "cell_type": "markdown",
   "id": "8b4da24b",
   "metadata": {},
   "source": [
    "---"
   ]
  },
  {
   "cell_type": "markdown",
   "id": "725ffb6f",
   "metadata": {},
   "source": [
    "### 모델 평가"
   ]
  },
  {
   "cell_type": "markdown",
   "id": "ebcebf7c",
   "metadata": {},
   "source": [
    "#### Test 데이터셋을 통한 예측 진행\n",
    "- 예측값의 평균은 약 3.5로 실제값의 평균과 크게 다르지 않으며,\n",
    "- 예측값의 범위는 0.0 ~ 10.42 이다."
   ]
  },
  {
   "cell_type": "code",
   "execution_count": 9,
   "id": "d7a28485",
   "metadata": {},
   "outputs": [
    {
     "name": "stderr",
     "output_type": "stream",
     "text": [
      "                                                                                \r"
     ]
    },
    {
     "name": "stdout",
     "output_type": "stream",
     "text": [
      "+------+-------+------+----------+\n",
      "|userId|movieId|rating|prediction|\n",
      "+------+-------+------+----------+\n",
      "|    31|   6620|   1.5| 2.5002856|\n",
      "|    76|   1959|   5.0| 3.6079454|\n",
      "|   243|   1580|   3.0|   2.60493|\n",
      "|   321|   3175|   3.0| 3.3042073|\n",
      "|   321| 175197|   0.5| 1.6218803|\n",
      "+------+-------+------+----------+\n",
      "only showing top 5 rows\n",
      "\n"
     ]
    }
   ],
   "source": [
    "prediction = model.transform(test_df)\n",
    "prediction.show(5)"
   ]
  },
  {
   "cell_type": "code",
   "execution_count": 10,
   "id": "8fdfd1d3",
   "metadata": {},
   "outputs": [
    {
     "name": "stderr",
     "output_type": "stream",
     "text": [
      "[Stage 221:==================================================>      (8 + 1) / 9]\r"
     ]
    },
    {
     "name": "stdout",
     "output_type": "stream",
     "text": [
      "+-------+------------------+------------------+\n",
      "|summary|            rating|        prediction|\n",
      "+-------+------------------+------------------+\n",
      "|  count|           5001747|           5001747|\n",
      "|   mean| 3.534025511486287| 3.458667017715034|\n",
      "| stddev|1.0605557917302697|0.7129707775865479|\n",
      "|    min|               0.5|               0.0|\n",
      "|    max|               5.0|         12.817463|\n",
      "+-------+------------------+------------------+\n",
      "\n"
     ]
    },
    {
     "name": "stderr",
     "output_type": "stream",
     "text": [
      "\r",
      "                                                                                \r"
     ]
    }
   ],
   "source": [
    "prediction.select(['rating', 'prediction']).describe().show()"
   ]
  },
  {
   "cell_type": "markdown",
   "id": "dd071140",
   "metadata": {},
   "source": [
    "#### RMSE 지표를 통한 모델 평가\n",
    "- 예측값과 실제값의 RMSE는 약 0.804으로, 평점에 대한 예측과 실제의 차이가 약 0.8점 정도 존재한다고 할 수 있다.\n",
    "- 예측값의 범위를 0.0 ~ 5.0 로 스케일링한 뒤, 성능 평가를 한 결과, 0.803의 score를 가졌다."
   ]
  },
  {
   "cell_type": "code",
   "execution_count": 11,
   "id": "4b48288f",
   "metadata": {},
   "outputs": [
    {
     "name": "stderr",
     "output_type": "stream",
     "text": [
      "[Stage 325:==================================================>      (8 + 1) / 9]\r"
     ]
    },
    {
     "name": "stdout",
     "output_type": "stream",
     "text": [
      "0.8038765815985407\n"
     ]
    },
    {
     "name": "stderr",
     "output_type": "stream",
     "text": [
      "\r",
      "                                                                                \r"
     ]
    }
   ],
   "source": [
    "evaluator = RegressionEvaluator(\n",
    "    labelCol='rating',\n",
    "    predictionCol='prediction',\n",
    "    metricName='rmse'\n",
    ")\n",
    "\n",
    "rmse = evaluator.evaluate(prediction)\n",
    "print(rmse)"
   ]
  },
  {
   "cell_type": "code",
   "execution_count": 12,
   "id": "216a117d",
   "metadata": {},
   "outputs": [
    {
     "name": "stderr",
     "output_type": "stream",
     "text": [
      "                                                                                \r"
     ]
    }
   ],
   "source": [
    "# 실제값과 예측값을 pandas dataframe으로 추출\n",
    "datas = prediction.select(['rating', 'prediction']).toPandas()\n",
    "\n",
    "# 예측값 중 5.0 이상인 값들을 5.0로 축소\n",
    "datas['scaled_prediction'] = (\n",
    "    datas['prediction']\n",
    "    .map(lambda x: 5.0 if x >= 5.0 else x)\n",
    ")"
   ]
  },
  {
   "cell_type": "code",
   "execution_count": 13,
   "id": "02aeb0f7",
   "metadata": {},
   "outputs": [
    {
     "data": {
      "text/plain": [
       "0.8028263263037656"
      ]
     },
     "execution_count": 13,
     "metadata": {},
     "output_type": "execute_result"
    }
   ],
   "source": [
    "pred_y = datas.scaled_prediction.values\n",
    "true_y = datas.rating\n",
    "\n",
    "rmse = np.sqrt(mean_squared_error(true_y, pred_y))\n",
    "rmse"
   ]
  },
  {
   "cell_type": "markdown",
   "id": "ed81390d",
   "metadata": {},
   "source": [
    "---"
   ]
  },
  {
   "cell_type": "markdown",
   "id": "ffe1b478",
   "metadata": {},
   "source": [
    "### 특정 유저에 대한 영화 추천 모델 생성\n",
    "- 특정 유저의 ID를 인풋 데이터로 넣으면,\n",
    "- 해당 유저가 본 영화를 제외하고, 그 외의 영화들을 ALS 모델의 인풋 데이터로 넣어 예측값이 높은 순으로 n개의 영화를 추천"
   ]
  },
  {
   "cell_type": "code",
   "execution_count": 14,
   "id": "a18adffc",
   "metadata": {},
   "outputs": [],
   "source": [
    "# 전체 영화의 유니크한 ID값을 추출한 a라는 데이터프레임 생성\n",
    "unique_movies = rating_df.select('movieId').distinct()\n",
    "a = unique_movies.alias('a')\n",
    "\n",
    "\n",
    "def recommendation_movies(user_id, model, n):\n",
    "    # user_id가 시청한 영화를 추출한 뒤 b라는 데이터프레임에 저장\n",
    "    watched_movies = rating_df.filter(rating_df['userId'] == user_id).select('movieId')\n",
    "    b = watched_movies.alias('b')\n",
    "    \n",
    "    # 전체 영화 중 해당 유저가 본 영화를 제외한 영화 추출\n",
    "    unwatched_movies = (\n",
    "        a\n",
    "        .join(b, a['movieId'] == b['movieId'], how='left')\n",
    "        .where(col('b.movieId').isNull())\n",
    "        .select('a.movieId').distinct()\n",
    "    )\n",
    "    \n",
    "    # unwatched_movies 데이터프레임에 해당 유저의 ID를 삽입\n",
    "    unwatched_movies = unwatched_movies.withColumn('userId', lit(int(user_id)))\n",
    "    \n",
    "    # 해당 유저가 안 본 영화 중 n개의 영화를 추천 : 예측값이 높은 순으로\n",
    "    n_recommend_movies = (\n",
    "        model\n",
    "        .transform(unwatched_movies)\n",
    "        .orderBy('prediction', ascending=False)\n",
    "        .limit(n)\n",
    "    )\n",
    "    \n",
    "    # 추천되는 영화 ID에 대응하는 영화 제목을 붙인 데이터프레임 생성\n",
    "    n_recommend_movies = (\n",
    "        n_recommend_movies\n",
    "        .join(movie_df, n_recommend_movies['movieId'] == movie_df['movieId'])\n",
    "        .orderBy('prediction', ascending=False)\n",
    "        .select([\n",
    "            'userId', 'a.movieId', 'title', 'genres', 'prediction'\n",
    "        ])\n",
    "    )\n",
    "    \n",
    "    return n_recommend_movies.toPandas()"
   ]
  },
  {
   "cell_type": "code",
   "execution_count": 15,
   "id": "e6f41845",
   "metadata": {},
   "outputs": [
    {
     "name": "stderr",
     "output_type": "stream",
     "text": [
      "                                                                                \r"
     ]
    },
    {
     "data": {
      "text/html": [
       "<div>\n",
       "<style scoped>\n",
       "    .dataframe tbody tr th:only-of-type {\n",
       "        vertical-align: middle;\n",
       "    }\n",
       "\n",
       "    .dataframe tbody tr th {\n",
       "        vertical-align: top;\n",
       "    }\n",
       "\n",
       "    .dataframe thead th {\n",
       "        text-align: right;\n",
       "    }\n",
       "</style>\n",
       "<table border=\"1\" class=\"dataframe\">\n",
       "  <thead>\n",
       "    <tr style=\"text-align: right;\">\n",
       "      <th></th>\n",
       "      <th>userId</th>\n",
       "      <th>movieId</th>\n",
       "      <th>title</th>\n",
       "      <th>genres</th>\n",
       "      <th>prediction</th>\n",
       "    </tr>\n",
       "  </thead>\n",
       "  <tbody>\n",
       "    <tr>\n",
       "      <th>0</th>\n",
       "      <td>243</td>\n",
       "      <td>152043</td>\n",
       "      <td>Leader (2010)</td>\n",
       "      <td>Drama|Romance</td>\n",
       "      <td>8.985197</td>\n",
       "    </tr>\n",
       "    <tr>\n",
       "      <th>1</th>\n",
       "      <td>243</td>\n",
       "      <td>177657</td>\n",
       "      <td>Bullets for the Dead (2015)</td>\n",
       "      <td>Horror|Western</td>\n",
       "      <td>8.795678</td>\n",
       "    </tr>\n",
       "    <tr>\n",
       "      <th>2</th>\n",
       "      <td>243</td>\n",
       "      <td>198657</td>\n",
       "      <td>Manikarnika (2019)</td>\n",
       "      <td>Action|Drama</td>\n",
       "      <td>8.582273</td>\n",
       "    </tr>\n",
       "    <tr>\n",
       "      <th>3</th>\n",
       "      <td>243</td>\n",
       "      <td>155549</td>\n",
       "      <td>Borderline (1930)</td>\n",
       "      <td>Drama</td>\n",
       "      <td>8.462073</td>\n",
       "    </tr>\n",
       "    <tr>\n",
       "      <th>4</th>\n",
       "      <td>243</td>\n",
       "      <td>185645</td>\n",
       "      <td>Stone Cold Steve Austin: The Bottom Line on th...</td>\n",
       "      <td>Documentary</td>\n",
       "      <td>8.232800</td>\n",
       "    </tr>\n",
       "    <tr>\n",
       "      <th>5</th>\n",
       "      <td>243</td>\n",
       "      <td>80719</td>\n",
       "      <td>Kanchenjungha (1962)</td>\n",
       "      <td>Drama</td>\n",
       "      <td>7.962666</td>\n",
       "    </tr>\n",
       "    <tr>\n",
       "      <th>6</th>\n",
       "      <td>243</td>\n",
       "      <td>153550</td>\n",
       "      <td>Pyaar Ke Side Effects (2006)</td>\n",
       "      <td>Comedy|Drama|Romance</td>\n",
       "      <td>7.943258</td>\n",
       "    </tr>\n",
       "    <tr>\n",
       "      <th>7</th>\n",
       "      <td>243</td>\n",
       "      <td>154860</td>\n",
       "      <td>Mother (2016)</td>\n",
       "      <td>(no genres listed)</td>\n",
       "      <td>7.849785</td>\n",
       "    </tr>\n",
       "    <tr>\n",
       "      <th>8</th>\n",
       "      <td>243</td>\n",
       "      <td>133327</td>\n",
       "      <td>Linda and Abilene (1969)</td>\n",
       "      <td>Drama|Western</td>\n",
       "      <td>7.827180</td>\n",
       "    </tr>\n",
       "    <tr>\n",
       "      <th>9</th>\n",
       "      <td>243</td>\n",
       "      <td>86952</td>\n",
       "      <td>Son of Babylon (Syn Babilonu) (2009)</td>\n",
       "      <td>Drama</td>\n",
       "      <td>7.599072</td>\n",
       "    </tr>\n",
       "  </tbody>\n",
       "</table>\n",
       "</div>"
      ],
      "text/plain": [
       "   userId  movieId                                              title  \\\n",
       "0     243   152043                                      Leader (2010)   \n",
       "1     243   177657                        Bullets for the Dead (2015)   \n",
       "2     243   198657                                 Manikarnika (2019)   \n",
       "3     243   155549                                  Borderline (1930)   \n",
       "4     243   185645  Stone Cold Steve Austin: The Bottom Line on th...   \n",
       "5     243    80719                               Kanchenjungha (1962)   \n",
       "6     243   153550                       Pyaar Ke Side Effects (2006)   \n",
       "7     243   154860                                      Mother (2016)   \n",
       "8     243   133327                           Linda and Abilene (1969)   \n",
       "9     243    86952               Son of Babylon (Syn Babilonu) (2009)   \n",
       "\n",
       "                 genres  prediction  \n",
       "0         Drama|Romance    8.985197  \n",
       "1        Horror|Western    8.795678  \n",
       "2          Action|Drama    8.582273  \n",
       "3                 Drama    8.462073  \n",
       "4           Documentary    8.232800  \n",
       "5                 Drama    7.962666  \n",
       "6  Comedy|Drama|Romance    7.943258  \n",
       "7    (no genres listed)    7.849785  \n",
       "8         Drama|Western    7.827180  \n",
       "9                 Drama    7.599072  "
      ]
     },
     "execution_count": 15,
     "metadata": {},
     "output_type": "execute_result"
    }
   ],
   "source": [
    "user_id = 243\n",
    "\n",
    "recommendation_movies(user_id, model, 10)"
   ]
  },
  {
   "cell_type": "markdown",
   "id": "664c9068",
   "metadata": {},
   "source": [
    "#### ALS method를 이용한 추천 모델 단순화"
   ]
  },
  {
   "cell_type": "code",
   "execution_count": 16,
   "id": "18db6b60",
   "metadata": {},
   "outputs": [],
   "source": [
    "def recommendation_movies_simplify(user_id, model, n):\n",
    "    users_df = spark.createDataFrame([user_id], IntegerType()).toDF('userId')\n",
    "    \n",
    "    recommendation_list = (\n",
    "        model\n",
    "        .recommendForUserSubset(users_df, 10)\n",
    "        .collect()[0].recommendations\n",
    "    )\n",
    "    \n",
    "    recommendation_df = spark.createDataFrame(recommendation_list)\n",
    "    \n",
    "    recommendation_df.createOrReplaceTempView(\"recommendations\")\n",
    "    movie_df.createOrReplaceTempView(\"movies\")\n",
    "\n",
    "    query = \"\"\"\n",
    "    SELECT M.movieId, M.title, M.genres, R.rating\n",
    "    FROM movies M\n",
    "    JOIN recommendations R\n",
    "    ON M.movieId = R.movieId\n",
    "    ORDER BY rating desc\n",
    "    \"\"\"\n",
    "    \n",
    "    recommended_movies = spark.sql(query)\n",
    "    \n",
    "    return recommended_movies.toPandas()"
   ]
  },
  {
   "cell_type": "code",
   "execution_count": 17,
   "id": "3fb1492b",
   "metadata": {},
   "outputs": [
    {
     "name": "stderr",
     "output_type": "stream",
     "text": [
      "/Users/aeea/miniforge3/envs/spark_env/lib/python3.8/site-packages/pyspark/sql/context.py:125: FutureWarning: Deprecated in 3.0.0. Use SparkSession.builder.getOrCreate() instead.\n",
      "  warnings.warn(\n",
      "                                                                                \r"
     ]
    },
    {
     "data": {
      "text/html": [
       "<div>\n",
       "<style scoped>\n",
       "    .dataframe tbody tr th:only-of-type {\n",
       "        vertical-align: middle;\n",
       "    }\n",
       "\n",
       "    .dataframe tbody tr th {\n",
       "        vertical-align: top;\n",
       "    }\n",
       "\n",
       "    .dataframe thead th {\n",
       "        text-align: right;\n",
       "    }\n",
       "</style>\n",
       "<table border=\"1\" class=\"dataframe\">\n",
       "  <thead>\n",
       "    <tr style=\"text-align: right;\">\n",
       "      <th></th>\n",
       "      <th>movieId</th>\n",
       "      <th>title</th>\n",
       "      <th>genres</th>\n",
       "      <th>rating</th>\n",
       "    </tr>\n",
       "  </thead>\n",
       "  <tbody>\n",
       "    <tr>\n",
       "      <th>0</th>\n",
       "      <td>152043</td>\n",
       "      <td>Leader (2010)</td>\n",
       "      <td>Drama|Romance</td>\n",
       "      <td>8.985197</td>\n",
       "    </tr>\n",
       "    <tr>\n",
       "      <th>1</th>\n",
       "      <td>177657</td>\n",
       "      <td>Bullets for the Dead (2015)</td>\n",
       "      <td>Horror|Western</td>\n",
       "      <td>8.795678</td>\n",
       "    </tr>\n",
       "    <tr>\n",
       "      <th>2</th>\n",
       "      <td>198657</td>\n",
       "      <td>Manikarnika (2019)</td>\n",
       "      <td>Action|Drama</td>\n",
       "      <td>8.582273</td>\n",
       "    </tr>\n",
       "    <tr>\n",
       "      <th>3</th>\n",
       "      <td>155549</td>\n",
       "      <td>Borderline (1930)</td>\n",
       "      <td>Drama</td>\n",
       "      <td>8.462073</td>\n",
       "    </tr>\n",
       "    <tr>\n",
       "      <th>4</th>\n",
       "      <td>185645</td>\n",
       "      <td>Stone Cold Steve Austin: The Bottom Line on th...</td>\n",
       "      <td>Documentary</td>\n",
       "      <td>8.232800</td>\n",
       "    </tr>\n",
       "    <tr>\n",
       "      <th>5</th>\n",
       "      <td>80719</td>\n",
       "      <td>Kanchenjungha (1962)</td>\n",
       "      <td>Drama</td>\n",
       "      <td>7.962666</td>\n",
       "    </tr>\n",
       "    <tr>\n",
       "      <th>6</th>\n",
       "      <td>153550</td>\n",
       "      <td>Pyaar Ke Side Effects (2006)</td>\n",
       "      <td>Comedy|Drama|Romance</td>\n",
       "      <td>7.943258</td>\n",
       "    </tr>\n",
       "    <tr>\n",
       "      <th>7</th>\n",
       "      <td>154860</td>\n",
       "      <td>Mother (2016)</td>\n",
       "      <td>(no genres listed)</td>\n",
       "      <td>7.849785</td>\n",
       "    </tr>\n",
       "    <tr>\n",
       "      <th>8</th>\n",
       "      <td>133327</td>\n",
       "      <td>Linda and Abilene (1969)</td>\n",
       "      <td>Drama|Western</td>\n",
       "      <td>7.827180</td>\n",
       "    </tr>\n",
       "    <tr>\n",
       "      <th>9</th>\n",
       "      <td>86952</td>\n",
       "      <td>Son of Babylon (Syn Babilonu) (2009)</td>\n",
       "      <td>Drama</td>\n",
       "      <td>7.599072</td>\n",
       "    </tr>\n",
       "  </tbody>\n",
       "</table>\n",
       "</div>"
      ],
      "text/plain": [
       "   movieId                                              title  \\\n",
       "0   152043                                      Leader (2010)   \n",
       "1   177657                        Bullets for the Dead (2015)   \n",
       "2   198657                                 Manikarnika (2019)   \n",
       "3   155549                                  Borderline (1930)   \n",
       "4   185645  Stone Cold Steve Austin: The Bottom Line on th...   \n",
       "5    80719                               Kanchenjungha (1962)   \n",
       "6   153550                       Pyaar Ke Side Effects (2006)   \n",
       "7   154860                                      Mother (2016)   \n",
       "8   133327                           Linda and Abilene (1969)   \n",
       "9    86952               Son of Babylon (Syn Babilonu) (2009)   \n",
       "\n",
       "                 genres    rating  \n",
       "0         Drama|Romance  8.985197  \n",
       "1        Horror|Western  8.795678  \n",
       "2          Action|Drama  8.582273  \n",
       "3                 Drama  8.462073  \n",
       "4           Documentary  8.232800  \n",
       "5                 Drama  7.962666  \n",
       "6  Comedy|Drama|Romance  7.943258  \n",
       "7    (no genres listed)  7.849785  \n",
       "8         Drama|Western  7.827180  \n",
       "9                 Drama  7.599072  "
      ]
     },
     "execution_count": 17,
     "metadata": {},
     "output_type": "execute_result"
    }
   ],
   "source": [
    "recommendation_movies_simplify(user_id, model, 10)"
   ]
  },
  {
   "cell_type": "markdown",
   "id": "4fe8087a",
   "metadata": {},
   "source": [
    "#### Spark Session 종료"
   ]
  },
  {
   "cell_type": "code",
   "execution_count": 18,
   "id": "5629977e",
   "metadata": {},
   "outputs": [],
   "source": [
    "spark.stop()"
   ]
  }
 ],
 "metadata": {
  "kernelspec": {
   "display_name": "Python 3",
   "language": "python",
   "name": "python3"
  },
  "language_info": {
   "codemirror_mode": {
    "name": "ipython",
    "version": 3
   },
   "file_extension": ".py",
   "mimetype": "text/x-python",
   "name": "python",
   "nbconvert_exporter": "python",
   "pygments_lexer": "ipython3",
   "version": "3.8.8"
  }
 },
 "nbformat": 4,
 "nbformat_minor": 5
}
