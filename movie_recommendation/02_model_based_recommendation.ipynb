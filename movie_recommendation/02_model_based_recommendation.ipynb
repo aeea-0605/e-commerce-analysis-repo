{
 "cells": [
  {
   "cell_type": "code",
   "execution_count": 2,
   "id": "3de76262",
   "metadata": {},
   "outputs": [],
   "source": [
    "import os\n",
    "\n",
    "from pyspark.sql import SparkSession"
   ]
  },
  {
   "cell_type": "code",
   "execution_count": 4,
   "id": "f6cbc4c1",
   "metadata": {},
   "outputs": [],
   "source": [
    "MAX_MEMORY = \"5g\"\n",
    "spark = (\n",
    "    SparkSession.builder.appName(\"movie-recommendation\")\n",
    "    .config(\"spark.executor.memory\", MAX_MEMORY) # executor의 메모리 설정\n",
    "    .config(\"spark.driver.memory\", MAX_MEMORY) # driver의 메모리\n",
    "    .getOrCreate()\n",
    ")"
   ]
  },
  {
   "cell_type": "code",
   "execution_count": 11,
   "id": "82311eb2",
   "metadata": {},
   "outputs": [
    {
     "name": "stderr",
     "output_type": "stream",
     "text": [
      "                                                                                \r"
     ]
    }
   ],
   "source": [
    "DIR_PATH = os.path.join(os.getcwd(), 'data')\n",
    "DATA_PATH = os.path.join(DIR_PATH, 'ratings.csv')\n",
    "\n",
    "rating_df = spark.read.csv(f\"file:///{DATA_PATH}\", inferSchema=True, header=True)"
   ]
  },
  {
   "cell_type": "code",
   "execution_count": 12,
   "id": "13712603",
   "metadata": {},
   "outputs": [
    {
     "name": "stdout",
     "output_type": "stream",
     "text": [
      "root\n",
      " |-- userId: integer (nullable = true)\n",
      " |-- movieId: integer (nullable = true)\n",
      " |-- rating: double (nullable = true)\n",
      "\n"
     ]
    }
   ],
   "source": [
    "rating_df = rating_df.select(['userId', 'movieId', 'rating'])\n",
    "rating_df.printSchema()"
   ]
  },
  {
   "cell_type": "code",
   "execution_count": 13,
   "id": "971ce43f",
   "metadata": {},
   "outputs": [
    {
     "name": "stdout",
     "output_type": "stream",
     "text": [
      "+------+-------+------+\n",
      "|userId|movieId|rating|\n",
      "+------+-------+------+\n",
      "|     1|    296|   5.0|\n",
      "|     1|    306|   3.5|\n",
      "|     1|    307|   5.0|\n",
      "+------+-------+------+\n",
      "only showing top 3 rows\n",
      "\n"
     ]
    }
   ],
   "source": [
    "rating_df.show(3)"
   ]
  },
  {
   "cell_type": "code",
   "execution_count": 14,
   "id": "e4b3a283",
   "metadata": {},
   "outputs": [],
   "source": [
    "train_df, test_df = rating_df.randomSplit([0.8, 0.2], seed=13)"
   ]
  },
  {
   "cell_type": "code",
   "execution_count": 15,
   "id": "a99cad71",
   "metadata": {},
   "outputs": [],
   "source": [
    "from pyspark.ml.recommendation import ALS"
   ]
  },
  {
   "cell_type": "code",
   "execution_count": 16,
   "id": "3d979adf",
   "metadata": {},
   "outputs": [
    {
     "name": "stderr",
     "output_type": "stream",
     "text": [
      "22/03/02 22:48:12 WARN InstanceBuilder$NativeBLAS: Failed to load implementation from:dev.ludovic.netlib.blas.JNIBLAS\n",
      "22/03/02 22:48:12 WARN InstanceBuilder$NativeBLAS: Failed to load implementation from:dev.ludovic.netlib.blas.ForeignLinkerBLAS\n",
      "                                                                                \r"
     ]
    }
   ],
   "source": [
    "als = ALS(\n",
    "    maxIter=10,\n",
    "    regParam=0.01,\n",
    "    userCol='userId',\n",
    "    itemCol='movieId',\n",
    "    ratingCol='rating',\n",
    "    nonnegative=True,\n",
    "    coldStartStrategy='drop'\n",
    ")\n",
    "\n",
    "model = als.fit(train_df)"
   ]
  },
  {
   "cell_type": "code",
   "execution_count": 17,
   "id": "d7a28485",
   "metadata": {},
   "outputs": [
    {
     "name": "stderr",
     "output_type": "stream",
     "text": [
      "                                                                                \r"
     ]
    },
    {
     "name": "stdout",
     "output_type": "stream",
     "text": [
      "+------+-------+------+----------+\n",
      "|userId|movieId|rating|prediction|\n",
      "+------+-------+------+----------+\n",
      "|    31|   6620|   1.5|  2.598858|\n",
      "|    76|   1959|   5.0| 2.8625617|\n",
      "|   243|   1580|   3.0| 2.4226482|\n",
      "|   321|   3175|   3.0| 3.4213023|\n",
      "|   321| 175197|   0.5| 1.7772007|\n",
      "+------+-------+------+----------+\n",
      "only showing top 5 rows\n",
      "\n"
     ]
    }
   ],
   "source": [
    "prediction = model.transform(test_df)\n",
    "prediction.show(5)"
   ]
  },
  {
   "cell_type": "code",
   "execution_count": 18,
   "id": "8fdfd1d3",
   "metadata": {},
   "outputs": [
    {
     "name": "stderr",
     "output_type": "stream",
     "text": [
      "[Stage 218:==================================================>      (8 + 1) / 9]\r"
     ]
    },
    {
     "name": "stdout",
     "output_type": "stream",
     "text": [
      "+-------+------------------+------------------+\n",
      "|summary|            rating|        prediction|\n",
      "+-------+------------------+------------------+\n",
      "|  count|           5001747|           5001747|\n",
      "|   mean| 3.534025511486287| 3.469178528512191|\n",
      "| stddev|1.0605557917302697|0.7167497065317837|\n",
      "|    min|               0.5|               0.0|\n",
      "|    max|               5.0|         10.424969|\n",
      "+-------+------------------+------------------+\n",
      "\n"
     ]
    },
    {
     "name": "stderr",
     "output_type": "stream",
     "text": [
      "\r",
      "                                                                                \r"
     ]
    }
   ],
   "source": [
    "prediction.select(['rating', 'prediction']).describe().show()"
   ]
  },
  {
   "cell_type": "code",
   "execution_count": 19,
   "id": "a70eb92e",
   "metadata": {},
   "outputs": [],
   "source": [
    "from pyspark.ml.evaluation import RegressionEvaluator"
   ]
  },
  {
   "cell_type": "code",
   "execution_count": 20,
   "id": "4b48288f",
   "metadata": {},
   "outputs": [
    {
     "name": "stderr",
     "output_type": "stream",
     "text": [
      "[Stage 322:==================================================>      (8 + 1) / 9]\r"
     ]
    },
    {
     "name": "stdout",
     "output_type": "stream",
     "text": [
      "0.8026522429091694\n"
     ]
    },
    {
     "name": "stderr",
     "output_type": "stream",
     "text": [
      "\r",
      "                                                                                \r"
     ]
    }
   ],
   "source": [
    "evaluator = RegressionEvaluator(\n",
    "    labelCol='rating',\n",
    "    predictionCol='prediction',\n",
    "    metricName='rmse'\n",
    ")\n",
    "\n",
    "rmse = evaluator.evaluate(prediction)\n",
    "print(rmse)"
   ]
  },
  {
   "cell_type": "code",
   "execution_count": 40,
   "id": "8b9894da",
   "metadata": {},
   "outputs": [],
   "source": [
    "import numpy as np\n",
    "from sklearn.metrics import mean_squared_error"
   ]
  },
  {
   "cell_type": "code",
   "execution_count": 23,
   "id": "216a117d",
   "metadata": {},
   "outputs": [
    {
     "name": "stderr",
     "output_type": "stream",
     "text": [
      "                                                                                \r"
     ]
    }
   ],
   "source": [
    "datas = prediction.select(['rating', 'prediction']).toPandas()"
   ]
  },
  {
   "cell_type": "code",
   "execution_count": 35,
   "id": "aaa6158b",
   "metadata": {},
   "outputs": [],
   "source": [
    "datas['scaled_prediction'] = (\n",
    "    datas['prediction']\n",
    "    .map(lambda x: 5.0 if x >= 5.0 else x)\n",
    "    .map(lambda x: 0.0 if x < 0.0 else x)\n",
    ")"
   ]
  },
  {
   "cell_type": "code",
   "execution_count": 39,
   "id": "02aeb0f7",
   "metadata": {},
   "outputs": [
    {
     "data": {
      "text/plain": [
       "0.8016420737871666"
      ]
     },
     "execution_count": 39,
     "metadata": {},
     "output_type": "execute_result"
    }
   ],
   "source": [
    "pred_y = datas.scaled_prediction.values\n",
    "true_y = datas.rating\n",
    "\n",
    "rmse = np.sqrt(mean_squared_error(true_y, pred_y))\n",
    "rmse"
   ]
  },
  {
   "cell_type": "code",
   "execution_count": 42,
   "id": "0b750cd1",
   "metadata": {},
   "outputs": [
    {
     "name": "stderr",
     "output_type": "stream",
     "text": [
      "[Stage 557:============================>                            (4 + 4) / 8]\r"
     ]
    },
    {
     "name": "stdout",
     "output_type": "stream",
     "text": [
      "+-------+\n",
      "|movieId|\n",
      "+-------+\n",
      "|   1088|\n",
      "|   1580|\n",
      "+-------+\n",
      "only showing top 2 rows\n",
      "\n"
     ]
    },
    {
     "name": "stderr",
     "output_type": "stream",
     "text": [
      "\r",
      "                                                                                \r"
     ]
    }
   ],
   "source": [
    "unique_movies = rating_df.select('movieId').distinct()\n",
    "unique_movies.show(2)"
   ]
  },
  {
   "cell_type": "code",
   "execution_count": 43,
   "id": "5170e49b",
   "metadata": {},
   "outputs": [],
   "source": [
    "a = unique_movies.alias('a')"
   ]
  },
  {
   "cell_type": "code",
   "execution_count": 45,
   "id": "3c26b855",
   "metadata": {},
   "outputs": [
    {
     "name": "stdout",
     "output_type": "stream",
     "text": [
      "+-------+\n",
      "|movieId|\n",
      "+-------+\n",
      "|      1|\n",
      "|     10|\n",
      "+-------+\n",
      "only showing top 2 rows\n",
      "\n"
     ]
    }
   ],
   "source": [
    "user_id = 243\n",
    "\n",
    "user_movies = rating_df.filter(rating_df['userId'] == user_id).select('movieId')\n",
    "user_movies.show(2)"
   ]
  },
  {
   "cell_type": "code",
   "execution_count": 46,
   "id": "2ad1a3a1",
   "metadata": {},
   "outputs": [],
   "source": [
    "b = user_movies.alias('b')"
   ]
  },
  {
   "cell_type": "code",
   "execution_count": 49,
   "id": "e09159ab",
   "metadata": {},
   "outputs": [],
   "source": [
    "from pyspark.sql.functions import mean, col, split, regexp_extract, when, lit"
   ]
  },
  {
   "cell_type": "code",
   "execution_count": 50,
   "id": "a95ae81d",
   "metadata": {},
   "outputs": [
    {
     "name": "stderr",
     "output_type": "stream",
     "text": [
      "                                                                                \r"
     ]
    },
    {
     "name": "stdout",
     "output_type": "stream",
     "text": [
      "+-------+\n",
      "|movieId|\n",
      "+-------+\n",
      "|   1088|\n",
      "|   3175|\n",
      "+-------+\n",
      "only showing top 2 rows\n",
      "\n"
     ]
    }
   ],
   "source": [
    "user_unwatched = (\n",
    "    a\n",
    "    .join(b, a['movieId'] == b['movieId'], how='left')\n",
    "    .where(col('b.movieId').isNull())\n",
    "    .select('a.movieId').distinct()\n",
    ")\n",
    "\n",
    "user_unwatched.show(2)"
   ]
  },
  {
   "cell_type": "code",
   "execution_count": 51,
   "id": "0e6f6dbe",
   "metadata": {},
   "outputs": [
    {
     "name": "stderr",
     "output_type": "stream",
     "text": [
      "                                                                                \r"
     ]
    },
    {
     "name": "stdout",
     "output_type": "stream",
     "text": [
      "+-------+------+\n",
      "|movieId|userId|\n",
      "+-------+------+\n",
      "|   1088|   243|\n",
      "|   3175|   243|\n",
      "+-------+------+\n",
      "only showing top 2 rows\n",
      "\n"
     ]
    }
   ],
   "source": [
    "user_unwatched = user_unwatched.withColumn('userId', lit(int(user_id)))\n",
    "user_unwatched.show(2)"
   ]
  },
  {
   "cell_type": "code",
   "execution_count": 69,
   "id": "508f09b2",
   "metadata": {},
   "outputs": [
    {
     "name": "stderr",
     "output_type": "stream",
     "text": [
      "                                                                                \r"
     ]
    },
    {
     "name": "stdout",
     "output_type": "stream",
     "text": [
      "+-------+------+----------+\n",
      "|movieId|userId|prediction|\n",
      "+-------+------+----------+\n",
      "| 128667|   243|  8.223953|\n",
      "| 189913|   243|  8.035086|\n",
      "| 154860|   243| 7.7409115|\n",
      "| 124519|   243| 7.7217045|\n",
      "| 171295|   243|  7.544285|\n",
      "| 198657|   243|  7.426848|\n",
      "| 135470|   243|  7.386353|\n",
      "| 152043|   243| 7.3225923|\n",
      "| 206064|   243| 7.2165213|\n",
      "| 153184|   243|  7.093982|\n",
      "+-------+------+----------+\n",
      "\n"
     ]
    }
   ],
   "source": [
    "n_recommend_movies = model.transform(user_unwatched).orderBy('prediction', ascending=False).limit(10)\n",
    "n_recommend_movies.show()"
   ]
  },
  {
   "cell_type": "code",
   "execution_count": 70,
   "id": "ca77c5c5",
   "metadata": {},
   "outputs": [
    {
     "name": "stdout",
     "output_type": "stream",
     "text": [
      "+-------+----------------+--------------------+\n",
      "|movieId|           title|              genres|\n",
      "+-------+----------------+--------------------+\n",
      "|      1|Toy Story (1995)|Adventure|Animati...|\n",
      "|      2|  Jumanji (1995)|Adventure|Childre...|\n",
      "+-------+----------------+--------------------+\n",
      "only showing top 2 rows\n",
      "\n"
     ]
    }
   ],
   "source": [
    "TITLE_PATH = os.path.join(DIR_PATH, 'movies.csv')\n",
    "\n",
    "movie_df = spark.read.csv(f\"file:///{TITLE_PATH}\", inferSchema=True, header=True)\n",
    "movie_df.show(2)"
   ]
  },
  {
   "cell_type": "code",
   "execution_count": 71,
   "id": "cf83f3c0",
   "metadata": {},
   "outputs": [
    {
     "name": "stderr",
     "output_type": "stream",
     "text": [
      "                                                                                \r"
     ]
    },
    {
     "name": "stdout",
     "output_type": "stream",
     "text": [
      "+------+-------+--------------------+----------+\n",
      "|userId|movieId|               title|prediction|\n",
      "+------+-------+--------------------+----------+\n",
      "|   243| 128667|      Wiseguy (1996)|  8.223953|\n",
      "|   243| 189913|Todd McFarlane's ...|  8.035086|\n",
      "|   243| 154860|       Mother (2016)| 7.7409115|\n",
      "|   243| 124519|Snow White and th...| 7.7217045|\n",
      "|   243| 171295|Doug Stanhope: De...|  7.544285|\n",
      "|   243| 198657|  Manikarnika (2019)|  7.426848|\n",
      "|   243| 135470| Without Fail (2014)|  7.386353|\n",
      "|   243| 152043|       Leader (2010)| 7.3225923|\n",
      "|   243| 206064|Secret Millionair...| 7.2165213|\n",
      "|   243| 153184|          Vergeef me|  7.093982|\n",
      "+------+-------+--------------------+----------+\n",
      "\n"
     ]
    }
   ],
   "source": [
    "n_recommend_movies = (\n",
    "    n_recommend_movies\n",
    "    .join(movie_df.select(['movieId', 'title']), n_recommend_movies['movieId'] == movie_df['movieId'])\n",
    "    .orderBy('prediction', ascending=False)\n",
    "    .select([\n",
    "        'userId', 'a.movieId', 'title', 'prediction'\n",
    "    ])\n",
    ")\n",
    "n_recommend_movies.show()"
   ]
  },
  {
   "cell_type": "code",
   "execution_count": 73,
   "id": "ae15acba",
   "metadata": {},
   "outputs": [],
   "source": [
    "from pyspark.sql.types import IntegerType"
   ]
  },
  {
   "cell_type": "code",
   "execution_count": null,
   "id": "d22dc832",
   "metadata": {},
   "outputs": [],
   "source": [
    "users_df = spark.createDataFrame([user_id], IntegerType()).toDF('userId')\n",
    "users_df.show()"
   ]
  },
  {
   "cell_type": "code",
   "execution_count": null,
   "id": "12ea4c85",
   "metadata": {},
   "outputs": [],
   "source": [
    "user_recs_df = model.recommendForUserSubset(users_df, 10)\n",
    "user_recs_df.show()"
   ]
  },
  {
   "cell_type": "code",
   "execution_count": 78,
   "id": "dfdfeb5d",
   "metadata": {},
   "outputs": [
    {
     "data": {
      "text/plain": [
       "[Row(movieId=128667, rating=8.223953247070312),\n",
       " Row(movieId=189913, rating=8.035085678100586),\n",
       " Row(movieId=154860, rating=7.740911483764648),\n",
       " Row(movieId=124519, rating=7.721704483032227),\n",
       " Row(movieId=171295, rating=7.544284820556641),\n",
       " Row(movieId=198657, rating=7.4268479347229),\n",
       " Row(movieId=135470, rating=7.386353015899658),\n",
       " Row(movieId=152043, rating=7.322592258453369),\n",
       " Row(movieId=206064, rating=7.216521263122559),\n",
       " Row(movieId=153184, rating=7.093982219696045)]"
      ]
     },
     "execution_count": 78,
     "metadata": {},
     "output_type": "execute_result"
    }
   ],
   "source": [
    "recs_list = user_recs_df.collect()[0].recommendations\n",
    "recs_list"
   ]
  },
  {
   "cell_type": "code",
   "execution_count": 79,
   "id": "a1b8e8d8",
   "metadata": {},
   "outputs": [
    {
     "name": "stdout",
     "output_type": "stream",
     "text": [
      "+-------+-----------------+\n",
      "|movieId|           rating|\n",
      "+-------+-----------------+\n",
      "| 128667|8.223953247070312|\n",
      "| 189913|8.035085678100586|\n",
      "| 154860|7.740911483764648|\n",
      "| 124519|7.721704483032227|\n",
      "| 171295|7.544284820556641|\n",
      "| 198657|  7.4268479347229|\n",
      "| 135470|7.386353015899658|\n",
      "| 152043|7.322592258453369|\n",
      "| 206064|7.216521263122559|\n",
      "| 153184|7.093982219696045|\n",
      "+-------+-----------------+\n",
      "\n"
     ]
    }
   ],
   "source": [
    "recs_df = spark.createDataFrame(recs_list)\n",
    "recs_df.show()"
   ]
  },
  {
   "cell_type": "code",
   "execution_count": 81,
   "id": "343b1135",
   "metadata": {},
   "outputs": [],
   "source": [
    "recs_df.createOrReplaceTempView(\"recommendations\")\n",
    "movie_df.createOrReplaceTempView(\"movies\")"
   ]
  },
  {
   "cell_type": "code",
   "execution_count": 88,
   "id": "576b90b3",
   "metadata": {},
   "outputs": [
    {
     "name": "stdout",
     "output_type": "stream",
     "text": [
      "+-------+--------------------+--------------------+-----------------+\n",
      "|movieId|               title|              genres|           rating|\n",
      "+-------+--------------------+--------------------+-----------------+\n",
      "| 128667|      Wiseguy (1996)|  (no genres listed)|8.223953247070312|\n",
      "| 189913|Todd McFarlane's ...|Action|Animation|...|8.035085678100586|\n",
      "| 154860|       Mother (2016)|  (no genres listed)|7.740911483764648|\n",
      "| 124519|Snow White and th...|Adventure|Childre...|7.721704483032227|\n",
      "| 171295|Doug Stanhope: De...|              Comedy|7.544284820556641|\n",
      "| 198657|  Manikarnika (2019)|        Action|Drama|  7.4268479347229|\n",
      "| 135470| Without Fail (2014)|              Comedy|7.386353015899658|\n",
      "| 152043|       Leader (2010)|       Drama|Romance|7.322592258453369|\n",
      "| 206064|Secret Millionair...|             Romance|7.216521263122559|\n",
      "| 153184|          Vergeef me|  (no genres listed)|7.093982219696045|\n",
      "+-------+--------------------+--------------------+-----------------+\n",
      "\n"
     ]
    }
   ],
   "source": [
    "query = \"\"\"\n",
    "SELECT M.movieId, M.title, M.genres, R.rating\n",
    "FROM movies M\n",
    "JOIN recommendations R\n",
    "ON M.movieId = R.movieId\n",
    "ORDER BY rating desc\n",
    "\"\"\"\n",
    "\n",
    "recommended_movies = spark.sql(query)\n",
    "recommended_movies.show()"
   ]
  },
  {
   "cell_type": "code",
   "execution_count": 90,
   "id": "5629977e",
   "metadata": {},
   "outputs": [],
   "source": [
    "spark.stop()"
   ]
  },
  {
   "cell_type": "code",
   "execution_count": null,
   "id": "b44bd28d",
   "metadata": {},
   "outputs": [],
   "source": []
  }
 ],
 "metadata": {
  "kernelspec": {
   "display_name": "Python 3 (ipykernel)",
   "language": "python",
   "name": "python3"
  },
  "language_info": {
   "codemirror_mode": {
    "name": "ipython",
    "version": 3
   },
   "file_extension": ".py",
   "mimetype": "text/x-python",
   "name": "python",
   "nbconvert_exporter": "python",
   "pygments_lexer": "ipython3",
   "version": "3.8.12"
  }
 },
 "nbformat": 4,
 "nbformat_minor": 5
}
