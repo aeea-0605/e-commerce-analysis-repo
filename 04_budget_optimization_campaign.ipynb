{
 "cells": [
  {
   "cell_type": "markdown",
   "id": "b9341093",
   "metadata": {},
   "source": [
    "# Action 2 : 기여도 분석 및 시뮬레이션을 통한 예산 최적화\n",
    "- 도메인 및 모델 기반 Attribution Model을 이용한 캠페인 기여도 분석"
   ]
  },
  {
   "cell_type": "markdown",
   "id": "d043a1ea",
   "metadata": {},
   "source": [
    "---"
   ]
  },
  {
   "cell_type": "markdown",
   "id": "3e6810df",
   "metadata": {},
   "source": [
    "---"
   ]
  },
  {
   "cell_type": "markdown",
   "id": "a14b5500",
   "metadata": {},
   "source": [
    "---"
   ]
  },
  {
   "cell_type": "markdown",
   "id": "6d8715f1",
   "metadata": {},
   "source": [
    "# 데이터 살펴보기\n",
    "- 마케팅 캠페인이 많다면 어떻게 최적화할 수 있을까?\n",
    "\n",
    "<br/>\n",
    "\n",
    "- 데이터셋 출처: https://ailab.criteo.com/ressources/ (광고 리타겟팅 회사 Criteo)\n",
    "\n",
    "<br/>\n",
    "\n",
    "- **Timestamp**: timestamp of the impression\n",
    "    - 캠페인이 노출된 시간\n",
    "- **UID**: unique user identifier : user id\n",
    "- **Campaign**: unique campaign identifier\n",
    "    - 유니크한 캠페인의 ID\n",
    "- **Conversion**: 1 if there was a conversion in the 30 days after the impression; 0 otherwise\n",
    "    - 노출 후에 30일 이내에 전환이 일어나면 1\n",
    "- **Conversion ID**: a unique identifier for each conversion\n",
    "    - 전환이 일어났을 때, 전환에 대한 유니크한 ID\n",
    "- **Click**: 1 if the impression was clicked; 0 otherwise\n",
    "    - 유저가 노출된 것을 보고 클릭하면 1, 무시하면 0\n",
    "- **Cost**: the price paid for this ad\n",
    "- **Cat1-Cat9**: categorical features associated with the ad. These features’ semantic meaning is not disclosed.\n",
    "    - 캠페인이 어떤 카테고리에 속하는지에 대한 카테고리 정보"
   ]
  },
  {
   "cell_type": "code",
   "execution_count": 1,
   "id": "e65592a1",
   "metadata": {},
   "outputs": [
    {
     "name": "stdout",
     "output_type": "stream",
     "text": [
      "(602160, 23)\n"
     ]
    },
    {
     "data": {
      "text/html": [
       "<div>\n",
       "<style scoped>\n",
       "    .dataframe tbody tr th:only-of-type {\n",
       "        vertical-align: middle;\n",
       "    }\n",
       "\n",
       "    .dataframe tbody tr th {\n",
       "        vertical-align: top;\n",
       "    }\n",
       "\n",
       "    .dataframe thead th {\n",
       "        text-align: right;\n",
       "    }\n",
       "</style>\n",
       "<table border=\"1\" class=\"dataframe\">\n",
       "  <thead>\n",
       "    <tr style=\"text-align: right;\">\n",
       "      <th></th>\n",
       "      <th>timestamp</th>\n",
       "      <th>uid</th>\n",
       "      <th>campaign</th>\n",
       "      <th>conversion</th>\n",
       "      <th>conversion_timestamp</th>\n",
       "      <th>conversion_id</th>\n",
       "      <th>attribution</th>\n",
       "      <th>click</th>\n",
       "      <th>click_pos</th>\n",
       "      <th>click_nb</th>\n",
       "      <th>...</th>\n",
       "      <th>cat1</th>\n",
       "      <th>cat2</th>\n",
       "      <th>cat3</th>\n",
       "      <th>cat4</th>\n",
       "      <th>cat5</th>\n",
       "      <th>cat6</th>\n",
       "      <th>cat7</th>\n",
       "      <th>cat8</th>\n",
       "      <th>cat9</th>\n",
       "      <th>jid</th>\n",
       "    </tr>\n",
       "  </thead>\n",
       "  <tbody>\n",
       "    <tr>\n",
       "      <th>0</th>\n",
       "      <td>209415</td>\n",
       "      <td>21670661</td>\n",
       "      <td>10474106</td>\n",
       "      <td>1</td>\n",
       "      <td>1420115</td>\n",
       "      <td>17559949</td>\n",
       "      <td>0</td>\n",
       "      <td>1</td>\n",
       "      <td>4</td>\n",
       "      <td>8</td>\n",
       "      <td>...</td>\n",
       "      <td>30763035</td>\n",
       "      <td>9312274</td>\n",
       "      <td>30867372</td>\n",
       "      <td>29196072</td>\n",
       "      <td>11409684</td>\n",
       "      <td>30763035</td>\n",
       "      <td>8549927</td>\n",
       "      <td>29196072</td>\n",
       "      <td>29520626</td>\n",
       "      <td>21670661_17559949</td>\n",
       "    </tr>\n",
       "    <tr>\n",
       "      <th>1</th>\n",
       "      <td>225512</td>\n",
       "      <td>32320979</td>\n",
       "      <td>28874676</td>\n",
       "      <td>0</td>\n",
       "      <td>-1</td>\n",
       "      <td>-1</td>\n",
       "      <td>0</td>\n",
       "      <td>1</td>\n",
       "      <td>-1</td>\n",
       "      <td>-1</td>\n",
       "      <td>...</td>\n",
       "      <td>30763035</td>\n",
       "      <td>9312274</td>\n",
       "      <td>1461750</td>\n",
       "      <td>29196072</td>\n",
       "      <td>26611394</td>\n",
       "      <td>1973606</td>\n",
       "      <td>30600973</td>\n",
       "      <td>9068204</td>\n",
       "      <td>15351053</td>\n",
       "      <td>32320979_-1</td>\n",
       "    </tr>\n",
       "  </tbody>\n",
       "</table>\n",
       "<p>2 rows × 23 columns</p>\n",
       "</div>"
      ],
      "text/plain": [
       "   timestamp       uid  campaign  conversion  conversion_timestamp  \\\n",
       "0     209415  21670661  10474106           1               1420115   \n",
       "1     225512  32320979  28874676           0                    -1   \n",
       "\n",
       "   conversion_id  attribution  click  click_pos  click_nb  ...      cat1  \\\n",
       "0       17559949            0      1          4         8  ...  30763035   \n",
       "1             -1            0      1         -1        -1  ...  30763035   \n",
       "\n",
       "      cat2      cat3      cat4      cat5      cat6      cat7      cat8  \\\n",
       "0  9312274  30867372  29196072  11409684  30763035   8549927  29196072   \n",
       "1  9312274   1461750  29196072  26611394   1973606  30600973   9068204   \n",
       "\n",
       "       cat9                jid  \n",
       "0  29520626  21670661_17559949  \n",
       "1  15351053        32320979_-1  \n",
       "\n",
       "[2 rows x 23 columns]"
      ]
     },
     "execution_count": 1,
     "metadata": {},
     "output_type": "execute_result"
    }
   ],
   "source": [
    "df = pd.read_csv('data/criteo_attribution_dataset_sampled_campaign_300_journey_over_2_points_balanced.csv')\n",
    "df = df.iloc[:, 2:]\n",
    "\n",
    "print(df.shape)\n",
    "df.head(2)"
   ]
  },
  {
   "cell_type": "code",
   "execution_count": 2,
   "id": "7a94af9e",
   "metadata": {},
   "outputs": [
    {
     "name": "stdout",
     "output_type": "stream",
     "text": [
      "timestamp Unique Classes : 501483\n",
      "uid Unique Classes : 107463\n",
      "campaign Unique Classes : 300\n",
      "conversion Unique Classes : 2\n",
      "conversion_timestamp Unique Classes : 78799\n",
      "conversion_id Unique Classes : 79768\n",
      "attribution Unique Classes : 2\n",
      "click Unique Classes : 2\n",
      "click_pos Unique Classes : 143\n",
      "click_nb Unique Classes : 89\n",
      "cost Unique Classes : 524248\n",
      "cpo Unique Classes : 104681\n",
      "time_since_last_click Unique Classes : 313370\n",
      "cat1 Unique Classes : 9\n",
      "cat2 Unique Classes : 44\n",
      "cat3 Unique Classes : 818\n",
      "cat4 Unique Classes : 19\n",
      "cat5 Unique Classes : 41\n",
      "cat6 Unique Classes : 30\n",
      "cat7 Unique Classes : 7431\n",
      "cat8 Unique Classes : 11\n",
      "cat9 Unique Classes : 30\n",
      "jid Unique Classes : 124258\n"
     ]
    }
   ],
   "source": [
    "for col in df.columns:\n",
    "    print(f\"{col} Unique Classes : {df[col].nunique()}\")"
   ]
  },
  {
   "cell_type": "markdown",
   "id": "d06bc1ff",
   "metadata": {},
   "source": [
    "---"
   ]
  },
  {
   "cell_type": "markdown",
   "id": "1e68f85e",
   "metadata": {},
   "source": [
    "### 자주 등장하는 상위 50개의 캠페인 추출\n",
    "- 300개의 종류를 가진 캠페인을 상위 50개에 대한 캠페인만 필터링해서 데이터셋 추출"
   ]
  },
  {
   "cell_type": "code",
   "execution_count": 3,
   "id": "6d0da27c",
   "metadata": {},
   "outputs": [
    {
     "name": "stdout",
     "output_type": "stream",
     "text": [
      "50\n",
      "(451364, 24)\n"
     ]
    }
   ],
   "source": [
    "campaign_50 = (\n",
    "    df.groupby('campaign')['timestamp']\n",
    "    .count()\n",
    "    .sort_values(ascending=False)\n",
    "    .reset_index()\n",
    "    .rename({'timestamp': 'camp_cnt'}, axis=1)\n",
    "    .head(50)\n",
    ")\n",
    "\n",
    "filtered_df = df.merge(campaign_50, on='campaign')\n",
    "\n",
    "print(filtered_df.campaign.nunique())\n",
    "print(filtered_df.shape)\n",
    "df = filtered_df"
   ]
  },
  {
   "cell_type": "code",
   "execution_count": 4,
   "id": "4a24920a",
   "metadata": {},
   "outputs": [
    {
     "name": "stdout",
     "output_type": "stream",
     "text": [
      "<class 'pandas.core.frame.DataFrame'>\n",
      "Int64Index: 451364 entries, 0 to 451363\n",
      "Data columns (total 24 columns):\n",
      " #   Column                 Non-Null Count   Dtype  \n",
      "---  ------                 --------------   -----  \n",
      " 0   timestamp              451364 non-null  int64  \n",
      " 1   uid                    451364 non-null  int64  \n",
      " 2   campaign               451364 non-null  int64  \n",
      " 3   conversion             451364 non-null  int64  \n",
      " 4   conversion_timestamp   451364 non-null  int64  \n",
      " 5   conversion_id          451364 non-null  int64  \n",
      " 6   attribution            451364 non-null  int64  \n",
      " 7   click                  451364 non-null  int64  \n",
      " 8   click_pos              451364 non-null  int64  \n",
      " 9   click_nb               451364 non-null  int64  \n",
      " 10  cost                   451364 non-null  float64\n",
      " 11  cpo                    451364 non-null  float64\n",
      " 12  time_since_last_click  451364 non-null  int64  \n",
      " 13  cat1                   451364 non-null  int64  \n",
      " 14  cat2                   451364 non-null  int64  \n",
      " 15  cat3                   451364 non-null  int64  \n",
      " 16  cat4                   451364 non-null  int64  \n",
      " 17  cat5                   451364 non-null  int64  \n",
      " 18  cat6                   451364 non-null  int64  \n",
      " 19  cat7                   451364 non-null  int64  \n",
      " 20  cat8                   451364 non-null  int64  \n",
      " 21  cat9                   451364 non-null  int64  \n",
      " 22  jid                    451364 non-null  object \n",
      " 23  camp_cnt               451364 non-null  int64  \n",
      "dtypes: float64(2), int64(21), object(1)\n",
      "memory usage: 86.1+ MB\n"
     ]
    }
   ],
   "source": [
    "df.info()"
   ]
  },
  {
   "cell_type": "markdown",
   "id": "53965abc",
   "metadata": {},
   "source": [
    "---"
   ]
  },
  {
   "cell_type": "markdown",
   "id": "13cb5af9",
   "metadata": {},
   "source": [
    "### 유저가 전환되기까지 얼마나 많은 캠페인에 노출되는지"
   ]
  },
  {
   "cell_type": "code",
   "execution_count": 5,
   "id": "0eaf1ce2",
   "metadata": {},
   "outputs": [
    {
     "data": {
      "text/html": [
       "<div>\n",
       "<style scoped>\n",
       "    .dataframe tbody tr th:only-of-type {\n",
       "        vertical-align: middle;\n",
       "    }\n",
       "\n",
       "    .dataframe tbody tr th {\n",
       "        vertical-align: top;\n",
       "    }\n",
       "\n",
       "    .dataframe thead th {\n",
       "        text-align: right;\n",
       "    }\n",
       "</style>\n",
       "<table border=\"1\" class=\"dataframe\">\n",
       "  <thead>\n",
       "    <tr style=\"text-align: right;\">\n",
       "      <th></th>\n",
       "      <th>jid</th>\n",
       "      <th>timestamp</th>\n",
       "    </tr>\n",
       "  </thead>\n",
       "  <tbody>\n",
       "    <tr>\n",
       "      <th>0</th>\n",
       "      <td>10000148_-1</td>\n",
       "      <td>9</td>\n",
       "    </tr>\n",
       "    <tr>\n",
       "      <th>1</th>\n",
       "      <td>1000023_5282678</td>\n",
       "      <td>2</td>\n",
       "    </tr>\n",
       "  </tbody>\n",
       "</table>\n",
       "</div>"
      ],
      "text/plain": [
       "               jid  timestamp\n",
       "0      10000148_-1          9\n",
       "1  1000023_5282678          2"
      ]
     },
     "execution_count": 5,
     "metadata": {},
     "output_type": "execute_result"
    }
   ],
   "source": [
    "# jid별 이벤트 수\n",
    "event_per_jid = df.groupby('jid')['timestamp'].count().reset_index()\n",
    "event_per_jid.head(2)"
   ]
  },
  {
   "cell_type": "code",
   "execution_count": 6,
   "id": "eb08e428",
   "metadata": {},
   "outputs": [
    {
     "data": {
      "text/html": [
       "<div>\n",
       "<style scoped>\n",
       "    .dataframe tbody tr th:only-of-type {\n",
       "        vertical-align: middle;\n",
       "    }\n",
       "\n",
       "    .dataframe tbody tr th {\n",
       "        vertical-align: top;\n",
       "    }\n",
       "\n",
       "    .dataframe thead th {\n",
       "        text-align: right;\n",
       "    }\n",
       "</style>\n",
       "<table border=\"1\" class=\"dataframe\">\n",
       "  <thead>\n",
       "    <tr style=\"text-align: right;\">\n",
       "      <th></th>\n",
       "      <th>event_count</th>\n",
       "      <th>journey_count</th>\n",
       "    </tr>\n",
       "  </thead>\n",
       "  <tbody>\n",
       "    <tr>\n",
       "      <th>0</th>\n",
       "      <td>1</td>\n",
       "      <td>2653</td>\n",
       "    </tr>\n",
       "    <tr>\n",
       "      <th>1</th>\n",
       "      <td>2</td>\n",
       "      <td>36617</td>\n",
       "    </tr>\n",
       "    <tr>\n",
       "      <th>2</th>\n",
       "      <td>3</td>\n",
       "      <td>17702</td>\n",
       "    </tr>\n",
       "  </tbody>\n",
       "</table>\n",
       "</div>"
      ],
      "text/plain": [
       "   event_count  journey_count\n",
       "0            1           2653\n",
       "1            2          36617\n",
       "2            3          17702"
      ]
     },
     "execution_count": 6,
     "metadata": {},
     "output_type": "execute_result"
    }
   ],
   "source": [
    "# 노출된 캠페인 수별 jid수\n",
    "jid_cnt_per_event = event_per_jid.groupby('timestamp')['jid'].count()\n",
    "\n",
    "event_journey = pd.DataFrame({\n",
    "    'event_count': jid_cnt_per_event.index, 'journey_count': jid_cnt_per_event.values\n",
    "})\n",
    "event_journey.head(3)"
   ]
  },
  {
   "cell_type": "markdown",
   "id": "61c9d861",
   "metadata": {},
   "source": [
    "### 전이별 캠페인을 몇 개 보는지"
   ]
  },
  {
   "cell_type": "code",
   "execution_count": 7,
   "id": "1780b874",
   "metadata": {},
   "outputs": [
    {
     "data": {
      "text/html": [
       "<div>\n",
       "<style scoped>\n",
       "    .dataframe tbody tr th:only-of-type {\n",
       "        vertical-align: middle;\n",
       "    }\n",
       "\n",
       "    .dataframe tbody tr th {\n",
       "        vertical-align: top;\n",
       "    }\n",
       "\n",
       "    .dataframe thead th {\n",
       "        text-align: right;\n",
       "    }\n",
       "</style>\n",
       "<table border=\"1\" class=\"dataframe\">\n",
       "  <thead>\n",
       "    <tr style=\"text-align: right;\">\n",
       "      <th></th>\n",
       "      <th>campaign_count</th>\n",
       "      <th>journey_count</th>\n",
       "    </tr>\n",
       "  </thead>\n",
       "  <tbody>\n",
       "    <tr>\n",
       "      <th>0</th>\n",
       "      <td>1</td>\n",
       "      <td>89749</td>\n",
       "    </tr>\n",
       "    <tr>\n",
       "      <th>1</th>\n",
       "      <td>2</td>\n",
       "      <td>5120</td>\n",
       "    </tr>\n",
       "    <tr>\n",
       "      <th>2</th>\n",
       "      <td>3</td>\n",
       "      <td>472</td>\n",
       "    </tr>\n",
       "  </tbody>\n",
       "</table>\n",
       "</div>"
      ],
      "text/plain": [
       "   campaign_count  journey_count\n",
       "0               1          89749\n",
       "1               2           5120\n",
       "2               3            472"
      ]
     },
     "execution_count": 7,
     "metadata": {},
     "output_type": "execute_result"
    }
   ],
   "source": [
    "campaign_per_jid = df.groupby('jid')['campaign'].nunique().reset_index()\n",
    "\n",
    "jid_cnt_per_campaign = campaign_per_jid.groupby('campaign')['jid'].count()\n",
    "\n",
    "campaign_journey = pd.DataFrame({\n",
    "    'campaign_count': jid_cnt_per_campaign.index, 'journey_count': jid_cnt_per_campaign.values\n",
    "})\n",
    "campaign_journey.head(3)"
   ]
  },
  {
   "cell_type": "markdown",
   "id": "8d99f184",
   "metadata": {},
   "source": [
    "---"
   ]
  },
  {
   "cell_type": "markdown",
   "id": "9bc39fb2",
   "metadata": {},
   "source": [
    "### 정리\n",
    "- 상위 50개의 캠페인을 포함한 데이터 필터링 결과 : 602160 rows > 451364 rows\n",
    "- 결측데이터는 존재하지 않음\n",
    "- 캠페인에 한 번 노출된 전이 수는 2653, 두 번은 36617, 세 번은 17702개 이다.\n",
    "- 전이별 캠페인 한 개에 노출된 수는 89749명, 두 개는 5120명, 세 개는 472명 이다."
   ]
  },
  {
   "cell_type": "markdown",
   "id": "0d7e94d0",
   "metadata": {},
   "source": [
    "---"
   ]
  },
  {
   "cell_type": "markdown",
   "id": "d6555c30",
   "metadata": {},
   "source": [
    "---"
   ]
  },
  {
   "cell_type": "markdown",
   "id": "31ecb3fa",
   "metadata": {},
   "source": [
    "---"
   ]
  },
  {
   "cell_type": "markdown",
   "id": "143e76d6",
   "metadata": {},
   "source": [
    "# Logistic Regression 을 통한 캠페인 예산 분배 최적화\n",
    "- Conversion을 예측하는 모델 생성 후 생긴 가중치 벡터에서 각 캠페인에 대한 부분만 추출"
   ]
  },
  {
   "cell_type": "markdown",
   "id": "6e9e635b",
   "metadata": {},
   "source": [
    "## 데이터 전처리\n",
    "- 행이 이벤트 단위로 되어 있는 것을 전이 단위로 변환"
   ]
  },
  {
   "cell_type": "code",
   "execution_count": 8,
   "id": "fa6d2bdf",
   "metadata": {},
   "outputs": [],
   "source": [
    "from sklearn.preprocessing import MinMaxScaler\n",
    "from sklearn.preprocessing import OneHotEncoder"
   ]
  },
  {
   "cell_type": "markdown",
   "id": "78beee2c",
   "metadata": {},
   "source": [
    "#### timestamp 스케일링"
   ]
  },
  {
   "cell_type": "code",
   "execution_count": 9,
   "id": "6c509190",
   "metadata": {},
   "outputs": [],
   "source": [
    "mm_scaler = MinMaxScaler()\n",
    "\n",
    "df['timestamp_norm'] = mm_scaler.fit_transform(df[['timestamp']])"
   ]
  },
  {
   "cell_type": "markdown",
   "id": "e5bd28b4",
   "metadata": {},
   "source": [
    "#### 범주형 변수 원핫인코딩"
   ]
  },
  {
   "cell_type": "code",
   "execution_count": 10,
   "id": "34abf667",
   "metadata": {},
   "outputs": [],
   "source": [
    "# 캠페인 변수 원핫인코딩 \n",
    "camp_encoder = OneHotEncoder(drop='if_binary').fit(df.campaign.values.reshape(-1, 1))\n",
    "\n",
    "camp_matrix = camp_encoder.transform(df.campaign.values.reshape(-1, 1))\n",
    "\n",
    "df['campaigns'] = [list(v) for v in camp_matrix.toarray()]"
   ]
  },
  {
   "cell_type": "code",
   "execution_count": 11,
   "id": "d3262b7c",
   "metadata": {},
   "outputs": [],
   "source": [
    "# 카테고리 변수 원핫인코딩\n",
    "cate_cols = ['cat1', 'cat2', 'cat3', 'cat4', 'cat5', 'cat6', 'cat8', 'cat9']\n",
    "cate_encoder = OneHotEncoder(drop='if_binary').fit(df[cate_cols])\n",
    "\n",
    "cate_matrix = cate_encoder.transform(df[cate_cols])\n",
    "df['cates'] = [list(v) for v in cate_matrix.toarray()]"
   ]
  },
  {
   "cell_type": "code",
   "execution_count": 12,
   "id": "bef8e421",
   "metadata": {},
   "outputs": [
    {
     "data": {
      "text/html": [
       "<div>\n",
       "<style scoped>\n",
       "    .dataframe tbody tr th:only-of-type {\n",
       "        vertical-align: middle;\n",
       "    }\n",
       "\n",
       "    .dataframe tbody tr th {\n",
       "        vertical-align: top;\n",
       "    }\n",
       "\n",
       "    .dataframe thead th {\n",
       "        text-align: right;\n",
       "    }\n",
       "</style>\n",
       "<table border=\"1\" class=\"dataframe\">\n",
       "  <thead>\n",
       "    <tr style=\"text-align: right;\">\n",
       "      <th></th>\n",
       "      <th>timestamp</th>\n",
       "      <th>uid</th>\n",
       "      <th>campaign</th>\n",
       "      <th>conversion</th>\n",
       "      <th>conversion_timestamp</th>\n",
       "      <th>conversion_id</th>\n",
       "      <th>attribution</th>\n",
       "      <th>click</th>\n",
       "      <th>click_pos</th>\n",
       "      <th>click_nb</th>\n",
       "      <th>...</th>\n",
       "      <th>cat5</th>\n",
       "      <th>cat6</th>\n",
       "      <th>cat7</th>\n",
       "      <th>cat8</th>\n",
       "      <th>cat9</th>\n",
       "      <th>jid</th>\n",
       "      <th>camp_cnt</th>\n",
       "      <th>timestamp_norm</th>\n",
       "      <th>campaigns</th>\n",
       "      <th>cates</th>\n",
       "    </tr>\n",
       "  </thead>\n",
       "  <tbody>\n",
       "    <tr>\n",
       "      <th>0</th>\n",
       "      <td>209415</td>\n",
       "      <td>21670661</td>\n",
       "      <td>10474106</td>\n",
       "      <td>1</td>\n",
       "      <td>1420115</td>\n",
       "      <td>17559949</td>\n",
       "      <td>0</td>\n",
       "      <td>1</td>\n",
       "      <td>4</td>\n",
       "      <td>8</td>\n",
       "      <td>...</td>\n",
       "      <td>11409684</td>\n",
       "      <td>30763035</td>\n",
       "      <td>8549927</td>\n",
       "      <td>29196072</td>\n",
       "      <td>29520626</td>\n",
       "      <td>21670661_17559949</td>\n",
       "      <td>7890</td>\n",
       "      <td>0.078397</td>\n",
       "      <td>[0.0, 0.0, 0.0, 0.0, 0.0, 0.0, 0.0, 0.0, 0.0, ...</td>\n",
       "      <td>[0.0, 0.0, 0.0, 0.0, 0.0, 0.0, 0.0, 0.0, 1.0, ...</td>\n",
       "    </tr>\n",
       "    <tr>\n",
       "      <th>1</th>\n",
       "      <td>1238119</td>\n",
       "      <td>3661462</td>\n",
       "      <td>10474106</td>\n",
       "      <td>1</td>\n",
       "      <td>1672978</td>\n",
       "      <td>24286866</td>\n",
       "      <td>0</td>\n",
       "      <td>1</td>\n",
       "      <td>3</td>\n",
       "      <td>5</td>\n",
       "      <td>...</td>\n",
       "      <td>11409684</td>\n",
       "      <td>28928366</td>\n",
       "      <td>8549927</td>\n",
       "      <td>29196072</td>\n",
       "      <td>29520629</td>\n",
       "      <td>3661462_24286866</td>\n",
       "      <td>7890</td>\n",
       "      <td>0.463510</td>\n",
       "      <td>[0.0, 0.0, 0.0, 0.0, 0.0, 0.0, 0.0, 0.0, 0.0, ...</td>\n",
       "      <td>[0.0, 0.0, 0.0, 0.0, 0.0, 0.0, 0.0, 0.0, 1.0, ...</td>\n",
       "    </tr>\n",
       "  </tbody>\n",
       "</table>\n",
       "<p>2 rows × 27 columns</p>\n",
       "</div>"
      ],
      "text/plain": [
       "   timestamp       uid  campaign  conversion  conversion_timestamp  \\\n",
       "0     209415  21670661  10474106           1               1420115   \n",
       "1    1238119   3661462  10474106           1               1672978   \n",
       "\n",
       "   conversion_id  attribution  click  click_pos  click_nb  ...      cat5  \\\n",
       "0       17559949            0      1          4         8  ...  11409684   \n",
       "1       24286866            0      1          3         5  ...  11409684   \n",
       "\n",
       "       cat6     cat7      cat8      cat9                jid  camp_cnt  \\\n",
       "0  30763035  8549927  29196072  29520626  21670661_17559949      7890   \n",
       "1  28928366  8549927  29196072  29520629   3661462_24286866      7890   \n",
       "\n",
       "   timestamp_norm                                          campaigns  \\\n",
       "0        0.078397  [0.0, 0.0, 0.0, 0.0, 0.0, 0.0, 0.0, 0.0, 0.0, ...   \n",
       "1        0.463510  [0.0, 0.0, 0.0, 0.0, 0.0, 0.0, 0.0, 0.0, 0.0, ...   \n",
       "\n",
       "                                               cates  \n",
       "0  [0.0, 0.0, 0.0, 0.0, 0.0, 0.0, 0.0, 0.0, 1.0, ...  \n",
       "1  [0.0, 0.0, 0.0, 0.0, 0.0, 0.0, 0.0, 0.0, 1.0, ...  \n",
       "\n",
       "[2 rows x 27 columns]"
      ]
     },
     "execution_count": 12,
     "metadata": {},
     "output_type": "execute_result"
    }
   ],
   "source": [
    "df.head(2)"
   ]
  },
  {
   "cell_type": "code",
   "execution_count": 15,
   "id": "59628663",
   "metadata": {},
   "outputs": [],
   "source": [
    "def element_wise_max(series):\n",
    "    return np.max(series.tolist(), axis=0).tolist()\n",
    "\n",
    "aggregation = {\n",
    "    'campaigns': element_wise_max,\n",
    "    'cates': element_wise_max,\n",
    "    'click': 'sum',\n",
    "    'cost': 'sum',\n",
    "    'conversion': 'max'\n",
    "}"
   ]
  },
  {
   "cell_type": "code",
   "execution_count": 16,
   "id": "3ada67f7",
   "metadata": {},
   "outputs": [
    {
     "data": {
      "text/plain": [
       "jid\n",
       "10000148_-1        [[0.0, 0.0, 0.0, 0.0, 0.0, 0.0, 0.0, 0.0, 0.0,...\n",
       "1000023_5282678    [[0.0, 0.0, 0.0, 0.0, 0.0, 0.0, 0.0, 0.0, 0.0,...\n",
       "Name: features, dtype: object"
      ]
     },
     "execution_count": 16,
     "metadata": {},
     "output_type": "execute_result"
    }
   ],
   "source": [
    "agg_df = df.groupby('jid').agg(aggregation)\n",
    "\n",
    "agg_df['features'] = agg_df[['campaigns', 'cates', 'click', 'cost']].values.tolist()\n",
    "agg_df['features'].head(2)"
   ]
  },
  {
   "cell_type": "code",
   "execution_count": 17,
   "id": "5c427688",
   "metadata": {},
   "outputs": [
    {
     "name": "stdout",
     "output_type": "stream",
     "text": [
      "(95388, 2)\n"
     ]
    },
    {
     "data": {
      "text/html": [
       "<div>\n",
       "<style scoped>\n",
       "    .dataframe tbody tr th:only-of-type {\n",
       "        vertical-align: middle;\n",
       "    }\n",
       "\n",
       "    .dataframe tbody tr th {\n",
       "        vertical-align: top;\n",
       "    }\n",
       "\n",
       "    .dataframe thead th {\n",
       "        text-align: right;\n",
       "    }\n",
       "</style>\n",
       "<table border=\"1\" class=\"dataframe\">\n",
       "  <thead>\n",
       "    <tr style=\"text-align: right;\">\n",
       "      <th></th>\n",
       "      <th>features</th>\n",
       "      <th>conversion</th>\n",
       "    </tr>\n",
       "    <tr>\n",
       "      <th>jid</th>\n",
       "      <th></th>\n",
       "      <th></th>\n",
       "    </tr>\n",
       "  </thead>\n",
       "  <tbody>\n",
       "    <tr>\n",
       "      <th>10000148_-1</th>\n",
       "      <td>[[0.0, 0.0, 0.0, 0.0, 0.0, 0.0, 0.0, 0.0, 0.0,...</td>\n",
       "      <td>0</td>\n",
       "    </tr>\n",
       "    <tr>\n",
       "      <th>1000023_5282678</th>\n",
       "      <td>[[0.0, 0.0, 0.0, 0.0, 0.0, 0.0, 0.0, 0.0, 0.0,...</td>\n",
       "      <td>1</td>\n",
       "    </tr>\n",
       "  </tbody>\n",
       "</table>\n",
       "</div>"
      ],
      "text/plain": [
       "                                                          features  conversion\n",
       "jid                                                                           \n",
       "10000148_-1      [[0.0, 0.0, 0.0, 0.0, 0.0, 0.0, 0.0, 0.0, 0.0,...           0\n",
       "1000023_5282678  [[0.0, 0.0, 0.0, 0.0, 0.0, 0.0, 0.0, 0.0, 0.0,...           1"
      ]
     },
     "execution_count": 17,
     "metadata": {},
     "output_type": "execute_result"
    }
   ],
   "source": [
    "agg_df = agg_df[['features', 'conversion']]\n",
    "\n",
    "print(agg_df.shape)\n",
    "agg_df.head(2)"
   ]
  },
  {
   "cell_type": "markdown",
   "id": "9f72f740",
   "metadata": {},
   "source": [
    "#### 데이터셋 저장\n",
    "- pkl 파일로 저장"
   ]
  },
  {
   "cell_type": "code",
   "execution_count": 18,
   "id": "f40ede46",
   "metadata": {},
   "outputs": [],
   "source": [
    "import pickle\n",
    "\n",
    "with open('data/campaign_50.pkl', 'wb') as f:\n",
    "    pickle.dump(agg_df, f)"
   ]
  },
  {
   "cell_type": "markdown",
   "id": "bc265ca1",
   "metadata": {},
   "source": [
    "---"
   ]
  },
  {
   "cell_type": "markdown",
   "id": "00f5f94a",
   "metadata": {},
   "source": [
    "### 데이터 불러오기"
   ]
  },
  {
   "cell_type": "code",
   "execution_count": 19,
   "id": "81a12120",
   "metadata": {},
   "outputs": [],
   "source": [
    "with open('data/campaign_50.pkl', 'rb') as f:\n",
    "    agg_df = pickle.load(f)"
   ]
  },
  {
   "cell_type": "code",
   "execution_count": 20,
   "id": "d415c2a7",
   "metadata": {},
   "outputs": [
    {
     "name": "stdout",
     "output_type": "stream",
     "text": [
      "(95388, 406) (95388,)\n"
     ]
    }
   ],
   "source": [
    "X = np.stack(agg_df['features'].map(lambda x: np.hstack(x)).values)\n",
    "y = agg_df['conversion'].values\n",
    "\n",
    "print(X.shape, y.shape)"
   ]
  },
  {
   "cell_type": "markdown",
   "id": "fca6d03e",
   "metadata": {},
   "source": [
    "### 데이터셋 세분화"
   ]
  },
  {
   "cell_type": "code",
   "execution_count": 21,
   "id": "8df14f03",
   "metadata": {},
   "outputs": [],
   "source": [
    "from sklearn.model_selection import train_test_split"
   ]
  },
  {
   "cell_type": "code",
   "execution_count": 22,
   "id": "be01dd98",
   "metadata": {},
   "outputs": [],
   "source": [
    "# Train / Test Dataset Split\n",
    "train_x, test_x, train_y, test_y = train_test_split(X, y, test_size = 0.2)\n",
    "\n",
    "# Train / Validation Dataset Split\n",
    "train_x, valid_x, train_y, valid_y = train_test_split(train_x, train_y, test_size = 0.2)"
   ]
  },
  {
   "cell_type": "markdown",
   "id": "76376373",
   "metadata": {},
   "source": [
    "---"
   ]
  },
  {
   "cell_type": "markdown",
   "id": "7273deec",
   "metadata": {},
   "source": [
    "---"
   ]
  },
  {
   "cell_type": "markdown",
   "id": "2452acc9",
   "metadata": {},
   "source": [
    "## Logistic Regression 모델 생성"
   ]
  },
  {
   "cell_type": "code",
   "execution_count": null,
   "id": "63e7657b",
   "metadata": {},
   "outputs": [],
   "source": []
  }
 ],
 "metadata": {
  "kernelspec": {
   "display_name": "Python 3",
   "language": "python",
   "name": "python3"
  },
  "language_info": {
   "codemirror_mode": {
    "name": "ipython",
    "version": 3
   },
   "file_extension": ".py",
   "mimetype": "text/x-python",
   "name": "python",
   "nbconvert_exporter": "python",
   "pygments_lexer": "ipython3",
   "version": "3.8.8"
  }
 },
 "nbformat": 4,
 "nbformat_minor": 5
}
