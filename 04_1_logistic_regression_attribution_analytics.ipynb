{
 "cells": [
  {
   "cell_type": "markdown",
   "metadata": {
    "id": "dU5oA6OnUHKv"
   },
   "source": [
    "# Logistic Regression 기여도 분석"
   ]
  },
  {
   "cell_type": "code",
   "execution_count": 1,
   "metadata": {
    "executionInfo": {
     "elapsed": 3601,
     "status": "ok",
     "timestamp": 1645542879394,
     "user": {
      "displayName": "이승주",
      "photoUrl": "https://lh3.googleusercontent.com/a/default-user=s64",
      "userId": "03309100051770270650"
     },
     "user_tz": -540
    },
    "id": "G9OYaI3hQCi6"
   },
   "outputs": [],
   "source": [
    "import os\n",
    "import pickle\n",
    "\n",
    "import numpy as np\n",
    "import pandas as pd\n",
    "\n",
    "from sklearn.model_selection import train_test_split\n",
    "\n",
    "import tensorflow as tf\n",
    "from tensorflow import keras\n",
    "from tensorflow.keras import layers\n",
    "from keras.callbacks import ModelCheckpoint, EarlyStopping"
   ]
  },
  {
   "cell_type": "markdown",
   "metadata": {
    "id": "i20FRdNS9hQt"
   },
   "source": [
    "### 모델링을 위한 데이터 전처리"
   ]
  },
  {
   "cell_type": "markdown",
   "metadata": {
    "id": "LZRdofRP9oMl"
   },
   "source": [
    "#### 데이터 불러오기"
   ]
  },
  {
   "cell_type": "code",
   "execution_count": null,
   "metadata": {
    "id": "4DHlgfArUREW"
   },
   "outputs": [],
   "source": [
    "with open('/content/drive/MyDrive/Colab_Notebooks/campaign_50.pkl', 'rb') as f:\n",
    "    agg_df = pickle.load(f)"
   ]
  },
  {
   "cell_type": "markdown",
   "metadata": {
    "id": "E1FwqUkT9uYy"
   },
   "source": [
    "#### 데이터셋 세분화"
   ]
  },
  {
   "cell_type": "code",
   "execution_count": null,
   "metadata": {
    "colab": {
     "base_uri": "https://localhost:8080/"
    },
    "executionInfo": {
     "elapsed": 3752,
     "status": "ok",
     "timestamp": 1645513962028,
     "user": {
      "displayName": "이승주",
      "photoUrl": "https://lh3.googleusercontent.com/a/default-user=s64",
      "userId": "03309100051770270650"
     },
     "user_tz": -540
    },
    "id": "0OX0U_FzPK5i",
    "outputId": "329af4f1-d87e-4efb-b4eb-6fe25cb03120"
   },
   "outputs": [
    {
     "name": "stdout",
     "output_type": "stream",
     "text": [
      "(95388, 406) (95388,)\n"
     ]
    }
   ],
   "source": [
    "# Features Matrix, Label Vector Split\n",
    "X = np.stack(agg_df['features'].map(lambda x: np.hstack(x)).values)\n",
    "y = agg_df['conversion'].values\n",
    "\n",
    "print(X.shape, y.shape)"
   ]
  },
  {
   "cell_type": "code",
   "execution_count": null,
   "metadata": {
    "id": "DSmFqWDjPB-J"
   },
   "outputs": [],
   "source": [
    "# Train / Test Dataset Split\n",
    "train_x, test_x, train_y, test_y = train_test_split(X, y, test_size=0.2)\n",
    "\n",
    "# Train / Validation Dataset Split\n",
    "train_x, valid_x, train_y, valid_y = train_test_split(train_x, train_y, test_size=0.2)"
   ]
  },
  {
   "cell_type": "markdown",
   "metadata": {
    "id": "v3HD81ZM-LGa"
   },
   "source": [
    "---"
   ]
  },
  {
   "cell_type": "markdown",
   "metadata": {
    "id": "JVPCttpv-EAV"
   },
   "source": [
    "### Logistic Regression 모델링\n",
    "- tensorflow.keras 를 이용해 모델링 진행"
   ]
  },
  {
   "cell_type": "code",
   "execution_count": null,
   "metadata": {
    "id": "m0qlfKfWQ8zW"
   },
   "outputs": [],
   "source": [
    "# Features Matrix의 변수의 개수를 입력노드로 받아 결과로서 한 개의 노드를 출력하는 네트워크 생성\n",
    "model = keras.Sequential()  \n",
    "model.add(layers.Dense(1, input_dim=X.shape[1], activation='sigmoid', name='contributions')) \n",
    "\n",
    "# optimizer & loss function 지정\n",
    "model.compile(optimizer='rmsprop', loss='binary_crossentropy', metrics=['accuracy']) "
   ]
  },
  {
   "cell_type": "code",
   "execution_count": null,
   "metadata": {
    "id": "1VdRXNoO-P_L"
   },
   "outputs": [],
   "source": [
    "# 과적합 방지 및 best_model 추출을 위한 callback 함수 설정\n",
    "MODEL_SAVE_FOLDER_PATH = '/content/drive/MyDrive/Colab_Notebooks/'\n",
    "if not os.path.exists(MODEL_SAVE_FOLDER_PATH):\n",
    "    os.mkdir(MODEL_SAVE_FOLDER_PATH)\n",
    "\n",
    "model_path = MODEL_SAVE_FOLDER_PATH + 'logistic_regression.h5'\n",
    "model_checkpoint = ModelCheckpoint(filepath=model_path, monitor='val_accuracy', mode='max',\n",
    "                                   verbose=0, save_best_only=True)\n",
    "\n",
    "earlystopper = EarlyStopping(monitor='val_accuracy', mode='max', min_delta=0.0001, patience=10, verbose=1)"
   ]
  },
  {
   "cell_type": "code",
   "execution_count": null,
   "metadata": {
    "colab": {
     "base_uri": "https://localhost:8080/"
    },
    "executionInfo": {
     "elapsed": 119726,
     "status": "ok",
     "timestamp": 1645514094216,
     "user": {
      "displayName": "이승주",
      "photoUrl": "https://lh3.googleusercontent.com/a/default-user=s64",
      "userId": "03309100051770270650"
     },
     "user_tz": -540
    },
    "id": "vhhq4mMcPIhx",
    "outputId": "ff1fe3f4-4c79-4de0-bb3f-d3650b2d7828"
   },
   "outputs": [
    {
     "name": "stdout",
     "output_type": "stream",
     "text": [
      "Epoch 1/100\n",
      "477/477 [==============================] - 6s 5ms/step - loss: 0.5510 - accuracy: 0.7717 - val_loss: 0.4969 - val_accuracy: 0.8054\n",
      "Epoch 2/100\n",
      "477/477 [==============================] - 2s 4ms/step - loss: 0.4642 - accuracy: 0.8080 - val_loss: 0.4577 - val_accuracy: 0.8140\n",
      "Epoch 3/100\n",
      "477/477 [==============================] - 2s 4ms/step - loss: 0.4382 - accuracy: 0.8169 - val_loss: 0.4414 - val_accuracy: 0.8247\n",
      "Epoch 4/100\n",
      "477/477 [==============================] - 2s 4ms/step - loss: 0.4247 - accuracy: 0.8248 - val_loss: 0.4320 - val_accuracy: 0.8305\n",
      "Epoch 5/100\n",
      "477/477 [==============================] - 2s 4ms/step - loss: 0.4163 - accuracy: 0.8295 - val_loss: 0.4263 - val_accuracy: 0.8350\n",
      "Epoch 6/100\n",
      "477/477 [==============================] - 2s 4ms/step - loss: 0.4105 - accuracy: 0.8332 - val_loss: 0.4223 - val_accuracy: 0.8372\n",
      "Epoch 7/100\n",
      "477/477 [==============================] - 2s 4ms/step - loss: 0.4062 - accuracy: 0.8360 - val_loss: 0.4196 - val_accuracy: 0.8388\n",
      "Epoch 8/100\n",
      "477/477 [==============================] - 2s 4ms/step - loss: 0.4029 - accuracy: 0.8369 - val_loss: 0.4178 - val_accuracy: 0.8406\n",
      "Epoch 9/100\n",
      "477/477 [==============================] - 2s 4ms/step - loss: 0.4004 - accuracy: 0.8396 - val_loss: 0.4161 - val_accuracy: 0.8424\n",
      "Epoch 10/100\n",
      "477/477 [==============================] - 2s 4ms/step - loss: 0.3983 - accuracy: 0.8409 - val_loss: 0.4149 - val_accuracy: 0.8433\n",
      "Epoch 11/100\n",
      "477/477 [==============================] - 2s 4ms/step - loss: 0.3966 - accuracy: 0.8419 - val_loss: 0.4141 - val_accuracy: 0.8444\n",
      "Epoch 12/100\n",
      "477/477 [==============================] - 2s 4ms/step - loss: 0.3950 - accuracy: 0.8435 - val_loss: 0.4133 - val_accuracy: 0.8435\n",
      "Epoch 13/100\n",
      "477/477 [==============================] - 2s 4ms/step - loss: 0.3936 - accuracy: 0.8444 - val_loss: 0.4128 - val_accuracy: 0.8458\n",
      "Epoch 14/100\n",
      "477/477 [==============================] - 2s 4ms/step - loss: 0.3925 - accuracy: 0.8452 - val_loss: 0.4122 - val_accuracy: 0.8458\n",
      "Epoch 15/100\n",
      "477/477 [==============================] - 2s 4ms/step - loss: 0.3915 - accuracy: 0.8447 - val_loss: 0.4121 - val_accuracy: 0.8483\n",
      "Epoch 16/100\n",
      "477/477 [==============================] - 2s 4ms/step - loss: 0.3907 - accuracy: 0.8470 - val_loss: 0.4110 - val_accuracy: 0.8467\n",
      "Epoch 17/100\n",
      "477/477 [==============================] - 2s 4ms/step - loss: 0.3898 - accuracy: 0.8468 - val_loss: 0.4111 - val_accuracy: 0.8484\n",
      "Epoch 18/100\n",
      "477/477 [==============================] - 2s 4ms/step - loss: 0.3892 - accuracy: 0.8477 - val_loss: 0.4105 - val_accuracy: 0.8483\n",
      "Epoch 19/100\n",
      "477/477 [==============================] - 2s 4ms/step - loss: 0.3885 - accuracy: 0.8475 - val_loss: 0.4097 - val_accuracy: 0.8481\n",
      "Epoch 20/100\n",
      "477/477 [==============================] - 2s 4ms/step - loss: 0.3879 - accuracy: 0.8478 - val_loss: 0.4096 - val_accuracy: 0.8488\n",
      "Epoch 21/100\n",
      "477/477 [==============================] - 2s 4ms/step - loss: 0.3873 - accuracy: 0.8480 - val_loss: 0.4096 - val_accuracy: 0.8500\n",
      "Epoch 22/100\n",
      "477/477 [==============================] - 2s 4ms/step - loss: 0.3868 - accuracy: 0.8493 - val_loss: 0.4087 - val_accuracy: 0.8489\n",
      "Epoch 23/100\n",
      "477/477 [==============================] - 2s 4ms/step - loss: 0.3863 - accuracy: 0.8490 - val_loss: 0.4087 - val_accuracy: 0.8503\n",
      "Epoch 24/100\n",
      "477/477 [==============================] - 2s 4ms/step - loss: 0.3859 - accuracy: 0.8496 - val_loss: 0.4086 - val_accuracy: 0.8503\n",
      "Epoch 25/100\n",
      "477/477 [==============================] - 2s 4ms/step - loss: 0.3853 - accuracy: 0.8497 - val_loss: 0.4089 - val_accuracy: 0.8514\n",
      "Epoch 26/100\n",
      "477/477 [==============================] - 2s 4ms/step - loss: 0.3850 - accuracy: 0.8497 - val_loss: 0.4087 - val_accuracy: 0.8521\n",
      "Epoch 27/100\n",
      "477/477 [==============================] - 2s 4ms/step - loss: 0.3846 - accuracy: 0.8499 - val_loss: 0.4091 - val_accuracy: 0.8524\n",
      "Epoch 28/100\n",
      "477/477 [==============================] - 2s 4ms/step - loss: 0.3844 - accuracy: 0.8506 - val_loss: 0.4081 - val_accuracy: 0.8519\n",
      "Epoch 29/100\n",
      "477/477 [==============================] - 2s 4ms/step - loss: 0.3839 - accuracy: 0.8504 - val_loss: 0.4077 - val_accuracy: 0.8521\n",
      "Epoch 30/100\n",
      "477/477 [==============================] - 2s 4ms/step - loss: 0.3834 - accuracy: 0.8501 - val_loss: 0.4082 - val_accuracy: 0.8524\n",
      "Epoch 31/100\n",
      "477/477 [==============================] - 2s 5ms/step - loss: 0.3833 - accuracy: 0.8511 - val_loss: 0.4076 - val_accuracy: 0.8526\n",
      "Epoch 32/100\n",
      "477/477 [==============================] - 2s 4ms/step - loss: 0.3829 - accuracy: 0.8514 - val_loss: 0.4070 - val_accuracy: 0.8520\n",
      "Epoch 33/100\n",
      "477/477 [==============================] - 2s 4ms/step - loss: 0.3826 - accuracy: 0.8511 - val_loss: 0.4065 - val_accuracy: 0.8521\n",
      "Epoch 34/100\n",
      "477/477 [==============================] - 2s 5ms/step - loss: 0.3822 - accuracy: 0.8513 - val_loss: 0.4068 - val_accuracy: 0.8528\n",
      "Epoch 35/100\n",
      "477/477 [==============================] - 2s 4ms/step - loss: 0.3821 - accuracy: 0.8518 - val_loss: 0.4064 - val_accuracy: 0.8513\n",
      "Epoch 36/100\n",
      "477/477 [==============================] - 2s 4ms/step - loss: 0.3819 - accuracy: 0.8519 - val_loss: 0.4068 - val_accuracy: 0.8528\n",
      "Epoch 37/100\n",
      "477/477 [==============================] - 2s 5ms/step - loss: 0.3816 - accuracy: 0.8523 - val_loss: 0.4062 - val_accuracy: 0.8537\n",
      "Epoch 38/100\n",
      "477/477 [==============================] - 2s 4ms/step - loss: 0.3814 - accuracy: 0.8517 - val_loss: 0.4062 - val_accuracy: 0.8530\n",
      "Epoch 39/100\n",
      "477/477 [==============================] - 2s 4ms/step - loss: 0.3812 - accuracy: 0.8529 - val_loss: 0.4058 - val_accuracy: 0.8531\n",
      "Epoch 40/100\n",
      "477/477 [==============================] - 3s 6ms/step - loss: 0.3810 - accuracy: 0.8526 - val_loss: 0.4058 - val_accuracy: 0.8538\n",
      "Epoch 41/100\n",
      "477/477 [==============================] - 2s 4ms/step - loss: 0.3809 - accuracy: 0.8529 - val_loss: 0.4060 - val_accuracy: 0.8540\n",
      "Epoch 42/100\n",
      "477/477 [==============================] - 2s 4ms/step - loss: 0.3807 - accuracy: 0.8532 - val_loss: 0.4053 - val_accuracy: 0.8538\n",
      "Epoch 43/100\n",
      "477/477 [==============================] - 2s 4ms/step - loss: 0.3804 - accuracy: 0.8523 - val_loss: 0.4057 - val_accuracy: 0.8549\n",
      "Epoch 44/100\n",
      "477/477 [==============================] - 2s 4ms/step - loss: 0.3802 - accuracy: 0.8526 - val_loss: 0.4052 - val_accuracy: 0.8540\n",
      "Epoch 45/100\n",
      "477/477 [==============================] - 2s 4ms/step - loss: 0.3799 - accuracy: 0.8524 - val_loss: 0.4051 - val_accuracy: 0.8546\n",
      "Epoch 46/100\n",
      "477/477 [==============================] - 2s 4ms/step - loss: 0.3798 - accuracy: 0.8529 - val_loss: 0.4062 - val_accuracy: 0.8564\n",
      "Epoch 47/100\n",
      "477/477 [==============================] - 2s 4ms/step - loss: 0.3798 - accuracy: 0.8530 - val_loss: 0.4052 - val_accuracy: 0.8549\n",
      "Epoch 48/100\n",
      "477/477 [==============================] - 2s 4ms/step - loss: 0.3796 - accuracy: 0.8530 - val_loss: 0.4049 - val_accuracy: 0.8553\n",
      "Epoch 49/100\n",
      "477/477 [==============================] - 2s 4ms/step - loss: 0.3794 - accuracy: 0.8533 - val_loss: 0.4049 - val_accuracy: 0.8553\n",
      "Epoch 50/100\n",
      "477/477 [==============================] - 2s 4ms/step - loss: 0.3793 - accuracy: 0.8537 - val_loss: 0.4046 - val_accuracy: 0.8551\n",
      "Epoch 51/100\n",
      "477/477 [==============================] - 2s 4ms/step - loss: 0.3790 - accuracy: 0.8532 - val_loss: 0.4050 - val_accuracy: 0.8562\n",
      "Epoch 52/100\n",
      "477/477 [==============================] - 2s 4ms/step - loss: 0.3790 - accuracy: 0.8535 - val_loss: 0.4043 - val_accuracy: 0.8555\n",
      "Epoch 53/100\n",
      "477/477 [==============================] - 2s 4ms/step - loss: 0.3789 - accuracy: 0.8536 - val_loss: 0.4043 - val_accuracy: 0.8551\n",
      "Epoch 54/100\n",
      "477/477 [==============================] - 2s 4ms/step - loss: 0.3787 - accuracy: 0.8532 - val_loss: 0.4044 - val_accuracy: 0.8555\n",
      "Epoch 55/100\n",
      "477/477 [==============================] - 2s 4ms/step - loss: 0.3786 - accuracy: 0.8540 - val_loss: 0.4038 - val_accuracy: 0.8545\n",
      "Epoch 56/100\n",
      "477/477 [==============================] - 2s 5ms/step - loss: 0.3784 - accuracy: 0.8533 - val_loss: 0.4047 - val_accuracy: 0.8564\n",
      "Epoch 56: early stopping\n"
     ]
    }
   ],
   "source": [
    "# 모델 학습\n",
    "history = model.fit(\n",
    "    train_x, train_y, \n",
    "    batch_size=128, epochs=100, \n",
    "    validation_data=(valid_x, valid_y),\n",
    "    callbacks=[earlystopper, model_checkpoint]                \n",
    ") "
   ]
  },
  {
   "cell_type": "code",
   "execution_count": null,
   "metadata": {
    "colab": {
     "base_uri": "https://localhost:8080/"
    },
    "executionInfo": {
     "elapsed": 3,
     "status": "ok",
     "timestamp": 1645514181147,
     "user": {
      "displayName": "이승주",
      "photoUrl": "https://lh3.googleusercontent.com/a/default-user=s64",
      "userId": "03309100051770270650"
     },
     "user_tz": -540
    },
    "id": "crHyCUBGSTVp",
    "outputId": "fcb3b582-ac17-4106-f250-4575357a35c2"
   },
   "outputs": [
    {
     "name": "stdout",
     "output_type": "stream",
     "text": [
      "Best Accuracy : 0.8564\n"
     ]
    }
   ],
   "source": [
    "# Best Model에 대한 Validation Accuracy 추출\n",
    "max_acc_idx = np.argmax(history.history['val_accuracy'])\n",
    "print(f\"Best Accuracy : {np.round(history.history['val_accuracy'][max_acc_idx], 4)}\")"
   ]
  },
  {
   "cell_type": "code",
   "execution_count": null,
   "metadata": {
    "colab": {
     "base_uri": "https://localhost:8080/"
    },
    "executionInfo": {
     "elapsed": 2294,
     "status": "ok",
     "timestamp": 1645514262149,
     "user": {
      "displayName": "이승주",
      "photoUrl": "https://lh3.googleusercontent.com/a/default-user=s64",
      "userId": "03309100051770270650"
     },
     "user_tz": -540
    },
    "id": "yuaHKGtvSdTS",
    "outputId": "6d926d6e-b586-4c22-faed-15759f1e3a5e"
   },
   "outputs": [
    {
     "name": "stdout",
     "output_type": "stream",
     "text": [
      "597/597 [==============================] - 2s 3ms/step - loss: 0.3804 - accuracy: 0.8542\n",
      "Test score: 0.38035282492637634\n",
      "Test accuracy: 0.8541775941848755\n"
     ]
    }
   ],
   "source": [
    "# best model 성능 평가\n",
    "best_model = tf.keras.models.load_model(\"/content/drive/MyDrive/Colab_Notebooks/logistic_regression.h5\")\n",
    "\n",
    "score = best_model.evaluate(test_x, test_y)\n",
    "print('Test score:', score[0]) \n",
    "print('Test accuracy:', score[1])"
   ]
  },
  {
   "cell_type": "markdown",
   "metadata": {
    "id": "1y7ZN1A7_gNq"
   },
   "source": [
    "---"
   ]
  },
  {
   "cell_type": "markdown",
   "metadata": {
    "id": "aw8Uf5he_j1H"
   },
   "source": [
    "### Logistic Regression Attribution Weights 시각화"
   ]
  },
  {
   "cell_type": "code",
   "execution_count": 3,
   "metadata": {
    "executionInfo": {
     "elapsed": 237,
     "status": "ok",
     "timestamp": 1645543191331,
     "user": {
      "displayName": "이승주",
      "photoUrl": "https://lh3.googleusercontent.com/a/default-user=s64",
      "userId": "03309100051770270650"
     },
     "user_tz": -540
    },
    "id": "BW6RBuS3BGpb"
   },
   "outputs": [],
   "source": [
    "import seaborn as sns\n",
    "import matplotlib.pyplot as plt"
   ]
  },
  {
   "cell_type": "code",
   "execution_count": 4,
   "metadata": {
    "colab": {
     "base_uri": "https://localhost:8080/",
     "height": 143
    },
    "executionInfo": {
     "elapsed": 246,
     "status": "ok",
     "timestamp": 1645543241947,
     "user": {
      "displayName": "이승주",
      "photoUrl": "https://lh3.googleusercontent.com/a/default-user=s64",
      "userId": "03309100051770270650"
     },
     "user_tz": -540
    },
    "id": "thjlRw7-nN7f",
    "outputId": "cb403eaf-ffea-4685-e992-3397cb2e8517"
   },
   "outputs": [
    {
     "data": {
      "text/html": [
       "\n",
       "  <div id=\"df-602360d4-0f92-455e-afe8-5e1cfad5527d\">\n",
       "    <div class=\"colab-df-container\">\n",
       "      <div>\n",
       "<style scoped>\n",
       "    .dataframe tbody tr th:only-of-type {\n",
       "        vertical-align: middle;\n",
       "    }\n",
       "\n",
       "    .dataframe tbody tr th {\n",
       "        vertical-align: top;\n",
       "    }\n",
       "\n",
       "    .dataframe thead th {\n",
       "        text-align: right;\n",
       "    }\n",
       "</style>\n",
       "<table border=\"1\" class=\"dataframe\">\n",
       "  <thead>\n",
       "    <tr style=\"text-align: right;\">\n",
       "      <th></th>\n",
       "      <th>weights</th>\n",
       "    </tr>\n",
       "  </thead>\n",
       "  <tbody>\n",
       "    <tr>\n",
       "      <th>0</th>\n",
       "      <td>0.027830</td>\n",
       "    </tr>\n",
       "    <tr>\n",
       "      <th>1</th>\n",
       "      <td>-0.246636</td>\n",
       "    </tr>\n",
       "    <tr>\n",
       "      <th>2</th>\n",
       "      <td>-0.839124</td>\n",
       "    </tr>\n",
       "  </tbody>\n",
       "</table>\n",
       "</div>\n",
       "      <button class=\"colab-df-convert\" onclick=\"convertToInteractive('df-602360d4-0f92-455e-afe8-5e1cfad5527d')\"\n",
       "              title=\"Convert this dataframe to an interactive table.\"\n",
       "              style=\"display:none;\">\n",
       "        \n",
       "  <svg xmlns=\"http://www.w3.org/2000/svg\" height=\"24px\"viewBox=\"0 0 24 24\"\n",
       "       width=\"24px\">\n",
       "    <path d=\"M0 0h24v24H0V0z\" fill=\"none\"/>\n",
       "    <path d=\"M18.56 5.44l.94 2.06.94-2.06 2.06-.94-2.06-.94-.94-2.06-.94 2.06-2.06.94zm-11 1L8.5 8.5l.94-2.06 2.06-.94-2.06-.94L8.5 2.5l-.94 2.06-2.06.94zm10 10l.94 2.06.94-2.06 2.06-.94-2.06-.94-.94-2.06-.94 2.06-2.06.94z\"/><path d=\"M17.41 7.96l-1.37-1.37c-.4-.4-.92-.59-1.43-.59-.52 0-1.04.2-1.43.59L10.3 9.45l-7.72 7.72c-.78.78-.78 2.05 0 2.83L4 21.41c.39.39.9.59 1.41.59.51 0 1.02-.2 1.41-.59l7.78-7.78 2.81-2.81c.8-.78.8-2.07 0-2.86zM5.41 20L4 18.59l7.72-7.72 1.47 1.35L5.41 20z\"/>\n",
       "  </svg>\n",
       "      </button>\n",
       "      \n",
       "  <style>\n",
       "    .colab-df-container {\n",
       "      display:flex;\n",
       "      flex-wrap:wrap;\n",
       "      gap: 12px;\n",
       "    }\n",
       "\n",
       "    .colab-df-convert {\n",
       "      background-color: #E8F0FE;\n",
       "      border: none;\n",
       "      border-radius: 50%;\n",
       "      cursor: pointer;\n",
       "      display: none;\n",
       "      fill: #1967D2;\n",
       "      height: 32px;\n",
       "      padding: 0 0 0 0;\n",
       "      width: 32px;\n",
       "    }\n",
       "\n",
       "    .colab-df-convert:hover {\n",
       "      background-color: #E2EBFA;\n",
       "      box-shadow: 0px 1px 2px rgba(60, 64, 67, 0.3), 0px 1px 3px 1px rgba(60, 64, 67, 0.15);\n",
       "      fill: #174EA6;\n",
       "    }\n",
       "\n",
       "    [theme=dark] .colab-df-convert {\n",
       "      background-color: #3B4455;\n",
       "      fill: #D2E3FC;\n",
       "    }\n",
       "\n",
       "    [theme=dark] .colab-df-convert:hover {\n",
       "      background-color: #434B5C;\n",
       "      box-shadow: 0px 1px 3px 1px rgba(0, 0, 0, 0.15);\n",
       "      filter: drop-shadow(0px 1px 2px rgba(0, 0, 0, 0.3));\n",
       "      fill: #FFFFFF;\n",
       "    }\n",
       "  </style>\n",
       "\n",
       "      <script>\n",
       "        const buttonEl =\n",
       "          document.querySelector('#df-602360d4-0f92-455e-afe8-5e1cfad5527d button.colab-df-convert');\n",
       "        buttonEl.style.display =\n",
       "          google.colab.kernel.accessAllowed ? 'block' : 'none';\n",
       "\n",
       "        async function convertToInteractive(key) {\n",
       "          const element = document.querySelector('#df-602360d4-0f92-455e-afe8-5e1cfad5527d');\n",
       "          const dataTable =\n",
       "            await google.colab.kernel.invokeFunction('convertToInteractive',\n",
       "                                                     [key], {});\n",
       "          if (!dataTable) return;\n",
       "\n",
       "          const docLinkHtml = 'Like what you see? Visit the ' +\n",
       "            '<a target=\"_blank\" href=https://colab.research.google.com/notebooks/data_table.ipynb>data table notebook</a>'\n",
       "            + ' to learn more about interactive tables.';\n",
       "          element.innerHTML = '';\n",
       "          dataTable['output_type'] = 'display_data';\n",
       "          await google.colab.output.renderOutput(dataTable, element);\n",
       "          const docLink = document.createElement('div');\n",
       "          docLink.innerHTML = docLinkHtml;\n",
       "          element.appendChild(docLink);\n",
       "        }\n",
       "      </script>\n",
       "    </div>\n",
       "  </div>\n",
       "  "
      ],
      "text/plain": [
       "    weights\n",
       "0  0.027830\n",
       "1 -0.246636\n",
       "2 -0.839124"
      ]
     },
     "execution_count": 4,
     "metadata": {},
     "output_type": "execute_result"
    }
   ],
   "source": [
    "# best model의 가중치 벡터 추출\n",
    "best_weights = best_model.get_layer('contributions').get_weights()[0].flatten()\n",
    "\n",
    "# 가중치에 대한 데이터프레임 생성\n",
    "weights_df = pd.DataFrame(best_weights.reshape(-1, 1)).rename({0: 'weights'}, axis=1)\n",
    "weights_df.head(3)"
   ]
  },
  {
   "cell_type": "code",
   "execution_count": 5,
   "metadata": {
    "colab": {
     "base_uri": "https://localhost:8080/",
     "height": 428
    },
    "executionInfo": {
     "elapsed": 2788,
     "status": "ok",
     "timestamp": 1645543277008,
     "user": {
      "displayName": "이승주",
      "photoUrl": "https://lh3.googleusercontent.com/a/default-user=s64",
      "userId": "03309100051770270650"
     },
     "user_tz": -540
    },
    "id": "QqNat0YcndGS",
    "outputId": "9c2aa5c2-85f9-4546-beb9-435a07f2c5d6"
   },
   "outputs": [
    {
     "data": {
      "image/png": "[encoded data removed]",
      "text/plain": [
       "<Figure size 1440x504 with 1 Axes>"
      ]
     },
     "metadata": {
      "needs_background": "light"
     },
     "output_type": "display_data"
    }
   ],
   "source": [
    "plt.figure(figsize=(20, 7))\n",
    "\n",
    "sns.barplot(data=weights_df, x=weights_df.index, y='weights')\n",
    "plt.xticks(range(0, len(weights_df), 10), range(0, len(weights_df), 10))\n",
    "plt.vlines(50, -4.5, 4.5, color='r')\n",
    "\n",
    "plt.show()"
   ]
  },
  {
   "cell_type": "markdown",
   "metadata": {
    "id": "3pA2RtPQBswc"
   },
   "source": [
    "- 가중치 벡터에서 campaigns의 부분은 다른 가중치에 비해 영향력이 적은 편이다.\n",
    "    - 빨간 선 기준 왼쪽이 campaign classes에 대한 가중치 분포\n",
    "- 또한 campaigns 가중치의 대부분은 음의 값을 갖기에 캠페인에 대한 기여도를 구하여 시뮬레이션 하기에는 적절치 않을 수 있다.\n",
    "    - 다른 변수들의 영향력으로 인해 campaigns의 가중치가 적절하게 분포되지 않았을 가능성도 존재하기에 다른 변수들을 제거하고 campaign classes만을 독립변수로 하여 모델링을 진행한다면 다른 결과를 보일 수 있다."
   ]
  },
  {
   "cell_type": "markdown",
   "metadata": {
    "id": "SCXRY24PBev9"
   },
   "source": [
    "---"
   ]
  },
  {
   "cell_type": "markdown",
   "metadata": {
    "id": "HjkOsyjWBf9P"
   },
   "source": [
    "### Logistic Regression Model의 가중치 벡터를 통한 Campaign Attribution 계산"
   ]
  },
  {
   "cell_type": "code",
   "execution_count": 7,
   "metadata": {
    "executionInfo": {
     "elapsed": 1,
     "status": "ok",
     "timestamp": 1645543632069,
     "user": {
      "displayName": "이승주",
      "photoUrl": "https://lh3.googleusercontent.com/a/default-user=s64",
      "userId": "03309100051770270650"
     },
     "user_tz": -540
    },
    "id": "qaKzvfP3CyVw"
   },
   "outputs": [],
   "source": [
    "from sklearn.utils.extmath import softmax"
   ]
  },
  {
   "cell_type": "code",
   "execution_count": 6,
   "metadata": {
    "colab": {
     "base_uri": "https://localhost:8080/"
    },
    "executionInfo": {
     "elapsed": 244,
     "status": "ok",
     "timestamp": 1645543624165,
     "user": {
      "displayName": "이승주",
      "photoUrl": "https://lh3.googleusercontent.com/a/default-user=s64",
      "userId": "03309100051770270650"
     },
     "user_tz": -540
    },
    "id": "O9xmgfPHCv_f",
    "outputId": "71448273-ccde-492a-cf04-5971b37b8414"
   },
   "outputs": [
    {
     "name": "stdout",
     "output_type": "stream",
     "text": [
      "50\n"
     ]
    },
    {
     "data": {
      "text/plain": [
       "array([ 0.02783015, -0.24663553, -0.8391244 , -0.80787575, -0.50106716,\n",
       "       -0.8964698 , -0.0967616 ,  0.35504425, -1.0264977 , -0.9526188 ],\n",
       "      dtype=float32)"
      ]
     },
     "execution_count": 6,
     "metadata": {},
     "output_type": "execute_result"
    }
   ],
   "source": [
    "lr_campaign_weights = best_weights[:50]\n",
    "\n",
    "print(len(lr_campaign_weights))\n",
    "lr_campaign_weights[:10]"
   ]
  },
  {
   "cell_type": "code",
   "execution_count": 8,
   "metadata": {
    "colab": {
     "base_uri": "https://localhost:8080/"
    },
    "executionInfo": {
     "elapsed": 3,
     "status": "ok",
     "timestamp": 1645543690800,
     "user": {
      "displayName": "이승주",
      "photoUrl": "https://lh3.googleusercontent.com/a/default-user=s64",
      "userId": "03309100051770270650"
     },
     "user_tz": -540
    },
    "id": "H4wf8iDTTBS5",
    "outputId": "9508d6c6-e1ee-4fbd-891e-60fd1ee6082f"
   },
   "outputs": [
    {
     "name": "stdout",
     "output_type": "stream",
     "text": [
      "1.0\n"
     ]
    },
    {
     "data": {
      "text/plain": [
       "array([0.03059659, 0.02325274, 0.01285759, 0.01326571, 0.01802918,\n",
       "       0.01214101, 0.02701242, 0.04244049, 0.01066067, 0.01147809,\n",
       "       0.01748699, 0.02636883, 0.0378221 , 0.02196909, 0.00831459,\n",
       "       0.03323831, 0.02270104, 0.01399422, 0.03107474, 0.03719236,\n",
       "       0.01311522, 0.0131896 , 0.01773505, 0.01931713, 0.06312374,\n",
       "       0.01094116, 0.0081037 , 0.01672411, 0.01470859, 0.01057363,\n",
       "       0.02125825, 0.01887169, 0.01484742, 0.01462616, 0.01105316,\n",
       "       0.01208177, 0.03017993, 0.01601813, 0.01016361, 0.02661754,\n",
       "       0.01975912, 0.00518812, 0.01120377, 0.04251817, 0.02176861,\n",
       "       0.02128745, 0.00933189, 0.01682993, 0.01603857, 0.02092806],\n",
       "      dtype=float32)"
      ]
     },
     "execution_count": 8,
     "metadata": {},
     "output_type": "execute_result"
    }
   ],
   "source": [
    "# softmax 함수를 사용해 가중치 합이 1이 나오도록 정규화\n",
    "lr_campaign_weights = softmax([lr_campaign_weights]).flatten()\n",
    "\n",
    "print(lr_campaign_weights.sum())\n",
    "lr_campaign_weights"
   ]
  },
  {
   "cell_type": "markdown",
   "metadata": {
    "id": "HiPSpvNLDCmW"
   },
   "source": [
    "#### logistic regression attribution 저장\n",
    "- pkl 파일로 저장"
   ]
  },
  {
   "cell_type": "code",
   "execution_count": null,
   "metadata": {
    "id": "d30AeXVxX8Il"
   },
   "outputs": [],
   "source": [
    "with open('/content/drive/MyDrive/Colab_Notebooks/logistic_reg_weights.pkl', 'wb') as f:\n",
    "    pickle.dump(lr_campaign_weights, f)"
   ]
  }
 ],
 "metadata": {
  "accelerator": "GPU",
  "colab": {
   "authorship_tag": "ABX9TyNywCz5VzE/Yv9duR4V1tA6",
   "collapsed_sections": [],
   "mount_file_id": "1KN3oexI7JmpqN70kUBp9HYsC6xIf8yMd",
   "name": "04_1_logistic_regression_attribution_analytics.ipynb",
   "provenance": []
  },
  "kernelspec": {
   "display_name": "Python 3",
   "language": "python",
   "name": "python3"
  },
  "language_info": {
   "codemirror_mode": {
    "name": "ipython",
    "version": 3
   },
   "file_extension": ".py",
   "mimetype": "text/x-python",
   "name": "python",
   "nbconvert_exporter": "python",
   "pygments_lexer": "ipython3",
   "version": "3.8.8"
  }
 },
 "nbformat": 4,
 "nbformat_minor": 1
}
