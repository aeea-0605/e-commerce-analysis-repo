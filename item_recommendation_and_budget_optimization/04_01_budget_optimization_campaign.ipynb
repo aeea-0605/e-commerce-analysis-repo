{
 "cells": [
  {
   "cell_type": "markdown",
   "id": "b9341093",
   "metadata": {},
   "source": [
    "# Action 2 : 기여도 분석 및 시뮬레이션을 통한 예산 최적화\n",
    "- 도메인 및 모델 기반 Attribution Model을 이용한 캠페인 기여도 분석"
   ]
  },
  {
   "cell_type": "markdown",
   "id": "d043a1ea",
   "metadata": {},
   "source": [
    "---"
   ]
  },
  {
   "cell_type": "markdown",
   "id": "3e6810df",
   "metadata": {},
   "source": [
    "---"
   ]
  },
  {
   "cell_type": "markdown",
   "id": "a14b5500",
   "metadata": {},
   "source": [
    "---"
   ]
  },
  {
   "cell_type": "markdown",
   "id": "6d8715f1",
   "metadata": {},
   "source": [
    "# 데이터 살펴보기\n",
    "- 데이터셋 출처: https://ailab.criteo.com/ressources/ (광고 리타겟팅 회사 Criteo)\n",
    "\n",
    "<br/>\n",
    "\n",
    "- **Timestamp**: timestamp of the impression\n",
    "    - 캠페인이 노출된 시간\n",
    "- **UID**: unique user identifier : user id\n",
    "- **Campaign**: unique campaign identifier\n",
    "    - 유니크한 캠페인의 ID\n",
    "- **Conversion**: 1 if there was a conversion in the 30 days after the impression; 0 otherwise\n",
    "    - 노출 후에 30일 이내에 전환이 일어나면 1\n",
    "- **Conversion ID**: a unique identifier for each conversion\n",
    "    - 전환이 일어났을 때, 전환에 대한 유니크한 ID\n",
    "- **Click**: 1 if the impression was clicked; 0 otherwise\n",
    "    - 유저가 노출된 것을 보고 클릭하면 1, 무시하면 0\n",
    "- **Cost**: the price paid for this ad\n",
    "- **Cat1-Cat9**: categorical features associated with the ad. These features’ semantic meaning is not disclosed.\n",
    "    - 캠페인이 어떤 카테고리에 속하는지에 대한 카테고리 정보"
   ]
  },
  {
   "cell_type": "code",
   "execution_count": 1,
   "id": "e65592a1",
   "metadata": {},
   "outputs": [
    {
     "name": "stdout",
     "output_type": "stream",
     "text": [
      "(602160, 23)\n"
     ]
    },
    {
     "data": {
      "text/html": [
       "<div>\n",
       "<style scoped>\n",
       "    .dataframe tbody tr th:only-of-type {\n",
       "        vertical-align: middle;\n",
       "    }\n",
       "\n",
       "    .dataframe tbody tr th {\n",
       "        vertical-align: top;\n",
       "    }\n",
       "\n",
       "    .dataframe thead th {\n",
       "        text-align: right;\n",
       "    }\n",
       "</style>\n",
       "<table border=\"1\" class=\"dataframe\">\n",
       "  <thead>\n",
       "    <tr style=\"text-align: right;\">\n",
       "      <th></th>\n",
       "      <th>timestamp</th>\n",
       "      <th>uid</th>\n",
       "      <th>campaign</th>\n",
       "      <th>conversion</th>\n",
       "      <th>conversion_timestamp</th>\n",
       "      <th>conversion_id</th>\n",
       "      <th>attribution</th>\n",
       "      <th>click</th>\n",
       "      <th>click_pos</th>\n",
       "      <th>click_nb</th>\n",
       "      <th>...</th>\n",
       "      <th>cat1</th>\n",
       "      <th>cat2</th>\n",
       "      <th>cat3</th>\n",
       "      <th>cat4</th>\n",
       "      <th>cat5</th>\n",
       "      <th>cat6</th>\n",
       "      <th>cat7</th>\n",
       "      <th>cat8</th>\n",
       "      <th>cat9</th>\n",
       "      <th>jid</th>\n",
       "    </tr>\n",
       "  </thead>\n",
       "  <tbody>\n",
       "    <tr>\n",
       "      <th>0</th>\n",
       "      <td>209415</td>\n",
       "      <td>21670661</td>\n",
       "      <td>10474106</td>\n",
       "      <td>1</td>\n",
       "      <td>1420115</td>\n",
       "      <td>17559949</td>\n",
       "      <td>0</td>\n",
       "      <td>1</td>\n",
       "      <td>4</td>\n",
       "      <td>8</td>\n",
       "      <td>...</td>\n",
       "      <td>30763035</td>\n",
       "      <td>9312274</td>\n",
       "      <td>30867372</td>\n",
       "      <td>29196072</td>\n",
       "      <td>11409684</td>\n",
       "      <td>30763035</td>\n",
       "      <td>8549927</td>\n",
       "      <td>29196072</td>\n",
       "      <td>29520626</td>\n",
       "      <td>21670661_17559949</td>\n",
       "    </tr>\n",
       "    <tr>\n",
       "      <th>1</th>\n",
       "      <td>225512</td>\n",
       "      <td>32320979</td>\n",
       "      <td>28874676</td>\n",
       "      <td>0</td>\n",
       "      <td>-1</td>\n",
       "      <td>-1</td>\n",
       "      <td>0</td>\n",
       "      <td>1</td>\n",
       "      <td>-1</td>\n",
       "      <td>-1</td>\n",
       "      <td>...</td>\n",
       "      <td>30763035</td>\n",
       "      <td>9312274</td>\n",
       "      <td>1461750</td>\n",
       "      <td>29196072</td>\n",
       "      <td>26611394</td>\n",
       "      <td>1973606</td>\n",
       "      <td>30600973</td>\n",
       "      <td>9068204</td>\n",
       "      <td>15351053</td>\n",
       "      <td>32320979_-1</td>\n",
       "    </tr>\n",
       "  </tbody>\n",
       "</table>\n",
       "<p>2 rows × 23 columns</p>\n",
       "</div>"
      ],
      "text/plain": [
       "   timestamp       uid  campaign  conversion  conversion_timestamp  \\\n",
       "0     209415  21670661  10474106           1               1420115   \n",
       "1     225512  32320979  28874676           0                    -1   \n",
       "\n",
       "   conversion_id  attribution  click  click_pos  click_nb  ...      cat1  \\\n",
       "0       17559949            0      1          4         8  ...  30763035   \n",
       "1             -1            0      1         -1        -1  ...  30763035   \n",
       "\n",
       "      cat2      cat3      cat4      cat5      cat6      cat7      cat8  \\\n",
       "0  9312274  30867372  29196072  11409684  30763035   8549927  29196072   \n",
       "1  9312274   1461750  29196072  26611394   1973606  30600973   9068204   \n",
       "\n",
       "       cat9                jid  \n",
       "0  29520626  21670661_17559949  \n",
       "1  15351053        32320979_-1  \n",
       "\n",
       "[2 rows x 23 columns]"
      ]
     },
     "execution_count": 1,
     "metadata": {},
     "output_type": "execute_result"
    }
   ],
   "source": [
    "df = pd.read_csv('data/criteo_attribution_dataset_sampled_campaign_300_journey_over_2_points_balanced.csv')\n",
    "df = df.iloc[:, 2:]\n",
    "\n",
    "print(df.shape)\n",
    "df.head(2)"
   ]
  },
  {
   "cell_type": "code",
   "execution_count": 2,
   "id": "7a94af9e",
   "metadata": {},
   "outputs": [
    {
     "name": "stdout",
     "output_type": "stream",
     "text": [
      "timestamp Unique Classes : 501483\n",
      "uid Unique Classes : 107463\n",
      "campaign Unique Classes : 300\n",
      "conversion Unique Classes : 2\n",
      "conversion_timestamp Unique Classes : 78799\n",
      "conversion_id Unique Classes : 79768\n",
      "attribution Unique Classes : 2\n",
      "click Unique Classes : 2\n",
      "click_pos Unique Classes : 143\n",
      "click_nb Unique Classes : 89\n",
      "cost Unique Classes : 524248\n",
      "cpo Unique Classes : 104681\n",
      "time_since_last_click Unique Classes : 313370\n",
      "cat1 Unique Classes : 9\n",
      "cat2 Unique Classes : 44\n",
      "cat3 Unique Classes : 818\n",
      "cat4 Unique Classes : 19\n",
      "cat5 Unique Classes : 41\n",
      "cat6 Unique Classes : 30\n",
      "cat7 Unique Classes : 7431\n",
      "cat8 Unique Classes : 11\n",
      "cat9 Unique Classes : 30\n",
      "jid Unique Classes : 124258\n"
     ]
    }
   ],
   "source": [
    "for col in df.columns:\n",
    "    print(f\"{col} Unique Classes : {df[col].nunique()}\")"
   ]
  },
  {
   "cell_type": "markdown",
   "id": "d06bc1ff",
   "metadata": {},
   "source": [
    "---"
   ]
  },
  {
   "cell_type": "markdown",
   "id": "1e68f85e",
   "metadata": {},
   "source": [
    "### 자주 등장하는 상위 50개의 캠페인 추출\n",
    "- 300개의 종류를 가진 캠페인을 상위 50개에 대한 캠페인만 필터링해서 데이터셋 추출"
   ]
  },
  {
   "cell_type": "code",
   "execution_count": 3,
   "id": "6d0da27c",
   "metadata": {},
   "outputs": [
    {
     "name": "stdout",
     "output_type": "stream",
     "text": [
      "50\n",
      "(451364, 24)\n"
     ]
    }
   ],
   "source": [
    "campaign_50 = (\n",
    "    df.groupby('campaign')['timestamp']\n",
    "    .count()\n",
    "    .sort_values(ascending=False)\n",
    "    .reset_index()\n",
    "    .rename({'timestamp': 'camp_cnt'}, axis=1)\n",
    "    .head(50)\n",
    ")\n",
    "\n",
    "filtered_df = df.merge(campaign_50, on='campaign')\n",
    "\n",
    "print(filtered_df.campaign.nunique())\n",
    "print(filtered_df.shape)\n",
    "df = filtered_df"
   ]
  },
  {
   "cell_type": "code",
   "execution_count": 4,
   "id": "4a24920a",
   "metadata": {},
   "outputs": [
    {
     "name": "stdout",
     "output_type": "stream",
     "text": [
      "<class 'pandas.core.frame.DataFrame'>\n",
      "Int64Index: 451364 entries, 0 to 451363\n",
      "Data columns (total 24 columns):\n",
      " #   Column                 Non-Null Count   Dtype  \n",
      "---  ------                 --------------   -----  \n",
      " 0   timestamp              451364 non-null  int64  \n",
      " 1   uid                    451364 non-null  int64  \n",
      " 2   campaign               451364 non-null  int64  \n",
      " 3   conversion             451364 non-null  int64  \n",
      " 4   conversion_timestamp   451364 non-null  int64  \n",
      " 5   conversion_id          451364 non-null  int64  \n",
      " 6   attribution            451364 non-null  int64  \n",
      " 7   click                  451364 non-null  int64  \n",
      " 8   click_pos              451364 non-null  int64  \n",
      " 9   click_nb               451364 non-null  int64  \n",
      " 10  cost                   451364 non-null  float64\n",
      " 11  cpo                    451364 non-null  float64\n",
      " 12  time_since_last_click  451364 non-null  int64  \n",
      " 13  cat1                   451364 non-null  int64  \n",
      " 14  cat2                   451364 non-null  int64  \n",
      " 15  cat3                   451364 non-null  int64  \n",
      " 16  cat4                   451364 non-null  int64  \n",
      " 17  cat5                   451364 non-null  int64  \n",
      " 18  cat6                   451364 non-null  int64  \n",
      " 19  cat7                   451364 non-null  int64  \n",
      " 20  cat8                   451364 non-null  int64  \n",
      " 21  cat9                   451364 non-null  int64  \n",
      " 22  jid                    451364 non-null  object \n",
      " 23  camp_cnt               451364 non-null  int64  \n",
      "dtypes: float64(2), int64(21), object(1)\n",
      "memory usage: 86.1+ MB\n"
     ]
    }
   ],
   "source": [
    "df.info()"
   ]
  },
  {
   "cell_type": "markdown",
   "id": "53965abc",
   "metadata": {},
   "source": [
    "---"
   ]
  },
  {
   "cell_type": "markdown",
   "id": "13cb5af9",
   "metadata": {},
   "source": [
    "### 유저가 전환되기까지 얼마나 많은 캠페인에 노출되는지"
   ]
  },
  {
   "cell_type": "code",
   "execution_count": 5,
   "id": "0eaf1ce2",
   "metadata": {},
   "outputs": [
    {
     "data": {
      "text/html": [
       "<div>\n",
       "<style scoped>\n",
       "    .dataframe tbody tr th:only-of-type {\n",
       "        vertical-align: middle;\n",
       "    }\n",
       "\n",
       "    .dataframe tbody tr th {\n",
       "        vertical-align: top;\n",
       "    }\n",
       "\n",
       "    .dataframe thead th {\n",
       "        text-align: right;\n",
       "    }\n",
       "</style>\n",
       "<table border=\"1\" class=\"dataframe\">\n",
       "  <thead>\n",
       "    <tr style=\"text-align: right;\">\n",
       "      <th></th>\n",
       "      <th>jid</th>\n",
       "      <th>timestamp</th>\n",
       "    </tr>\n",
       "  </thead>\n",
       "  <tbody>\n",
       "    <tr>\n",
       "      <th>0</th>\n",
       "      <td>10000148_-1</td>\n",
       "      <td>9</td>\n",
       "    </tr>\n",
       "    <tr>\n",
       "      <th>1</th>\n",
       "      <td>1000023_5282678</td>\n",
       "      <td>2</td>\n",
       "    </tr>\n",
       "  </tbody>\n",
       "</table>\n",
       "</div>"
      ],
      "text/plain": [
       "               jid  timestamp\n",
       "0      10000148_-1          9\n",
       "1  1000023_5282678          2"
      ]
     },
     "execution_count": 5,
     "metadata": {},
     "output_type": "execute_result"
    }
   ],
   "source": [
    "# jid별 이벤트 수\n",
    "event_per_jid = df.groupby('jid')['timestamp'].count().reset_index()\n",
    "event_per_jid.head(2)"
   ]
  },
  {
   "cell_type": "code",
   "execution_count": 6,
   "id": "eb08e428",
   "metadata": {},
   "outputs": [
    {
     "data": {
      "text/html": [
       "<div>\n",
       "<style scoped>\n",
       "    .dataframe tbody tr th:only-of-type {\n",
       "        vertical-align: middle;\n",
       "    }\n",
       "\n",
       "    .dataframe tbody tr th {\n",
       "        vertical-align: top;\n",
       "    }\n",
       "\n",
       "    .dataframe thead th {\n",
       "        text-align: right;\n",
       "    }\n",
       "</style>\n",
       "<table border=\"1\" class=\"dataframe\">\n",
       "  <thead>\n",
       "    <tr style=\"text-align: right;\">\n",
       "      <th></th>\n",
       "      <th>event_count</th>\n",
       "      <th>journey_count</th>\n",
       "    </tr>\n",
       "  </thead>\n",
       "  <tbody>\n",
       "    <tr>\n",
       "      <th>0</th>\n",
       "      <td>1</td>\n",
       "      <td>2653</td>\n",
       "    </tr>\n",
       "    <tr>\n",
       "      <th>1</th>\n",
       "      <td>2</td>\n",
       "      <td>36617</td>\n",
       "    </tr>\n",
       "    <tr>\n",
       "      <th>2</th>\n",
       "      <td>3</td>\n",
       "      <td>17702</td>\n",
       "    </tr>\n",
       "  </tbody>\n",
       "</table>\n",
       "</div>"
      ],
      "text/plain": [
       "   event_count  journey_count\n",
       "0            1           2653\n",
       "1            2          36617\n",
       "2            3          17702"
      ]
     },
     "execution_count": 6,
     "metadata": {},
     "output_type": "execute_result"
    }
   ],
   "source": [
    "# 노출된 캠페인 수별 jid수\n",
    "jid_cnt_per_event = event_per_jid.groupby('timestamp')['jid'].count()\n",
    "\n",
    "event_journey = pd.DataFrame({\n",
    "    'event_count': jid_cnt_per_event.index, 'journey_count': jid_cnt_per_event.values\n",
    "})\n",
    "event_journey.head(3)"
   ]
  },
  {
   "cell_type": "markdown",
   "id": "795cdf97",
   "metadata": {},
   "source": [
    "---"
   ]
  },
  {
   "cell_type": "markdown",
   "id": "61c9d861",
   "metadata": {},
   "source": [
    "### 전이별 캠페인을 몇 개 보는지\n",
    "- 캠페인을 한 번만 보는 전이는 약 90000개, 두 번 보는 전이는 약 5100개 이다."
   ]
  },
  {
   "cell_type": "code",
   "execution_count": 7,
   "id": "1780b874",
   "metadata": {},
   "outputs": [
    {
     "data": {
      "text/html": [
       "<div>\n",
       "<style scoped>\n",
       "    .dataframe tbody tr th:only-of-type {\n",
       "        vertical-align: middle;\n",
       "    }\n",
       "\n",
       "    .dataframe tbody tr th {\n",
       "        vertical-align: top;\n",
       "    }\n",
       "\n",
       "    .dataframe thead th {\n",
       "        text-align: right;\n",
       "    }\n",
       "</style>\n",
       "<table border=\"1\" class=\"dataframe\">\n",
       "  <thead>\n",
       "    <tr style=\"text-align: right;\">\n",
       "      <th></th>\n",
       "      <th>campaign_count</th>\n",
       "      <th>journey_count</th>\n",
       "    </tr>\n",
       "  </thead>\n",
       "  <tbody>\n",
       "    <tr>\n",
       "      <th>0</th>\n",
       "      <td>1</td>\n",
       "      <td>89749</td>\n",
       "    </tr>\n",
       "    <tr>\n",
       "      <th>1</th>\n",
       "      <td>2</td>\n",
       "      <td>5120</td>\n",
       "    </tr>\n",
       "    <tr>\n",
       "      <th>2</th>\n",
       "      <td>3</td>\n",
       "      <td>472</td>\n",
       "    </tr>\n",
       "  </tbody>\n",
       "</table>\n",
       "</div>"
      ],
      "text/plain": [
       "   campaign_count  journey_count\n",
       "0               1          89749\n",
       "1               2           5120\n",
       "2               3            472"
      ]
     },
     "execution_count": 7,
     "metadata": {},
     "output_type": "execute_result"
    }
   ],
   "source": [
    "campaign_per_jid = df.groupby('jid')['campaign'].nunique().reset_index()\n",
    "\n",
    "jid_cnt_per_campaign = campaign_per_jid.groupby('campaign')['jid'].count()\n",
    "\n",
    "campaign_journey = pd.DataFrame({\n",
    "    'campaign_count': jid_cnt_per_campaign.index, 'journey_count': jid_cnt_per_campaign.values\n",
    "})\n",
    "campaign_journey.head(3)"
   ]
  },
  {
   "cell_type": "markdown",
   "id": "8d99f184",
   "metadata": {},
   "source": [
    "---"
   ]
  },
  {
   "cell_type": "markdown",
   "id": "9bc39fb2",
   "metadata": {},
   "source": [
    "### 정리\n",
    "- 상위 50개의 캠페인을 포함한 데이터 필터링 결과 : 602160 rows > 451364 rows\n",
    "- 결측데이터는 존재하지 않음\n",
    "- 캠페인에 한 번 노출된 전이 수는 2653, 두 번은 36617, 세 번은 17702개 이다.\n",
    "- 전이별 캠페인 한 개에 노출된 수는 89749명, 두 개는 5120명, 세 개는 472명 이다."
   ]
  },
  {
   "cell_type": "markdown",
   "id": "0d7e94d0",
   "metadata": {},
   "source": [
    "---"
   ]
  },
  {
   "cell_type": "markdown",
   "id": "d6555c30",
   "metadata": {},
   "source": [
    "---"
   ]
  },
  {
   "cell_type": "markdown",
   "id": "31ecb3fa",
   "metadata": {},
   "source": [
    "---"
   ]
  },
  {
   "cell_type": "markdown",
   "id": "143e76d6",
   "metadata": {},
   "source": [
    "# 캠페인 예산 분배 최적화\n",
    "- Last Attribution Model 을 이용한 캠페인 기여도 분석\n",
    "- Logistic Regression을 통한 Conversion을 예측하는 모델 생성 후 생긴 가중치 벡터에서 각 캠페인에 대한 부분만 추출\n",
    "- 두 기여도 분석 모델 비교를 통한 각 캠페인별 기여도 시각화"
   ]
  },
  {
   "cell_type": "markdown",
   "id": "6e9e635b",
   "metadata": {},
   "source": [
    "## 데이터 전처리\n",
    "- 행이 이벤트 단위로 되어 있는 것을 전이 단위로 변환"
   ]
  },
  {
   "cell_type": "code",
   "execution_count": 8,
   "id": "fa6d2bdf",
   "metadata": {},
   "outputs": [],
   "source": [
    "from sklearn.preprocessing import MinMaxScaler\n",
    "from sklearn.preprocessing import OneHotEncoder"
   ]
  },
  {
   "cell_type": "markdown",
   "id": "585e3e37",
   "metadata": {},
   "source": [
    "### timestamp Scaling\n",
    "- Last Interaction Attribution Model의 기여도를 구하기 위해"
   ]
  },
  {
   "cell_type": "code",
   "execution_count": 9,
   "id": "9505ce3f",
   "metadata": {},
   "outputs": [],
   "source": [
    "mm_scaler = MinMaxScaler()\n",
    "\n",
    "df['mm_timestamp'] = mm_scaler.fit_transform(df.timestamp.values.reshape(-1, 1))"
   ]
  },
  {
   "cell_type": "markdown",
   "id": "025cc186",
   "metadata": {},
   "source": [
    "---"
   ]
  },
  {
   "cell_type": "markdown",
   "id": "e5bd28b4",
   "metadata": {},
   "source": [
    "### 범주형 변수 원핫인코딩"
   ]
  },
  {
   "cell_type": "markdown",
   "id": "5913a7e6",
   "metadata": {},
   "source": [
    "#### campaigns One-Hot Encoding"
   ]
  },
  {
   "cell_type": "code",
   "execution_count": 10,
   "id": "34abf667",
   "metadata": {},
   "outputs": [
    {
     "name": "stdout",
     "output_type": "stream",
     "text": [
      "50\n"
     ]
    },
    {
     "data": {
      "text/plain": [
       "array(['campaign_408759', 'campaign_497593', 'campaign_2865314',\n",
       "       'campaign_2869134', 'campaign_5061834'], dtype=object)"
      ]
     },
     "execution_count": 10,
     "metadata": {},
     "output_type": "execute_result"
    }
   ],
   "source": [
    "camp_encoder = OneHotEncoder(drop='if_binary').fit(df.campaign.values.reshape(-1, 1))\n",
    "\n",
    "camp_matrix = camp_encoder.transform(df.campaign.values.reshape(-1, 1))\n",
    "df['campaigns'] = [list(v) for v in camp_matrix.toarray()]\n",
    "\n",
    "campaign_classes = camp_encoder.get_feature_names(['campaign'])\n",
    "\n",
    "print(len(campaign_classes))\n",
    "campaign_classes[:5]"
   ]
  },
  {
   "cell_type": "markdown",
   "id": "d9487563",
   "metadata": {},
   "source": [
    "#### cat1 ~ cat9 One-Hot Encoding\n",
    "- cat7 제외\n",
    "    - 캠페인에 대한 기여도 분석을 진행하는 것이기에 카테고리의 class가 너무 많게되면 캠페인의 가중치가 적절하지 않을 수 있음"
   ]
  },
  {
   "cell_type": "code",
   "execution_count": 11,
   "id": "d3262b7c",
   "metadata": {},
   "outputs": [
    {
     "name": "stdout",
     "output_type": "stream",
     "text": [
      "354\n"
     ]
    },
    {
     "data": {
      "text/plain": [
       "array(['cat1_138937', 'cat1_1973606', 'cat1_5642940', 'cat1_5824233',\n",
       "       'cat1_9312274'], dtype=object)"
      ]
     },
     "execution_count": 11,
     "metadata": {},
     "output_type": "execute_result"
    }
   ],
   "source": [
    "cate_cols = ['cat1', 'cat2', 'cat3', 'cat4', 'cat5', 'cat6', 'cat8', 'cat9']\n",
    "cate_encoder = OneHotEncoder(drop='if_binary').fit(df[cate_cols])\n",
    "\n",
    "cate_matrix = cate_encoder.transform(df[cate_cols])\n",
    "df['cates'] = [list(v) for v in cate_matrix.toarray()]\n",
    "\n",
    "category_classes = cate_encoder.get_feature_names(cate_cols)\n",
    "\n",
    "print(len(category_classes))\n",
    "category_classes[:5]"
   ]
  },
  {
   "cell_type": "code",
   "execution_count": 12,
   "id": "bef8e421",
   "metadata": {},
   "outputs": [
    {
     "data": {
      "text/html": [
       "<div>\n",
       "<style scoped>\n",
       "    .dataframe tbody tr th:only-of-type {\n",
       "        vertical-align: middle;\n",
       "    }\n",
       "\n",
       "    .dataframe tbody tr th {\n",
       "        vertical-align: top;\n",
       "    }\n",
       "\n",
       "    .dataframe thead th {\n",
       "        text-align: right;\n",
       "    }\n",
       "</style>\n",
       "<table border=\"1\" class=\"dataframe\">\n",
       "  <thead>\n",
       "    <tr style=\"text-align: right;\">\n",
       "      <th></th>\n",
       "      <th>timestamp</th>\n",
       "      <th>uid</th>\n",
       "      <th>campaign</th>\n",
       "      <th>conversion</th>\n",
       "      <th>conversion_timestamp</th>\n",
       "      <th>conversion_id</th>\n",
       "      <th>attribution</th>\n",
       "      <th>click</th>\n",
       "      <th>click_pos</th>\n",
       "      <th>click_nb</th>\n",
       "      <th>...</th>\n",
       "      <th>cat5</th>\n",
       "      <th>cat6</th>\n",
       "      <th>cat7</th>\n",
       "      <th>cat8</th>\n",
       "      <th>cat9</th>\n",
       "      <th>jid</th>\n",
       "      <th>camp_cnt</th>\n",
       "      <th>mm_timestamp</th>\n",
       "      <th>campaigns</th>\n",
       "      <th>cates</th>\n",
       "    </tr>\n",
       "  </thead>\n",
       "  <tbody>\n",
       "    <tr>\n",
       "      <th>0</th>\n",
       "      <td>209415</td>\n",
       "      <td>21670661</td>\n",
       "      <td>10474106</td>\n",
       "      <td>1</td>\n",
       "      <td>1420115</td>\n",
       "      <td>17559949</td>\n",
       "      <td>0</td>\n",
       "      <td>1</td>\n",
       "      <td>4</td>\n",
       "      <td>8</td>\n",
       "      <td>...</td>\n",
       "      <td>11409684</td>\n",
       "      <td>30763035</td>\n",
       "      <td>8549927</td>\n",
       "      <td>29196072</td>\n",
       "      <td>29520626</td>\n",
       "      <td>21670661_17559949</td>\n",
       "      <td>7890</td>\n",
       "      <td>0.078397</td>\n",
       "      <td>[0.0, 0.0, 0.0, 0.0, 0.0, 0.0, 0.0, 0.0, 0.0, ...</td>\n",
       "      <td>[0.0, 0.0, 0.0, 0.0, 0.0, 0.0, 0.0, 0.0, 1.0, ...</td>\n",
       "    </tr>\n",
       "    <tr>\n",
       "      <th>1</th>\n",
       "      <td>1238119</td>\n",
       "      <td>3661462</td>\n",
       "      <td>10474106</td>\n",
       "      <td>1</td>\n",
       "      <td>1672978</td>\n",
       "      <td>24286866</td>\n",
       "      <td>0</td>\n",
       "      <td>1</td>\n",
       "      <td>3</td>\n",
       "      <td>5</td>\n",
       "      <td>...</td>\n",
       "      <td>11409684</td>\n",
       "      <td>28928366</td>\n",
       "      <td>8549927</td>\n",
       "      <td>29196072</td>\n",
       "      <td>29520629</td>\n",
       "      <td>3661462_24286866</td>\n",
       "      <td>7890</td>\n",
       "      <td>0.463510</td>\n",
       "      <td>[0.0, 0.0, 0.0, 0.0, 0.0, 0.0, 0.0, 0.0, 0.0, ...</td>\n",
       "      <td>[0.0, 0.0, 0.0, 0.0, 0.0, 0.0, 0.0, 0.0, 1.0, ...</td>\n",
       "    </tr>\n",
       "  </tbody>\n",
       "</table>\n",
       "<p>2 rows × 27 columns</p>\n",
       "</div>"
      ],
      "text/plain": [
       "   timestamp       uid  campaign  conversion  conversion_timestamp  \\\n",
       "0     209415  21670661  10474106           1               1420115   \n",
       "1    1238119   3661462  10474106           1               1672978   \n",
       "\n",
       "   conversion_id  attribution  click  click_pos  click_nb  ...      cat5  \\\n",
       "0       17559949            0      1          4         8  ...  11409684   \n",
       "1       24286866            0      1          3         5  ...  11409684   \n",
       "\n",
       "       cat6     cat7      cat8      cat9                jid  camp_cnt  \\\n",
       "0  30763035  8549927  29196072  29520626  21670661_17559949      7890   \n",
       "1  28928366  8549927  29196072  29520629   3661462_24286866      7890   \n",
       "\n",
       "   mm_timestamp                                          campaigns  \\\n",
       "0      0.078397  [0.0, 0.0, 0.0, 0.0, 0.0, 0.0, 0.0, 0.0, 0.0, ...   \n",
       "1      0.463510  [0.0, 0.0, 0.0, 0.0, 0.0, 0.0, 0.0, 0.0, 0.0, ...   \n",
       "\n",
       "                                               cates  \n",
       "0  [0.0, 0.0, 0.0, 0.0, 0.0, 0.0, 0.0, 0.0, 1.0, ...  \n",
       "1  [0.0, 0.0, 0.0, 0.0, 0.0, 0.0, 0.0, 0.0, 1.0, ...  \n",
       "\n",
       "[2 rows x 27 columns]"
      ]
     },
     "execution_count": 12,
     "metadata": {},
     "output_type": "execute_result"
    }
   ],
   "source": [
    "df.head(2)"
   ]
  },
  {
   "cell_type": "markdown",
   "id": "d69c47fb",
   "metadata": {},
   "source": [
    "---"
   ]
  },
  {
   "cell_type": "markdown",
   "id": "bd2b3300",
   "metadata": {},
   "source": [
    "### 전이별 데이터셋으로 그룹핑\n",
    "- campaigns : 각 전이별 campaigns 기록별 element-wise & max 를 통해 One-Hot Encoding 진행\n",
    "- cates : 각 전이별 categories 기록별 element-wise & max 를 통해 One-Hot Encoding 진행\n",
    "- click : 전이별 click 횟수\n",
    "- cost : 전이별 cost 합계\n",
    "- conversion : 전이별 전환여부"
   ]
  },
  {
   "cell_type": "code",
   "execution_count": 13,
   "id": "59628663",
   "metadata": {},
   "outputs": [],
   "source": [
    "def element_wise_max(series):\n",
    "    \"\"\"전이가 접한 캠페인에 대해 원핫인코딩을 하는 함수\"\"\"\n",
    "    return np.max(series.tolist(), axis=0).tolist()\n",
    "\n",
    "aggregation = {\n",
    "    'campaigns': element_wise_max,\n",
    "    'cates': element_wise_max,\n",
    "    'click': 'sum',\n",
    "    'cost': 'sum',\n",
    "    'conversion': 'max'\n",
    "}"
   ]
  },
  {
   "cell_type": "code",
   "execution_count": 14,
   "id": "3ada67f7",
   "metadata": {},
   "outputs": [
    {
     "data": {
      "text/plain": [
       "jid\n",
       "10000148_-1        [[0.0, 0.0, 0.0, 0.0, 0.0, 0.0, 0.0, 0.0, 0.0,...\n",
       "1000023_5282678    [[0.0, 0.0, 0.0, 0.0, 0.0, 0.0, 0.0, 0.0, 0.0,...\n",
       "Name: features, dtype: object"
      ]
     },
     "execution_count": 14,
     "metadata": {},
     "output_type": "execute_result"
    }
   ],
   "source": [
    "agg_df = df.groupby('jid').agg(aggregation)\n",
    "\n",
    "agg_df['features'] = agg_df[['campaigns', 'cates', 'click', 'cost']].values.tolist()\n",
    "agg_df['features'].head(2)"
   ]
  },
  {
   "cell_type": "markdown",
   "id": "0a2caa26",
   "metadata": {},
   "source": [
    "---"
   ]
  },
  {
   "cell_type": "markdown",
   "id": "ef93c604",
   "metadata": {},
   "source": [
    "### Logistic Regression에 사용할 데이터셋 생성\n",
    "- campaigns, categories, click, cost 의 변수로 이루어진 독립변수 집합과 Conversion 이라는 종속변수로 이루어짐"
   ]
  },
  {
   "cell_type": "code",
   "execution_count": 19,
   "id": "5c427688",
   "metadata": {},
   "outputs": [
    {
     "name": "stdout",
     "output_type": "stream",
     "text": [
      "(95388, 2)\n"
     ]
    },
    {
     "data": {
      "text/html": [
       "<div>\n",
       "<style scoped>\n",
       "    .dataframe tbody tr th:only-of-type {\n",
       "        vertical-align: middle;\n",
       "    }\n",
       "\n",
       "    .dataframe tbody tr th {\n",
       "        vertical-align: top;\n",
       "    }\n",
       "\n",
       "    .dataframe thead th {\n",
       "        text-align: right;\n",
       "    }\n",
       "</style>\n",
       "<table border=\"1\" class=\"dataframe\">\n",
       "  <thead>\n",
       "    <tr style=\"text-align: right;\">\n",
       "      <th></th>\n",
       "      <th>features</th>\n",
       "      <th>conversion</th>\n",
       "    </tr>\n",
       "    <tr>\n",
       "      <th>jid</th>\n",
       "      <th></th>\n",
       "      <th></th>\n",
       "    </tr>\n",
       "  </thead>\n",
       "  <tbody>\n",
       "    <tr>\n",
       "      <th>10000148_-1</th>\n",
       "      <td>[[0.0, 0.0, 0.0, 0.0, 0.0, 0.0, 0.0, 0.0, 0.0,...</td>\n",
       "      <td>0</td>\n",
       "    </tr>\n",
       "    <tr>\n",
       "      <th>1000023_5282678</th>\n",
       "      <td>[[0.0, 0.0, 0.0, 0.0, 0.0, 0.0, 0.0, 0.0, 0.0,...</td>\n",
       "      <td>1</td>\n",
       "    </tr>\n",
       "  </tbody>\n",
       "</table>\n",
       "</div>"
      ],
      "text/plain": [
       "                                                          features  conversion\n",
       "jid                                                                           \n",
       "10000148_-1      [[0.0, 0.0, 0.0, 0.0, 0.0, 0.0, 0.0, 0.0, 0.0,...           0\n",
       "1000023_5282678  [[0.0, 0.0, 0.0, 0.0, 0.0, 0.0, 0.0, 0.0, 0.0,...           1"
      ]
     },
     "execution_count": 19,
     "metadata": {},
     "output_type": "execute_result"
    }
   ],
   "source": [
    "agg_df = agg_df[['features', 'conversion']]\n",
    "\n",
    "print(agg_df.shape)\n",
    "agg_df.head(2)"
   ]
  },
  {
   "cell_type": "markdown",
   "id": "9f72f740",
   "metadata": {},
   "source": [
    "#### 데이터셋 저장\n",
    "- pkl 파일로 저장"
   ]
  },
  {
   "cell_type": "code",
   "execution_count": 20,
   "id": "f40ede46",
   "metadata": {},
   "outputs": [],
   "source": [
    "import pickle\n",
    "\n",
    "with open('data/campaign_50.pkl', 'wb') as f:\n",
    "    pickle.dump(agg_df, f)"
   ]
  },
  {
   "cell_type": "markdown",
   "id": "bc265ca1",
   "metadata": {},
   "source": [
    "---"
   ]
  },
  {
   "cell_type": "markdown",
   "id": "76376373",
   "metadata": {},
   "source": [
    "---"
   ]
  },
  {
   "cell_type": "markdown",
   "id": "f06ea9f7",
   "metadata": {},
   "source": [
    "## Logistic Regression 을 이용한 기여도 분석\n",
    "- **04_02_logistic_regression_attribution_model.ipynb** 에서 진행"
   ]
  },
  {
   "cell_type": "markdown",
   "id": "90c2bd31",
   "metadata": {},
   "source": [
    "---"
   ]
  },
  {
   "cell_type": "markdown",
   "id": "d67d85a1",
   "metadata": {},
   "source": [
    "---"
   ]
  },
  {
   "cell_type": "markdown",
   "id": "6534e348",
   "metadata": {},
   "source": [
    "## Last Interaction Attribution Model\n",
    "- 캠페인의 전환에 대해서는 마지막 캠페인의 기여도가 가장 높다고 가정\n",
    "- 기여도 분석 모델 중 Last Interaction Attribution Model을 사용해 베이스라인에 대한 기여도 분석 진행"
   ]
  },
  {
   "cell_type": "code",
   "execution_count": 15,
   "id": "63e7657b",
   "metadata": {},
   "outputs": [],
   "source": [
    "def count_by_campaign(df, n_campaigns=50):             \n",
    "    \"\"\"\n",
    "    각 캠페인마다 노출 수를 세는 함수\n",
    "    - 데이터프레임을 돌면서 캠페인ID가 몇 번 나왔는지 계속 더해준 값을 리턴하는 함수\n",
    "    \"\"\"            \n",
    "    \n",
    "    counters = np.zeros(n_campaigns)\n",
    "    for campaign_one_hot in df['campaigns'].values:\n",
    "        campaign_id = np.argmax(campaign_one_hot)\n",
    "        counters[campaign_id] += 1\n",
    "\n",
    "    return counters"
   ]
  },
  {
   "cell_type": "code",
   "execution_count": 16,
   "id": "587be115",
   "metadata": {},
   "outputs": [
    {
     "data": {
      "text/plain": [
       "array([ 2857.,  8113.,  3482.,  2849., 12954.,  9742.,  3301.,  5440.,\n",
       "        6434.,  9364.,  2705.,  7374.,  4329.,  2760., 56151.,  7890.,\n",
       "        3427.,  3124.,  2897.,  5199.,  3645.,  3604.,  6717.,  5682.,\n",
       "        7752., 31525., 32891.,  5337.,  4396.,  6211., 12164.,  4946.,\n",
       "        3014.,  8565.,  8317.,  3108.,  9387.,  5931.,  2860., 29132.,\n",
       "        4190.,  3917., 15714.,  2647., 12142.,  7504.,  2572., 39373.,\n",
       "        4397.,  3332.])"
      ]
     },
     "execution_count": 16,
     "metadata": {},
     "output_type": "execute_result"
    }
   ],
   "source": [
    "# 상위 50개 캠페인에 대한 노출 수\n",
    "campaign_impressions = count_by_campaign(df, 50)\n",
    "campaign_impressions"
   ]
  },
  {
   "cell_type": "code",
   "execution_count": 17,
   "id": "b4ae27e7",
   "metadata": {},
   "outputs": [],
   "source": [
    "# Conversion 전에 마지막으로 본 캠페인 수를 셈\n",
    "\n",
    "# 전환된 데이터셋\n",
    "conversion_df = df[df['conversion'] == 1]\n",
    "\n",
    "# 전환된 데이터셋에서 timestamp 가 max 인 데이터만 필터링\n",
    "# 전환된 데이터셋에서 전이별 timestamp가 가장 높은 인덱스만 추출 > 전환된 순간의 캠페인을 파악하기 위해\n",
    "idx = conversion_df.groupby('jid')['mm_timestamp'].transform(max) == conversion_df['mm_timestamp']"
   ]
  },
  {
   "cell_type": "code",
   "execution_count": 18,
   "id": "35894129",
   "metadata": {},
   "outputs": [
    {
     "data": {
      "text/plain": [
       "array([ 606.,  638.,  369.,  906., 1694., 1374.,  386., 1292.,  816.,\n",
       "       1122.,  358.,  571.,  482.,  168., 8413., 1173.,  285.,  409.,\n",
       "        186.,  456.,  174.,  154., 1668.,  862., 1310., 7052., 4465.,\n",
       "        376.,  752.,  670., 2023.,  553.,  528.,  481., 1990.,  312.,\n",
       "        734.,  567.,  168., 3920.,  531.,   39., 2686.,  601., 1546.,\n",
       "       1073.,   70., 3868.,  352.,  279.])"
      ]
     },
     "execution_count": 18,
     "metadata": {},
     "output_type": "execute_result"
    }
   ],
   "source": [
    "# 전이별 Conversion 되는 순간 각 캠페인별 전환 수\n",
    "campaign_conversions = count_by_campaign(conversion_df[idx], 50)\n",
    "campaign_conversions"
   ]
  },
  {
   "cell_type": "code",
   "execution_count": 19,
   "id": "6ca71ce4",
   "metadata": {},
   "outputs": [],
   "source": [
    "# 캠페인별 노출 당 전환 비율 계산\n",
    "last_att_weights = campaign_conversions / campaign_impressions"
   ]
  },
  {
   "cell_type": "code",
   "execution_count": 20,
   "id": "84511b88",
   "metadata": {},
   "outputs": [
    {
     "name": "stdout",
     "output_type": "stream",
     "text": [
      "0.9999999999999998\n"
     ]
    }
   ],
   "source": [
    "# 전체 기여도의 합이 1이 되도록 정규화 진행\n",
    "last_att_sum = last_att_weights.sum()\n",
    "last_att_weights  = last_att_weights / last_att_sum\n",
    "print(sum(last_att_weights))"
   ]
  },
  {
   "cell_type": "code",
   "execution_count": 21,
   "id": "394c33c8",
   "metadata": {},
   "outputs": [
    {
     "data": {
      "text/plain": [
       "array([0.03359971, 0.01245697, 0.01678691, 0.05037429, 0.02071489,\n",
       "       0.02234147, 0.01852316, 0.03762156, 0.02009011, 0.01898037,\n",
       "       0.02096471, 0.01226609, 0.01763732, 0.00964214, 0.02373376,\n",
       "       0.02355018, 0.01317358, 0.02073889, 0.01017039, 0.01389371,\n",
       "       0.0075618 , 0.00676876, 0.03933633, 0.02403141, 0.02676891,\n",
       "       0.03543483, 0.02150392, 0.01115999, 0.02709776, 0.01708781,\n",
       "       0.02634466, 0.01771105, 0.02775006, 0.00889592, 0.03790178,\n",
       "       0.01590182, 0.01238632, 0.01514357, 0.009305  , 0.02131518,\n",
       "       0.02007491, 0.00157719, 0.0270765 , 0.03596613, 0.02016938,\n",
       "       0.02265062, 0.00431122, 0.01556185, 0.01268117, 0.01326394])"
      ]
     },
     "execution_count": 21,
     "metadata": {},
     "output_type": "execute_result"
    }
   ],
   "source": [
    "last_att_weights"
   ]
  },
  {
   "cell_type": "markdown",
   "id": "3727c1c0",
   "metadata": {},
   "source": [
    "---"
   ]
  },
  {
   "cell_type": "markdown",
   "id": "d0ad782a",
   "metadata": {},
   "source": [
    "---"
   ]
  },
  {
   "cell_type": "markdown",
   "id": "195b989e",
   "metadata": {},
   "source": [
    "## Logistic Regression Weights & Last Attribution Weights 비교"
   ]
  },
  {
   "cell_type": "code",
   "execution_count": 25,
   "id": "294eca3d",
   "metadata": {},
   "outputs": [],
   "source": [
    "import pickle\n",
    "import seaborn as sns\n",
    "\n",
    "\n",
    "sns.set_theme(style=\"whitegrid\")"
   ]
  },
  {
   "cell_type": "markdown",
   "id": "978af5b4",
   "metadata": {},
   "source": [
    "#### Logistic Regression Attribution 불러오기"
   ]
  },
  {
   "cell_type": "code",
   "execution_count": 26,
   "id": "262354a3",
   "metadata": {},
   "outputs": [],
   "source": [
    "with open('data/logistic_reg_weights.pkl', 'rb') as f:\n",
    "    logistic_reg_weights = pickle.load(f)"
   ]
  },
  {
   "cell_type": "code",
   "execution_count": 27,
   "id": "09100301",
   "metadata": {},
   "outputs": [
    {
     "data": {
      "text/plain": [
       "array([0.03059659, 0.02325274, 0.01285759, 0.01326571, 0.01802918,\n",
       "       0.01214101, 0.02701242, 0.04244049, 0.01066067, 0.01147809,\n",
       "       0.01748699, 0.02636883, 0.0378221 , 0.02196909, 0.00831459,\n",
       "       0.03323831, 0.02270104, 0.01399422, 0.03107474, 0.03719236,\n",
       "       0.01311522, 0.0131896 , 0.01773505, 0.01931713, 0.06312374,\n",
       "       0.01094116, 0.0081037 , 0.01672411, 0.01470859, 0.01057363,\n",
       "       0.02125825, 0.01887169, 0.01484742, 0.01462616, 0.01105316,\n",
       "       0.01208177, 0.03017993, 0.01601813, 0.01016361, 0.02661754,\n",
       "       0.01975912, 0.00518812, 0.01120377, 0.04251817, 0.02176861,\n",
       "       0.02128745, 0.00933189, 0.01682993, 0.01603857, 0.02092806],\n",
       "      dtype=float32)"
      ]
     },
     "execution_count": 27,
     "metadata": {},
     "output_type": "execute_result"
    }
   ],
   "source": [
    "logistic_reg_weights"
   ]
  },
  {
   "cell_type": "code",
   "execution_count": 28,
   "id": "fbd03226",
   "metadata": {},
   "outputs": [
    {
     "data": {
      "text/plain": [
       "['408759', '497593', '2865314', '2869134', '5061834']"
      ]
     },
     "execution_count": 28,
     "metadata": {},
     "output_type": "execute_result"
    }
   ],
   "source": [
    "# 캠페인의 ID만 추출\n",
    "campaign_names = [campaign_class.split(\"_\")[1] for campaign_class in campaign_classes]\n",
    "campaign_names[:5]"
   ]
  },
  {
   "cell_type": "markdown",
   "id": "49f30a04",
   "metadata": {},
   "source": [
    "### Last Attribution & Logistic Regression Attribution 시각화"
   ]
  },
  {
   "cell_type": "code",
   "execution_count": 29,
   "id": "927bc22b",
   "metadata": {},
   "outputs": [
    {
     "data": {
      "text/html": [
       "<div>\n",
       "<style scoped>\n",
       "    .dataframe tbody tr th:only-of-type {\n",
       "        vertical-align: middle;\n",
       "    }\n",
       "\n",
       "    .dataframe tbody tr th {\n",
       "        vertical-align: top;\n",
       "    }\n",
       "\n",
       "    .dataframe thead th {\n",
       "        text-align: right;\n",
       "    }\n",
       "</style>\n",
       "<table border=\"1\" class=\"dataframe\">\n",
       "  <thead>\n",
       "    <tr style=\"text-align: right;\">\n",
       "      <th></th>\n",
       "      <th>attribution</th>\n",
       "      <th>method</th>\n",
       "      <th>campaign</th>\n",
       "    </tr>\n",
       "  </thead>\n",
       "  <tbody>\n",
       "    <tr>\n",
       "      <th>0</th>\n",
       "      <td>0.033600</td>\n",
       "      <td>last</td>\n",
       "      <td>408759</td>\n",
       "    </tr>\n",
       "    <tr>\n",
       "      <th>1</th>\n",
       "      <td>0.012457</td>\n",
       "      <td>last</td>\n",
       "      <td>497593</td>\n",
       "    </tr>\n",
       "    <tr>\n",
       "      <th>2</th>\n",
       "      <td>0.016787</td>\n",
       "      <td>last</td>\n",
       "      <td>2865314</td>\n",
       "    </tr>\n",
       "    <tr>\n",
       "      <th>3</th>\n",
       "      <td>0.050374</td>\n",
       "      <td>last</td>\n",
       "      <td>2869134</td>\n",
       "    </tr>\n",
       "    <tr>\n",
       "      <th>4</th>\n",
       "      <td>0.020715</td>\n",
       "      <td>last</td>\n",
       "      <td>5061834</td>\n",
       "    </tr>\n",
       "  </tbody>\n",
       "</table>\n",
       "</div>"
      ],
      "text/plain": [
       "   attribution method campaign\n",
       "0     0.033600   last   408759\n",
       "1     0.012457   last   497593\n",
       "2     0.016787   last  2865314\n",
       "3     0.050374   last  2869134\n",
       "4     0.020715   last  5061834"
      ]
     },
     "execution_count": 29,
     "metadata": {},
     "output_type": "execute_result"
    }
   ],
   "source": [
    "# last attribution 데이터프레임 생성\n",
    "last_model_att = pd.DataFrame({\n",
    "    'attribution': last_att_weights, 'method': 'last', 'campaign': campaign_names\n",
    "})\n",
    "\n",
    "# logistic regression attribution 데이터프레임 생성\n",
    "logistic_model_att = pd.DataFrame({\n",
    "    'attribution': logistic_reg_weights, 'method': 'logistic', 'campaign': campaign_names\n",
    "})\n",
    "\n",
    "# 두 데이터프레임 병합\n",
    "total_att = pd.concat([last_model_att, logistic_model_att])\n",
    "total_att.head()"
   ]
  },
  {
   "cell_type": "code",
   "execution_count": 30,
   "id": "2a2b6ad7",
   "metadata": {},
   "outputs": [
    {
     "data": {
      "image/png": "[encoded data removed]",
      "text/plain": [
       "<Figure size 1080x576 with 1 Axes>"
      ]
     },
     "metadata": {},
     "output_type": "display_data"
    }
   ],
   "source": [
    "ax = sns.barplot(x=total_att.campaign, y=total_att.attribution, hue=total_att.method)\n",
    "ax.figure.set_size_inches(15, 8)\n",
    "ax.set_xticklabels(labels=campaign_names , rotation=90)\n",
    "\n",
    "plt.show()"
   ]
  },
  {
   "cell_type": "markdown",
   "id": "2d051a22",
   "metadata": {},
   "source": [
    "---"
   ]
  },
  {
   "cell_type": "markdown",
   "id": "147d3f77",
   "metadata": {},
   "source": [
    "---"
   ]
  },
  {
   "cell_type": "markdown",
   "id": "a6c2106d",
   "metadata": {},
   "source": [
    "---"
   ]
  },
  {
   "cell_type": "markdown",
   "id": "f3c289db",
   "metadata": {},
   "source": [
    "# 마케팅 예산 분배 시뮬레이션\n",
    "1. 예산 및 샘플 수 지정 후 캠페인의 기여도에 맞게 예산 분배\n",
    "2. 과거 데이터의 전환 내역을 통해 시뮬레이션 진행\n",
    "    - 캠페인이 노출되었다면 각 캠페인에 배분된 예산을 -1 차감하고,\n",
    "    - 전환이 되었다면 전환에 전이를 넣음\n",
    "    - 캠페인이 노출되었는데 해당 캠페인의 예산이 0인 상태라면 전이를 blacklist에 넣어줌\n",
    "3. 시뮬레이션 계산은 conversion - blacklist 로 진행"
   ]
  },
  {
   "cell_type": "markdown",
   "id": "6558982a",
   "metadata": {},
   "source": [
    "### 시뮬레이션을 위한 함수 정의"
   ]
  },
  {
   "cell_type": "code",
   "execution_count": 36,
   "id": "673a03a5",
   "metadata": {},
   "outputs": [],
   "source": [
    "def get_campaign_id(x_journey_step):\n",
    "    \"\"\"한 여정 데이터에서 노출된 캠페인ID를 리턴해주는 함수\"\"\"\n",
    "    return np.argmax(x_journey_step[:50])\n",
    "\n",
    "def simulate_budget_roi(df, budget_total, attribution):\n",
    "    # Input Weight만큼 예산을 각 캠페인에 할당\n",
    "    budgets = np.ceil(attribution * (budget_total / np.sum(attribution)))\n",
    "    \n",
    "    # 예산을 다 써서 시뮬레이션을 더 이상 진행할 수 없는 Journey : blacklist 생성\n",
    "    blacklist = set()\n",
    "\n",
    "    # Conversion 이 일어난 Journey  \n",
    "    conversions = set()\n",
    "\n",
    "    # 데이터셋을 돌면서 시뮬레이션 시작\n",
    "    for i in range(df.shape[0]):   \n",
    "        # 해당 이벤트에서 노출된 캠페인 ID 를 가져오고                               \n",
    "        campaign_id = get_campaign_id(df.loc[i]['campaigns']) \n",
    "        # 해당 jid를 가져온다.\n",
    "        jid = df.loc[i]['jid']\n",
    "\n",
    "        # jid가 blacklist에 없고,\n",
    "        if jid not in blacklist:\n",
    "            \n",
    "            # 해당 캠페인에 대한 예산이 있다면\n",
    "            if budgets[campaign_id] >= 1:\n",
    "\n",
    "                # 예산에서 1을 차감하고,\n",
    "                budgets[campaign_id] = budgets[campaign_id] - 1\n",
    "\n",
    "                # 전환했다면\n",
    "                if(df.loc[i]['conversion'] == 1):\n",
    "                    # 해당 jid를 conversion에 추가\n",
    "                    conversions.add(jid)\n",
    "            \n",
    "            # 해당 캠페인에 대한 예산이 없다면,\n",
    "            else:\n",
    "                # 해당 jid에 대한 시뮬레이션을 못하게끔 blacklist에 추가\n",
    "                blacklist.add(jid)\n",
    "    \n",
    "    print(f\"Conversions : {len(conversions)}, Blacklist : {len(blacklist)}\", end=\"\\t\")\n",
    "    # 설정한 예산 및 샘플 수 안에 전환된 전이와 캠페인 광고를 진행하지 못했다고 가정한 blacklist의 차이를 반환\n",
    "    return len(conversions.difference(blacklist))"
   ]
  },
  {
   "cell_type": "markdown",
   "id": "86165c98",
   "metadata": {},
   "source": [
    "---"
   ]
  },
  {
   "cell_type": "markdown",
   "id": "b0e301e6",
   "metadata": {},
   "source": [
    "### 샘플 수 및 기여도에 대한 하이퍼 파라미터 설정"
   ]
  },
  {
   "cell_type": "code",
   "execution_count": 37,
   "id": "c5323970",
   "metadata": {},
   "outputs": [],
   "source": [
    "# 10000개의 이벤트에 대해 시뮬레이션 진행\n",
    "sample_data = df.sample(n=10000, random_state=6666)\n",
    "sample_data = sample_data.sort_values('mm_timestamp')"
   ]
  },
  {
   "cell_type": "code",
   "execution_count": 38,
   "id": "055ad6ac",
   "metadata": {},
   "outputs": [
    {
     "data": {
      "text/plain": [
       "array([0. , 0.5, 1. , 1.5, 2. , 2.5])"
      ]
     },
     "execution_count": 38,
     "metadata": {},
     "output_type": "execute_result"
    }
   ],
   "source": [
    "# 하이퍼 파라미터 정의\n",
    "hyper_params = np.arange(0.0, 3.0, 0.5)\n",
    "hyper_params"
   ]
  },
  {
   "cell_type": "markdown",
   "id": "7a5d0094",
   "metadata": {},
   "source": [
    "---"
   ]
  },
  {
   "cell_type": "markdown",
   "id": "9a3e6bcc",
   "metadata": {},
   "source": [
    "### Last Attribution 시뮬레이션 진행\n",
    "- 예산 5000 설정"
   ]
  },
  {
   "cell_type": "code",
   "execution_count": 39,
   "id": "34a4ff08",
   "metadata": {},
   "outputs": [
    {
     "name": "stdout",
     "output_type": "stream",
     "text": [
      "Conversions : 1799, Blacklist : 5155\t0.0 1763\n",
      "Conversions : 1933, Blacklist : 5101\t0.5 1904\n",
      "Conversions : 1938, Blacklist : 5276\t1.0 1906\n",
      "Conversions : 1853, Blacklist : 5545\t1.5 1818\n",
      "Conversions : 1745, Blacklist : 5830\t2.0 1711\n",
      "Conversions : 1611, Blacklist : 6131\t2.5 1581\n"
     ]
    }
   ],
   "source": [
    "budget_total = 5000\n",
    "attribution = last_att_weights\n",
    "\n",
    "budget_last_att = []\n",
    "for param in hyper_params:\n",
    "    conversion = simulate_budget_roi(sample_data.reset_index(), budget_total, attribution**param)\n",
    "    print(param, conversion)\n",
    "    budget_last_att.append(conversion)"
   ]
  },
  {
   "cell_type": "markdown",
   "id": "a442846c",
   "metadata": {},
   "source": [
    "---"
   ]
  },
  {
   "cell_type": "markdown",
   "id": "6a03ba09",
   "metadata": {},
   "source": [
    "### Logistic Regression Attribution 시뮬레이션 진행"
   ]
  },
  {
   "cell_type": "code",
   "execution_count": 40,
   "id": "c8051789",
   "metadata": {},
   "outputs": [
    {
     "name": "stdout",
     "output_type": "stream",
     "text": [
      "Conversions : 1799, Blacklist : 5155\t0.0 1763\n",
      "Conversions : 1819, Blacklist : 5221\t0.5 1789\n",
      "Conversions : 1706, Blacklist : 5500\t1.0 1680\n",
      "Conversions : 1537, Blacklist : 5880\t1.5 1515\n",
      "Conversions : 1347, Blacklist : 6290\t2.0 1329\n",
      "Conversions : 1178, Blacklist : 6702\t2.5 1160\n"
     ]
    }
   ],
   "source": [
    "budget_total = 5000\n",
    "attribution = logistic_reg_weights\n",
    "\n",
    "budget_logreg = []\n",
    "for param in hyper_params:\n",
    "    conversion = simulate_budget_roi(sample_data.reset_index(), budget_total, attribution**param)\n",
    "    print(param, conversion)\n",
    "    budget_logreg.append(conversion)"
   ]
  },
  {
   "cell_type": "markdown",
   "id": "2e4da01e",
   "metadata": {},
   "source": [
    "---"
   ]
  },
  {
   "cell_type": "markdown",
   "id": "3286500d",
   "metadata": {},
   "source": [
    "### 두 모델의 기여도에 대한 시뮬레이션 결과 시각화 및 분석\n",
    "- 전체적으로 Last Attribution의 결과가 Logistic Regression 보다 전환이 많이 일어났다.\n",
    "- Last Attribution 시뮬레이션 중 hyper parameter가 1.0일 때의 전환이 가장 높게 나타났다.\n",
    "\n",
    "#### 따라서 캠페인을 통해 광고 집행 예산 최적화는 Last Attribution Model & Hyper Parameter : 1 일 때의 기여도를 통해 진행한다면, 효율적으로 예산을 사용할 수 있다고 할 수 있다."
   ]
  },
  {
   "cell_type": "code",
   "execution_count": 41,
   "id": "109a0ee2",
   "metadata": {
    "scrolled": false
   },
   "outputs": [
    {
     "data": {
      "image/png": "[encoded data removed]",
      "text/plain": [
       "<Figure size 1080x576 with 1 Axes>"
      ]
     },
     "metadata": {},
     "output_type": "display_data"
    }
   ],
   "source": [
    "data1 = pd.DataFrame({\"conversion\":budget_last_att, \"method\": \"last\", \"param\": hyper_params})\n",
    "data2 = pd.DataFrame({\"conversion\":budget_logreg, \"method\": \"logistic\", \"param\": hyper_params})\n",
    "total = pd.concat([data1, data2]).reset_index()\n",
    "\n",
    "ax = sns.lineplot(x=total.param ,y=total.conversion, hue=total.method)\n",
    "ax.figure.set_size_inches(15, 8)"
   ]
  }
 ],
 "metadata": {
  "kernelspec": {
   "display_name": "Python 3",
   "language": "python",
   "name": "python3"
  },
  "language_info": {
   "codemirror_mode": {
    "name": "ipython",
    "version": 3
   },
   "file_extension": ".py",
   "mimetype": "text/x-python",
   "name": "python",
   "nbconvert_exporter": "python",
   "pygments_lexer": "ipython3",
   "version": "3.8.8"
  }
 },
 "nbformat": 4,
 "nbformat_minor": 5
}
