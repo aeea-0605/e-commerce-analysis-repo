{
 "cells": [
  {
   "cell_type": "markdown",
   "id": "a6456add",
   "metadata": {},
   "source": [
    "# Action 2 : 기여도 분석 및 시뮬레이션을 통한 예산 최적화\n",
    "- 도메인 기반 및 Absorbing Markov Chain Attribution Model을 이용한 채널 기여도 분석"
   ]
  },
  {
   "cell_type": "markdown",
   "id": "91bdf9ea",
   "metadata": {},
   "source": [
    "---"
   ]
  },
  {
   "cell_type": "markdown",
   "id": "bf79d1e1",
   "metadata": {},
   "source": [
    "---"
   ]
  },
  {
   "cell_type": "markdown",
   "id": "eecd108e",
   "metadata": {},
   "source": [
    "---"
   ]
  },
  {
   "cell_type": "markdown",
   "id": "15c8cde2",
   "metadata": {},
   "source": [
    "# 데이터 살펴보기\n",
    "- 전자 제품 이커머스 회사는 채널을 통해 광고를 집행하고 있다고 가정\n",
    "- 채널 : Facebook, Instagram, Paid Search, Online Video, Online Display"
   ]
  },
  {
   "cell_type": "code",
   "execution_count": 1,
   "id": "7970e89e",
   "metadata": {},
   "outputs": [
    {
     "name": "stdout",
     "output_type": "stream",
     "text": [
      "(586737, 6)\n"
     ]
    },
    {
     "data": {
      "text/html": [
       "<div>\n",
       "<style scoped>\n",
       "    .dataframe tbody tr th:only-of-type {\n",
       "        vertical-align: middle;\n",
       "    }\n",
       "\n",
       "    .dataframe tbody tr th {\n",
       "        vertical-align: top;\n",
       "    }\n",
       "\n",
       "    .dataframe thead th {\n",
       "        text-align: right;\n",
       "    }\n",
       "</style>\n",
       "<table border=\"1\" class=\"dataframe\">\n",
       "  <thead>\n",
       "    <tr style=\"text-align: right;\">\n",
       "      <th></th>\n",
       "      <th>cookie</th>\n",
       "      <th>time</th>\n",
       "      <th>interaction</th>\n",
       "      <th>conversion</th>\n",
       "      <th>conversion_value</th>\n",
       "      <th>channel</th>\n",
       "    </tr>\n",
       "  </thead>\n",
       "  <tbody>\n",
       "    <tr>\n",
       "      <th>0</th>\n",
       "      <td>00000FkCnDfDDf0iC97iC703B</td>\n",
       "      <td>2018-07-03T13:02:11Z</td>\n",
       "      <td>impression</td>\n",
       "      <td>0</td>\n",
       "      <td>0.0</td>\n",
       "      <td>Instagram</td>\n",
       "    </tr>\n",
       "    <tr>\n",
       "      <th>1</th>\n",
       "      <td>00000FkCnDfDDf0iC97iC703B</td>\n",
       "      <td>2018-07-17T19:15:07Z</td>\n",
       "      <td>impression</td>\n",
       "      <td>0</td>\n",
       "      <td>0.0</td>\n",
       "      <td>Online Display</td>\n",
       "    </tr>\n",
       "    <tr>\n",
       "      <th>2</th>\n",
       "      <td>00000FkCnDfDDf0iC97iC703B</td>\n",
       "      <td>2018-07-24T15:51:46Z</td>\n",
       "      <td>impression</td>\n",
       "      <td>0</td>\n",
       "      <td>0.0</td>\n",
       "      <td>Online Display</td>\n",
       "    </tr>\n",
       "  </tbody>\n",
       "</table>\n",
       "</div>"
      ],
      "text/plain": [
       "                      cookie                  time interaction  conversion  \\\n",
       "0  00000FkCnDfDDf0iC97iC703B  2018-07-03T13:02:11Z  impression           0   \n",
       "1  00000FkCnDfDDf0iC97iC703B  2018-07-17T19:15:07Z  impression           0   \n",
       "2  00000FkCnDfDDf0iC97iC703B  2018-07-24T15:51:46Z  impression           0   \n",
       "\n",
       "   conversion_value         channel  \n",
       "0               0.0       Instagram  \n",
       "1               0.0  Online Display  \n",
       "2               0.0  Online Display  "
      ]
     },
     "execution_count": 1,
     "metadata": {},
     "output_type": "execute_result"
    }
   ],
   "source": [
    "df = pd.read_csv('data/attribution_data.csv')\n",
    "\n",
    "print(df.shape)\n",
    "df.head(3)"
   ]
  },
  {
   "cell_type": "code",
   "execution_count": 2,
   "id": "a59e1a0d",
   "metadata": {},
   "outputs": [
    {
     "name": "stdout",
     "output_type": "stream",
     "text": [
      "<class 'pandas.core.frame.DataFrame'>\n",
      "RangeIndex: 586737 entries, 0 to 586736\n",
      "Data columns (total 6 columns):\n",
      " #   Column            Non-Null Count   Dtype  \n",
      "---  ------            --------------   -----  \n",
      " 0   cookie            586737 non-null  object \n",
      " 1   time              586737 non-null  object \n",
      " 2   interaction       586737 non-null  object \n",
      " 3   conversion        586737 non-null  int64  \n",
      " 4   conversion_value  586737 non-null  float64\n",
      " 5   channel           586737 non-null  object \n",
      "dtypes: float64(1), int64(1), object(4)\n",
      "memory usage: 26.9+ MB\n"
     ]
    }
   ],
   "source": [
    "df.info()"
   ]
  },
  {
   "cell_type": "code",
   "execution_count": 3,
   "id": "ee46c7c8",
   "metadata": {},
   "outputs": [
    {
     "name": "stdout",
     "output_type": "stream",
     "text": [
      "cookie : Unique Classes 240108\n",
      "time : Unique Classes 485110\n",
      "interaction : Unique Classes 2\n",
      "conversion : Unique Classes 2\n",
      "conversion_value : Unique Classes 11\n",
      "channel : Unique Classes 5\n"
     ]
    }
   ],
   "source": [
    "for col in df.columns:\n",
    "    print(f\"{col} : Unique Classes {df[col].nunique()}\")"
   ]
  },
  {
   "cell_type": "code",
   "execution_count": 4,
   "id": "c7663759",
   "metadata": {},
   "outputs": [
    {
     "name": "stdout",
     "output_type": "stream",
     "text": [
      "Channel : ['Instagram' 'Online Display' 'Paid Search' 'Facebook' 'Online Video']\n",
      "Conversion Value : [0.  6.5 8.  6.  7.5 7.  5.  4.5 5.5 8.5 4. ]\n"
     ]
    }
   ],
   "source": [
    "print(f\"Channel : {df.channel.unique()}\")\n",
    "print(f\"Conversion Value : {df.conversion_value.unique()}\")"
   ]
  },
  {
   "cell_type": "code",
   "execution_count": 5,
   "id": "4f66de82",
   "metadata": {},
   "outputs": [
    {
     "data": {
      "text/plain": [
       "impression    569098\n",
       "conversion     17639\n",
       "Name: interaction, dtype: int64"
      ]
     },
     "execution_count": 5,
     "metadata": {},
     "output_type": "execute_result"
    }
   ],
   "source": [
    "df.interaction.value_counts()"
   ]
  },
  {
   "cell_type": "code",
   "execution_count": 6,
   "id": "b468017c",
   "metadata": {},
   "outputs": [
    {
     "data": {
      "text/plain": [
       "impression    0.969937\n",
       "conversion    0.030063\n",
       "Name: interaction, dtype: float64"
      ]
     },
     "execution_count": 6,
     "metadata": {},
     "output_type": "execute_result"
    }
   ],
   "source": [
    "df.interaction.value_counts(normalize=True)"
   ]
  },
  {
   "cell_type": "code",
   "execution_count": 7,
   "id": "7c514044",
   "metadata": {},
   "outputs": [
    {
     "data": {
      "text/plain": [
       "Facebook          175741\n",
       "Paid Search       151440\n",
       "Online Video      113302\n",
       "Instagram          75201\n",
       "Online Display     71053\n",
       "Name: channel, dtype: int64"
      ]
     },
     "execution_count": 7,
     "metadata": {},
     "output_type": "execute_result"
    }
   ],
   "source": [
    "df.channel.value_counts()"
   ]
  },
  {
   "cell_type": "code",
   "execution_count": 8,
   "id": "44ab88d0",
   "metadata": {},
   "outputs": [
    {
     "data": {
      "text/html": [
       "<div>\n",
       "<style scoped>\n",
       "    .dataframe tbody tr th:only-of-type {\n",
       "        vertical-align: middle;\n",
       "    }\n",
       "\n",
       "    .dataframe tbody tr th {\n",
       "        vertical-align: top;\n",
       "    }\n",
       "\n",
       "    .dataframe thead th {\n",
       "        text-align: right;\n",
       "    }\n",
       "</style>\n",
       "<table border=\"1\" class=\"dataframe\">\n",
       "  <thead>\n",
       "    <tr style=\"text-align: right;\">\n",
       "      <th></th>\n",
       "      <th>cookie</th>\n",
       "      <th>channel</th>\n",
       "    </tr>\n",
       "  </thead>\n",
       "  <tbody>\n",
       "    <tr>\n",
       "      <th>0</th>\n",
       "      <td>00000FkCnDfDDf0iC97iC703B</td>\n",
       "      <td>2</td>\n",
       "    </tr>\n",
       "    <tr>\n",
       "      <th>1</th>\n",
       "      <td>0000nACkD9nFkBBDECD3ki00E</td>\n",
       "      <td>1</td>\n",
       "    </tr>\n",
       "    <tr>\n",
       "      <th>2</th>\n",
       "      <td>0003EfE37E93D0BC03iBhBBhF</td>\n",
       "      <td>1</td>\n",
       "    </tr>\n",
       "    <tr>\n",
       "      <th>3</th>\n",
       "      <td>00073CFE3FoFCn70fBhB3kfon</td>\n",
       "      <td>1</td>\n",
       "    </tr>\n",
       "    <tr>\n",
       "      <th>4</th>\n",
       "      <td>00079hhBkDF3k3kDkiFi9EFAD</td>\n",
       "      <td>1</td>\n",
       "    </tr>\n",
       "  </tbody>\n",
       "</table>\n",
       "</div>"
      ],
      "text/plain": [
       "                      cookie  channel\n",
       "0  00000FkCnDfDDf0iC97iC703B        2\n",
       "1  0000nACkD9nFkBBDECD3ki00E        1\n",
       "2  0003EfE37E93D0BC03iBhBBhF        1\n",
       "3  00073CFE3FoFCn70fBhB3kfon        1\n",
       "4  00079hhBkDF3k3kDkiFi9EFAD        1"
      ]
     },
     "execution_count": 8,
     "metadata": {},
     "output_type": "execute_result"
    }
   ],
   "source": [
    "# 쿠키(유저)별 노출된 Unique한 채널 수 \n",
    "channel_per_cookie = df.groupby('cookie')['channel'].nunique().reset_index()\n",
    "channel_per_cookie[:5]"
   ]
  },
  {
   "cell_type": "code",
   "execution_count": 9,
   "id": "36cc2601",
   "metadata": {},
   "outputs": [
    {
     "data": {
      "text/html": [
       "<div>\n",
       "<style scoped>\n",
       "    .dataframe tbody tr th:only-of-type {\n",
       "        vertical-align: middle;\n",
       "    }\n",
       "\n",
       "    .dataframe tbody tr th {\n",
       "        vertical-align: top;\n",
       "    }\n",
       "\n",
       "    .dataframe thead th {\n",
       "        text-align: right;\n",
       "    }\n",
       "</style>\n",
       "<table border=\"1\" class=\"dataframe\">\n",
       "  <thead>\n",
       "    <tr style=\"text-align: right;\">\n",
       "      <th></th>\n",
       "      <th>cookie</th>\n",
       "      <th>rate</th>\n",
       "    </tr>\n",
       "    <tr>\n",
       "      <th>channel</th>\n",
       "      <th></th>\n",
       "      <th></th>\n",
       "    </tr>\n",
       "  </thead>\n",
       "  <tbody>\n",
       "    <tr>\n",
       "      <th>1</th>\n",
       "      <td>183020</td>\n",
       "      <td>0.762240</td>\n",
       "    </tr>\n",
       "    <tr>\n",
       "      <th>2</th>\n",
       "      <td>45964</td>\n",
       "      <td>0.191431</td>\n",
       "    </tr>\n",
       "    <tr>\n",
       "      <th>3</th>\n",
       "      <td>9549</td>\n",
       "      <td>0.039770</td>\n",
       "    </tr>\n",
       "    <tr>\n",
       "      <th>4</th>\n",
       "      <td>1473</td>\n",
       "      <td>0.006135</td>\n",
       "    </tr>\n",
       "    <tr>\n",
       "      <th>5</th>\n",
       "      <td>102</td>\n",
       "      <td>0.000425</td>\n",
       "    </tr>\n",
       "  </tbody>\n",
       "</table>\n",
       "</div>"
      ],
      "text/plain": [
       "         cookie      rate\n",
       "channel                  \n",
       "1        183020  0.762240\n",
       "2         45964  0.191431\n",
       "3          9549  0.039770\n",
       "4          1473  0.006135\n",
       "5           102  0.000425"
      ]
     },
     "execution_count": 9,
     "metadata": {},
     "output_type": "execute_result"
    }
   ],
   "source": [
    "# Unique 노출 채널 수별 쿠키 수\n",
    "cookie_per_channel = channel_per_cookie.groupby('channel').count()\n",
    "cookie_per_channel['rate'] = cookie_per_channel.divide(cookie_per_channel.cookie.sum())\n",
    "cookie_per_channel"
   ]
  },
  {
   "cell_type": "markdown",
   "id": "4c2301d4",
   "metadata": {},
   "source": [
    "---"
   ]
  },
  {
   "cell_type": "markdown",
   "id": "722f8205",
   "metadata": {},
   "source": [
    "### 정리\n",
    "- 데이터의 행은 쿠키의 전환 여부 및 전환 가치에 대한 정보로 구성되어 있다.\n",
    "- 결측 데이터는 존재하지 않으며, 5개의 채널과 11개의 전환 가치로 channel, conversion_value 컬럼이 구성되어 있다.\n",
    "- 전환된 데이터는 전체의 약 3%를 차지하고 있다.\n",
    "- 쿠키별 노출된 채널 수는 1이 전체 중 약 76%를 차지하며, 순차적으로 19%, 4%, 0.6%, 0.04% 를 차지하고 있다."
   ]
  },
  {
   "cell_type": "markdown",
   "id": "34f1f4f6",
   "metadata": {},
   "source": [
    "---"
   ]
  },
  {
   "cell_type": "markdown",
   "id": "d1bc396d",
   "metadata": {},
   "source": [
    "---"
   ]
  },
  {
   "cell_type": "markdown",
   "id": "b439db20",
   "metadata": {},
   "source": [
    "# 도메인 기반 기여도 분석\n",
    "- Last, First, Linear Interaction Attribution Model을 이용해 각 채널별 기여도를 계산"
   ]
  },
  {
   "cell_type": "code",
   "execution_count": 10,
   "id": "05d9c6e5",
   "metadata": {},
   "outputs": [
    {
     "data": {
      "text/html": [
       "<div>\n",
       "<style scoped>\n",
       "    .dataframe tbody tr th:only-of-type {\n",
       "        vertical-align: middle;\n",
       "    }\n",
       "\n",
       "    .dataframe tbody tr th {\n",
       "        vertical-align: top;\n",
       "    }\n",
       "\n",
       "    .dataframe thead th {\n",
       "        text-align: right;\n",
       "    }\n",
       "</style>\n",
       "<table border=\"1\" class=\"dataframe\">\n",
       "  <thead>\n",
       "    <tr style=\"text-align: right;\">\n",
       "      <th></th>\n",
       "      <th>cookie</th>\n",
       "      <th>time</th>\n",
       "      <th>interaction</th>\n",
       "      <th>conversion</th>\n",
       "      <th>conversion_value</th>\n",
       "      <th>channel</th>\n",
       "    </tr>\n",
       "  </thead>\n",
       "  <tbody>\n",
       "    <tr>\n",
       "      <th>0</th>\n",
       "      <td>00000FkCnDfDDf0iC97iC703B</td>\n",
       "      <td>2018-07-03T13:02:11Z</td>\n",
       "      <td>impression</td>\n",
       "      <td>0</td>\n",
       "      <td>0.0</td>\n",
       "      <td>Instagram</td>\n",
       "    </tr>\n",
       "    <tr>\n",
       "      <th>1</th>\n",
       "      <td>00000FkCnDfDDf0iC97iC703B</td>\n",
       "      <td>2018-07-17T19:15:07Z</td>\n",
       "      <td>impression</td>\n",
       "      <td>0</td>\n",
       "      <td>0.0</td>\n",
       "      <td>Online Display</td>\n",
       "    </tr>\n",
       "  </tbody>\n",
       "</table>\n",
       "</div>"
      ],
      "text/plain": [
       "                      cookie                  time interaction  conversion  \\\n",
       "0  00000FkCnDfDDf0iC97iC703B  2018-07-03T13:02:11Z  impression           0   \n",
       "1  00000FkCnDfDDf0iC97iC703B  2018-07-17T19:15:07Z  impression           0   \n",
       "\n",
       "   conversion_value         channel  \n",
       "0               0.0       Instagram  \n",
       "1               0.0  Online Display  "
      ]
     },
     "execution_count": 10,
     "metadata": {},
     "output_type": "execute_result"
    }
   ],
   "source": [
    "# 쿠키 및 시간에 대해 데이터 정렬\n",
    "df['timestamp'] = pd.to_datetime(df['time'])\n",
    "df.sort_values(['cookie', 'timestamp'], inplace=True)\n",
    "\n",
    "df.drop('timestamp', axis=1, inplace=True)\n",
    "df.head(2)"
   ]
  },
  {
   "cell_type": "markdown",
   "id": "0e7f19e1",
   "metadata": {},
   "source": [
    "## Last Interaction Attribution Model\n",
    "- 마지막으로 노출/클릭된 채널의 기여도를 100%로 가정"
   ]
  },
  {
   "cell_type": "code",
   "execution_count": 11,
   "id": "1457e146",
   "metadata": {},
   "outputs": [
    {
     "name": "stdout",
     "output_type": "stream",
     "text": [
      "(240108, 4)\n"
     ]
    },
    {
     "data": {
      "text/html": [
       "<div>\n",
       "<style scoped>\n",
       "    .dataframe tbody tr th:only-of-type {\n",
       "        vertical-align: middle;\n",
       "    }\n",
       "\n",
       "    .dataframe tbody tr th {\n",
       "        vertical-align: top;\n",
       "    }\n",
       "\n",
       "    .dataframe thead th {\n",
       "        text-align: right;\n",
       "    }\n",
       "</style>\n",
       "<table border=\"1\" class=\"dataframe\">\n",
       "  <thead>\n",
       "    <tr style=\"text-align: right;\">\n",
       "      <th></th>\n",
       "      <th>cookie</th>\n",
       "      <th>channel</th>\n",
       "      <th>conversion</th>\n",
       "      <th>conversion_value</th>\n",
       "    </tr>\n",
       "  </thead>\n",
       "  <tbody>\n",
       "    <tr>\n",
       "      <th>3</th>\n",
       "      <td>00000FkCnDfDDf0iC97iC703B</td>\n",
       "      <td>Online Display</td>\n",
       "      <td>0</td>\n",
       "      <td>0.0</td>\n",
       "    </tr>\n",
       "    <tr>\n",
       "      <th>9</th>\n",
       "      <td>0000nACkD9nFkBBDECD3ki00E</td>\n",
       "      <td>Paid Search</td>\n",
       "      <td>0</td>\n",
       "      <td>0.0</td>\n",
       "    </tr>\n",
       "  </tbody>\n",
       "</table>\n",
       "</div>"
      ],
      "text/plain": [
       "                      cookie         channel  conversion  conversion_value\n",
       "3  00000FkCnDfDDf0iC97iC703B  Online Display           0               0.0\n",
       "9  0000nACkD9nFkBBDECD3ki00E     Paid Search           0               0.0"
      ]
     },
     "execution_count": 11,
     "metadata": {},
     "output_type": "execute_result"
    }
   ],
   "source": [
    "# 쿠키별 마지막 데이터에 대해서만 추출\n",
    "last_interaction_df = (\n",
    "    df.drop_duplicates('cookie', keep='last')[['cookie', 'channel', 'conversion', 'conversion_value']]\n",
    ")\n",
    "\n",
    "print(last_interaction_df.shape)\n",
    "last_interaction_df.head(2)"
   ]
  },
  {
   "cell_type": "code",
   "execution_count": 12,
   "id": "6197fdac",
   "metadata": {},
   "outputs": [
    {
     "name": "stdout",
     "output_type": "stream",
     "text": [
      "Length :17639, Unique Cookies :17639\n",
      "Length :17639, Unique Cookies :17639\n",
      "\n",
      "set()\n",
      "set()\n"
     ]
    }
   ],
   "source": [
    "# 전환이 된 쿠키 및 해당 쿠키에 대한 채널 추출\n",
    "conversion_interaction = df[df.conversion == 1]\n",
    "print(f\"Length :{len(conversion_interaction)}, Unique Cookies :{conversion_interaction.cookie.nunique()}\")\n",
    "\n",
    "# 전환이 된 쿠키 및 해당 쿠키의 마지막 채널 추출\n",
    "last_conversion_interaction = last_interaction_df.loc[last_interaction_df.conversion == 1]\n",
    "print(f\"Length :{len(last_conversion_interaction)}, Unique Cookies :{last_conversion_interaction.cookie.nunique()}\")\n",
    "print()\n",
    "\n",
    "# 두 데이터셋의 전환된 쿠키 및 채널이 동일한지 파악\n",
    "print(set(conversion_interaction.cookie) - set(last_conversion_interaction.cookie))\n",
    "print(set(conversion_interaction.channel) - set(last_conversion_interaction.channel))"
   ]
  },
  {
   "cell_type": "markdown",
   "id": "cad36dea",
   "metadata": {},
   "source": [
    "- 두 데이터셋의 전환된 쿠키가 동일하고, 전환 당시 채널과 마지막 채널이 동일하므로 **쿠키가 전환이 된 경우, 해당 쿠키의 여정은 종료된다고 할 수 있다.**"
   ]
  },
  {
   "cell_type": "markdown",
   "id": "c27ff05f",
   "metadata": {},
   "source": [
    "---"
   ]
  },
  {
   "cell_type": "code",
   "execution_count": 13,
   "id": "1b0afa63",
   "metadata": {},
   "outputs": [
    {
     "data": {
      "text/html": [
       "<div>\n",
       "<style scoped>\n",
       "    .dataframe tbody tr th:only-of-type {\n",
       "        vertical-align: middle;\n",
       "    }\n",
       "\n",
       "    .dataframe tbody tr th {\n",
       "        vertical-align: top;\n",
       "    }\n",
       "\n",
       "    .dataframe thead th {\n",
       "        text-align: right;\n",
       "    }\n",
       "</style>\n",
       "<table border=\"1\" class=\"dataframe\">\n",
       "  <thead>\n",
       "    <tr style=\"text-align: right;\">\n",
       "      <th></th>\n",
       "      <th>cookie</th>\n",
       "      <th>channel</th>\n",
       "      <th>conversion</th>\n",
       "      <th>conversion_value</th>\n",
       "    </tr>\n",
       "  </thead>\n",
       "  <tbody>\n",
       "    <tr>\n",
       "      <th>22</th>\n",
       "      <td>0007oEBhnoF97AoEE3BCkFnhB</td>\n",
       "      <td>Paid Search</td>\n",
       "      <td>1</td>\n",
       "      <td>6.5</td>\n",
       "    </tr>\n",
       "    <tr>\n",
       "      <th>23</th>\n",
       "      <td>00090n9EBBEkA000C7Cik999D</td>\n",
       "      <td>Facebook</td>\n",
       "      <td>1</td>\n",
       "      <td>8.0</td>\n",
       "    </tr>\n",
       "  </tbody>\n",
       "</table>\n",
       "</div>"
      ],
      "text/plain": [
       "                       cookie      channel  conversion  conversion_value\n",
       "22  0007oEBhnoF97AoEE3BCkFnhB  Paid Search           1               6.5\n",
       "23  00090n9EBBEkA000C7Cik999D     Facebook           1               8.0"
      ]
     },
     "execution_count": 13,
     "metadata": {},
     "output_type": "execute_result"
    }
   ],
   "source": [
    "conversion_interaction = conversion_interaction[['cookie', 'channel', 'conversion', 'conversion_value']]\n",
    "conversion_interaction.head(2)"
   ]
  },
  {
   "cell_type": "code",
   "execution_count": 14,
   "id": "e5f3ac1b",
   "metadata": {},
   "outputs": [],
   "source": [
    "# 채널별 전환 수와 전환 가치의 합을 추출하기 위한 그룹핑\n",
    "sort_datas = conversion_interaction.groupby('channel')[['conversion', 'conversion_value']].agg(['count', 'sum'])"
   ]
  },
  {
   "cell_type": "code",
   "execution_count": 15,
   "id": "21390d9d",
   "metadata": {
    "scrolled": true
   },
   "outputs": [
    {
     "data": {
      "text/html": [
       "<div>\n",
       "<style scoped>\n",
       "    .dataframe tbody tr th:only-of-type {\n",
       "        vertical-align: middle;\n",
       "    }\n",
       "\n",
       "    .dataframe tbody tr th {\n",
       "        vertical-align: top;\n",
       "    }\n",
       "\n",
       "    .dataframe thead th {\n",
       "        text-align: right;\n",
       "    }\n",
       "</style>\n",
       "<table border=\"1\" class=\"dataframe\">\n",
       "  <thead>\n",
       "    <tr style=\"text-align: right;\">\n",
       "      <th></th>\n",
       "      <th>attribution_cnt</th>\n",
       "      <th>attribution_sum</th>\n",
       "    </tr>\n",
       "    <tr>\n",
       "      <th>channel</th>\n",
       "      <th></th>\n",
       "      <th></th>\n",
       "    </tr>\n",
       "  </thead>\n",
       "  <tbody>\n",
       "    <tr>\n",
       "      <th>Facebook</th>\n",
       "      <td>5301</td>\n",
       "      <td>33143.5</td>\n",
       "    </tr>\n",
       "    <tr>\n",
       "      <th>Instagram</th>\n",
       "      <td>2244</td>\n",
       "      <td>14039.5</td>\n",
       "    </tr>\n",
       "    <tr>\n",
       "      <th>Online Display</th>\n",
       "      <td>2139</td>\n",
       "      <td>13298.5</td>\n",
       "    </tr>\n",
       "    <tr>\n",
       "      <th>Online Video</th>\n",
       "      <td>3408</td>\n",
       "      <td>21418.0</td>\n",
       "    </tr>\n",
       "    <tr>\n",
       "      <th>Paid Search</th>\n",
       "      <td>4547</td>\n",
       "      <td>28331.5</td>\n",
       "    </tr>\n",
       "  </tbody>\n",
       "</table>\n",
       "</div>"
      ],
      "text/plain": [
       "                attribution_cnt  attribution_sum\n",
       "channel                                         \n",
       "Facebook                   5301          33143.5\n",
       "Instagram                  2244          14039.5\n",
       "Online Display             2139          13298.5\n",
       "Online Video               3408          21418.0\n",
       "Paid Search                4547          28331.5"
      ]
     },
     "execution_count": 15,
     "metadata": {},
     "output_type": "execute_result"
    }
   ],
   "source": [
    "# last interaction attribution model을 통한 채널별 기여도\n",
    "last_interaction_attr = pd.DataFrame(\n",
    "    {\n",
    "    'attribution_cnt': sort_datas[('conversion', 'count')] ,\n",
    "    'attribution_sum': sort_datas[('conversion_value', 'sum')]\n",
    "    }, index=sort_datas.index)\n",
    "\n",
    "last_interaction_attr"
   ]
  },
  {
   "cell_type": "markdown",
   "id": "3fbea7cc",
   "metadata": {},
   "source": [
    "---"
   ]
  },
  {
   "cell_type": "markdown",
   "id": "645a4d2d",
   "metadata": {},
   "source": [
    "---"
   ]
  },
  {
   "cell_type": "markdown",
   "id": "7b66ad5e",
   "metadata": {},
   "source": [
    "## First Interaction Attribution Model\n",
    "- 처음으로 노출/클릭된 채널의 기여도를 100%로 가정"
   ]
  },
  {
   "cell_type": "code",
   "execution_count": 16,
   "id": "9d123b12",
   "metadata": {},
   "outputs": [
    {
     "data": {
      "text/html": [
       "<div>\n",
       "<style scoped>\n",
       "    .dataframe tbody tr th:only-of-type {\n",
       "        vertical-align: middle;\n",
       "    }\n",
       "\n",
       "    .dataframe tbody tr th {\n",
       "        vertical-align: top;\n",
       "    }\n",
       "\n",
       "    .dataframe thead th {\n",
       "        text-align: right;\n",
       "    }\n",
       "</style>\n",
       "<table border=\"1\" class=\"dataframe\">\n",
       "  <thead>\n",
       "    <tr style=\"text-align: right;\">\n",
       "      <th></th>\n",
       "      <th>cookie</th>\n",
       "      <th>channel</th>\n",
       "    </tr>\n",
       "  </thead>\n",
       "  <tbody>\n",
       "    <tr>\n",
       "      <th>0</th>\n",
       "      <td>00000FkCnDfDDf0iC97iC703B</td>\n",
       "      <td>Instagram</td>\n",
       "    </tr>\n",
       "    <tr>\n",
       "      <th>4</th>\n",
       "      <td>0000nACkD9nFkBBDECD3ki00E</td>\n",
       "      <td>Paid Search</td>\n",
       "    </tr>\n",
       "  </tbody>\n",
       "</table>\n",
       "</div>"
      ],
      "text/plain": [
       "                      cookie      channel\n",
       "0  00000FkCnDfDDf0iC97iC703B    Instagram\n",
       "4  0000nACkD9nFkBBDECD3ki00E  Paid Search"
      ]
     },
     "execution_count": 16,
     "metadata": {},
     "output_type": "execute_result"
    }
   ],
   "source": [
    "# 쿠키별 첫번째 데이터에 대해서만 추출\n",
    "first_interaction_df = (\n",
    "    df.drop_duplicates('cookie', keep='first')[['cookie', 'channel']]\n",
    ")\n",
    "\n",
    "first_interaction_df.head(2)"
   ]
  },
  {
   "cell_type": "code",
   "execution_count": 17,
   "id": "b7b82e67",
   "metadata": {},
   "outputs": [
    {
     "data": {
      "text/html": [
       "<div>\n",
       "<style scoped>\n",
       "    .dataframe tbody tr th:only-of-type {\n",
       "        vertical-align: middle;\n",
       "    }\n",
       "\n",
       "    .dataframe tbody tr th {\n",
       "        vertical-align: top;\n",
       "    }\n",
       "\n",
       "    .dataframe thead th {\n",
       "        text-align: right;\n",
       "    }\n",
       "</style>\n",
       "<table border=\"1\" class=\"dataframe\">\n",
       "  <thead>\n",
       "    <tr style=\"text-align: right;\">\n",
       "      <th></th>\n",
       "      <th>cookie</th>\n",
       "      <th>channel</th>\n",
       "      <th>conversion</th>\n",
       "      <th>conversion_value</th>\n",
       "    </tr>\n",
       "  </thead>\n",
       "  <tbody>\n",
       "    <tr>\n",
       "      <th>0</th>\n",
       "      <td>0007oEBhnoF97AoEE3BCkFnhB</td>\n",
       "      <td>Paid Search</td>\n",
       "      <td>1</td>\n",
       "      <td>6.5</td>\n",
       "    </tr>\n",
       "    <tr>\n",
       "      <th>1</th>\n",
       "      <td>00090n9EBBEkA000C7Cik999D</td>\n",
       "      <td>Facebook</td>\n",
       "      <td>1</td>\n",
       "      <td>8.0</td>\n",
       "    </tr>\n",
       "  </tbody>\n",
       "</table>\n",
       "</div>"
      ],
      "text/plain": [
       "                      cookie      channel  conversion  conversion_value\n",
       "0  0007oEBhnoF97AoEE3BCkFnhB  Paid Search           1               6.5\n",
       "1  00090n9EBBEkA000C7Cik999D     Facebook           1               8.0"
      ]
     },
     "execution_count": 17,
     "metadata": {},
     "output_type": "execute_result"
    }
   ],
   "source": [
    "# 쿠키별 첫번째 데이터에서 전환된 쿠키만 추출해 전환 가치 데이터와 병합\n",
    "first_interaction_conversion = (\n",
    "    first_interaction_df[['cookie', 'channel']]\n",
    "    .merge(conversion_interaction[['cookie', 'conversion', 'conversion_value']], on='cookie')\n",
    ")\n",
    "\n",
    "first_interaction_conversion.head(2)"
   ]
  },
  {
   "cell_type": "code",
   "execution_count": 18,
   "id": "83ae8293",
   "metadata": {},
   "outputs": [],
   "source": [
    "# 첫번째 채널에 대한 채널별 전환 수 및 전환 가치 합을 추출하기 위한 그룹핑\n",
    "sort_datas = first_interaction_conversion.groupby('channel')[['conversion', 'conversion_value']].agg(['count', 'sum'])"
   ]
  },
  {
   "cell_type": "code",
   "execution_count": 19,
   "id": "52e59fd5",
   "metadata": {},
   "outputs": [
    {
     "data": {
      "text/html": [
       "<div>\n",
       "<style scoped>\n",
       "    .dataframe tbody tr th:only-of-type {\n",
       "        vertical-align: middle;\n",
       "    }\n",
       "\n",
       "    .dataframe tbody tr th {\n",
       "        vertical-align: top;\n",
       "    }\n",
       "\n",
       "    .dataframe thead th {\n",
       "        text-align: right;\n",
       "    }\n",
       "</style>\n",
       "<table border=\"1\" class=\"dataframe\">\n",
       "  <thead>\n",
       "    <tr style=\"text-align: right;\">\n",
       "      <th></th>\n",
       "      <th>attribution_cnt</th>\n",
       "      <th>attribution_sum</th>\n",
       "    </tr>\n",
       "    <tr>\n",
       "      <th>channel</th>\n",
       "      <th></th>\n",
       "      <th></th>\n",
       "    </tr>\n",
       "  </thead>\n",
       "  <tbody>\n",
       "    <tr>\n",
       "      <th>Facebook</th>\n",
       "      <td>5177</td>\n",
       "      <td>32283.0</td>\n",
       "    </tr>\n",
       "    <tr>\n",
       "      <th>Instagram</th>\n",
       "      <td>2329</td>\n",
       "      <td>14579.5</td>\n",
       "    </tr>\n",
       "    <tr>\n",
       "      <th>Online Display</th>\n",
       "      <td>2160</td>\n",
       "      <td>13419.0</td>\n",
       "    </tr>\n",
       "    <tr>\n",
       "      <th>Online Video</th>\n",
       "      <td>3216</td>\n",
       "      <td>20225.5</td>\n",
       "    </tr>\n",
       "    <tr>\n",
       "      <th>Paid Search</th>\n",
       "      <td>4757</td>\n",
       "      <td>29724.0</td>\n",
       "    </tr>\n",
       "  </tbody>\n",
       "</table>\n",
       "</div>"
      ],
      "text/plain": [
       "                attribution_cnt  attribution_sum\n",
       "channel                                         \n",
       "Facebook                   5177          32283.0\n",
       "Instagram                  2329          14579.5\n",
       "Online Display             2160          13419.0\n",
       "Online Video               3216          20225.5\n",
       "Paid Search                4757          29724.0"
      ]
     },
     "execution_count": 19,
     "metadata": {},
     "output_type": "execute_result"
    }
   ],
   "source": [
    "# first interaction attribution model을 통한 채널별 기여도\n",
    "first_interaction_attr = pd.DataFrame(\n",
    "    {\n",
    "    'attribution_cnt': sort_datas[('conversion', 'count')] ,\n",
    "    'attribution_sum': sort_datas[('conversion_value', 'sum')]\n",
    "    }, index=sort_datas.index)\n",
    "\n",
    "first_interaction_attr"
   ]
  },
  {
   "cell_type": "markdown",
   "id": "6a764de4",
   "metadata": {},
   "source": [
    "---"
   ]
  },
  {
   "cell_type": "markdown",
   "id": "e4978936",
   "metadata": {},
   "source": [
    "---"
   ]
  },
  {
   "cell_type": "markdown",
   "id": "7785a7f3",
   "metadata": {},
   "source": [
    "## Linear Interaction Attribution Model\n",
    "- 전환 과정 중 발생한 모든 채널의 기여도가 동일하다고 가정"
   ]
  },
  {
   "cell_type": "code",
   "execution_count": 20,
   "id": "517306ee",
   "metadata": {},
   "outputs": [],
   "source": [
    "# 유저 및 채널에 대해 중복되는 데이터 제거\n",
    "unique_cookie_channel = df.drop_duplicates(['cookie', 'channel'], keep='last')[['cookie', 'channel']]"
   ]
  },
  {
   "cell_type": "code",
   "execution_count": 21,
   "id": "91f5436a",
   "metadata": {},
   "outputs": [
    {
     "data": {
      "text/html": [
       "<div>\n",
       "<style scoped>\n",
       "    .dataframe tbody tr th:only-of-type {\n",
       "        vertical-align: middle;\n",
       "    }\n",
       "\n",
       "    .dataframe tbody tr th {\n",
       "        vertical-align: top;\n",
       "    }\n",
       "\n",
       "    .dataframe thead th {\n",
       "        text-align: right;\n",
       "    }\n",
       "</style>\n",
       "<table border=\"1\" class=\"dataframe\">\n",
       "  <thead>\n",
       "    <tr style=\"text-align: right;\">\n",
       "      <th></th>\n",
       "      <th>cookie</th>\n",
       "      <th>channel</th>\n",
       "      <th>channel_cnt</th>\n",
       "    </tr>\n",
       "  </thead>\n",
       "  <tbody>\n",
       "    <tr>\n",
       "      <th>0</th>\n",
       "      <td>00000FkCnDfDDf0iC97iC703B</td>\n",
       "      <td>Instagram</td>\n",
       "      <td>2</td>\n",
       "    </tr>\n",
       "    <tr>\n",
       "      <th>1</th>\n",
       "      <td>00000FkCnDfDDf0iC97iC703B</td>\n",
       "      <td>Online Display</td>\n",
       "      <td>2</td>\n",
       "    </tr>\n",
       "  </tbody>\n",
       "</table>\n",
       "</div>"
      ],
      "text/plain": [
       "                      cookie         channel  channel_cnt\n",
       "0  00000FkCnDfDDf0iC97iC703B       Instagram            2\n",
       "1  00000FkCnDfDDf0iC97iC703B  Online Display            2"
      ]
     },
     "execution_count": 21,
     "metadata": {},
     "output_type": "execute_result"
    }
   ],
   "source": [
    "# 쿠키별 노출된 채널 및 채널 수\n",
    "cookie_channel_df = unique_cookie_channel.merge(\n",
    "    channel_per_cookie, on='cookie'\n",
    ").rename({'channel_x': 'channel', 'channel_y': 'channel_cnt'}, axis=1)\n",
    "\n",
    "cookie_channel_df.head(2)"
   ]
  },
  {
   "cell_type": "code",
   "execution_count": 22,
   "id": "0fe03ee5",
   "metadata": {},
   "outputs": [
    {
     "data": {
      "text/html": [
       "<div>\n",
       "<style scoped>\n",
       "    .dataframe tbody tr th:only-of-type {\n",
       "        vertical-align: middle;\n",
       "    }\n",
       "\n",
       "    .dataframe tbody tr th {\n",
       "        vertical-align: top;\n",
       "    }\n",
       "\n",
       "    .dataframe thead th {\n",
       "        text-align: right;\n",
       "    }\n",
       "</style>\n",
       "<table border=\"1\" class=\"dataframe\">\n",
       "  <thead>\n",
       "    <tr style=\"text-align: right;\">\n",
       "      <th></th>\n",
       "      <th>cookie</th>\n",
       "      <th>channel</th>\n",
       "      <th>channel_cnt</th>\n",
       "      <th>conversion</th>\n",
       "      <th>conversion_value</th>\n",
       "    </tr>\n",
       "  </thead>\n",
       "  <tbody>\n",
       "    <tr>\n",
       "      <th>0</th>\n",
       "      <td>0007oEBhnoF97AoEE3BCkFnhB</td>\n",
       "      <td>Paid Search</td>\n",
       "      <td>1</td>\n",
       "      <td>1</td>\n",
       "      <td>6.5</td>\n",
       "    </tr>\n",
       "    <tr>\n",
       "      <th>1</th>\n",
       "      <td>00090n9EBBEkA000C7Cik999D</td>\n",
       "      <td>Facebook</td>\n",
       "      <td>1</td>\n",
       "      <td>1</td>\n",
       "      <td>8.0</td>\n",
       "    </tr>\n",
       "  </tbody>\n",
       "</table>\n",
       "</div>"
      ],
      "text/plain": [
       "                      cookie      channel  channel_cnt  conversion  \\\n",
       "0  0007oEBhnoF97AoEE3BCkFnhB  Paid Search            1           1   \n",
       "1  00090n9EBBEkA000C7Cik999D     Facebook            1           1   \n",
       "\n",
       "   conversion_value  \n",
       "0               6.5  \n",
       "1               8.0  "
      ]
     },
     "execution_count": 22,
     "metadata": {},
     "output_type": "execute_result"
    }
   ],
   "source": [
    "# 전환된 쿠키에 대해서만 추출해 전환 및 전환 가치 데이터 병합\n",
    "linear_interaction_conversion = cookie_channel_df.merge(\n",
    "    conversion_interaction[['cookie', 'conversion', 'conversion_value']], on='cookie'\n",
    ")\n",
    "\n",
    "linear_interaction_conversion.head(2)"
   ]
  },
  {
   "cell_type": "code",
   "execution_count": 23,
   "id": "14050ecf",
   "metadata": {},
   "outputs": [
    {
     "data": {
      "text/html": [
       "<div>\n",
       "<style scoped>\n",
       "    .dataframe tbody tr th:only-of-type {\n",
       "        vertical-align: middle;\n",
       "    }\n",
       "\n",
       "    .dataframe tbody tr th {\n",
       "        vertical-align: top;\n",
       "    }\n",
       "\n",
       "    .dataframe thead th {\n",
       "        text-align: right;\n",
       "    }\n",
       "</style>\n",
       "<table border=\"1\" class=\"dataframe\">\n",
       "  <thead>\n",
       "    <tr style=\"text-align: right;\">\n",
       "      <th></th>\n",
       "      <th>cookie</th>\n",
       "      <th>channel</th>\n",
       "      <th>channel_cnt</th>\n",
       "      <th>conversion</th>\n",
       "      <th>conversion_value</th>\n",
       "      <th>linear_cnv</th>\n",
       "      <th>linear_val</th>\n",
       "    </tr>\n",
       "  </thead>\n",
       "  <tbody>\n",
       "    <tr>\n",
       "      <th>0</th>\n",
       "      <td>0007oEBhnoF97AoEE3BCkFnhB</td>\n",
       "      <td>Paid Search</td>\n",
       "      <td>1</td>\n",
       "      <td>1</td>\n",
       "      <td>6.5</td>\n",
       "      <td>1.0</td>\n",
       "      <td>6.50</td>\n",
       "    </tr>\n",
       "    <tr>\n",
       "      <th>1</th>\n",
       "      <td>00090n9EBBEkA000C7Cik999D</td>\n",
       "      <td>Facebook</td>\n",
       "      <td>1</td>\n",
       "      <td>1</td>\n",
       "      <td>8.0</td>\n",
       "      <td>1.0</td>\n",
       "      <td>8.00</td>\n",
       "    </tr>\n",
       "    <tr>\n",
       "      <th>2</th>\n",
       "      <td>000h3n9nC0hFhE3CCnkkAof7n</td>\n",
       "      <td>Facebook</td>\n",
       "      <td>1</td>\n",
       "      <td>1</td>\n",
       "      <td>6.0</td>\n",
       "      <td>1.0</td>\n",
       "      <td>6.00</td>\n",
       "    </tr>\n",
       "    <tr>\n",
       "      <th>3</th>\n",
       "      <td>000hCBnCB7oi7ADAEnEBCnBEE</td>\n",
       "      <td>Instagram</td>\n",
       "      <td>2</td>\n",
       "      <td>1</td>\n",
       "      <td>6.5</td>\n",
       "      <td>0.5</td>\n",
       "      <td>3.25</td>\n",
       "    </tr>\n",
       "    <tr>\n",
       "      <th>4</th>\n",
       "      <td>000hCBnCB7oi7ADAEnEBCnBEE</td>\n",
       "      <td>Online Video</td>\n",
       "      <td>2</td>\n",
       "      <td>1</td>\n",
       "      <td>6.5</td>\n",
       "      <td>0.5</td>\n",
       "      <td>3.25</td>\n",
       "    </tr>\n",
       "  </tbody>\n",
       "</table>\n",
       "</div>"
      ],
      "text/plain": [
       "                      cookie       channel  channel_cnt  conversion  \\\n",
       "0  0007oEBhnoF97AoEE3BCkFnhB   Paid Search            1           1   \n",
       "1  00090n9EBBEkA000C7Cik999D      Facebook            1           1   \n",
       "2  000h3n9nC0hFhE3CCnkkAof7n      Facebook            1           1   \n",
       "3  000hCBnCB7oi7ADAEnEBCnBEE     Instagram            2           1   \n",
       "4  000hCBnCB7oi7ADAEnEBCnBEE  Online Video            2           1   \n",
       "\n",
       "   conversion_value  linear_cnv  linear_val  \n",
       "0               6.5         1.0        6.50  \n",
       "1               8.0         1.0        8.00  \n",
       "2               6.0         1.0        6.00  \n",
       "3               6.5         0.5        3.25  \n",
       "4               6.5         0.5        3.25  "
      ]
     },
     "execution_count": 23,
     "metadata": {},
     "output_type": "execute_result"
    }
   ],
   "source": [
    "# 쿠키별 전환 / 노출된 채널 수로 나눠 각 채널의 가중치를 균등하게 배분\n",
    "linear_interaction_conversion['linear_cnv'] = (\n",
    "    linear_interaction_conversion.conversion / linear_interaction_conversion.channel_cnt\n",
    ")\n",
    "\n",
    "# 쿠키별 전환 가치 / 노출된 채널 수로 나눠 전환 가치를 균등하게 배분\n",
    "linear_interaction_conversion['linear_val'] = (\n",
    "    linear_interaction_conversion.conversion_value / linear_interaction_conversion.channel_cnt\n",
    ")\n",
    "\n",
    "linear_interaction_conversion.head()"
   ]
  },
  {
   "cell_type": "code",
   "execution_count": 24,
   "id": "78906c4a",
   "metadata": {},
   "outputs": [],
   "source": [
    "sort_datas = linear_interaction_conversion.groupby(\"channel\")[['linear_cnv', 'linear_val']].sum()"
   ]
  },
  {
   "cell_type": "code",
   "execution_count": 25,
   "id": "10d4910d",
   "metadata": {},
   "outputs": [
    {
     "data": {
      "text/html": [
       "<div>\n",
       "<style scoped>\n",
       "    .dataframe tbody tr th:only-of-type {\n",
       "        vertical-align: middle;\n",
       "    }\n",
       "\n",
       "    .dataframe tbody tr th {\n",
       "        vertical-align: top;\n",
       "    }\n",
       "\n",
       "    .dataframe thead th {\n",
       "        text-align: right;\n",
       "    }\n",
       "</style>\n",
       "<table border=\"1\" class=\"dataframe\">\n",
       "  <thead>\n",
       "    <tr style=\"text-align: right;\">\n",
       "      <th></th>\n",
       "      <th>attribution_cnt</th>\n",
       "      <th>attribution_sum</th>\n",
       "    </tr>\n",
       "    <tr>\n",
       "      <th>channel</th>\n",
       "      <th></th>\n",
       "      <th></th>\n",
       "    </tr>\n",
       "  </thead>\n",
       "  <tbody>\n",
       "    <tr>\n",
       "      <th>Facebook</th>\n",
       "      <td>4947.600000</td>\n",
       "      <td>30910.008333</td>\n",
       "    </tr>\n",
       "    <tr>\n",
       "      <th>Instagram</th>\n",
       "      <td>2627.100000</td>\n",
       "      <td>16442.758333</td>\n",
       "    </tr>\n",
       "    <tr>\n",
       "      <th>Online Display</th>\n",
       "      <td>2143.600000</td>\n",
       "      <td>13324.466667</td>\n",
       "    </tr>\n",
       "    <tr>\n",
       "      <th>Online Video</th>\n",
       "      <td>3192.183333</td>\n",
       "      <td>20066.175000</td>\n",
       "    </tr>\n",
       "    <tr>\n",
       "      <th>Paid Search</th>\n",
       "      <td>4728.516667</td>\n",
       "      <td>29487.591667</td>\n",
       "    </tr>\n",
       "  </tbody>\n",
       "</table>\n",
       "</div>"
      ],
      "text/plain": [
       "                attribution_cnt  attribution_sum\n",
       "channel                                         \n",
       "Facebook            4947.600000     30910.008333\n",
       "Instagram           2627.100000     16442.758333\n",
       "Online Display      2143.600000     13324.466667\n",
       "Online Video        3192.183333     20066.175000\n",
       "Paid Search         4728.516667     29487.591667"
      ]
     },
     "execution_count": 25,
     "metadata": {},
     "output_type": "execute_result"
    }
   ],
   "source": [
    "# linear interaction attribution model을 통한 채널별 기여도\n",
    "linear_interaction_attr = pd.DataFrame(\n",
    "    {\n",
    "        'attribution_cnt': sort_datas['linear_cnv'],\n",
    "        'attribution_sum': sort_datas['linear_val']\n",
    "    }, index=sort_datas.index\n",
    ")\n",
    "\n",
    "linear_interaction_attr"
   ]
  },
  {
   "cell_type": "markdown",
   "id": "0383b17a",
   "metadata": {},
   "source": [
    "---"
   ]
  },
  {
   "cell_type": "markdown",
   "id": "c6b5118e",
   "metadata": {},
   "source": [
    "---"
   ]
  },
  {
   "cell_type": "markdown",
   "id": "2a9da151",
   "metadata": {},
   "source": [
    "## 도메인 기반 기여도 분석 모델 비교"
   ]
  },
  {
   "cell_type": "code",
   "execution_count": 26,
   "id": "6696fd04",
   "metadata": {},
   "outputs": [],
   "source": [
    "import seaborn as sns\n",
    "\n",
    "\n",
    "sns.set_theme(style=\"whitegrid\", palette=\"Paired\")"
   ]
  },
  {
   "cell_type": "code",
   "execution_count": 27,
   "id": "72f5d897",
   "metadata": {},
   "outputs": [],
   "source": [
    "last_interaction_attr['method'] = 'last'\n",
    "first_interaction_attr['method'] = 'first'\n",
    "linear_interaction_attr['method'] = 'linear'"
   ]
  },
  {
   "cell_type": "code",
   "execution_count": 28,
   "id": "2f78f82d",
   "metadata": {},
   "outputs": [
    {
     "data": {
      "text/html": [
       "<div>\n",
       "<style scoped>\n",
       "    .dataframe tbody tr th:only-of-type {\n",
       "        vertical-align: middle;\n",
       "    }\n",
       "\n",
       "    .dataframe tbody tr th {\n",
       "        vertical-align: top;\n",
       "    }\n",
       "\n",
       "    .dataframe thead th {\n",
       "        text-align: right;\n",
       "    }\n",
       "</style>\n",
       "<table border=\"1\" class=\"dataframe\">\n",
       "  <thead>\n",
       "    <tr style=\"text-align: right;\">\n",
       "      <th></th>\n",
       "      <th>attribution_cnt</th>\n",
       "      <th>attribution_sum</th>\n",
       "      <th>method</th>\n",
       "      <th>attribution_rate</th>\n",
       "    </tr>\n",
       "    <tr>\n",
       "      <th>channel</th>\n",
       "      <th></th>\n",
       "      <th></th>\n",
       "      <th></th>\n",
       "      <th></th>\n",
       "    </tr>\n",
       "  </thead>\n",
       "  <tbody>\n",
       "    <tr>\n",
       "      <th>Facebook</th>\n",
       "      <td>5301.000000</td>\n",
       "      <td>33143.500000</td>\n",
       "      <td>last</td>\n",
       "      <td>6.252311</td>\n",
       "    </tr>\n",
       "    <tr>\n",
       "      <th>Instagram</th>\n",
       "      <td>2244.000000</td>\n",
       "      <td>14039.500000</td>\n",
       "      <td>last</td>\n",
       "      <td>6.256462</td>\n",
       "    </tr>\n",
       "    <tr>\n",
       "      <th>Online Display</th>\n",
       "      <td>2139.000000</td>\n",
       "      <td>13298.500000</td>\n",
       "      <td>last</td>\n",
       "      <td>6.217158</td>\n",
       "    </tr>\n",
       "    <tr>\n",
       "      <th>Online Video</th>\n",
       "      <td>3408.000000</td>\n",
       "      <td>21418.000000</td>\n",
       "      <td>last</td>\n",
       "      <td>6.284624</td>\n",
       "    </tr>\n",
       "    <tr>\n",
       "      <th>Paid Search</th>\n",
       "      <td>4547.000000</td>\n",
       "      <td>28331.500000</td>\n",
       "      <td>last</td>\n",
       "      <td>6.230812</td>\n",
       "    </tr>\n",
       "    <tr>\n",
       "      <th>Facebook</th>\n",
       "      <td>5177.000000</td>\n",
       "      <td>32283.000000</td>\n",
       "      <td>first</td>\n",
       "      <td>6.235851</td>\n",
       "    </tr>\n",
       "    <tr>\n",
       "      <th>Instagram</th>\n",
       "      <td>2329.000000</td>\n",
       "      <td>14579.500000</td>\n",
       "      <td>first</td>\n",
       "      <td>6.259983</td>\n",
       "    </tr>\n",
       "    <tr>\n",
       "      <th>Online Display</th>\n",
       "      <td>2160.000000</td>\n",
       "      <td>13419.000000</td>\n",
       "      <td>first</td>\n",
       "      <td>6.212500</td>\n",
       "    </tr>\n",
       "    <tr>\n",
       "      <th>Online Video</th>\n",
       "      <td>3216.000000</td>\n",
       "      <td>20225.500000</td>\n",
       "      <td>first</td>\n",
       "      <td>6.289024</td>\n",
       "    </tr>\n",
       "    <tr>\n",
       "      <th>Paid Search</th>\n",
       "      <td>4757.000000</td>\n",
       "      <td>29724.000000</td>\n",
       "      <td>first</td>\n",
       "      <td>6.248476</td>\n",
       "    </tr>\n",
       "    <tr>\n",
       "      <th>Facebook</th>\n",
       "      <td>4947.600000</td>\n",
       "      <td>30910.008333</td>\n",
       "      <td>linear</td>\n",
       "      <td>6.247475</td>\n",
       "    </tr>\n",
       "    <tr>\n",
       "      <th>Instagram</th>\n",
       "      <td>2627.100000</td>\n",
       "      <td>16442.758333</td>\n",
       "      <td>linear</td>\n",
       "      <td>6.258901</td>\n",
       "    </tr>\n",
       "    <tr>\n",
       "      <th>Online Display</th>\n",
       "      <td>2143.600000</td>\n",
       "      <td>13324.466667</td>\n",
       "      <td>linear</td>\n",
       "      <td>6.215930</td>\n",
       "    </tr>\n",
       "    <tr>\n",
       "      <th>Online Video</th>\n",
       "      <td>3192.183333</td>\n",
       "      <td>20066.175000</td>\n",
       "      <td>linear</td>\n",
       "      <td>6.286035</td>\n",
       "    </tr>\n",
       "    <tr>\n",
       "      <th>Paid Search</th>\n",
       "      <td>4728.516667</td>\n",
       "      <td>29487.591667</td>\n",
       "      <td>linear</td>\n",
       "      <td>6.236119</td>\n",
       "    </tr>\n",
       "  </tbody>\n",
       "</table>\n",
       "</div>"
      ],
      "text/plain": [
       "                attribution_cnt  attribution_sum  method  attribution_rate\n",
       "channel                                                                   \n",
       "Facebook            5301.000000     33143.500000    last          6.252311\n",
       "Instagram           2244.000000     14039.500000    last          6.256462\n",
       "Online Display      2139.000000     13298.500000    last          6.217158\n",
       "Online Video        3408.000000     21418.000000    last          6.284624\n",
       "Paid Search         4547.000000     28331.500000    last          6.230812\n",
       "Facebook            5177.000000     32283.000000   first          6.235851\n",
       "Instagram           2329.000000     14579.500000   first          6.259983\n",
       "Online Display      2160.000000     13419.000000   first          6.212500\n",
       "Online Video        3216.000000     20225.500000   first          6.289024\n",
       "Paid Search         4757.000000     29724.000000   first          6.248476\n",
       "Facebook            4947.600000     30910.008333  linear          6.247475\n",
       "Instagram           2627.100000     16442.758333  linear          6.258901\n",
       "Online Display      2143.600000     13324.466667  linear          6.215930\n",
       "Online Video        3192.183333     20066.175000  linear          6.286035\n",
       "Paid Search         4728.516667     29487.591667  linear          6.236119"
      ]
     },
     "execution_count": 28,
     "metadata": {},
     "output_type": "execute_result"
    }
   ],
   "source": [
    "# 세 개의 모델을 병합한 후, 전환 가치 합 / 전환 수를 통해 전환당 전환 가치에 대한 컬럼 생성\n",
    "domain_attr = pd.concat([last_interaction_attr, first_interaction_attr, linear_interaction_attr])\n",
    "domain_attr['attribution_rate'] = domain_attr['attribution_sum'] / domain_attr['attribution_cnt']\n",
    "\n",
    "domain_attr"
   ]
  },
  {
   "cell_type": "markdown",
   "id": "08a2daa3",
   "metadata": {},
   "source": [
    "---"
   ]
  },
  {
   "cell_type": "markdown",
   "id": "adf10204",
   "metadata": {},
   "source": [
    "### Domain Based Interaction Attribution Model에 대한 채널별 전환 수 및 전환당 전환 가치 Chart"
   ]
  },
  {
   "cell_type": "code",
   "execution_count": 29,
   "id": "86f7ff3d",
   "metadata": {},
   "outputs": [
    {
     "data": {
      "image/png": "[encoded data removed]",
      "text/plain": [
       "<Figure size 1152x504 with 2 Axes>"
      ]
     },
     "metadata": {},
     "output_type": "display_data"
    }
   ],
   "source": [
    "fig, axes = plt.subplots(1, 2, figsize=(16, 7))\n",
    "\n",
    "ax1 = sns.barplot(x=domain_attr.index, y=domain_attr.attribution_cnt, hue=domain_attr.method, ax=axes[0])\n",
    "ax1.set_title(\"Domain Based Attribution Model - Conversion Count\", size=15)\n",
    "\n",
    "ax2 = sns.barplot(x=domain_attr.index, y=domain_attr.attribution_rate, hue=domain_attr.method, ax=axes[1])\n",
    "ax2.set_title(\"Domain Based Attribution Model - Conversion Rate\", size=15)\n",
    "# ax2.set_ylim(6.15, domain_attr.attribution_rate.max())\n",
    "\n",
    "plt.show()"
   ]
  },
  {
   "cell_type": "markdown",
   "id": "798a9e38",
   "metadata": {},
   "source": [
    "**Conversion Count**\n",
    "- 페이스북 : Last Attribution일 때, 전환율이 가장 높음\n",
    "    - 유저들이 전환하기 직전에 마지막으로 본 채널이 페이스북이 가장 많았고, First & Linear 보다 Last일 때 기여도가 높게 나타남\n",
    "- Paid Search : First & Linear일 때 기여도가 높은 것으로 보아 검색을 한 뒤에 다른 채널을 통해 전환이 일어나는 경우가 많을 것으로 판단됨\n",
    "- Instagram : Linear의 기여도가 높은 것으로 보아 여러 채널을 접하고 전환이 된 경우 그 중 하나가 인스타일 확률이 매우 높다고 판단됨\n",
    "\n",
    "<br/>\n",
    "\n",
    "**Value Per Conversion**\n",
    "- 모든 채널 및 기법에서 전환 당 가치가 거의 동일한 것으로 보아 전환 가치를 고려해 예산을 분배하는 것보다, 전환 수를 고려해 마케팅 예산을 배분하는 것이 효율적이라고 판단할 수 있다."
   ]
  },
  {
   "cell_type": "markdown",
   "id": "b363208d",
   "metadata": {},
   "source": [
    "---"
   ]
  },
  {
   "cell_type": "markdown",
   "id": "38c1b568",
   "metadata": {},
   "source": [
    "---"
   ]
  },
  {
   "cell_type": "markdown",
   "id": "e8b85859",
   "metadata": {},
   "source": [
    "---"
   ]
  },
  {
   "cell_type": "markdown",
   "id": "2c8d2fb6",
   "metadata": {},
   "source": [
    "# Markov Chain을 통한 기여도 분석"
   ]
  },
  {
   "cell_type": "markdown",
   "id": "f136f1ce",
   "metadata": {},
   "source": [
    "## 각 채널에 대한 전이 확률"
   ]
  },
  {
   "cell_type": "code",
   "execution_count": 30,
   "id": "9bf98f16",
   "metadata": {},
   "outputs": [
    {
     "data": {
      "text/html": [
       "<div>\n",
       "<style scoped>\n",
       "    .dataframe tbody tr th:only-of-type {\n",
       "        vertical-align: middle;\n",
       "    }\n",
       "\n",
       "    .dataframe tbody tr th {\n",
       "        vertical-align: top;\n",
       "    }\n",
       "\n",
       "    .dataframe thead th {\n",
       "        text-align: right;\n",
       "    }\n",
       "</style>\n",
       "<table border=\"1\" class=\"dataframe\">\n",
       "  <thead>\n",
       "    <tr style=\"text-align: right;\">\n",
       "      <th></th>\n",
       "      <th>cookie</th>\n",
       "      <th>channel</th>\n",
       "    </tr>\n",
       "  </thead>\n",
       "  <tbody>\n",
       "    <tr>\n",
       "      <th>0</th>\n",
       "      <td>00000FkCnDfDDf0iC97iC703B</td>\n",
       "      <td>[Instagram, Online Display]</td>\n",
       "    </tr>\n",
       "    <tr>\n",
       "      <th>1</th>\n",
       "      <td>0000nACkD9nFkBBDECD3ki00E</td>\n",
       "      <td>[Paid Search]</td>\n",
       "    </tr>\n",
       "  </tbody>\n",
       "</table>\n",
       "</div>"
      ],
      "text/plain": [
       "                      cookie                      channel\n",
       "0  00000FkCnDfDDf0iC97iC703B  [Instagram, Online Display]\n",
       "1  0000nACkD9nFkBBDECD3ki00E                [Paid Search]"
      ]
     },
     "execution_count": 30,
     "metadata": {},
     "output_type": "execute_result"
    }
   ],
   "source": [
    "# 쿠키별 접한 채널 list\n",
    "cookie_paths = df.groupby('cookie')['channel'].agg(lambda x: x.unique().tolist()).reset_index()\n",
    "cookie_paths.head(2)"
   ]
  },
  {
   "cell_type": "code",
   "execution_count": 31,
   "id": "c09b8c5c",
   "metadata": {},
   "outputs": [
    {
     "data": {
      "text/html": [
       "<div>\n",
       "<style scoped>\n",
       "    .dataframe tbody tr th:only-of-type {\n",
       "        vertical-align: middle;\n",
       "    }\n",
       "\n",
       "    .dataframe tbody tr th {\n",
       "        vertical-align: top;\n",
       "    }\n",
       "\n",
       "    .dataframe thead th {\n",
       "        text-align: right;\n",
       "    }\n",
       "</style>\n",
       "<table border=\"1\" class=\"dataframe\">\n",
       "  <thead>\n",
       "    <tr style=\"text-align: right;\">\n",
       "      <th></th>\n",
       "      <th>cookie</th>\n",
       "      <th>channel</th>\n",
       "      <th>conversion</th>\n",
       "    </tr>\n",
       "  </thead>\n",
       "  <tbody>\n",
       "    <tr>\n",
       "      <th>0</th>\n",
       "      <td>00000FkCnDfDDf0iC97iC703B</td>\n",
       "      <td>[Instagram, Online Display]</td>\n",
       "      <td>0</td>\n",
       "    </tr>\n",
       "    <tr>\n",
       "      <th>1</th>\n",
       "      <td>0000nACkD9nFkBBDECD3ki00E</td>\n",
       "      <td>[Paid Search]</td>\n",
       "      <td>0</td>\n",
       "    </tr>\n",
       "  </tbody>\n",
       "</table>\n",
       "</div>"
      ],
      "text/plain": [
       "                      cookie                      channel  conversion\n",
       "0  00000FkCnDfDDf0iC97iC703B  [Instagram, Online Display]           0\n",
       "1  0000nACkD9nFkBBDECD3ki00E                [Paid Search]           0"
      ]
     },
     "execution_count": 31,
     "metadata": {},
     "output_type": "execute_result"
    }
   ],
   "source": [
    "# 유저별 접한 채널과 전환여부 merge\n",
    "cookie_paths = pd.merge(cookie_paths, last_interaction_df[['cookie', 'conversion']], how='left', on='cookie')\n",
    "cookie_paths.head(2)"
   ]
  },
  {
   "cell_type": "code",
   "execution_count": 32,
   "id": "cc9fcbf2",
   "metadata": {},
   "outputs": [
    {
     "name": "stdout",
     "output_type": "stream",
     "text": [
      "Base Conversion Rate : 0.0735\n"
     ]
    }
   ],
   "source": [
    "# 해당 데이터셋의 전체 전환율\n",
    "base_conversion_rate = cookie_paths.conversion.value_counts(normalize=True)[1]\n",
    "print(f\"Base Conversion Rate : {base_conversion_rate.round(4)}\")"
   ]
  },
  {
   "cell_type": "markdown",
   "id": "6647867e",
   "metadata": {},
   "source": [
    "---"
   ]
  },
  {
   "cell_type": "markdown",
   "id": "85216601",
   "metadata": {},
   "source": [
    "### Markov Chain의 State 생성\n",
    "- Start : 첫 시작 > 각 쿠키별로 부여\n",
    "- Instagram, Paid Search, Facebook, Online Video, Online Display\n",
    "- Conversion : 전환 성공 / Null : 전환 실패"
   ]
  },
  {
   "cell_type": "code",
   "execution_count": 33,
   "id": "e7b6f458",
   "metadata": {},
   "outputs": [
    {
     "data": {
      "text/html": [
       "<div>\n",
       "<style scoped>\n",
       "    .dataframe tbody tr th:only-of-type {\n",
       "        vertical-align: middle;\n",
       "    }\n",
       "\n",
       "    .dataframe tbody tr th {\n",
       "        vertical-align: top;\n",
       "    }\n",
       "\n",
       "    .dataframe thead th {\n",
       "        text-align: right;\n",
       "    }\n",
       "</style>\n",
       "<table border=\"1\" class=\"dataframe\">\n",
       "  <thead>\n",
       "    <tr style=\"text-align: right;\">\n",
       "      <th></th>\n",
       "      <th>cookie</th>\n",
       "      <th>channel</th>\n",
       "      <th>conversion</th>\n",
       "      <th>paths</th>\n",
       "    </tr>\n",
       "  </thead>\n",
       "  <tbody>\n",
       "    <tr>\n",
       "      <th>0</th>\n",
       "      <td>00000FkCnDfDDf0iC97iC703B</td>\n",
       "      <td>[Instagram, Online Display]</td>\n",
       "      <td>0</td>\n",
       "      <td>[Start, Instagram, Online Display, Null]</td>\n",
       "    </tr>\n",
       "    <tr>\n",
       "      <th>1</th>\n",
       "      <td>0000nACkD9nFkBBDECD3ki00E</td>\n",
       "      <td>[Paid Search]</td>\n",
       "      <td>0</td>\n",
       "      <td>[Start, Paid Search, Null]</td>\n",
       "    </tr>\n",
       "  </tbody>\n",
       "</table>\n",
       "</div>"
      ],
      "text/plain": [
       "                      cookie                      channel  conversion  \\\n",
       "0  00000FkCnDfDDf0iC97iC703B  [Instagram, Online Display]           0   \n",
       "1  0000nACkD9nFkBBDECD3ki00E                [Paid Search]           0   \n",
       "\n",
       "                                      paths  \n",
       "0  [Start, Instagram, Online Display, Null]  \n",
       "1                [Start, Paid Search, Null]  "
      ]
     },
     "execution_count": 33,
     "metadata": {},
     "output_type": "execute_result"
    }
   ],
   "source": [
    "# 시작, 최종 State 추가\n",
    "cookie_paths['paths'] = (\n",
    "    cookie_paths.apply(\n",
    "        lambda x: ['Start'] + x.channel + ['Null']\n",
    "            if x.conversion == 0\n",
    "            else ['Start'] + x.channel + ['Conversion'],\n",
    "        axis=1\n",
    "    )\n",
    ")\n",
    "\n",
    "cookie_paths.head(2)"
   ]
  },
  {
   "cell_type": "markdown",
   "id": "9336e71c",
   "metadata": {},
   "source": [
    "---"
   ]
  },
  {
   "cell_type": "markdown",
   "id": "a85b59f9",
   "metadata": {},
   "source": [
    "### 채널별 전이확률 계산"
   ]
  },
  {
   "cell_type": "markdown",
   "id": "43a80d70",
   "metadata": {},
   "source": [
    "#### 모든 쿠키의 sequential path에 대해 유니크한 State 추출"
   ]
  },
  {
   "cell_type": "code",
   "execution_count": 35,
   "id": "9fd3320b",
   "metadata": {},
   "outputs": [
    {
     "data": {
      "text/plain": [
       "{'Conversion',\n",
       " 'Facebook',\n",
       " 'Instagram',\n",
       " 'Null',\n",
       " 'Online Display',\n",
       " 'Online Video',\n",
       " 'Paid Search',\n",
       " 'Start'}"
      ]
     },
     "execution_count": 35,
     "metadata": {},
     "output_type": "execute_result"
    }
   ],
   "source": [
    "unique_channels = set(channel for path in cookie_paths['paths'] for channel in path)\n",
    "unique_channels"
   ]
  },
  {
   "cell_type": "markdown",
   "id": "c73a68c2",
   "metadata": {},
   "source": [
    "#### 전이 가능성 있는 모든 경우의 수 생성 및 초기화\n",
    "- 현재 State에서 다음 State로 간 것에 대한 count를 위해 초기값 0 설정"
   ]
  },
  {
   "cell_type": "code",
   "execution_count": 36,
   "id": "b842b4cc",
   "metadata": {},
   "outputs": [],
   "source": [
    "transition_states = {x + '>' + y: 0 for x in unique_channels for y in unique_channels}"
   ]
  },
  {
   "cell_type": "markdown",
   "id": "90efe027",
   "metadata": {},
   "source": [
    "#### 마지막 State를 제외한 모든 경우의 수에 대한 빈도 수 계산"
   ]
  },
  {
   "cell_type": "code",
   "execution_count": 37,
   "id": "0bf526c0",
   "metadata": {},
   "outputs": [],
   "source": [
    "# 유니크한 State를 돌면서\n",
    "for state in unique_channels:\n",
    "    # 마지막 State를 제외한 다음 State가 있는 State만 계산\n",
    "    if state not in ['Conversion', 'Null']:\n",
    "        # 쿠키별 이동 경로를 돌면서\n",
    "        for path in cookie_paths['paths']:\n",
    "            # 해당 이동 경로에 선택한 State가 있다면\n",
    "            if state in path:\n",
    "                # 이동 경로에서 선택한 State의 인덱스를 추출\n",
    "                indices = [i for i, s in enumerate(path) if state in s]\n",
    "                # 인덱스를 돌면서\n",
    "                for col in indices:\n",
    "                    # 선택한 State와 다음 State의 전이 관계에 1씩 더해줌\n",
    "                    key = path[col] + '>' + path[col+1]\n",
    "                    transition_states[key] += 1"
   ]
  },
  {
   "cell_type": "markdown",
   "id": "727d5b4f",
   "metadata": {},
   "source": [
    "---"
   ]
  },
  {
   "cell_type": "markdown",
   "id": "fc3e734b",
   "metadata": {},
   "source": [
    "### 전이확률을 저장할 포맷 생성\n",
    "- defaultdict 생성"
   ]
  },
  {
   "cell_type": "code",
   "execution_count": 40,
   "id": "b97e414d",
   "metadata": {},
   "outputs": [],
   "source": [
    "from collections import defaultdict"
   ]
  },
  {
   "cell_type": "code",
   "execution_count": 41,
   "id": "f9838d09",
   "metadata": {},
   "outputs": [],
   "source": [
    "trans_prob = defaultdict(dict)\n",
    "\n",
    "# 마지막 State를 제외한 유니크한 State를 돌면서\n",
    "for state in unique_channels:\n",
    "    if state not in ['Conversion', 'Null']:\n",
    "        # 해당 state에서 다음 State로 가는 모든 전이들을 추출\n",
    "        next_states_from_state = [s for s in transition_states if state + '>' in s]\n",
    "        \n",
    "        # 해당 state에서 다음 State로 전이하는 모든 빈도 수 계산을 위한 변수 초기화\n",
    "        counter = 0\n",
    "        \n",
    "        # 추출한 해당 state의 전이들을 돌면서\n",
    "        for next_state in next_states_from_state:\n",
    "            # 해당 전이에 대한 값이 있다면 그 값을 counter에 저장\n",
    "            if transition_states[next_state] > 0:\n",
    "                counter += transition_states[next_state]\n",
    "        \n",
    "        # 추출한 해당 state의 전이들을 돌면서\n",
    "        for next_state in next_states_from_state:\n",
    "            # 해당 전이에 대한 값이 있다면 해당 전이값을 현재 state에 대응하는 counter로 나눠줌\n",
    "            if transition_states[next_state] > 0:\n",
    "                state_prob = float((transition_states[next_state])) / float(counter)\n",
    "                # Current State에 대한 전이의 전이확률을 저장\n",
    "                trans_prob[next_state] = state_prob"
   ]
  },
  {
   "cell_type": "code",
   "execution_count": 42,
   "id": "26cfaebe",
   "metadata": {},
   "outputs": [
    {
     "data": {
      "text/plain": [
       "defaultdict(dict,\n",
       "            {'Instagram>Conversion': 0.057979218048760765,\n",
       "             'Instagram>Facebook': 0.2187765333764606,\n",
       "             'Instagram>Online Video': 0.024117575708567502,\n",
       "             'Instagram>Paid Search': 0.04580924271216593,\n",
       "             'Instagram>Online Display': 0.023531314438199977,\n",
       "             'Instagram>Null': 0.6297861157158452,\n",
       "             'Facebook>Instagram': 0.1730723404255319,\n",
       "             'Facebook>Conversion': 0.053219858156028366,\n",
       "             'Facebook>Online Video': 0.025577304964539006,\n",
       "             'Facebook>Paid Search': 0.05065531914893617,\n",
       "             'Facebook>Online Display': 0.02435177304964539,\n",
       "             'Facebook>Null': 0.6731234042553191,\n",
       "             'Online Video>Instagram': 0.03190762169815927,\n",
       "             'Online Video>Conversion': 0.0781455983594551,\n",
       "             'Online Video>Facebook': 0.059323275230701626,\n",
       "             'Online Video>Paid Search': 0.04794687759386749,\n",
       "             'Online Video>Online Display': 0.018919974610614718,\n",
       "             'Online Video>Null': 0.7637566525072018,\n",
       "             'Paid Search>Instagram': 0.03419630796938316,\n",
       "             'Paid Search>Conversion': 0.053309320126069336,\n",
       "             'Paid Search>Facebook': 0.06444169293111211,\n",
       "             'Paid Search>Online Video': 0.029221071589374155,\n",
       "             'Paid Search>Online Display': 0.04805267897343539,\n",
       "             'Paid Search>Null': 0.7707789284106259,\n",
       "             'Start>Instagram': 0.11918803205224315,\n",
       "             'Start>Facebook': 0.2784080497109634,\n",
       "             'Start>Online Video': 0.14236093757808985,\n",
       "             'Start>Paid Search': 0.31739883718993117,\n",
       "             'Start>Online Display': 0.14264414346877238,\n",
       "             'Online Display>Instagram': 0.02936344005257722,\n",
       "             'Online Display>Conversion': 0.05032391324758239,\n",
       "             'Online Display>Facebook': 0.053985541263731104,\n",
       "             'Online Display>Online Video': 0.017298845178856444,\n",
       "             'Online Display>Paid Search': 0.09238569148436766,\n",
       "             'Online Display>Null': 0.7566425687728852})"
      ]
     },
     "execution_count": 42,
     "metadata": {},
     "output_type": "execute_result"
    }
   ],
   "source": [
    "trans_prob"
   ]
  },
  {
   "cell_type": "markdown",
   "id": "373f2b53",
   "metadata": {},
   "source": [
    "---"
   ]
  },
  {
   "cell_type": "markdown",
   "id": "e3670c88",
   "metadata": {},
   "source": [
    "### 전이확률행렬 (Transition Probability Matrix) 생성"
   ]
  },
  {
   "cell_type": "code",
   "execution_count": 43,
   "id": "7f4f51db",
   "metadata": {},
   "outputs": [],
   "source": [
    "trans_matrix = pd.DataFrame()\n",
    "\n",
    "# 유니크한 채널들을 돌면서\n",
    "for channel in unique_channels:\n",
    "    # DataFrame의 index와 column에 해당 채널을 추가\n",
    "    trans_matrix[channel] = 0.00\n",
    "    trans_matrix.loc[channel] = 0.00\n",
    "    \n",
    "    # Conversion, Null의 경우 다음 State가 없기에 값 1을 부여\n",
    "    trans_matrix.loc[channel][channel] = 1.0 if channel in ['Conversion', 'Null'] else 0.0"
   ]
  },
  {
   "cell_type": "code",
   "execution_count": 44,
   "id": "6dfb24c5",
   "metadata": {},
   "outputs": [
    {
     "data": {
      "text/html": [
       "<div>\n",
       "<style scoped>\n",
       "    .dataframe tbody tr th:only-of-type {\n",
       "        vertical-align: middle;\n",
       "    }\n",
       "\n",
       "    .dataframe tbody tr th {\n",
       "        vertical-align: top;\n",
       "    }\n",
       "\n",
       "    .dataframe thead th {\n",
       "        text-align: right;\n",
       "    }\n",
       "</style>\n",
       "<table border=\"1\" class=\"dataframe\">\n",
       "  <thead>\n",
       "    <tr style=\"text-align: right;\">\n",
       "      <th></th>\n",
       "      <th>Instagram</th>\n",
       "      <th>Conversion</th>\n",
       "      <th>Facebook</th>\n",
       "      <th>Online Video</th>\n",
       "      <th>Paid Search</th>\n",
       "      <th>Start</th>\n",
       "      <th>Online Display</th>\n",
       "      <th>Null</th>\n",
       "    </tr>\n",
       "  </thead>\n",
       "  <tbody>\n",
       "    <tr>\n",
       "      <th>Instagram</th>\n",
       "      <td>0.0</td>\n",
       "      <td>0.0</td>\n",
       "      <td>0.0</td>\n",
       "      <td>0.0</td>\n",
       "      <td>0.0</td>\n",
       "      <td>0.0</td>\n",
       "      <td>0.0</td>\n",
       "      <td>0.0</td>\n",
       "    </tr>\n",
       "    <tr>\n",
       "      <th>Conversion</th>\n",
       "      <td>0.0</td>\n",
       "      <td>1.0</td>\n",
       "      <td>0.0</td>\n",
       "      <td>0.0</td>\n",
       "      <td>0.0</td>\n",
       "      <td>0.0</td>\n",
       "      <td>0.0</td>\n",
       "      <td>0.0</td>\n",
       "    </tr>\n",
       "    <tr>\n",
       "      <th>Facebook</th>\n",
       "      <td>0.0</td>\n",
       "      <td>0.0</td>\n",
       "      <td>0.0</td>\n",
       "      <td>0.0</td>\n",
       "      <td>0.0</td>\n",
       "      <td>0.0</td>\n",
       "      <td>0.0</td>\n",
       "      <td>0.0</td>\n",
       "    </tr>\n",
       "    <tr>\n",
       "      <th>Online Video</th>\n",
       "      <td>0.0</td>\n",
       "      <td>0.0</td>\n",
       "      <td>0.0</td>\n",
       "      <td>0.0</td>\n",
       "      <td>0.0</td>\n",
       "      <td>0.0</td>\n",
       "      <td>0.0</td>\n",
       "      <td>0.0</td>\n",
       "    </tr>\n",
       "    <tr>\n",
       "      <th>Paid Search</th>\n",
       "      <td>0.0</td>\n",
       "      <td>0.0</td>\n",
       "      <td>0.0</td>\n",
       "      <td>0.0</td>\n",
       "      <td>0.0</td>\n",
       "      <td>0.0</td>\n",
       "      <td>0.0</td>\n",
       "      <td>0.0</td>\n",
       "    </tr>\n",
       "    <tr>\n",
       "      <th>Start</th>\n",
       "      <td>0.0</td>\n",
       "      <td>0.0</td>\n",
       "      <td>0.0</td>\n",
       "      <td>0.0</td>\n",
       "      <td>0.0</td>\n",
       "      <td>0.0</td>\n",
       "      <td>0.0</td>\n",
       "      <td>0.0</td>\n",
       "    </tr>\n",
       "    <tr>\n",
       "      <th>Online Display</th>\n",
       "      <td>0.0</td>\n",
       "      <td>0.0</td>\n",
       "      <td>0.0</td>\n",
       "      <td>0.0</td>\n",
       "      <td>0.0</td>\n",
       "      <td>0.0</td>\n",
       "      <td>0.0</td>\n",
       "      <td>0.0</td>\n",
       "    </tr>\n",
       "    <tr>\n",
       "      <th>Null</th>\n",
       "      <td>0.0</td>\n",
       "      <td>0.0</td>\n",
       "      <td>0.0</td>\n",
       "      <td>0.0</td>\n",
       "      <td>0.0</td>\n",
       "      <td>0.0</td>\n",
       "      <td>0.0</td>\n",
       "      <td>1.0</td>\n",
       "    </tr>\n",
       "  </tbody>\n",
       "</table>\n",
       "</div>"
      ],
      "text/plain": [
       "                Instagram  Conversion  Facebook  Online Video  Paid Search  \\\n",
       "Instagram             0.0         0.0       0.0           0.0          0.0   \n",
       "Conversion            0.0         1.0       0.0           0.0          0.0   \n",
       "Facebook              0.0         0.0       0.0           0.0          0.0   \n",
       "Online Video          0.0         0.0       0.0           0.0          0.0   \n",
       "Paid Search           0.0         0.0       0.0           0.0          0.0   \n",
       "Start                 0.0         0.0       0.0           0.0          0.0   \n",
       "Online Display        0.0         0.0       0.0           0.0          0.0   \n",
       "Null                  0.0         0.0       0.0           0.0          0.0   \n",
       "\n",
       "                Start  Online Display  Null  \n",
       "Instagram         0.0             0.0   0.0  \n",
       "Conversion        0.0             0.0   0.0  \n",
       "Facebook          0.0             0.0   0.0  \n",
       "Online Video      0.0             0.0   0.0  \n",
       "Paid Search       0.0             0.0   0.0  \n",
       "Start             0.0             0.0   0.0  \n",
       "Online Display    0.0             0.0   0.0  \n",
       "Null              0.0             0.0   1.0  "
      ]
     },
     "execution_count": 44,
     "metadata": {},
     "output_type": "execute_result"
    }
   ],
   "source": [
    "trans_matrix"
   ]
  },
  {
   "cell_type": "markdown",
   "id": "9e789d34",
   "metadata": {},
   "source": [
    "#### State에 대한 전이확률을 현재와 다음 State에 대입"
   ]
  },
  {
   "cell_type": "code",
   "execution_count": 45,
   "id": "c9298d04",
   "metadata": {},
   "outputs": [],
   "source": [
    "for k, v in trans_prob.items():\n",
    "    origin, destination = k.split('>')\n",
    "    trans_matrix.at[origin, destination] = v"
   ]
  },
  {
   "cell_type": "code",
   "execution_count": 46,
   "id": "b8be36f3",
   "metadata": {},
   "outputs": [
    {
     "data": {
      "text/html": [
       "<div>\n",
       "<style scoped>\n",
       "    .dataframe tbody tr th:only-of-type {\n",
       "        vertical-align: middle;\n",
       "    }\n",
       "\n",
       "    .dataframe tbody tr th {\n",
       "        vertical-align: top;\n",
       "    }\n",
       "\n",
       "    .dataframe thead th {\n",
       "        text-align: right;\n",
       "    }\n",
       "</style>\n",
       "<table border=\"1\" class=\"dataframe\">\n",
       "  <thead>\n",
       "    <tr style=\"text-align: right;\">\n",
       "      <th></th>\n",
       "      <th>Instagram</th>\n",
       "      <th>Conversion</th>\n",
       "      <th>Facebook</th>\n",
       "      <th>Online Video</th>\n",
       "      <th>Paid Search</th>\n",
       "      <th>Start</th>\n",
       "      <th>Online Display</th>\n",
       "      <th>Null</th>\n",
       "    </tr>\n",
       "  </thead>\n",
       "  <tbody>\n",
       "    <tr>\n",
       "      <th>Instagram</th>\n",
       "      <td>0.000000</td>\n",
       "      <td>0.057979</td>\n",
       "      <td>0.218777</td>\n",
       "      <td>0.024118</td>\n",
       "      <td>0.045809</td>\n",
       "      <td>0.0</td>\n",
       "      <td>0.023531</td>\n",
       "      <td>0.629786</td>\n",
       "    </tr>\n",
       "    <tr>\n",
       "      <th>Conversion</th>\n",
       "      <td>0.000000</td>\n",
       "      <td>1.000000</td>\n",
       "      <td>0.000000</td>\n",
       "      <td>0.000000</td>\n",
       "      <td>0.000000</td>\n",
       "      <td>0.0</td>\n",
       "      <td>0.000000</td>\n",
       "      <td>0.000000</td>\n",
       "    </tr>\n",
       "    <tr>\n",
       "      <th>Facebook</th>\n",
       "      <td>0.173072</td>\n",
       "      <td>0.053220</td>\n",
       "      <td>0.000000</td>\n",
       "      <td>0.025577</td>\n",
       "      <td>0.050655</td>\n",
       "      <td>0.0</td>\n",
       "      <td>0.024352</td>\n",
       "      <td>0.673123</td>\n",
       "    </tr>\n",
       "    <tr>\n",
       "      <th>Online Video</th>\n",
       "      <td>0.031908</td>\n",
       "      <td>0.078146</td>\n",
       "      <td>0.059323</td>\n",
       "      <td>0.000000</td>\n",
       "      <td>0.047947</td>\n",
       "      <td>0.0</td>\n",
       "      <td>0.018920</td>\n",
       "      <td>0.763757</td>\n",
       "    </tr>\n",
       "    <tr>\n",
       "      <th>Paid Search</th>\n",
       "      <td>0.034196</td>\n",
       "      <td>0.053309</td>\n",
       "      <td>0.064442</td>\n",
       "      <td>0.029221</td>\n",
       "      <td>0.000000</td>\n",
       "      <td>0.0</td>\n",
       "      <td>0.048053</td>\n",
       "      <td>0.770779</td>\n",
       "    </tr>\n",
       "    <tr>\n",
       "      <th>Start</th>\n",
       "      <td>0.119188</td>\n",
       "      <td>0.000000</td>\n",
       "      <td>0.278408</td>\n",
       "      <td>0.142361</td>\n",
       "      <td>0.317399</td>\n",
       "      <td>0.0</td>\n",
       "      <td>0.142644</td>\n",
       "      <td>0.000000</td>\n",
       "    </tr>\n",
       "    <tr>\n",
       "      <th>Online Display</th>\n",
       "      <td>0.029363</td>\n",
       "      <td>0.050324</td>\n",
       "      <td>0.053986</td>\n",
       "      <td>0.017299</td>\n",
       "      <td>0.092386</td>\n",
       "      <td>0.0</td>\n",
       "      <td>0.000000</td>\n",
       "      <td>0.756643</td>\n",
       "    </tr>\n",
       "    <tr>\n",
       "      <th>Null</th>\n",
       "      <td>0.000000</td>\n",
       "      <td>0.000000</td>\n",
       "      <td>0.000000</td>\n",
       "      <td>0.000000</td>\n",
       "      <td>0.000000</td>\n",
       "      <td>0.0</td>\n",
       "      <td>0.000000</td>\n",
       "      <td>1.000000</td>\n",
       "    </tr>\n",
       "  </tbody>\n",
       "</table>\n",
       "</div>"
      ],
      "text/plain": [
       "                Instagram  Conversion  Facebook  Online Video  Paid Search  \\\n",
       "Instagram        0.000000    0.057979  0.218777      0.024118     0.045809   \n",
       "Conversion       0.000000    1.000000  0.000000      0.000000     0.000000   \n",
       "Facebook         0.173072    0.053220  0.000000      0.025577     0.050655   \n",
       "Online Video     0.031908    0.078146  0.059323      0.000000     0.047947   \n",
       "Paid Search      0.034196    0.053309  0.064442      0.029221     0.000000   \n",
       "Start            0.119188    0.000000  0.278408      0.142361     0.317399   \n",
       "Online Display   0.029363    0.050324  0.053986      0.017299     0.092386   \n",
       "Null             0.000000    0.000000  0.000000      0.000000     0.000000   \n",
       "\n",
       "                Start  Online Display      Null  \n",
       "Instagram         0.0        0.023531  0.629786  \n",
       "Conversion        0.0        0.000000  0.000000  \n",
       "Facebook          0.0        0.024352  0.673123  \n",
       "Online Video      0.0        0.018920  0.763757  \n",
       "Paid Search       0.0        0.048053  0.770779  \n",
       "Start             0.0        0.142644  0.000000  \n",
       "Online Display    0.0        0.000000  0.756643  \n",
       "Null              0.0        0.000000  1.000000  "
      ]
     },
     "execution_count": 46,
     "metadata": {},
     "output_type": "execute_result"
    }
   ],
   "source": [
    "trans_matrix"
   ]
  },
  {
   "cell_type": "code",
   "execution_count": 47,
   "id": "8b9c54eb",
   "metadata": {},
   "outputs": [
    {
     "data": {
      "image/png": "[encoded data removed]",
      "text/plain": [
       "<Figure size 648x504 with 2 Axes>"
      ]
     },
     "metadata": {},
     "output_type": "display_data"
    }
   ],
   "source": [
    "ax = sns.heatmap(trans_matrix, annot=True, fmt='.2%', cmap=\"Blues\")\n",
    "ax.figure.set_size_inches(9, 7)"
   ]
  },
  {
   "cell_type": "markdown",
   "id": "a04dba41",
   "metadata": {},
   "source": [
    "- 가장 Null로 전이가 많이되는 채널은 77.08%로 Paid Search이고, 가장 전이가 적게되는 채널은 62.98%로 Instagram이다.\n",
    "- Instagram에서 Null을 제외하고, 그 다음으로 전이가 많은 채널은 21.88%로 Facebook이다.\n",
    "    - 인스타그램에서는 페이스북으로 가는 전이 형태로 많이 발생한다는 것을 알 수 있다.\n",
    "- Start에서는 Paid Search, Facebook 순으로 전이가 가장 높다.\n",
    "    - 처음 접하는 채널로는 Paid Search, Facebook이 가장 많다.\n",
    "- Conversion으로 가장 전이가 많은 채널은 7.81%로 Online Video가 가장 높다."
   ]
  },
  {
   "cell_type": "markdown",
   "id": "2c9ffaf9",
   "metadata": {},
   "source": [
    "---"
   ]
  },
  {
   "cell_type": "markdown",
   "id": "84d76811",
   "metadata": {},
   "source": [
    "## 각 채널의 Removal Effect을 이용한 기여도 분석"
   ]
  },
  {
   "cell_type": "markdown",
   "id": "b0f78b78",
   "metadata": {},
   "source": [
    "#### 처음과 끝의 State를 제외한 State 추출"
   ]
  },
  {
   "cell_type": "code",
   "execution_count": 48,
   "id": "47107d0d",
   "metadata": {},
   "outputs": [
    {
     "name": "stdout",
     "output_type": "stream",
     "text": [
      "['Instagram', 'Facebook', 'Online Video', 'Paid Search', 'Online Display']\n"
     ]
    }
   ],
   "source": [
    "removal_effects_dict = {}\n",
    "channels = [\n",
    "    column for column in trans_matrix.columns if column not in ['Start', 'Null', 'Conversion']\n",
    "]\n",
    "print(channels)"
   ]
  },
  {
   "cell_type": "code",
   "execution_count": 47,
   "id": "3fe81681",
   "metadata": {},
   "outputs": [
    {
     "data": {
      "text/html": [
       "<div>\n",
       "<style scoped>\n",
       "    .dataframe tbody tr th:only-of-type {\n",
       "        vertical-align: middle;\n",
       "    }\n",
       "\n",
       "    .dataframe tbody tr th {\n",
       "        vertical-align: top;\n",
       "    }\n",
       "\n",
       "    .dataframe thead th {\n",
       "        text-align: right;\n",
       "    }\n",
       "</style>\n",
       "<table border=\"1\" class=\"dataframe\">\n",
       "  <thead>\n",
       "    <tr style=\"text-align: right;\">\n",
       "      <th></th>\n",
       "      <th>Conversion</th>\n",
       "      <th>Online Video</th>\n",
       "      <th>Online Display</th>\n",
       "      <th>Facebook</th>\n",
       "      <th>Instagram</th>\n",
       "      <th>Paid Search</th>\n",
       "      <th>Start</th>\n",
       "      <th>Null</th>\n",
       "    </tr>\n",
       "  </thead>\n",
       "  <tbody>\n",
       "    <tr>\n",
       "      <th>Conversion</th>\n",
       "      <td>1.000000</td>\n",
       "      <td>0.000000</td>\n",
       "      <td>0.000000</td>\n",
       "      <td>0.000000</td>\n",
       "      <td>0.000000</td>\n",
       "      <td>0.000000</td>\n",
       "      <td>0.0</td>\n",
       "      <td>0.000000</td>\n",
       "    </tr>\n",
       "    <tr>\n",
       "      <th>Online Video</th>\n",
       "      <td>0.078146</td>\n",
       "      <td>0.000000</td>\n",
       "      <td>0.018920</td>\n",
       "      <td>0.059323</td>\n",
       "      <td>0.031908</td>\n",
       "      <td>0.047947</td>\n",
       "      <td>0.0</td>\n",
       "      <td>0.763757</td>\n",
       "    </tr>\n",
       "    <tr>\n",
       "      <th>Online Display</th>\n",
       "      <td>0.050324</td>\n",
       "      <td>0.017299</td>\n",
       "      <td>0.000000</td>\n",
       "      <td>0.053986</td>\n",
       "      <td>0.029363</td>\n",
       "      <td>0.092386</td>\n",
       "      <td>0.0</td>\n",
       "      <td>0.756643</td>\n",
       "    </tr>\n",
       "    <tr>\n",
       "      <th>Facebook</th>\n",
       "      <td>0.053220</td>\n",
       "      <td>0.025577</td>\n",
       "      <td>0.024352</td>\n",
       "      <td>0.000000</td>\n",
       "      <td>0.173072</td>\n",
       "      <td>0.050655</td>\n",
       "      <td>0.0</td>\n",
       "      <td>0.673123</td>\n",
       "    </tr>\n",
       "    <tr>\n",
       "      <th>Instagram</th>\n",
       "      <td>0.057979</td>\n",
       "      <td>0.024118</td>\n",
       "      <td>0.023531</td>\n",
       "      <td>0.218777</td>\n",
       "      <td>0.000000</td>\n",
       "      <td>0.045809</td>\n",
       "      <td>0.0</td>\n",
       "      <td>0.629786</td>\n",
       "    </tr>\n",
       "    <tr>\n",
       "      <th>Paid Search</th>\n",
       "      <td>0.053309</td>\n",
       "      <td>0.029221</td>\n",
       "      <td>0.048053</td>\n",
       "      <td>0.064442</td>\n",
       "      <td>0.034196</td>\n",
       "      <td>0.000000</td>\n",
       "      <td>0.0</td>\n",
       "      <td>0.770779</td>\n",
       "    </tr>\n",
       "    <tr>\n",
       "      <th>Start</th>\n",
       "      <td>0.000000</td>\n",
       "      <td>0.142361</td>\n",
       "      <td>0.142644</td>\n",
       "      <td>0.278408</td>\n",
       "      <td>0.119188</td>\n",
       "      <td>0.317399</td>\n",
       "      <td>0.0</td>\n",
       "      <td>0.000000</td>\n",
       "    </tr>\n",
       "    <tr>\n",
       "      <th>Null</th>\n",
       "      <td>0.000000</td>\n",
       "      <td>0.000000</td>\n",
       "      <td>0.000000</td>\n",
       "      <td>0.000000</td>\n",
       "      <td>0.000000</td>\n",
       "      <td>0.000000</td>\n",
       "      <td>0.0</td>\n",
       "      <td>1.000000</td>\n",
       "    </tr>\n",
       "  </tbody>\n",
       "</table>\n",
       "</div>"
      ],
      "text/plain": [
       "                Conversion  Online Video  Online Display  Facebook  Instagram  \\\n",
       "Conversion        1.000000      0.000000        0.000000  0.000000   0.000000   \n",
       "Online Video      0.078146      0.000000        0.018920  0.059323   0.031908   \n",
       "Online Display    0.050324      0.017299        0.000000  0.053986   0.029363   \n",
       "Facebook          0.053220      0.025577        0.024352  0.000000   0.173072   \n",
       "Instagram         0.057979      0.024118        0.023531  0.218777   0.000000   \n",
       "Paid Search       0.053309      0.029221        0.048053  0.064442   0.034196   \n",
       "Start             0.000000      0.142361        0.142644  0.278408   0.119188   \n",
       "Null              0.000000      0.000000        0.000000  0.000000   0.000000   \n",
       "\n",
       "                Paid Search  Start      Null  \n",
       "Conversion         0.000000    0.0  0.000000  \n",
       "Online Video       0.047947    0.0  0.763757  \n",
       "Online Display     0.092386    0.0  0.756643  \n",
       "Facebook           0.050655    0.0  0.673123  \n",
       "Instagram          0.045809    0.0  0.629786  \n",
       "Paid Search        0.000000    0.0  0.770779  \n",
       "Start              0.317399    0.0  0.000000  \n",
       "Null               0.000000    0.0  1.000000  "
      ]
     },
     "execution_count": 47,
     "metadata": {},
     "output_type": "execute_result"
    }
   ],
   "source": [
    "trans_matrix"
   ]
  },
  {
   "cell_type": "markdown",
   "id": "13c0039c",
   "metadata": {},
   "source": [
    "---"
   ]
  },
  {
   "cell_type": "markdown",
   "id": "e9357dae",
   "metadata": {},
   "source": [
    "### 각 채널에 대한 Removal Effect 계산"
   ]
  },
  {
   "cell_type": "code",
   "execution_count": 49,
   "id": "9af43605",
   "metadata": {},
   "outputs": [],
   "source": [
    "# 각 채널을 돌면서\n",
    "for channel in channels:\n",
    "    # 해당 채널에 대한 행과 열 제거 (제거 효과 계산을 위해)\n",
    "    removal_df = trans_matrix.drop(channel, axis=1).drop(channel, axis=0)\n",
    "    \n",
    "    # removal_df의 남은 State를 돌면서\n",
    "    for column in removal_df.columns:\n",
    "        # 전이행렬의 각 State별 합을 구해\n",
    "        row_sum = np.sum(list(removal_df.loc[column]))\n",
    "        \n",
    "        # 합이 1보다 작을 경우 나머지 부분을 Null부분으로 채워줌 (나머지 부분은 제거한 채널에 대한 전이확률이므로 Null로 변환)\n",
    "        null_pct = float(1) - row_sum\n",
    "        if null_pct != 0:\n",
    "            removal_df.loc[column]['Null'] = removal_df.loc[column]['Null'] + null_pct\n",
    "    \n",
    "    # Absorbing States(=R) : 다른 채널에서 마지막 State인 Null, Conversion으로 가는 행렬\n",
    "    removal_to_conv = removal_df[\n",
    "        ['Null', 'Conversion']].drop(['Null', 'Conversion'], axis=0)\n",
    "    \n",
    "    # Transient States(=Q) : 변화하는 State에서 변화하는 State로 가는 행렬 (마지막 State를 제거한 행렬)\n",
    "    removal_to_non_conv = removal_df.drop(\n",
    "        ['Null', 'Conversion'], axis=1).drop(['Null', 'Conversion'], axis=0)\n",
    "    \n",
    "    \n",
    "    # F = (I - Q)의 역행렬\n",
    "    removal_inv_diff = np.linalg.inv(np.identity(len(removal_to_non_conv.columns)) - np.asarray(removal_to_non_conv))\n",
    "    # F와 R의 내적을 통해 Absorbing Markov Chain 생성\n",
    "    removal_dot_prod = np.dot(removal_inv_diff, np.asarray(removal_to_conv))\n",
    "    \n",
    "    # Start > Conversion으로 가는 총 전환율 계산 (해당 채널을 제거했을 때의 총 전환율)\n",
    "    removal_cvr = pd.DataFrame(removal_dot_prod, index=removal_to_conv.index)[[1]].loc['Start'].values[0]\n",
    "    \n",
    "    # 기존의 전체 전환율과 제거효과를 통해 전환율에 대한 비율을 1과 뺄셈을 통해 제거 효과 계산\n",
    "    removal_effect = 1 - removal_cvr / base_conversion_rate\n",
    "    \n",
    "    # 해당 제거 효과를 해당 채널에 대한 값으로 삽입\n",
    "    removal_effects_dict[channel] = removal_effect"
   ]
  },
  {
   "cell_type": "markdown",
   "id": "30260615",
   "metadata": {},
   "source": [
    "#### 채널별 제거 효과를 이용한 기여도"
   ]
  },
  {
   "cell_type": "code",
   "execution_count": 51,
   "id": "f6dc01ba",
   "metadata": {},
   "outputs": [
    {
     "data": {
      "text/plain": [
       "{'Online Video': 0.2069141165564219,\n",
       " 'Online Display': 0.15435482356041275,\n",
       " 'Facebook': 0.3547597674182721,\n",
       " 'Instagram': 0.21731366149038456,\n",
       " 'Paid Search': 0.3311037560086154}"
      ]
     },
     "execution_count": 51,
     "metadata": {},
     "output_type": "execute_result"
    }
   ],
   "source": [
    "removal_effects_dict"
   ]
  },
  {
   "cell_type": "markdown",
   "id": "b4664175",
   "metadata": {},
   "source": [
    "#### 각 채널에 대한 제거효과를 확률로서 표현\n",
    "- softmax를 통해 [0, 1] 값으로 정규화"
   ]
  },
  {
   "cell_type": "code",
   "execution_count": 51,
   "id": "be564030",
   "metadata": {},
   "outputs": [
    {
     "data": {
      "text/plain": [
       "{'Instagram': 0.17186470596722564,\n",
       " 'Facebook': 0.28056534825372886,\n",
       " 'Online Video': 0.16364012072941478,\n",
       " 'Paid Search': 0.26185675249681706,\n",
       " 'Online Display': 0.12207307255281379}"
      ]
     },
     "execution_count": 51,
     "metadata": {},
     "output_type": "execute_result"
    }
   ],
   "source": [
    "removal_sum = np.sum(list(removal_effects_dict.values()))\n",
    "for k, v in removal_effects_dict.items():\n",
    "    removal_effects_dict[k] = v / removal_sum\n",
    "    \n",
    "removal_effects_dict"
   ]
  },
  {
   "cell_type": "markdown",
   "id": "36d709ee",
   "metadata": {},
   "source": [
    "---"
   ]
  },
  {
   "cell_type": "markdown",
   "id": "8456e0a7",
   "metadata": {},
   "source": [
    "### 채널별 기여도 계산"
   ]
  },
  {
   "cell_type": "code",
   "execution_count": 65,
   "id": "8fb36fc4",
   "metadata": {},
   "outputs": [
    {
     "data": {
      "text/plain": [
       "{'Online Video': 2886.4480895461475,\n",
       " 'Online Display': 2153.2469267590823,\n",
       " 'Facebook': 4948.892177847523,\n",
       " 'Instagram': 3031.521548555893,\n",
       " 'Paid Search': 4618.891257291356}"
      ]
     },
     "execution_count": 65,
     "metadata": {},
     "output_type": "execute_result"
    }
   ],
   "source": [
    "total_conversions = len(cookie_paths.loc[cookie_paths.conversion == 1, :])\n",
    "markov_attributions = {k: v * total_conversions for k, v in removal_effects_dict.items()}\n",
    "markov_attributions"
   ]
  },
  {
   "cell_type": "code",
   "execution_count": 53,
   "id": "5a25c8f5",
   "metadata": {},
   "outputs": [
    {
     "data": {
      "text/html": [
       "<div>\n",
       "<style scoped>\n",
       "    .dataframe tbody tr th:only-of-type {\n",
       "        vertical-align: middle;\n",
       "    }\n",
       "\n",
       "    .dataframe tbody tr th {\n",
       "        vertical-align: top;\n",
       "    }\n",
       "\n",
       "    .dataframe thead th {\n",
       "        text-align: right;\n",
       "    }\n",
       "</style>\n",
       "<table border=\"1\" class=\"dataframe\">\n",
       "  <thead>\n",
       "    <tr style=\"text-align: right;\">\n",
       "      <th></th>\n",
       "      <th>attribution_cnt</th>\n",
       "    </tr>\n",
       "  </thead>\n",
       "  <tbody>\n",
       "    <tr>\n",
       "      <th>Instagram</th>\n",
       "      <td>3031.521549</td>\n",
       "    </tr>\n",
       "    <tr>\n",
       "      <th>Facebook</th>\n",
       "      <td>4948.892178</td>\n",
       "    </tr>\n",
       "    <tr>\n",
       "      <th>Online Video</th>\n",
       "      <td>2886.448090</td>\n",
       "    </tr>\n",
       "    <tr>\n",
       "      <th>Paid Search</th>\n",
       "      <td>4618.891257</td>\n",
       "    </tr>\n",
       "    <tr>\n",
       "      <th>Online Display</th>\n",
       "      <td>2153.246927</td>\n",
       "    </tr>\n",
       "  </tbody>\n",
       "</table>\n",
       "</div>"
      ],
      "text/plain": [
       "                attribution_cnt\n",
       "Instagram           3031.521549\n",
       "Facebook            4948.892178\n",
       "Online Video        2886.448090\n",
       "Paid Search         4618.891257\n",
       "Online Display      2153.246927"
      ]
     },
     "execution_count": 53,
     "metadata": {},
     "output_type": "execute_result"
    }
   ],
   "source": [
    "markov_interaction_attr = pd.DataFrame({'attribution_cnt': markov_attributions.values()}, index=markov_attributions.keys())\n",
    "markov_interaction_attr"
   ]
  },
  {
   "cell_type": "markdown",
   "id": "e7d0f85a",
   "metadata": {},
   "source": [
    "---"
   ]
  },
  {
   "cell_type": "markdown",
   "id": "254406e1",
   "metadata": {},
   "source": [
    "---"
   ]
  },
  {
   "cell_type": "markdown",
   "id": "ce41e0a1",
   "metadata": {},
   "source": [
    "---"
   ]
  },
  {
   "cell_type": "markdown",
   "id": "c87416df",
   "metadata": {},
   "source": [
    "# 도메인 기반 모델과 Markov Chain 모델을 통한 기여도 비교"
   ]
  },
  {
   "cell_type": "code",
   "execution_count": 54,
   "id": "0fc50ae6",
   "metadata": {},
   "outputs": [],
   "source": [
    "markov_interaction_attr['method'] = 'markov'\n",
    "total_attribution_df = domain_attr[['attribution_cnt', 'method']].append(markov_interaction_attr)"
   ]
  },
  {
   "cell_type": "code",
   "execution_count": 69,
   "id": "fb0cf468",
   "metadata": {},
   "outputs": [
    {
     "data": {
      "image/png": "[encoded data removed]",
      "text/plain": [
       "<Figure size 720x504 with 1 Axes>"
      ]
     },
     "metadata": {},
     "output_type": "display_data"
    }
   ],
   "source": [
    "ax = sns.barplot(x=total_attribution_df.index, y=total_attribution_df.attribution_cnt, hue=total_attribution_df.method)\n",
    "ax.figure.set_size_inches(10, 7)"
   ]
  },
  {
   "cell_type": "markdown",
   "id": "f6161681",
   "metadata": {},
   "source": [
    "- 제거 효과를 고려했을 때의 채널별 기여도는 Facebook > Paid Search > Instagram 순으로 높았다.\n",
    "- 기존 전환율 대비 각 채널이 제거되었을 때의 전환율이 얼마나 감소되었는지를 채널의 기여도로서 계산했기에, 도메인 기반 모델보다 좀 더 데이터 기반의 기여도 분석이라고 할 수 있고, 이를 고려한다면 Facebook > Paid Search > Instagram > Online Video > Online Display 순으로 `removal_effects_dict`의 값으로 예산을 분배할 수 있다."
   ]
  }
 ],
 "metadata": {
  "kernelspec": {
   "display_name": "Python 3",
   "language": "python",
   "name": "python3"
  },
  "language_info": {
   "codemirror_mode": {
    "name": "ipython",
    "version": 3
   },
   "file_extension": ".py",
   "mimetype": "text/x-python",
   "name": "python",
   "nbconvert_exporter": "python",
   "pygments_lexer": "ipython3",
   "version": "3.8.8"
  }
 },
 "nbformat": 4,
 "nbformat_minor": 5
}
